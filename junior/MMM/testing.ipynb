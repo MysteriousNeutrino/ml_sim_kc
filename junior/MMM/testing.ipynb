{
 "cells": [
  {
   "cell_type": "code",
   "execution_count": 5,
   "metadata": {
    "collapsed": true,
    "pycharm": {
     "name": "#%%\n"
    }
   },
   "outputs": [],
   "source": [
    "import numpy as np\n",
    "import pandas as pd"
   ]
  },
  {
   "cell_type": "code",
   "execution_count": 5,
   "outputs": [],
   "source": [],
   "metadata": {
    "collapsed": false,
    "pycharm": {
     "name": "#%%\n"
    }
   }
  },
  {
   "cell_type": "code",
   "execution_count": 41,
   "outputs": [],
   "source": [
    "df = pd.read_csv('events.csv')"
   ],
   "metadata": {
    "collapsed": false,
    "pycharm": {
     "name": "#%%\n"
    }
   }
  },
  {
   "cell_type": "code",
   "execution_count": 42,
   "outputs": [
    {
     "data": {
      "text/plain": "      week  user_id       channel  is_purchased  gmv\n0        1        7      bloggers             0    0\n1        1      235  social_media             1  100\n2        1      233  social_media             0    0\n3        1      230      bloggers             0    0\n4        1      220      bloggers             0    0\n...    ...      ...           ...           ...  ...\n4982    52       81      bloggers             1   50\n4983    52       79      bloggers             1   50\n4984    52       78    mobile_ads             1  100\n4985    52      154  social_media             1   50\n4986    52      299    mobile_ads             0    0\n\n[4987 rows x 5 columns]",
      "text/html": "<div>\n<style scoped>\n    .dataframe tbody tr th:only-of-type {\n        vertical-align: middle;\n    }\n\n    .dataframe tbody tr th {\n        vertical-align: top;\n    }\n\n    .dataframe thead th {\n        text-align: right;\n    }\n</style>\n<table border=\"1\" class=\"dataframe\">\n  <thead>\n    <tr style=\"text-align: right;\">\n      <th></th>\n      <th>week</th>\n      <th>user_id</th>\n      <th>channel</th>\n      <th>is_purchased</th>\n      <th>gmv</th>\n    </tr>\n  </thead>\n  <tbody>\n    <tr>\n      <th>0</th>\n      <td>1</td>\n      <td>7</td>\n      <td>bloggers</td>\n      <td>0</td>\n      <td>0</td>\n    </tr>\n    <tr>\n      <th>1</th>\n      <td>1</td>\n      <td>235</td>\n      <td>social_media</td>\n      <td>1</td>\n      <td>100</td>\n    </tr>\n    <tr>\n      <th>2</th>\n      <td>1</td>\n      <td>233</td>\n      <td>social_media</td>\n      <td>0</td>\n      <td>0</td>\n    </tr>\n    <tr>\n      <th>3</th>\n      <td>1</td>\n      <td>230</td>\n      <td>bloggers</td>\n      <td>0</td>\n      <td>0</td>\n    </tr>\n    <tr>\n      <th>4</th>\n      <td>1</td>\n      <td>220</td>\n      <td>bloggers</td>\n      <td>0</td>\n      <td>0</td>\n    </tr>\n    <tr>\n      <th>...</th>\n      <td>...</td>\n      <td>...</td>\n      <td>...</td>\n      <td>...</td>\n      <td>...</td>\n    </tr>\n    <tr>\n      <th>4982</th>\n      <td>52</td>\n      <td>81</td>\n      <td>bloggers</td>\n      <td>1</td>\n      <td>50</td>\n    </tr>\n    <tr>\n      <th>4983</th>\n      <td>52</td>\n      <td>79</td>\n      <td>bloggers</td>\n      <td>1</td>\n      <td>50</td>\n    </tr>\n    <tr>\n      <th>4984</th>\n      <td>52</td>\n      <td>78</td>\n      <td>mobile_ads</td>\n      <td>1</td>\n      <td>100</td>\n    </tr>\n    <tr>\n      <th>4985</th>\n      <td>52</td>\n      <td>154</td>\n      <td>social_media</td>\n      <td>1</td>\n      <td>50</td>\n    </tr>\n    <tr>\n      <th>4986</th>\n      <td>52</td>\n      <td>299</td>\n      <td>mobile_ads</td>\n      <td>0</td>\n      <td>0</td>\n    </tr>\n  </tbody>\n</table>\n<p>4987 rows × 5 columns</p>\n</div>"
     },
     "execution_count": 42,
     "metadata": {},
     "output_type": "execute_result"
    }
   ],
   "source": [
    "df"
   ],
   "metadata": {
    "collapsed": false,
    "pycharm": {
     "name": "#%%\n"
    }
   }
  },
  {
   "cell_type": "code",
   "execution_count": 432,
   "outputs": [
    {
     "data": {
      "text/plain": "      week  user_id       channel  is_purchased  gmv\n1        1      235  social_media             1  100\n5        1      219   context_ads             1   10\n6        1      209   context_ads             1  100\n9        1      197    mobile_ads             1   10\n10       1      195  social_media             1  100\n...    ...      ...           ...           ...  ...\n4980    52       83      bloggers             1   50\n4982    52       81      bloggers             1   50\n4983    52       79      bloggers             1   50\n4984    52       78    mobile_ads             1  100\n4985    52      154  social_media             1   50\n\n[2469 rows x 5 columns]",
      "text/html": "<div>\n<style scoped>\n    .dataframe tbody tr th:only-of-type {\n        vertical-align: middle;\n    }\n\n    .dataframe tbody tr th {\n        vertical-align: top;\n    }\n\n    .dataframe thead th {\n        text-align: right;\n    }\n</style>\n<table border=\"1\" class=\"dataframe\">\n  <thead>\n    <tr style=\"text-align: right;\">\n      <th></th>\n      <th>week</th>\n      <th>user_id</th>\n      <th>channel</th>\n      <th>is_purchased</th>\n      <th>gmv</th>\n    </tr>\n  </thead>\n  <tbody>\n    <tr>\n      <th>1</th>\n      <td>1</td>\n      <td>235</td>\n      <td>social_media</td>\n      <td>1</td>\n      <td>100</td>\n    </tr>\n    <tr>\n      <th>5</th>\n      <td>1</td>\n      <td>219</td>\n      <td>context_ads</td>\n      <td>1</td>\n      <td>10</td>\n    </tr>\n    <tr>\n      <th>6</th>\n      <td>1</td>\n      <td>209</td>\n      <td>context_ads</td>\n      <td>1</td>\n      <td>100</td>\n    </tr>\n    <tr>\n      <th>9</th>\n      <td>1</td>\n      <td>197</td>\n      <td>mobile_ads</td>\n      <td>1</td>\n      <td>10</td>\n    </tr>\n    <tr>\n      <th>10</th>\n      <td>1</td>\n      <td>195</td>\n      <td>social_media</td>\n      <td>1</td>\n      <td>100</td>\n    </tr>\n    <tr>\n      <th>...</th>\n      <td>...</td>\n      <td>...</td>\n      <td>...</td>\n      <td>...</td>\n      <td>...</td>\n    </tr>\n    <tr>\n      <th>4980</th>\n      <td>52</td>\n      <td>83</td>\n      <td>bloggers</td>\n      <td>1</td>\n      <td>50</td>\n    </tr>\n    <tr>\n      <th>4982</th>\n      <td>52</td>\n      <td>81</td>\n      <td>bloggers</td>\n      <td>1</td>\n      <td>50</td>\n    </tr>\n    <tr>\n      <th>4983</th>\n      <td>52</td>\n      <td>79</td>\n      <td>bloggers</td>\n      <td>1</td>\n      <td>50</td>\n    </tr>\n    <tr>\n      <th>4984</th>\n      <td>52</td>\n      <td>78</td>\n      <td>mobile_ads</td>\n      <td>1</td>\n      <td>100</td>\n    </tr>\n    <tr>\n      <th>4985</th>\n      <td>52</td>\n      <td>154</td>\n      <td>social_media</td>\n      <td>1</td>\n      <td>50</td>\n    </tr>\n  </tbody>\n</table>\n<p>2469 rows × 5 columns</p>\n</div>"
     },
     "execution_count": 432,
     "metadata": {},
     "output_type": "execute_result"
    }
   ],
   "source": [
    "only_purchased = df.query('is_purchased == 1')\n",
    "only_purchased"
   ],
   "metadata": {
    "collapsed": false,
    "pycharm": {
     "name": "#%%\n"
    }
   }
  },
  {
   "cell_type": "code",
   "execution_count": 433,
   "outputs": [],
   "source": [
    "last_touch = pd.pivot_table(only_purchased, values='gmv', index=['week', 'user_id'],columns=['channel'], aggfunc='sum', fill_value=0, margins_name='user_id')"
   ],
   "metadata": {
    "collapsed": false,
    "pycharm": {
     "name": "#%%\n"
    }
   }
  },
  {
   "cell_type": "code",
   "execution_count": 434,
   "outputs": [],
   "source": [
    "last_touch = last_touch.reset_index()"
   ],
   "metadata": {
    "collapsed": false,
    "pycharm": {
     "name": "#%%\n"
    }
   }
  },
  {
   "cell_type": "code",
   "execution_count": 435,
   "outputs": [],
   "source": [
    "last_touch.columns.names = [None]"
   ],
   "metadata": {
    "collapsed": false,
    "pycharm": {
     "name": "#%%\n"
    }
   }
  },
  {
   "cell_type": "code",
   "execution_count": 436,
   "outputs": [
    {
     "data": {
      "text/plain": "      week  user_id  bloggers  context_ads  mobile_ads  social_media  \\\n0        1        8         0          100           0             0   \n1        1       14        10            0           0             0   \n2        1       16         0            0           0            10   \n3        1       25         0            0          10             0   \n4        1       31         0          200           0             0   \n...    ...      ...       ...          ...         ...           ...   \n2464    52      284        10            0           0             0   \n2465    52      285         0            0           0           210   \n2466    52      288         0          150           0             0   \n2467    52      289         0            0           0           200   \n2468    52      293         0            0           0            50   \n\n      total_gmv  \n0           100  \n1            10  \n2            10  \n3            10  \n4           200  \n...         ...  \n2464         10  \n2465        210  \n2466        150  \n2467        200  \n2468         50  \n\n[2469 rows x 7 columns]",
      "text/html": "<div>\n<style scoped>\n    .dataframe tbody tr th:only-of-type {\n        vertical-align: middle;\n    }\n\n    .dataframe tbody tr th {\n        vertical-align: top;\n    }\n\n    .dataframe thead th {\n        text-align: right;\n    }\n</style>\n<table border=\"1\" class=\"dataframe\">\n  <thead>\n    <tr style=\"text-align: right;\">\n      <th></th>\n      <th>week</th>\n      <th>user_id</th>\n      <th>bloggers</th>\n      <th>context_ads</th>\n      <th>mobile_ads</th>\n      <th>social_media</th>\n      <th>total_gmv</th>\n    </tr>\n  </thead>\n  <tbody>\n    <tr>\n      <th>0</th>\n      <td>1</td>\n      <td>8</td>\n      <td>0</td>\n      <td>100</td>\n      <td>0</td>\n      <td>0</td>\n      <td>100</td>\n    </tr>\n    <tr>\n      <th>1</th>\n      <td>1</td>\n      <td>14</td>\n      <td>10</td>\n      <td>0</td>\n      <td>0</td>\n      <td>0</td>\n      <td>10</td>\n    </tr>\n    <tr>\n      <th>2</th>\n      <td>1</td>\n      <td>16</td>\n      <td>0</td>\n      <td>0</td>\n      <td>0</td>\n      <td>10</td>\n      <td>10</td>\n    </tr>\n    <tr>\n      <th>3</th>\n      <td>1</td>\n      <td>25</td>\n      <td>0</td>\n      <td>0</td>\n      <td>10</td>\n      <td>0</td>\n      <td>10</td>\n    </tr>\n    <tr>\n      <th>4</th>\n      <td>1</td>\n      <td>31</td>\n      <td>0</td>\n      <td>200</td>\n      <td>0</td>\n      <td>0</td>\n      <td>200</td>\n    </tr>\n    <tr>\n      <th>...</th>\n      <td>...</td>\n      <td>...</td>\n      <td>...</td>\n      <td>...</td>\n      <td>...</td>\n      <td>...</td>\n      <td>...</td>\n    </tr>\n    <tr>\n      <th>2464</th>\n      <td>52</td>\n      <td>284</td>\n      <td>10</td>\n      <td>0</td>\n      <td>0</td>\n      <td>0</td>\n      <td>10</td>\n    </tr>\n    <tr>\n      <th>2465</th>\n      <td>52</td>\n      <td>285</td>\n      <td>0</td>\n      <td>0</td>\n      <td>0</td>\n      <td>210</td>\n      <td>210</td>\n    </tr>\n    <tr>\n      <th>2466</th>\n      <td>52</td>\n      <td>288</td>\n      <td>0</td>\n      <td>150</td>\n      <td>0</td>\n      <td>0</td>\n      <td>150</td>\n    </tr>\n    <tr>\n      <th>2467</th>\n      <td>52</td>\n      <td>289</td>\n      <td>0</td>\n      <td>0</td>\n      <td>0</td>\n      <td>200</td>\n      <td>200</td>\n    </tr>\n    <tr>\n      <th>2468</th>\n      <td>52</td>\n      <td>293</td>\n      <td>0</td>\n      <td>0</td>\n      <td>0</td>\n      <td>50</td>\n      <td>50</td>\n    </tr>\n  </tbody>\n</table>\n<p>2469 rows × 7 columns</p>\n</div>"
     },
     "execution_count": 436,
     "metadata": {},
     "output_type": "execute_result"
    }
   ],
   "source": [
    "last_touch['total_gmv'] = last_touch.iloc[:, -4:].sum(axis=1)\n",
    "last_touch"
   ],
   "metadata": {
    "collapsed": false,
    "pycharm": {
     "name": "#%%\n"
    }
   }
  },
  {
   "cell_type": "markdown",
   "source": [
    "### first touch"
   ],
   "metadata": {
    "collapsed": false,
    "pycharm": {
     "name": "#%% md\n"
    }
   }
  },
  {
   "cell_type": "code",
   "execution_count": 283,
   "outputs": [
    {
     "data": {
      "text/plain": "      week  user_id       channel  is_purchased  gmv\n0        1        7      bloggers             0    0\n1        1      235  social_media             1  100\n2        1      233  social_media             0    0\n3        1      230      bloggers             0    0\n4        1      220      bloggers             0    0\n...    ...      ...           ...           ...  ...\n4982    52       81      bloggers             1   50\n4983    52       79      bloggers             1   50\n4984    52       78    mobile_ads             1  100\n4985    52      154  social_media             1   50\n4986    52      299    mobile_ads             0    0\n\n[4987 rows x 5 columns]",
      "text/html": "<div>\n<style scoped>\n    .dataframe tbody tr th:only-of-type {\n        vertical-align: middle;\n    }\n\n    .dataframe tbody tr th {\n        vertical-align: top;\n    }\n\n    .dataframe thead th {\n        text-align: right;\n    }\n</style>\n<table border=\"1\" class=\"dataframe\">\n  <thead>\n    <tr style=\"text-align: right;\">\n      <th></th>\n      <th>week</th>\n      <th>user_id</th>\n      <th>channel</th>\n      <th>is_purchased</th>\n      <th>gmv</th>\n    </tr>\n  </thead>\n  <tbody>\n    <tr>\n      <th>0</th>\n      <td>1</td>\n      <td>7</td>\n      <td>bloggers</td>\n      <td>0</td>\n      <td>0</td>\n    </tr>\n    <tr>\n      <th>1</th>\n      <td>1</td>\n      <td>235</td>\n      <td>social_media</td>\n      <td>1</td>\n      <td>100</td>\n    </tr>\n    <tr>\n      <th>2</th>\n      <td>1</td>\n      <td>233</td>\n      <td>social_media</td>\n      <td>0</td>\n      <td>0</td>\n    </tr>\n    <tr>\n      <th>3</th>\n      <td>1</td>\n      <td>230</td>\n      <td>bloggers</td>\n      <td>0</td>\n      <td>0</td>\n    </tr>\n    <tr>\n      <th>4</th>\n      <td>1</td>\n      <td>220</td>\n      <td>bloggers</td>\n      <td>0</td>\n      <td>0</td>\n    </tr>\n    <tr>\n      <th>...</th>\n      <td>...</td>\n      <td>...</td>\n      <td>...</td>\n      <td>...</td>\n      <td>...</td>\n    </tr>\n    <tr>\n      <th>4982</th>\n      <td>52</td>\n      <td>81</td>\n      <td>bloggers</td>\n      <td>1</td>\n      <td>50</td>\n    </tr>\n    <tr>\n      <th>4983</th>\n      <td>52</td>\n      <td>79</td>\n      <td>bloggers</td>\n      <td>1</td>\n      <td>50</td>\n    </tr>\n    <tr>\n      <th>4984</th>\n      <td>52</td>\n      <td>78</td>\n      <td>mobile_ads</td>\n      <td>1</td>\n      <td>100</td>\n    </tr>\n    <tr>\n      <th>4985</th>\n      <td>52</td>\n      <td>154</td>\n      <td>social_media</td>\n      <td>1</td>\n      <td>50</td>\n    </tr>\n    <tr>\n      <th>4986</th>\n      <td>52</td>\n      <td>299</td>\n      <td>mobile_ads</td>\n      <td>0</td>\n      <td>0</td>\n    </tr>\n  </tbody>\n</table>\n<p>4987 rows × 5 columns</p>\n</div>"
     },
     "execution_count": 283,
     "metadata": {},
     "output_type": "execute_result"
    }
   ],
   "source": [
    "df"
   ],
   "metadata": {
    "collapsed": false,
    "pycharm": {
     "name": "#%%\n"
    }
   }
  },
  {
   "cell_type": "code",
   "execution_count": 284,
   "outputs": [
    {
     "data": {
      "text/plain": "      week  user_id       channel  is_purchased  gmv\n63       1        9   context_ads             0    0\n64       1        8   context_ads             1  100\n160      2        9  social_media             1  100\n161      2        8    mobile_ads             1  200\n254      3        8      bloggers             1   50\n340      4        9   context_ads             0    0\n432      5        8  social_media             0    0\n896     10        9  social_media             0    0\n1205    13        8   context_ads             1   50\n1309    14        9  social_media             1  100\n1310    14        8  social_media             1   50\n1511    16        8      bloggers             1   50\n1912    20        9  social_media             1   50\n1989    21        8  social_media             1  100\n2076    22        9  social_media             0    0\n2077    22        8    mobile_ads             0    0\n2362    25        8   context_ads             0    0\n2553    27        9    mobile_ads             1   10\n2554    27        8   context_ads             1   10\n2662    28        8    mobile_ads             0    0\n2970    31        9   context_ads             1  210\n3161    33        9      bloggers             0    0\n3246    34        9      bloggers             0    0\n3348    35        9  social_media             0    0\n3436    36        8    mobile_ads             0    0\n3529    37        9      bloggers             0    0\n3625    38        9  social_media             1  100\n3916    41        8  social_media             1  200\n4098    43        8   context_ads             0    0\n4308    45        9   context_ads             0    0\n4315    45        8    mobile_ads             1  100\n4416    46        9  social_media             0    0\n4498    47        9   context_ads             0    0\n4499    47        8  social_media             1  200\n4599    48        8    mobile_ads             1   50",
      "text/html": "<div>\n<style scoped>\n    .dataframe tbody tr th:only-of-type {\n        vertical-align: middle;\n    }\n\n    .dataframe tbody tr th {\n        vertical-align: top;\n    }\n\n    .dataframe thead th {\n        text-align: right;\n    }\n</style>\n<table border=\"1\" class=\"dataframe\">\n  <thead>\n    <tr style=\"text-align: right;\">\n      <th></th>\n      <th>week</th>\n      <th>user_id</th>\n      <th>channel</th>\n      <th>is_purchased</th>\n      <th>gmv</th>\n    </tr>\n  </thead>\n  <tbody>\n    <tr>\n      <th>63</th>\n      <td>1</td>\n      <td>9</td>\n      <td>context_ads</td>\n      <td>0</td>\n      <td>0</td>\n    </tr>\n    <tr>\n      <th>64</th>\n      <td>1</td>\n      <td>8</td>\n      <td>context_ads</td>\n      <td>1</td>\n      <td>100</td>\n    </tr>\n    <tr>\n      <th>160</th>\n      <td>2</td>\n      <td>9</td>\n      <td>social_media</td>\n      <td>1</td>\n      <td>100</td>\n    </tr>\n    <tr>\n      <th>161</th>\n      <td>2</td>\n      <td>8</td>\n      <td>mobile_ads</td>\n      <td>1</td>\n      <td>200</td>\n    </tr>\n    <tr>\n      <th>254</th>\n      <td>3</td>\n      <td>8</td>\n      <td>bloggers</td>\n      <td>1</td>\n      <td>50</td>\n    </tr>\n    <tr>\n      <th>340</th>\n      <td>4</td>\n      <td>9</td>\n      <td>context_ads</td>\n      <td>0</td>\n      <td>0</td>\n    </tr>\n    <tr>\n      <th>432</th>\n      <td>5</td>\n      <td>8</td>\n      <td>social_media</td>\n      <td>0</td>\n      <td>0</td>\n    </tr>\n    <tr>\n      <th>896</th>\n      <td>10</td>\n      <td>9</td>\n      <td>social_media</td>\n      <td>0</td>\n      <td>0</td>\n    </tr>\n    <tr>\n      <th>1205</th>\n      <td>13</td>\n      <td>8</td>\n      <td>context_ads</td>\n      <td>1</td>\n      <td>50</td>\n    </tr>\n    <tr>\n      <th>1309</th>\n      <td>14</td>\n      <td>9</td>\n      <td>social_media</td>\n      <td>1</td>\n      <td>100</td>\n    </tr>\n    <tr>\n      <th>1310</th>\n      <td>14</td>\n      <td>8</td>\n      <td>social_media</td>\n      <td>1</td>\n      <td>50</td>\n    </tr>\n    <tr>\n      <th>1511</th>\n      <td>16</td>\n      <td>8</td>\n      <td>bloggers</td>\n      <td>1</td>\n      <td>50</td>\n    </tr>\n    <tr>\n      <th>1912</th>\n      <td>20</td>\n      <td>9</td>\n      <td>social_media</td>\n      <td>1</td>\n      <td>50</td>\n    </tr>\n    <tr>\n      <th>1989</th>\n      <td>21</td>\n      <td>8</td>\n      <td>social_media</td>\n      <td>1</td>\n      <td>100</td>\n    </tr>\n    <tr>\n      <th>2076</th>\n      <td>22</td>\n      <td>9</td>\n      <td>social_media</td>\n      <td>0</td>\n      <td>0</td>\n    </tr>\n    <tr>\n      <th>2077</th>\n      <td>22</td>\n      <td>8</td>\n      <td>mobile_ads</td>\n      <td>0</td>\n      <td>0</td>\n    </tr>\n    <tr>\n      <th>2362</th>\n      <td>25</td>\n      <td>8</td>\n      <td>context_ads</td>\n      <td>0</td>\n      <td>0</td>\n    </tr>\n    <tr>\n      <th>2553</th>\n      <td>27</td>\n      <td>9</td>\n      <td>mobile_ads</td>\n      <td>1</td>\n      <td>10</td>\n    </tr>\n    <tr>\n      <th>2554</th>\n      <td>27</td>\n      <td>8</td>\n      <td>context_ads</td>\n      <td>1</td>\n      <td>10</td>\n    </tr>\n    <tr>\n      <th>2662</th>\n      <td>28</td>\n      <td>8</td>\n      <td>mobile_ads</td>\n      <td>0</td>\n      <td>0</td>\n    </tr>\n    <tr>\n      <th>2970</th>\n      <td>31</td>\n      <td>9</td>\n      <td>context_ads</td>\n      <td>1</td>\n      <td>210</td>\n    </tr>\n    <tr>\n      <th>3161</th>\n      <td>33</td>\n      <td>9</td>\n      <td>bloggers</td>\n      <td>0</td>\n      <td>0</td>\n    </tr>\n    <tr>\n      <th>3246</th>\n      <td>34</td>\n      <td>9</td>\n      <td>bloggers</td>\n      <td>0</td>\n      <td>0</td>\n    </tr>\n    <tr>\n      <th>3348</th>\n      <td>35</td>\n      <td>9</td>\n      <td>social_media</td>\n      <td>0</td>\n      <td>0</td>\n    </tr>\n    <tr>\n      <th>3436</th>\n      <td>36</td>\n      <td>8</td>\n      <td>mobile_ads</td>\n      <td>0</td>\n      <td>0</td>\n    </tr>\n    <tr>\n      <th>3529</th>\n      <td>37</td>\n      <td>9</td>\n      <td>bloggers</td>\n      <td>0</td>\n      <td>0</td>\n    </tr>\n    <tr>\n      <th>3625</th>\n      <td>38</td>\n      <td>9</td>\n      <td>social_media</td>\n      <td>1</td>\n      <td>100</td>\n    </tr>\n    <tr>\n      <th>3916</th>\n      <td>41</td>\n      <td>8</td>\n      <td>social_media</td>\n      <td>1</td>\n      <td>200</td>\n    </tr>\n    <tr>\n      <th>4098</th>\n      <td>43</td>\n      <td>8</td>\n      <td>context_ads</td>\n      <td>0</td>\n      <td>0</td>\n    </tr>\n    <tr>\n      <th>4308</th>\n      <td>45</td>\n      <td>9</td>\n      <td>context_ads</td>\n      <td>0</td>\n      <td>0</td>\n    </tr>\n    <tr>\n      <th>4315</th>\n      <td>45</td>\n      <td>8</td>\n      <td>mobile_ads</td>\n      <td>1</td>\n      <td>100</td>\n    </tr>\n    <tr>\n      <th>4416</th>\n      <td>46</td>\n      <td>9</td>\n      <td>social_media</td>\n      <td>0</td>\n      <td>0</td>\n    </tr>\n    <tr>\n      <th>4498</th>\n      <td>47</td>\n      <td>9</td>\n      <td>context_ads</td>\n      <td>0</td>\n      <td>0</td>\n    </tr>\n    <tr>\n      <th>4499</th>\n      <td>47</td>\n      <td>8</td>\n      <td>social_media</td>\n      <td>1</td>\n      <td>200</td>\n    </tr>\n    <tr>\n      <th>4599</th>\n      <td>48</td>\n      <td>8</td>\n      <td>mobile_ads</td>\n      <td>1</td>\n      <td>50</td>\n    </tr>\n  </tbody>\n</table>\n</div>"
     },
     "execution_count": 284,
     "metadata": {},
     "output_type": "execute_result"
    }
   ],
   "source": [
    "df_9_8 = df.query('user_id == 9 or user_id == 8')\n",
    "df_9_8"
   ],
   "metadata": {
    "collapsed": false,
    "pycharm": {
     "name": "#%%\n"
    }
   }
  },
  {
   "cell_type": "code",
   "execution_count": 285,
   "outputs": [
    {
     "data": {
      "text/plain": "      week  user_id       channel  is_purchased  gmv\n63       1        9   context_ads             0    0\n160      2        9  social_media             1  100\n340      4        9   context_ads             0    0\n896     10        9  social_media             0    0\n1309    14        9  social_media             1  100\n1912    20        9  social_media             1   50\n2076    22        9  social_media             0    0\n2553    27        9    mobile_ads             1   10\n2970    31        9   context_ads             1  210\n3161    33        9      bloggers             0    0\n3246    34        9      bloggers             0    0\n3348    35        9  social_media             0    0\n3529    37        9      bloggers             0    0\n3625    38        9  social_media             1  100\n4308    45        9   context_ads             0    0\n4416    46        9  social_media             0    0\n4498    47        9   context_ads             0    0",
      "text/html": "<div>\n<style scoped>\n    .dataframe tbody tr th:only-of-type {\n        vertical-align: middle;\n    }\n\n    .dataframe tbody tr th {\n        vertical-align: top;\n    }\n\n    .dataframe thead th {\n        text-align: right;\n    }\n</style>\n<table border=\"1\" class=\"dataframe\">\n  <thead>\n    <tr style=\"text-align: right;\">\n      <th></th>\n      <th>week</th>\n      <th>user_id</th>\n      <th>channel</th>\n      <th>is_purchased</th>\n      <th>gmv</th>\n    </tr>\n  </thead>\n  <tbody>\n    <tr>\n      <th>63</th>\n      <td>1</td>\n      <td>9</td>\n      <td>context_ads</td>\n      <td>0</td>\n      <td>0</td>\n    </tr>\n    <tr>\n      <th>160</th>\n      <td>2</td>\n      <td>9</td>\n      <td>social_media</td>\n      <td>1</td>\n      <td>100</td>\n    </tr>\n    <tr>\n      <th>340</th>\n      <td>4</td>\n      <td>9</td>\n      <td>context_ads</td>\n      <td>0</td>\n      <td>0</td>\n    </tr>\n    <tr>\n      <th>896</th>\n      <td>10</td>\n      <td>9</td>\n      <td>social_media</td>\n      <td>0</td>\n      <td>0</td>\n    </tr>\n    <tr>\n      <th>1309</th>\n      <td>14</td>\n      <td>9</td>\n      <td>social_media</td>\n      <td>1</td>\n      <td>100</td>\n    </tr>\n    <tr>\n      <th>1912</th>\n      <td>20</td>\n      <td>9</td>\n      <td>social_media</td>\n      <td>1</td>\n      <td>50</td>\n    </tr>\n    <tr>\n      <th>2076</th>\n      <td>22</td>\n      <td>9</td>\n      <td>social_media</td>\n      <td>0</td>\n      <td>0</td>\n    </tr>\n    <tr>\n      <th>2553</th>\n      <td>27</td>\n      <td>9</td>\n      <td>mobile_ads</td>\n      <td>1</td>\n      <td>10</td>\n    </tr>\n    <tr>\n      <th>2970</th>\n      <td>31</td>\n      <td>9</td>\n      <td>context_ads</td>\n      <td>1</td>\n      <td>210</td>\n    </tr>\n    <tr>\n      <th>3161</th>\n      <td>33</td>\n      <td>9</td>\n      <td>bloggers</td>\n      <td>0</td>\n      <td>0</td>\n    </tr>\n    <tr>\n      <th>3246</th>\n      <td>34</td>\n      <td>9</td>\n      <td>bloggers</td>\n      <td>0</td>\n      <td>0</td>\n    </tr>\n    <tr>\n      <th>3348</th>\n      <td>35</td>\n      <td>9</td>\n      <td>social_media</td>\n      <td>0</td>\n      <td>0</td>\n    </tr>\n    <tr>\n      <th>3529</th>\n      <td>37</td>\n      <td>9</td>\n      <td>bloggers</td>\n      <td>0</td>\n      <td>0</td>\n    </tr>\n    <tr>\n      <th>3625</th>\n      <td>38</td>\n      <td>9</td>\n      <td>social_media</td>\n      <td>1</td>\n      <td>100</td>\n    </tr>\n    <tr>\n      <th>4308</th>\n      <td>45</td>\n      <td>9</td>\n      <td>context_ads</td>\n      <td>0</td>\n      <td>0</td>\n    </tr>\n    <tr>\n      <th>4416</th>\n      <td>46</td>\n      <td>9</td>\n      <td>social_media</td>\n      <td>0</td>\n      <td>0</td>\n    </tr>\n    <tr>\n      <th>4498</th>\n      <td>47</td>\n      <td>9</td>\n      <td>context_ads</td>\n      <td>0</td>\n      <td>0</td>\n    </tr>\n  </tbody>\n</table>\n</div>"
     },
     "execution_count": 285,
     "metadata": {},
     "output_type": "execute_result"
    }
   ],
   "source": [
    "df_9 = df.query('user_id == 9')\n",
    "df_9"
   ],
   "metadata": {
    "collapsed": false,
    "pycharm": {
     "name": "#%%\n"
    }
   }
  },
  {
   "cell_type": "code",
   "execution_count": 310,
   "outputs": [
    {
     "name": "stderr",
     "output_type": "stream",
     "text": [
      "C:\\Users\\Neesty\\AppData\\Local\\Temp\\ipykernel_11472\\144550698.py:5: FutureWarning: Series.__getitem__ treating keys as positions is deprecated. In a future version, integer keys will always be treated as labels (consistent with DataFrame behavior). To access a value by position, use `ser.iloc[pos]`\n",
      "  if row[3] == 1:\n"
     ]
    },
    {
     "data": {
      "text/plain": "{9999: [4498, 4416, 4308],\n 3625: [3625, 3529, 3348, 3246, 3161],\n 2970: [2970],\n 2553: [2553, 2076],\n 1912: [1912],\n 1309: [1309, 896, 340],\n 160: [160, 63]}"
     },
     "execution_count": 310,
     "metadata": {},
     "output_type": "execute_result"
    }
   ],
   "source": [
    "indexes = {9999:[]}\n",
    "current_index = 9999\n",
    "for index, row in reversed(list(df_9.iterrows())):\n",
    "\n",
    "    if row[3] == 1:\n",
    "        current_index = index\n",
    "        indexes[current_index] = [index]\n",
    "    else:\n",
    "        indexes[current_index].append(index)\n",
    "indexes"
   ],
   "metadata": {
    "collapsed": false,
    "pycharm": {
     "name": "#%%\n"
    }
   }
  },
  {
   "cell_type": "markdown",
   "source": [
    "#### для каждого пользователя"
   ],
   "metadata": {
    "collapsed": false,
    "pycharm": {
     "name": "#%% md\n"
    }
   }
  },
  {
   "cell_type": "code",
   "execution_count": 239,
   "outputs": [
    {
     "name": "stdout",
     "output_type": "stream",
     "text": [
      "{9: [63, 160, 340, 896, 1309, 1912, 2076, 2553, 2970, 3161, 3246, 3348, 3529, 3625, 4308, 4416, 4498], 8: [64, 161, 254, 432, 1205, 1310, 1511, 1989, 2077, 2362, 2554, 2662, 3436, 3916, 4098, 4315, 4499, 4599]}\n"
     ]
    }
   ],
   "source": [
    "count = 0\n",
    "users_indexes = {}\n",
    "for user_id, group_df in reversed(list(df_9.groupby('user_id'))):\n",
    "    count +=1\n",
    "    users_indexes[user_id] = group_df.index.tolist()\n",
    "print(users_indexes)"
   ],
   "metadata": {
    "collapsed": false,
    "pycharm": {
     "name": "#%%\n"
    }
   }
  },
  {
   "cell_type": "code",
   "execution_count": null,
   "outputs": [],
   "source": [],
   "metadata": {
    "collapsed": false,
    "pycharm": {
     "name": "#%%\n"
    }
   }
  },
  {
   "cell_type": "code",
   "execution_count": 445,
   "outputs": [
    {
     "data": {
      "text/plain": "{299: {9999: [4986],\n  4554: [4554, 4265],\n  4152: [4152],\n  3871: [3871],\n  3486: [3486, 3215],\n  3115: [3115, 2720, 2508],\n  1847: [1847],\n  1673: [1673, 1568, 1262, 760],\n  215: [215, 117]},\n 154: {9999: [],\n  4985: [4985, 4462],\n  4390: [4390],\n  4253: [4253],\n  4155: [4155],\n  3704: [3704],\n  3292: [3292, 3040, 2639, 1184, 943, 781, 103]},\n 78: {9999: [],\n  4984: [4984, 4731],\n  3819: [3819, 2561, 2435, 2208, 2013],\n  1892: [1892, 1796, 1415, 1315],\n  1087: [1087],\n  879: [879, 531, 455],\n  280: [280]},\n 79: {9999: [],\n  4983: [4983],\n  4524: [4524, 4417],\n  4123: [4123, 3951, 3730],\n  3535: [3535],\n  3442: [3442],\n  3357: [3357],\n  3189: [3189],\n  2653: [2653],\n  2560: [2560, 2454, 2385, 1620],\n  1540: [1540],\n  1338: [1338, 1096],\n  889: [889],\n  825: [825],\n  710: [710, 530],\n  453: [453, 365],\n  281: [281],\n  182: [182, 51]},\n 81: {9999: [],\n  4982: [4982, 4806],\n  4723: [4723, 4607, 3651],\n  3460: [3460],\n  3081: [3081, 2869],\n  2779: [2779],\n  2389: [2389],\n  2300: [2300],\n  2210: [2210],\n  1900: [1900, 1820],\n  1622: [1622],\n  902: [902],\n  719: [719],\n  363: [363, 181, 49]},\n 82: {9999: [4981],\n  4726: [4726, 4606, 4334, 3267],\n  2972: [2972, 2667, 2011, 1336],\n  906: [906]},\n 83: {9999: [],\n  4980: [4980],\n  4805: [4805, 4724, 4434, 4037],\n  3949: [3949, 2786, 2670, 2574],\n  2387: [2387, 1232],\n  1033: [1033],\n  904: [904, 712],\n  635: [635],\n  190: [190]},\n 86: {9999: [4979],\n  3939: [3939, 3841],\n  3457: [3457, 3191, 2695],\n  2582: [2582],\n  2103: [2103],\n  1823: [1823, 1637],\n  1334: [1334],\n  1035: [1035, 919],\n  734: [734],\n  454: [454, 275]},\n 88: {9999: [],\n  4978: [4978],\n  4225: [4225, 4121, 3080],\n  2995: [2995],\n  2785: [2785],\n  2292: [2292],\n  1911: [1911],\n  1846: [1846],\n  1716: [1716, 1638, 1537],\n  1111: [1111],\n  1036: [1036, 823, 732, 633, 549, 272, 177],\n  47: [47]},\n 92: {9999: [4977],\n  4625: [4625, 4337],\n  3944: [3944],\n  3549: [3549],\n  3371: [3371, 3262],\n  3182: [3182, 2457, 2297],\n  1913: [1913],\n  1439: [1439, 1227],\n  638: [638],\n  460: [460],\n  269: [269]},\n 93: {9999: [4976, 4725],\n  4622: [4622, 4222, 4119],\n  3745: [3745],\n  3455: [3455],\n  3372: [3372, 3261, 3078],\n  2986: [2986, 2579, 2477],\n  2202: [2202],\n  1535: [1535, 1024],\n  924: [924, 821],\n  547: [547],\n  175: [175],\n  67: [67]},\n 102: {9999: [],\n  4975: [4975],\n  4896: [4896, 4518, 4331, 3743],\n  2688: [2688, 2293, 2004, 1927, 1645],\n  1530: [1530],\n  1224: [1224],\n  1127: [1127, 267],\n  171: [171]},\n 118: {9999: [4974],\n  4216: [4216, 4116],\n  3933: [3933],\n  3832: [3832, 3739],\n  3642: [3642, 3363, 3073, 2775, 2679, 2375],\n  2196: [2196],\n  2093: [2093, 1831],\n  1728: [1728, 1429, 1025],\n  915: [915],\n  445: [445],\n  116: [116]},\n 119: {9999: [],\n  4973: [4973, 4888, 4617, 4324, 4215],\n  4111: [4111],\n  3840: [3840, 3543],\n  3233: [3233, 2984, 2888],\n  2569: [2569],\n  2374: [2374],\n  2005: [2005, 1924, 1631],\n  1522: [1522, 914],\n  536: [536],\n  444: [444, 264]},\n 128: {9999: [4972, 4712, 4512, 4425, 3938],\n  3736: [3736],\n  3540: [3540, 3421],\n  3140: [3140, 2979, 2877, 2475],\n  2372: [2372],\n  2091: [2091],\n  1323: [1323],\n  1008: [1008],\n  910: [910],\n  348: [348]},\n 130: {9999: [],\n  4971: [4971],\n  4771: [4771, 4516, 4423, 3827, 3636, 2876, 2676],\n  2283: [2283, 2193],\n  1827: [1827, 1626, 1491, 1321, 1119, 812],\n  733: [733, 441, 69]},\n 136: {9999: [],\n  4970: [4970, 4612],\n  4014: [4014],\n  3734: [3734],\n  3366: [3366, 3214, 2977],\n  2674: [2674, 2465, 2365, 2281],\n  2191: [2191, 1919, 1461, 1317, 951],\n  907: [907, 811]},\n 137: {9999: [],\n  4969: [4969, 4611, 4509],\n  4210: [4210],\n  4107: [4107],\n  3826: [3826],\n  3356: [3356],\n  3138: [3138, 2976, 2874],\n  2464: [2464, 2062],\n  1722: [1722],\n  1596: [1596, 1460],\n  1430: [1430, 1216],\n  810: [810, 346, 108]},\n 146: {9999: [4968, 4502, 4285],\n  3955: [3955, 3799, 3510, 3107],\n  2944: [2944, 1991],\n  1918: [1918, 1714, 1213, 1115],\n  900: [900, 720, 594],\n  106: [106]},\n 149: {9999: [],\n  4967: [4967],\n  4864: [4864, 4481, 3732],\n  2840: [2840, 2763, 2671, 2317, 2030, 1327, 947],\n  723: [723],\n  297: [297, 210]},\n 151: {9999: [4966, 4618, 4482, 4201, 3969, 3797],\n  3294: [3294, 2868],\n  2641: [2641],\n  1915: [1915],\n  1420: [1420, 945, 808],\n  295: [295, 104]},\n 73: {9999: [4965, 4125, 4030, 3728],\n  3532: [3532, 2945, 2643],\n  2534: [2534],\n  2369: [2369, 2212, 2106],\n  1993: [1993, 1893],\n  1797: [1797],\n  1597: [1597, 1312],\n  1210: [1210, 1029, 880],\n  806: [806, 283]},\n 72: {9999: [4964],\n  4880: [4880],\n  4604: [4604],\n  4105: [4105, 3926],\n  3800: [3800],\n  3727: [3727],\n  3631: [3631, 3185],\n  2946: [2946],\n  2842: [2842, 2371],\n  2280: [2280],\n  2206: [2206],\n  1696: [1696],\n  1598: [1598, 1402],\n  1212: [1212, 438],\n  359: [359]},\n 70: {9999: [4963, 4808, 4706],\n  4580: [4580, 3327, 3186, 2644],\n  2205: [2205, 1992],\n  1894: [1894, 1799],\n  803: [803],\n  690: [690, 620],\n  508: [508],\n  436: [436, 347]},\n 31: {9999: [],\n  4962: [4962, 4591],\n  4297: [4297, 4093, 3717, 3441, 3239, 3165, 3048],\n  2750: [2750, 1811],\n  1403: [1403],\n  1302: [1302],\n  792: [792],\n  244: [244],\n  57: [57]},\n 293: {9999: [],\n  4961: [4961],\n  4557: [4557, 4150],\n  3401: [3401],\n  3111: [3111],\n  2813: [2813, 2722],\n  2616: [2616, 2510],\n  2160: [2160, 1573],\n  1469: [1469, 1065],\n  762: [762],\n  667: [667, 487],\n  26: [26]},\n 3: {9999: [4960, 3918, 3726],\n  3164: [3164],\n  2860: [2860],\n  2555: [2555, 2451, 2364, 1513],\n  1412: [1412, 1311, 1105],\n  799: [799],\n  525: [525, 167]},\n 4: {9999: [4959],\n  4875: [4875, 4788, 4702, 4602],\n  4501: [4501],\n  4412: [4412, 4199, 3626],\n  2761: [2761],\n  2450: [2450],\n  2183: [2183, 1990],\n  1818: [1818, 1712],\n  1411: [1411, 1104, 898],\n  342: [342, 261]},\n 6: {9999: [4958, 4700],\n  4605: [4605, 4311, 3917],\n  3248: [3248, 2965, 2663, 1006, 897]},\n 7: {9999: [],\n  4957: [4957, 4600, 4500],\n  4310: [4310],\n  4099: [4099, 3437],\n  3349: [3349, 3247, 3162],\n  3057: [3057],\n  2449: [2449],\n  2363: [2363],\n  2274: [2274],\n  2078: [2078, 1817, 1512, 1314],\n  1005: [1005, 798],\n  433: [433],\n  341: [341, 255, 0]},\n 20: {9999: [4956, 4872],\n  4505: [4505, 4302, 4015, 3620, 2960],\n  2764: [2764, 2657],\n  2445: [2445, 2357],\n  2177: [2177, 2085, 1709, 1001],\n  891: [891, 339, 249, 153]},\n 25: {9999: [],\n  4955: [4955, 4578, 4189],\n  4004: [4004, 3326],\n  3154: [3154, 3050],\n  2959: [2959],\n  2856: [2856],\n  2766: [2766],\n  2549: [2549, 1614, 1507, 1405, 901, 615, 521],\n  426: [426],\n  60: [60]},\n 30: {9999: [4954, 4592],\n  4491: [4491, 3798],\n  3718: [3718, 3431],\n  3240: [3240, 2957],\n  2854: [2854, 2546],\n  2269: [2269],\n  2173: [2173],\n  1516: [1516],\n  1414: [1414, 998],\n  703: [703]},\n 35: {9999: [4953],\n  4867: [4867],\n  4092: [4092, 3153],\n  3046: [3046, 2441, 2171, 1610],\n  1503: [1503],\n  1300: [1300],\n  1207: [1207, 903, 702, 518, 422, 335]},\n 66: {9999: [4952, 4811],\n  4693: [4693],\n  4504: [4504, 4005, 3909, 3628, 3064],\n  2948: [2948, 2846, 2213],\n  1978: [1978, 1519],\n  1038: [1038, 881, 414],\n  362: [362],\n  278: [278]},\n 36: {9999: [],\n  4951: [4951, 4402],\n  3906: [3906],\n  3428: [3428],\n  3151: [3151, 3045],\n  2748: [2748],\n  2654: [2654, 2268],\n  1705: [1705, 1097],\n  790: [790, 701, 602],\n  421: [421, 333]},\n 37: {9999: [4950],\n  4780: [4780],\n  4401: [4401],\n  4296: [4296, 4188, 4017],\n  3427: [3427],\n  3340: [3340, 3044, 2956],\n  2747: [2747],\n  2067: [2067],\n  1694: [1694, 1502],\n  1196: [1196],\n  997: [997, 517, 332]},\n 39: {9999: [],\n  4949: [4949],\n  4705: [4705, 4187],\n  4091: [4091, 3237],\n  2955: [2955],\n  2352: [2352, 2169],\n  2065: [2065, 1808],\n  1609: [1609],\n  1501: [1501, 1299, 700, 419, 243, 148]},\n 41: {9999: [],\n  4948: [4948, 4588, 4090],\n  3818: [3818, 3337, 3236, 3149, 2651, 2063, 1901],\n  1391: [1391],\n  709: [709],\n  331: [331]},\n 45: {9999: [],\n  4947: [4947, 4863],\n  4398: [4398],\n  4185: [4185, 3612, 1983, 1807, 1109, 991, 513],\n  144: [144]},\n 48: {9999: [4946],\n  4294: [4294, 3807],\n  3712: [3712, 3335],\n  2164: [2164, 2107],\n  1397: [1397],\n  886: [886],\n  240: [240, 142]},\n 50: {9999: [],\n  4945: [4945, 4689],\n  4585: [4585],\n  4397: [4397],\n  4293: [4293, 3903],\n  3146: [3146, 2744],\n  1982: [1982],\n  1805: [1805, 1700],\n  1092: [1092],\n  328: [328, 165]},\n 58: {9999: [4944, 4289],\n  3998: [3998],\n  3607: [3607, 2648],\n  2439: [2439, 2261, 1090],\n  996: [996, 883],\n  693: [693, 279],\n  191: [191]},\n 152: {9999: [4943, 4579],\n  4413: [4413, 4176, 4060],\n  3742: [3742],\n  3392: [3392, 3293],\n  3097: [3097],\n  2964: [2964, 2542],\n  2159: [2159],\n  1456: [1456, 1335],\n  807: [807, 717, 292]},\n 75: {9999: [],\n  4942: [4942, 4807, 3925, 3187, 2642, 2382],\n  1704: [1704],\n  1316: [1316],\n  1088: [1088],\n  1031: [1031, 631, 183]},\n 156: {9999: [4941, 4657],\n  4457: [4457],\n  4391: [4391, 4137],\n  3207: [3207],\n  3103: [3103, 3012],\n  2942: [2942, 2315, 2236],\n  2024: [2024],\n  1954: [1954],\n  1762: [1762, 1206],\n  384: [384, 46]},\n 231: {9999: [],\n  4940: [4940, 4576],\n  4388: [4388, 4171, 3867],\n  3601: [3601, 3416, 3319],\n  3112: [3112],\n  2938: [2938, 2793, 2611, 2429, 1850, 1688],\n  1360: [1360, 640],\n  502: [502],\n  406: [406, 318]},\n 237: {9999: [],\n  4939: [4939, 4575, 4280],\n  3869: [3869],\n  3795: [3795, 3699],\n  3599: [3599, 2736],\n  2425: [2425, 2342, 2156, 2049, 1968, 1485],\n  1376: [1376, 1260],\n  1179: [1179, 872, 755],\n  482: [482],\n  230: [230],\n  135: [135]},\n 238: {9999: [4938],\n  4852: [4852],\n  4677: [4677],\n  4385: [4385],\n  3893: [3893, 3318],\n  2838: [2838, 2635, 2341],\n  1791: [1791],\n  1484: [1484, 1365],\n  1284: [1284],\n  1178: [1178],\n  871: [871],\n  404: [404]},\n 243: {9999: [],\n  4937: [4937],\n  4673: [4673, 3891],\n  3793: [3793],\n  3504: [3504],\n  2935: [2935],\n  2340: [2340, 2048],\n  1966: [1966],\n  1385: [1385],\n  1057: [1057, 970, 868, 314]},\n 245: {9999: [4936, 4476],\n  4381: [4381],\n  3989: [3989],\n  3696: [3696, 3595],\n  3503: [3503],\n  2524: [2524, 2254],\n  2153: [2153, 1965],\n  228: [228]},\n 246: {9999: [],\n  4935: [4935, 4851, 4765],\n  3988: [3988, 3791, 3316],\n  2934: [2934, 2814],\n  2253: [2253],\n  2152: [2152, 1964],\n  1590: [1590],\n  1482: [1482],\n  1280: [1280, 1072],\n  981: [981, 590],\n  498: [498]},\n 248: {9999: [],\n  4934: [4934],\n  4850: [4850, 4571, 4475],\n  4276: [4276, 3888, 3694],\n  3594: [3594],\n  3213: [3213],\n  3133: [3133],\n  3035: [3035, 2735, 2523, 2422],\n  2339: [2339, 2252],\n  2150: [2150, 2045, 1589, 969, 683, 227],\n  22: [22]},\n 249: {9999: [],\n  4933: [4933],\n  4763: [4763],\n  4166: [4166],\n  3693: [3693, 3580, 3315, 3034],\n  2837: [2837, 2632],\n  2338: [2338, 2251, 1952],\n  1588: [1588, 866],\n  213: [213]},\n 251: {9999: [],\n  4932: [4932],\n  4165: [4165, 4072, 3314, 2836],\n  2631: [2631],\n  2337: [2337, 2149, 1684],\n  1480: [1480],\n  1279: [1279],\n  1062: [1062],\n  132: [132, 45]},\n 255: {9999: [4931, 4846, 3887],\n  3590: [3590],\n  3501: [3501],\n  3228: [3228],\n  2834: [2834],\n  2521: [2521],\n  225: [225]},\n 261: {9999: [4930],\n  4378: [4378],\n  4272: [4272],\n  4069: [4069],\n  3984: [3984, 3227, 3130, 2530],\n  2419: [2419, 2335, 2146, 1691],\n  1477: [1477],\n  1170: [1170],\n  963: [963, 677, 587],\n  496: [496, 128],\n  39: [39]},\n 265: {9999: [],\n  4929: [4929, 4564],\n  4068: [4068, 3896],\n  3313: [3313, 3224],\n  3127: [3127, 3027, 2831],\n  1882: [1882],\n  1476: [1476, 1364, 1076],\n  862: [862, 772, 676],\n  585: [585]},\n 266: {9999: [],\n  4928: [4928, 4376, 3787, 3687, 3410],\n  3026: [3026],\n  2830: [2830, 2516, 2418, 2144, 1783],\n  1276: [1276, 1075],\n  961: [961],\n  861: [861],\n  675: [675],\n  222: [222]},\n 273: {9999: [4927],\n  4760: [4760, 4469, 3309, 3222, 2827, 2623],\n  2331: [2331],\n  2245: [2245],\n  2143: [2143, 1879, 1375],\n  1073: [1073],\n  769: [769],\n  672: [672],\n  583: [583, 310, 34]},\n 283: {9999: [4926],\n  4660: [4660],\n  4371: [4371],\n  4264: [4264, 4063],\n  3876: [3876, 3784],\n  3121: [3121, 2924, 2728],\n  2621: [2621],\n  2511: [2511, 2327, 2036],\n  1069: [1069, 960, 766, 579],\n  395: [395]},\n 284: {9999: [],\n  4925: [4925, 4840],\n  4757: [4757],\n  4559: [4559],\n  4466: [4466],\n  4263: [4263, 3980, 3490, 3120, 3022],\n  2620: [2620],\n  1774: [1774],\n  1372: [1372],\n  1269: [1269],\n  394: [394],\n  307: [307, 120]},\n 285: {9999: [],\n  4924: [4924, 4262],\n  3979: [3979],\n  2943: [2943],\n  2821: [2821, 2041],\n  1575: [1575, 1268, 1163, 1068, 858, 765],\n  670: [670],\n  492: [492, 393]},\n 286: {9999: [4923],\n  4839: [4839],\n  4756: [4756, 4558, 4157, 3868, 3218],\n  3119: [3119, 2923, 2820],\n  1773: [1773, 491]},\n 288: {9999: [],\n  4922: [4922],\n  4838: [4838],\n  4659: [4659],\n  4062: [4062, 3873],\n  3303: [3303, 2726, 2619, 2413],\n  2240: [2240],\n  1370: [1370],\n  1266: [1266],\n  669: [669, 578, 489],\n  392: [392]},\n 158: {9999: [],\n  4921: [4921, 4829, 4650, 4577, 4145, 4047],\n  3966: [3966, 3875, 3703],\n  3508: [3508],\n  2499: [2499],\n  1563: [1563, 1182],\n  942: [942],\n  801: [801, 715, 566],\n  112: [112]},\n 234: {9999: [4920, 4656],\n  4478: [4478, 3208, 3038],\n  2637: [2637],\n  2134: [2134, 2050],\n  1593: [1593],\n  1157: [1157, 972, 501, 405, 315],\n  231: [231]},\n 289: {9999: [],\n  4919: [4919, 3403, 2725, 2504, 2239, 2138],\n  2039: [2039],\n  1876: [1876],\n  1771: [1771],\n  1471: [1471],\n  1265: [1265, 1162],\n  959: [959, 668],\n  577: [577]},\n 224: {9999: [4918, 4854, 4768],\n  4365: [4365, 3847, 3196, 2917, 2108, 1547],\n  1489: [1489],\n  643: [643, 320],\n  235: [235]},\n 185: {9999: [],\n  4917: [4917, 4824],\n  4344: [4344, 4126, 3853],\n  3765: [3765],\n  3665: [3665, 3395, 3276],\n  3088: [3088, 2805],\n  2600: [2600],\n  2401: [2401],\n  2125: [2125, 2017, 1658, 1566],\n  1055: [1055],\n  653: [653, 552],\n  373: [373]},\n 159: {9999: [],\n  4916: [4916],\n  4743: [4743, 4361, 4252, 4177, 3864, 3206, 2919],\n  2863: [2863],\n  2434: [2434],\n  2314: [2314],\n  2031: [2031],\n  1947: [1947],\n  1261: [1261],\n  852: [852, 779, 100]},\n 165: {9999: [],\n  4915: [4915],\n  4358: [4358, 4248],\n  4051: [4051],\n  3770: [3770],\n  3099: [3099],\n  3010: [3010, 2911, 2815],\n  2412: [2412, 1909, 1758, 1562],\n  1389: [1389],\n  1152: [1152],\n  939: [939],\n  713: [713, 284],\n  206: [206]},\n 167: {9999: [],\n  4914: [4914],\n  4749: [4749, 4646],\n  4546: [4546, 4353, 4050],\n  3390: [3390],\n  3288: [3288],\n  2607: [2607, 1941],\n  1663: [1663],\n  1464: [1464],\n  1366: [1366, 1150, 1112, 845],\n  705: [705],\n  560: [560],\n  478: [478]},\n 169: {9999: [4913],\n  4821: [4821, 4452],\n  4356: [4356, 4247, 3860, 3672],\n  3575: [3575, 2399],\n  2313: [2313, 1943],\n  938: [938],\n  846: [846, 477, 205]},\n 170: {9999: [],\n  4912: [4912],\n  4733: [4733],\n  4537: [4537],\n  4448: [4448, 4246],\n  4142: [4142, 3287, 2406, 2228],\n  2025: [2025],\n  1756: [1756, 1451, 1359, 780, 664],\n  378: [378],\n  201: [201]},\n 175: {9999: [4911],\n  4244: [4244],\n  3478: [3478],\n  3388: [3388],\n  3296: [3296, 3007],\n  2598: [2598],\n  2405: [2405],\n  2223: [2223, 1862],\n  1253: [1253, 1147, 1106],\n  657: [657, 561],\n  203: [203]},\n 176: {9999: [],\n  4910: [4910, 4451, 4364],\n  4138: [4138, 4049, 3965, 3573],\n  3283: [3283, 2907],\n  2491: [2491, 1555, 1355],\n  1146: [1146, 744],\n  286: [286]},\n 180: {9999: [],\n  4909: [4909],\n  4255: [4255],\n  3669: [3669],\n  3476: [3476, 3274],\n  3015: [3015],\n  2905: [2905],\n  2602: [2602],\n  2487: [2487, 2404, 2311, 2127, 1557],\n  1350: [1350],\n  1250: [1250, 1063, 936, 842],\n  752: [752]},\n 172: {9999: [],\n  4908: [4908],\n  4140: [4140],\n  3858: [3858, 3768, 3574, 3479, 3389],\n  3286: [3286],\n  3202: [3202, 3109],\n  2908: [2908, 2809],\n  2711: [2711, 2605],\n  2493: [2493],\n  2034: [2034, 1661, 1357],\n  1149: [1149, 1085],\n  649: [649, 287]},\n 187: {9999: [4907, 4446],\n  3472: [3472],\n  3385: [3385, 3095, 2803],\n  2708: [2708, 2482],\n  2124: [2124],\n  1935: [1935],\n  1657: [1657, 1554, 1248],\n  840: [840],\n  750: [750],\n  553: [553, 324, 193]},\n 196: {9999: [],\n  4906: [4906],\n  4822: [4822, 3843],\n  3675: [3675, 3280],\n  2705: [2705, 2120],\n  2019: [2019, 1750, 1052],\n  836: [836, 651]},\n 200: {9999: [4905, 4747, 4639, 4234, 4129, 3954],\n  3760: [3760, 3378],\n  3090: [3090],\n  3003: [3003, 2900, 2789],\n  2116: [2116],\n  1855: [1855, 1551],\n  1444: [1444],\n  1135: [1135, 826, 745, 660],\n  467: [467],\n  300: [300]},\n 204: {9999: [4904],\n  4813: [4813],\n  4349: [4349],\n  4233: [4233, 4132, 3957, 3759],\n  3396: [3396],\n  2897: [2897, 2791],\n  2703: [2703, 2390],\n  1654: [1654],\n  1242: [1242, 1137],\n  828: [828],\n  466: [466]},\n 205: {9999: [],\n  4903: [4903],\n  4752: [4752, 4534],\n  3845: [3845, 3758],\n  2898: [2898],\n  2702: [2702],\n  2503: [2503, 1653],\n  1544: [1544, 954, 743, 554]},\n 208: {9999: [4902, 4526, 4456, 4348, 3846],\n  3201: [3201, 3085, 2915, 2798],\n  2587: [2587],\n  2517: [2517],\n  2397: [2397],\n  2221: [2221],\n  1446: [1446, 1348],\n  1235: [1235],\n  1139: [1139, 968, 736, 647],\n  367: [367]},\n 215: {9999: [4901, 4815],\n  4632: [4632, 4535, 4343],\n  4149: [4149],\n  4041: [4041],\n  3755: [3755],\n  3558: [3558, 3466],\n  3139: [3139],\n  2596: [2596],\n  2505: [2505, 2394, 2117],\n  2057: [2057, 1655],\n  1548: [1548, 1445, 1048, 386]},\n 191: {9999: [],\n  4900: [4900],\n  4642: [4642, 4538],\n  4444: [4444, 4351, 3850, 3754, 3278, 3204],\n  2716: [2716],\n  2488: [2488, 2302, 1857],\n  747: [747],\n  472: [472],\n  370: [370, 199]},\n 101: {9999: [4899],\n  4800: [4800],\n  4730: [4730],\n  4519: [4519],\n  4330: [4330, 4226],\n  3836: [3836],\n  3752: [3752, 3259],\n  2880: [2880],\n  2474: [2474, 1845],\n  1737: [1737],\n  1644: [1644, 1331, 1128, 628, 543, 180]},\n 110: {9999: [],\n  4898: [4898, 4328],\n  4219: [4219],\n  4114: [4114, 3653, 3448],\n  3175: [3175, 2990, 2883],\n  2002: [2002],\n  1835: [1835],\n  1733: [1733],\n  1635: [1635, 1526, 1434],\n  1018: [1018, 925, 538],\n  451: [451, 170, 84]},\n 105: {9999: [],\n  4897: [4897, 4803],\n  2690: [2690],\n  2290: [2290, 1928],\n  1842: [1842, 1436, 1329],\n  1021: [1021],\n  928: [928],\n  355: [355, 87]},\n 85: {9999: [4895, 4432, 4335, 4122, 3821, 3369],\n  2971: [2971],\n  2669: [2669],\n  2583: [2583, 2010],\n  1641: [1641],\n  1538: [1538, 1229, 364, 274],\n  178: [178],\n  48: [48]},\n 95: {9999: [],\n  4894: [4894],\n  4809: [4809],\n  4036: [4036],\n  3747: [3747],\n  2987: [2987],\n  2782: [2782],\n  2689: [2689],\n  2203: [2203],\n  2008: [2008, 1837],\n  1534: [1534, 1332],\n  1226: [1226],\n  268: [268, 174],\n  70: [70]},\n 91: {9999: [],\n  4893: [4893, 4341, 4221, 4120, 3649],\n  3456: [3456],\n  3192: [3192, 3079],\n  2580: [2580, 2381, 1740],\n  1646: [1646],\n  1536: [1536],\n  1122: [1122],\n  1027: [1027, 822, 176]},\n 89: {9999: [],\n  4892: [4892],\n  4804: [4804],\n  4621: [4621],\n  3945: [3945],\n  3370: [3370, 3271],\n  2989: [2989],\n  2890: [2890, 2784, 2388],\n  2211: [2211, 2102],\n  1725: [1725, 1639],\n  1228: [1228, 271]},\n 117: {9999: [4891],\n  4798: [4798],\n  4514: [4514, 3364, 3255, 3181, 3082],\n  2993: [2993, 2570],\n  2376: [2376],\n  1832: [1832, 1632],\n  1523: [1523, 1440],\n  1221: [1221],\n  1124: [1124, 916],\n  818: [818, 623, 446],\n  139: [139],\n  79: [79]},\n 115: {9999: [],\n  4890: [4890, 4438],\n  4325: [4325],\n  3935: [3935],\n  3833: [3833, 3545],\n  2992: [2992],\n  2286: [2286, 2098, 2001, 1833, 1633, 1016],\n  918: [918, 726, 624, 537, 265],\n  164: [164],\n  82: [82]},\n 145: {9999: [4889, 4745, 4710],\n  4309: [4309, 3344],\n  2973: [2973, 2461, 1974, 1719, 1570]},\n 129: {9999: [4887],\n  4790: [4790],\n  4424: [4424],\n  4212: [4212, 3930],\n  3828: [3828],\n  3539: [3539, 3360],\n  3168: [3168],\n  2677: [2677],\n  2284: [2284],\n  2090: [2090, 1921, 1828, 1730],\n  1595: [1595],\n  1515: [1515],\n  1322: [1322],\n  982: [982],\n  813: [813],\n  724: [724]},\n 133: {9999: [4886, 3996],\n  3419: [3419, 3358],\n  2772: [2772],\n  2346: [2346],\n  1834: [1834, 1634, 1222],\n  957: [957],\n  909: [909, 440]},\n 138: {9999: [],\n  4885: [4885],\n  4753: [4753, 4720],\n  4610: [4610],\n  4508: [4508, 4319],\n  3355: [3355, 3067],\n  2975: [2975],\n  2873: [2873],\n  2771: [2771],\n  2190: [2190],\n  2082: [2082],\n  1721: [1721],\n  1117: [1117, 983, 722, 596]},\n 139: {9999: [4884],\n  4748: [4748],\n  3928: [3928, 3825],\n  3633: [3633, 3065],\n  2974: [2974],\n  2872: [2872, 2673, 2344, 2161],\n  2060: [2060, 1997],\n  1795: [1795],\n  1459: [1459],\n  950: [950],\n  413: [413, 323],\n  237: [237, 74]},\n 140: {9999: [4883, 4483],\n  4421: [4421],\n  3824: [3824],\n  3538: [3538, 3113, 3041],\n  2983: [2983, 2770],\n  1424: [1424, 1215],\n  541: [541, 305],\n  73: [73]},\n 143: {9999: [4882, 4318],\n  2682: [2682, 2310, 2276],\n  2184: [2184, 1594, 949],\n  905: [905, 107]},\n 144: {9999: [],\n  4881: [4881, 4287],\n  4206: [4206],\n  4101: [4101],\n  3927: [3927],\n  3325: [3325],\n  3209: [3209],\n  2462: [2462],\n  2038: [2038, 878]},\n 80: {9999: [4879, 4523],\n  4333: [4333],\n  4033: [4033, 3552],\n  3268: [3268],\n  3190: [3190],\n  2969: [2969, 2865, 2455, 2209, 2012, 1819, 1623],\n  1539: [1539, 1337, 1037, 282, 50]},\n 40: {9999: [4878],\n  4779: [4779, 4694, 4295, 4003],\n  3905: [3905, 3820],\n  3615: [3615],\n  3338: [3338, 3253, 3150],\n  2954: [2954, 2652],\n  2440: [2440],\n  2279: [2279],\n  2168: [2168, 2064, 1910, 1702, 1500],\n  1298: [1298, 994],\n  888: [888],\n  789: [789]},\n 65: {9999: [4877],\n  4794: [4794],\n  4683: [4683, 4102, 3898],\n  3804: [3804, 3513, 3422],\n  3141: [3141],\n  2847: [2847],\n  2188: [2188],\n  1601: [1601],\n  1291: [1291, 1195, 1012]},\n 34: {9999: [4876, 4695, 4488],\n  3907: [3907],\n  3811: [3811],\n  3630: [3630],\n  3522: [3522, 3429, 3238],\n  3047: [3047],\n  2864: [2864],\n  2559: [2559, 2172],\n  2068: [2068],\n  1715: [1715],\n  1518: [1518],\n  1009: [1009],\n  149: [149, 55]},\n 14: {9999: [4874, 4597],\n  4495: [4495, 4410, 4306, 4196],\n  3722: [3722],\n  3244: [3244],\n  3053: [3053],\n  2858: [2858],\n  2272: [2272],\n  1307: [1307],\n  1004: [1004, 796],\n  524: [524, 429],\n  157: [157],\n  62: [62]},\n 16: {9999: [4873, 4785],\n  4595: [4595],\n  4304: [4304],\n  4097: [4097, 4009],\n  3914: [3914],\n  3526: [3526, 3435],\n  3063: [3063, 2961],\n  2857: [2857, 2552],\n  2446: [2446],\n  2187: [2187, 1814],\n  1508: [1508],\n  1183: [1183, 1103, 427],\n  156: [156],\n  61: [61]},\n 22: {9999: [4871],\n  4593: [4593, 4006, 3720, 3525, 3234, 2456, 2356, 2176],\n  1707: [1707, 1406],\n  1199: [1199, 1000, 706, 523]},\n 23: {9999: [4870],\n  4301: [4301],\n  4191: [4191, 3911, 3434, 2754, 2175, 1985],\n  1099: [1099],\n  795: [795, 687],\n  522: [522]},\n 28: {9999: [],\n  4869: [4869, 4781, 4698],\n  3910: [3910],\n  3812: [3812, 3618],\n  2752: [2752],\n  2666: [2666],\n  2547: [2547],\n  2444: [2444],\n  2355: [2355],\n  2070: [2070],\n  1903: [1903, 1706],\n  1506: [1506],\n  519: [519],\n  245: [245, 58]},\n 32: {9999: [4868],\n  4697: [4697, 4590, 4490],\n  3716: [3716],\n  3616: [3616, 2545],\n  2277: [2277],\n  2069: [2069, 1197],\n  1107: [1107],\n  804: [804],\n  604: [604, 150, 56]},\n 60: {9999: [4866, 4202],\n  3516: [3516, 3252],\n  2765: [2765],\n  2647: [2647],\n  2538: [2538, 2438],\n  2347: [2347, 2189, 1981, 1800, 1603],\n  1504: [1504],\n  1293: [1293],\n  692: [692],\n  326: [326],\n  189: [189]},\n 38: {9999: [4865, 4589, 4400, 4104, 3810, 3339],\n  2353: [2353, 2266],\n  2170: [2170, 2066, 1902],\n  1809: [1809, 1703],\n  1095: [1095, 995, 601],\n  516: [516, 420]},\n 47: {9999: [4862],\n  4776: [4776],\n  4087: [4087],\n  3242: [3242],\n  2952: [2952, 2351],\n  2165: [2165],\n  2086: [2086],\n  1398: [1398, 1093, 989],\n  786: [786],\n  697: [697],\n  53: [53]},\n 49: {9999: [4861, 4586, 4184],\n  3521: [3521, 3334],\n  3042: [3042, 2745],\n  2350: [2350],\n  1806: [1806, 1193],\n  696: [696, 417],\n  259: [259]},\n 51: {9999: [4860, 4396],\n  4292: [4292],\n  4183: [4183, 4000, 3806, 3610, 3520],\n  3145: [3145],\n  2851: [2851],\n  2543: [2543, 2163, 1608, 1498, 1192, 785],\n  599: [599],\n  416: [416, 260, 166],\n  52: [52]},\n 54: {9999: [],\n  4859: [4859, 4290, 3352],\n  3144: [3144, 2753],\n  2263: [2263],\n  2162: [2162, 1802],\n  1496: [1496, 1396],\n  1189: [1189],\n  784: [784, 169]},\n 55: {9999: [4858, 4687, 4182, 4086, 3902, 3711, 3608],\n  3518: [3518, 3143, 2950, 2649],\n  2540: [2540],\n  1605: [1605],\n  1495: [1495, 1296],\n  1091: [1091],\n  987: [987, 695],\n  263: [263, 168]},\n 148: {9999: [],\n  4857: [4857],\n  4740: [4740, 4704],\n  4609: [4609, 4419],\n  4178: [4178, 3897],\n  3393: [3393, 3284, 3105, 2871, 2743],\n  2672: [2672, 2533, 2460, 1973, 1916],\n  1793: [1793, 1693, 1565],\n  595: [595, 506],\n  411: [411],\n  298: [298, 78]},\n 84: {9999: [4856, 4522, 4431, 4220, 3948, 3822, 3458],\n  3353: [3353, 3266],\n  2867: [2867, 2584, 2459, 1425],\n  1287: [1287, 1230, 1034],\n  632: [632],\n  550: [550],\n  179: [179]},\n 153: {9999: [4855, 4601, 3921, 3606],\n  3104: [3104, 2661],\n  2531: [2531],\n  2458: [2458, 2316, 2256],\n  2135: [2135],\n  1763: [1763, 1455, 1419],\n  944: [944, 876]},\n 230: {9999: [4853],\n  4550: [4550, 4367],\n  2796: [2796],\n  2590: [2590],\n  2430: [2430, 1851, 875, 503],\n  407: [407, 3]},\n 250: {9999: [4849, 4570, 4275],\n  4073: [4073, 3986, 3790],\n  3692: [3692, 3593, 3230],\n  2421: [2421, 1962, 1481, 1383],\n  967: [967, 682, 589],\n  400: [400, 313, 226],\n  43: [43]},\n 253: {9999: [],\n  4848: [4848, 4473, 4274],\n  3789: [3789, 3592],\n  3032: [3032, 2932],\n  2629: [2629],\n  2148: [2148, 1787],\n  1382: [1382],\n  1278: [1278, 1175],\n  1082: [1082],\n  130: [130]},\n 254: {9999: [],\n  4847: [4847],\n  4761: [4761, 4670, 4366, 4071, 3591, 3031, 2931, 2835, 2734],\n  2522: [2522],\n  2420: [2420, 2250],\n  2044: [2044, 1786],\n  1174: [1174, 1081, 966, 776],\n  588: [588, 312]},\n 258: {9999: [],\n  4845: [4845],\n  3884: [3884, 3029, 2832],\n  2628: [2628],\n  2520: [2520],\n  2336: [2336],\n  2043: [2043, 1885],\n  1682: [1682, 1586],\n  1078: [1078],\n  964: [964],\n  399: [399],\n  41: [41]},\n 259: {9999: [],\n  4844: [4844, 4679, 3985, 3690],\n  2627: [2627],\n  2249: [2249, 1785],\n  1585: [1585],\n  1479: [1479],\n  1380: [1380, 1172],\n  865: [865],\n  679: [679],\n  129: [129],\n  40: [40]},\n 262: {9999: [4843],\n  4668: [4668, 4566],\n  4472: [4472],\n  4377: [4377],\n  3983: [3983, 3226],\n  2930: [2930],\n  2334: [2334, 2248, 1584, 1277],\n  1077: [1077],\n  864: [864],\n  505: [505],\n  224: [224, 38]},\n 269: {9999: [4842],\n  4563: [4563, 3498],\n  3311: [3311],\n  2829: [2829],\n  2740: [2740],\n  1960: [1960],\n  1780: [1780],\n  1582: [1582, 1061, 397, 37]},\n 274: {9999: [4841, 4373, 4160],\n  3879: [3879, 3495, 3408],\n  3308: [3308],\n  3137: [3137],\n  2718: [2718],\n  2513: [2513, 2415],\n  1677: [1677],\n  1580: [1580],\n  1274: [1274],\n  860: [860],\n  671: [671, 125]},\n 297: {9999: [4837],\n  4754: [4754, 4555, 4368, 4260],\n  3974: [3974, 3487],\n  3400: [3400, 3300],\n  3116: [3116],\n  2721: [2721],\n  2615: [2615, 2325],\n  2136: [2136, 1955, 1870],\n  1367: [1367],\n  1259: [1259, 1064, 854],\n  761: [761],\n  665: [665],\n  575: [575],\n  306: [306],\n  217: [217]},\n 298: {9999: [4836],\n  4641: [4641],\n  4153: [4153],\n  4058: [4058, 3778],\n  3679: [3679, 2612, 2509],\n  2410: [2410],\n  2322: [2322, 2238],\n  1161: [1161],\n  853: [853],\n  574: [574, 485, 24]},\n 157: {9999: [],\n  4835: [4835],\n  4652: [4652],\n  4455: [4455],\n  4362: [4362, 4242, 3967, 3895],\n  3777: [3777],\n  3725: [3725],\n  3627: [3627, 3102],\n  2500: [2500],\n  2231: [2231],\n  1949: [1949],\n  1671: [1671],\n  1564: [1564, 1286],\n  567: [567],\n  484: [484],\n  375: [375],\n  294: [294]},\n 229: {9999: [4834, 4667, 4548, 4282],\n  4172: [4172, 4079, 3602, 3481, 3194, 2411, 1953, 1852],\n  1343: [1343, 1042, 233]},\n 291: {9999: [],\n  4833: [4833],\n  3781: [3781],\n  3681: [3681],\n  3489: [3489, 2723],\n  2617: [2617, 1066, 958],\n  856: [856],\n  488: [488, 390, 28]},\n 223: {9999: [4832, 4256, 3993],\n  3849: [3849],\n  3676: [3676, 3320, 3197, 3014, 2319],\n  2214: [2214],\n  1764: [1764, 1690, 1467, 977],\n  741: [741],\n  644: [644, 388],\n  321: [321, 214]},\n 199: {9999: [4831],\n  3662: [3662, 3564, 3295],\n  2894: [2894, 2704],\n  2478: [2478],\n  2118: [2118],\n  1743: [1743, 1349],\n  468: [468, 368, 291, 195]},\n 300: {9999: [4830],\n  4038: [4038, 3870],\n  3783: [3783, 3493],\n  3114: [3114, 2918, 2507, 2324, 2237],\n  2137: [2137, 1672, 1466],\n  759: [759]},\n 168: {9999: [4828],\n  4453: [4453, 4357, 4143, 3961],\n  3861: [3861],\n  3576: [3576],\n  2909: [2909],\n  2712: [2712],\n  2606: [2606, 2494, 1944, 1869, 1561],\n  1361: [1361, 686, 379, 289],\n  92: [92],\n  19: [19]},\n 174: {9999: [4827],\n  4681: [4681],\n  4543: [4543],\n  4354: [4354, 3671, 3008],\n  2800: [2800],\n  2492: [2492, 1660, 1560],\n  1086: [1086],\n  937: [937, 844],\n  204: [204, 91],\n  17: [17]},\n 177: {9999: [4826],\n  4243: [4243, 3964, 3763, 3387],\n  3006: [3006],\n  2808: [2808],\n  2710: [2710],\n  2603: [2603, 2502, 1755, 1559],\n  1449: [1449, 1252, 1145, 1084, 656],\n  202: [202, 16]},\n 182: {9999: [],\n  4825: [4825],\n  4735: [4735, 4458, 4231],\n  3962: [3962, 3856],\n  3275: [3275],\n  3087: [3087, 2904, 2709, 2479, 2320, 2014],\n  1856: [1856, 1353],\n  1249: [1249, 1056],\n  935: [935],\n  655: [655],\n  475: [475, 366, 200],\n  14: [14]},\n 195: {9999: [4823],\n  4640: [4640],\n  4235: [4235],\n  4046: [4046, 3842],\n  3761: [3761],\n  3666: [3666, 2891, 2698, 2597],\n  2121: [2121, 1865],\n  848: [848, 471],\n  196: [196],\n  10: [10]},\n 202: {9999: [],\n  4820: [4820, 4750, 4636, 4447, 4135, 3001, 2896, 2501, 2398, 2308, 1938],\n  1141: [1141, 648]},\n 217: {9999: [],\n  4819: [4819, 4631],\n  4531: [4531],\n  4175: [4175],\n  4039: [4039, 3958, 3848, 3577, 2696],\n  2591: [2591, 2529, 2393],\n  2218: [2218, 2056],\n  1948: [1948, 1747],\n  1465: [1465, 1240, 1153],\n  1047: [1047],\n  833: [833],\n  322: [322]},\n 203: {9999: [],\n  4818: [4818, 4770, 4635],\n  4131: [4131, 3956, 3563, 3463, 3323],\n  3093: [3093, 3000, 2790],\n  2216: [2216],\n  2020: [2020, 1937, 1450],\n  1340: [1340, 827, 754, 302, 95]},\n 220: {9999: [4817],\n  4530: [4530, 3658, 3579, 3198],\n  1749: [1749],\n  1680: [1680],\n  1478: [1478],\n  1241: [1241],\n  1155: [1155],\n  1045: [1045, 847, 481],\n  236: [236, 4]},\n 219: {9999: [4816, 4651, 4532, 3971, 3110],\n  2996: [2996, 2304],\n  2217: [2217, 1853, 1746, 1668],\n  111: [111],\n  5: [5]},\n 214: {9999: [],\n  4814: [4814, 4769],\n  4470: [4470],\n  4345: [4345, 4147],\n  4042: [4042, 3559, 2589, 2058, 1940, 1745],\n  1448: [1448, 1243, 830],\n  742: [742],\n  462: [462]},\n 221: {9999: [],\n  4812: [4812],\n  4654: [4654],\n  4461: [4461, 4174, 3654],\n  3398: [3398, 3321, 2717],\n  2528: [2528],\n  2392: [2392, 2215, 2113],\n  1552: [1552],\n  1239: [1239, 493, 113]},\n 69: {9999: [],\n  4810: [4810, 4581],\n  4415: [4415],\n  4342: [4342],\n  4205: [4205],\n  4106: [4106, 3923],\n  3707: [3707],\n  3169: [3169, 3084, 2843],\n  2767: [2767, 2645],\n  2367: [2367],\n  2207: [2207],\n  1975: [1975, 1599, 1532],\n  1289: [1289],\n  616: [616],\n  435: [435]},\n 97: {9999: [],\n  4802: [4802],\n  4728: [4728, 4624, 4223, 4031],\n  3454: [3454],\n  3374: [3374, 3264, 3179],\n  2988: [2988],\n  2889: [2889, 2295, 2200],\n  2007: [2007],\n  1838: [1838],\n  1643: [1643],\n  1542: [1542],\n  1023: [1023, 921],\n  731: [731],\n  544: [544, 457, 357]},\n 100: {9999: [4801, 4626, 4340],\n  4229: [4229, 4118],\n  4027: [4027],\n  3751: [3751],\n  3459: [3459],\n  3178: [3178, 2294],\n  2101: [2101],\n  1926: [1926],\n  1738: [1738, 1438],\n  358: [358, 172]},\n 107: {9999: [4799],\n  4619: [4619, 4228, 4117],\n  3555: [3555, 3450, 3258],\n  2691: [2691],\n  2288: [2288, 2099, 1933],\n  1735: [1735, 1527, 1126, 1019],\n  551: [551, 85]},\n 121: {9999: [],\n  4797: [4797],\n  4715: [4715, 4021, 3830],\n  3173: [3173],\n  2568: [2568],\n  2471: [2471, 2092, 1325, 1220],\n  1015: [1015],\n  913: [913, 535],\n  443: [443],\n  80: [80]},\n 62: {9999: [4796, 4484],\n  4288: [4288, 3515, 3424, 2769],\n  2537: [2537],\n  2259: [2259],\n  1897: [1897, 1517],\n  1292: [1292, 882, 791, 276]},\n 125: {9999: [4795],\n  4426: [4426],\n  4213: [4213, 3931, 3829, 3639],\n  3397: [3397],\n  3171: [3171, 2878, 2373, 1922],\n  1629: [1629],\n  911: [911],\n  534: [534, 442],\n  350: [350, 257]},\n 33: {9999: [4793, 4696],\n  4489: [4489],\n  4403: [4403],\n  4204: [4204],\n  3908: [3908, 2749, 2544, 2442],\n  2368: [2368],\n  1810: [1810],\n  1505: [1505],\n  1401: [1401, 1301],\n  603: [603, 423]},\n 61: {9999: [],\n  4792: [4792],\n  4394: [4394, 4203],\n  4083: [4083],\n  3997: [3997, 3260],\n  2849: [2849],\n  2260: [2260, 1980, 1698],\n  1394: [1394, 1187, 782, 510],\n  334: [334],\n  187: [187]},\n 59: {9999: [4791, 4485, 4395, 4179],\n  3900: [3900],\n  3332: [3332, 2949, 2850, 2186, 1416],\n  1188: [1188, 1010]},\n 2: {9999: [4789],\n  4703: [4703, 4312, 3919, 3059, 2966, 2861],\n  2762: [2762],\n  2080: [2080],\n  1908: [1908],\n  1514: [1514, 899],\n  711: [711, 343],\n  258: [258],\n  162: [162]},\n 11: {9999: [],\n  4787: [4787, 4497, 3816],\n  3159: [3159, 3056],\n  2760: [2760],\n  2668: [2668],\n  2448: [2448, 2180, 1988, 1816, 1711, 1011],\n  894: [894],\n  431: [431, 253]},\n 12: {9999: [],\n  4786: [4786],\n  4707: [4707],\n  4496: [4496, 4286, 4197],\n  4011: [4011],\n  3623: [3623, 3528, 3158],\n  3055: [3055],\n  2859: [2859],\n  2759: [2759],\n  2074: [2074],\n  1907: [1907],\n  1821: [1821, 1710, 1617, 1410, 893, 797],\n  612: [612],\n  430: [430, 252],\n  158: [158]},\n 17: {9999: [4784],\n  4409: [4409, 4194, 4096],\n  4008: [4008, 3251, 3156, 2756],\n  2659: [2659, 2359, 2179, 1408, 1306],\n  1202: [1202, 1102],\n  1002: [1002],\n  155: [155]},\n 24: {9999: [],\n  4783: [4783],\n  4300: [4300],\n  4190: [4190, 4094],\n  3719: [3719],\n  3509: [3509, 3345, 3243],\n  2550: [2550, 2270],\n  2174: [2174, 2071, 1905],\n  1304: [1304],\n  999: [999],\n  877: [877, 607],\n  247: [247],\n  152: [152]},\n 27: {9999: [],\n  4782: [4782, 4405],\n  4298: [4298, 3813, 3524, 3432],\n  3342: [3342, 2958, 2855, 2548, 1612],\n  1404: [1404, 1303, 793, 606, 336, 59]},\n 42: {9999: [4778, 4692],\n  4089: [4089, 3904],\n  3715: [3715],\n  3614: [3614],\n  3426: [3426, 3148, 3043, 2853, 2265],\n  2167: [2167],\n  2072: [2072, 1984],\n  788: [788, 699, 515, 418],\n  242: [242, 147]},\n 43: {9999: [],\n  4777: [4777, 4691],\n  4399: [4399, 4002],\n  3714: [3714],\n  3613: [3613],\n  3147: [3147],\n  2953: [2953, 2650, 2264, 1701],\n  1400: [1400, 1209],\n  993: [993, 514, 241, 146],\n  68: [68]},\n 52: {9999: [4775],\n  4688: [4688, 4291],\n  3519: [3519, 2532],\n  1804: [1804],\n  1699: [1699, 1497],\n  1191: [1191, 988, 598]},\n 53: {9999: [4774, 3999],\n  3609: [3609],\n  3061: [3061, 2951],\n  2541: [2541],\n  1803: [1803],\n  1606: [1606, 1190, 885, 327]},\n 127: {9999: [4773, 4713],\n  4321: [4321, 4218],\n  3637: [3637],\n  3541: [3541, 3232],\n  3170: [3170],\n  2564: [2564, 2468],\n  1628: [1628],\n  1120: [1120, 984],\n  814: [814],\n  349: [349],\n  110: [110]},\n 122: {9999: [],\n  4772: [4772],\n  4615: [4615],\n  4214: [4214],\n  4110: [4110],\n  3738: [3738],\n  3445: [3445, 3362, 3250],\n  2982: [2982, 2567, 2195],\n  1830: [1830],\n  1727: [1727],\n  1521: [1521, 1428, 917],\n  815: [815, 273]},\n 241: {9999: [4767, 4674, 4572],\n  4382: [4382],\n  4167: [4167, 3990, 3506],\n  3037: [3037],\n  2937: [2937],\n  2155: [2155, 1864, 1387, 869, 402],\n  133: [133],\n  20: [20]},\n 242: {9999: [],\n  4766: [4766, 4278, 4074],\n  3697: [3697],\n  3505: [3505, 2936, 2633],\n  2424: [2424, 2154],\n  1967: [1967],\n  1866: [1866],\n  1790: [1790, 1685, 1592],\n  1483: [1483],\n  1386: [1386, 1282],\n  971: [971],\n  685: [685, 499, 229]},\n 247: {9999: [],\n  4764: [4764, 4671, 4380],\n  4277: [4277, 3987],\n  3889: [3889],\n  3695: [3695, 3036],\n  2933: [2933, 2151, 2046],\n  1963: [1963],\n  1888: [1888],\n  1384: [1384, 867],\n  777: [777],\n  684: [684, 401, 303]},\n 252: {9999: [4762, 4569],\n  4474: [4474, 4379, 3502, 3229],\n  3132: [3132, 3033, 2630, 1868],\n  1788: [1788, 1683],\n  1490: [1490, 1176],\n  681: [681, 497],\n  131: [131]},\n 275: {9999: [],\n  4759: [4759, 4159],\n  3585: [3585, 3494, 3221],\n  3125: [3125],\n  3024: [3024],\n  2826: [2826],\n  2640: [2640],\n  2512: [2512, 2244, 2142],\n  1777: [1777],\n  1579: [1579],\n  1166: [1166, 221, 124],\n  33: [33]},\n 278: {9999: [4758, 4663, 4561, 4268, 3584, 3406, 2823, 2730, 2414],\n  2329: [2329, 1958],\n  859: [859],\n  778: [778],\n  581: [581, 308]},\n 292: {9999: [4755],\n  4464: [4464],\n  3978: [3978],\n  3780: [3780],\n  3677: [3677],\n  3488: [3488],\n  3402: [3402, 3302],\n  2920: [2920, 2818],\n  2133: [2133, 1874],\n  1369: [1369, 1160],\n  855: [855],\n  763: [763, 576, 119],\n  27: [27]},\n 267: {9999: [],\n  4751: [4751],\n  4665: [4665],\n  4460: [4460],\n  3312: [3312, 3126, 2626, 2515, 2247, 1881, 1782, 1679],\n  1475: [1475, 1378],\n  1275: [1275, 1074],\n  572: [572],\n  495: [495],\n  398: [398]},\n 141: {9999: [],\n  4746: [4746],\n  4711: [4711],\n  4420: [4420],\n  4209: [4209],\n  3994: [3994, 3823, 3537, 3399, 3060, 2768],\n  2562: [2562],\n  2463: [2463],\n  2345: [2345, 1815],\n  1720: [1720],\n  1458: [1458],\n  1423: [1423, 1214],\n  1121: [1121, 721, 614],\n  299: [299],\n  72: [72]},\n 147: {9999: [4744],\n  4682: [4682, 4259],\n  4080: [4080],\n  3817: [3817],\n  3733: [3733],\n  3643: [3643, 3534],\n  3324: [3324],\n  3106: [3106, 2742, 2573, 2318, 1972],\n  1917: [1917, 1457, 1421],\n  948: [948, 507, 434, 216],\n  105: [105]},\n 164: {9999: [],\n  4742: [4742],\n  4547: [4547, 4052],\n  3854: [3854],\n  3771: [3771, 3674, 3480],\n  2902: [2902, 2713, 2495, 2027, 1759],\n  1453: [1453, 1413, 1143],\n  1113: [1113],\n  44: [44]},\n 166: {9999: [4741],\n  4647: [4647, 3862],\n  3673: [3673],\n  3567: [3567, 3098, 3009],\n  2910: [2910, 2608],\n  2026: [2026],\n  1889: [1889, 1757],\n  688: [688, 564],\n  479: [479, 380, 290, 21]},\n 197: {9999: [4739, 4536],\n  4128: [4128],\n  4081: [4081],\n  3273: [3273],\n  3004: [3004],\n  2892: [2892, 2799, 2595],\n  2483: [2483, 1848, 1741, 1051, 952],\n  746: [746],\n  650: [650, 556, 470],\n  369: [369],\n  99: [99],\n  9: [9]},\n 171: {9999: [],\n  4738: [4738],\n  4141: [4141],\n  3859: [3859],\n  3769: [3769],\n  3471: [3471],\n  3005: [3005, 1662],\n  1358: [1358, 837, 658, 563, 377],\n  288: [288, 18]},\n 173: {9999: [],\n  4737: [4737],\n  4545: [4545, 4355, 4245, 4139, 3767],\n  3285: [3285, 3096],\n  2604: [2604],\n  2433: [2433, 2227],\n  2130: [2130, 2023],\n  1863: [1863],\n  1656: [1656],\n  1356: [1356],\n  1254: [1254],\n  1148: [1148],\n  562: [562, 90]},\n 179: {9999: [4736],\n  4645: [4645],\n  4542: [4542],\n  4450: [4450, 4148, 4048],\n  3670: [3670, 3477],\n  3281: [3281, 3086, 2489, 2119],\n  2021: [2021, 843],\n  570: [570],\n  385: [385]},\n 186: {9999: [4734],\n  4541: [4541],\n  4352: [4352, 4240],\n  4127: [4127, 3960],\n  3764: [3764, 3571],\n  3473: [3473, 3205, 3089, 2804],\n  2309: [2309],\n  1142: [1142, 933, 285]},\n 193: {9999: [],\n  4732: [4732, 4653, 4443],\n  3668: [3668, 3578],\n  3461: [3461, 3382],\n  3277: [3277],\n  3203: [3203],\n  3092: [3092, 2599, 2484],\n  2224: [2224, 2122, 2022, 1244, 838],\n  652: [652, 11]},\n 99: {9999: [4729],\n  4339: [4339],\n  4224: [4224, 3750],\n  3551: [3551, 3375, 3077, 2780],\n  2687: [2687],\n  2577: [2577, 1225, 630],\n  459: [459]},\n 94: {9999: [],\n  4727: [4727, 4623, 4435],\n  3943: [3943],\n  3746: [3746, 3648],\n  3377: [3377],\n  3183: [3183, 2476],\n  2383: [2383, 1840, 1130],\n  636: [636],\n  546: [546]},\n 106: {9999: [],\n  4722: [4722, 4629, 4517],\n  4227: [4227],\n  4026: [4026, 3835, 3554],\n  3451: [3451, 2886],\n  2585: [2585],\n  2473: [2473, 2289, 1843, 1528, 1435, 1223],\n  1020: [1020],\n  729: [729, 542],\n  86: [86]},\n 103: {9999: [4721, 4627, 3941],\n  3557: [3557],\n  3076: [3076, 2576],\n  2100: [2100],\n  2003: [2003, 1437],\n  1022: [1022],\n  923: [923],\n  450: [450]},\n 109: {9999: [],\n  4719: [4719],\n  4115: [4115, 4028],\n  3950: [3950],\n  3644: [3644],\n  3547: [3547],\n  3449: [3449, 3367, 3176],\n  2884: [2884, 2472],\n  2096: [2096],\n  1930: [1930, 1734],\n  625: [625, 539]},\n 111: {9999: [4718],\n  4620: [4620, 4436],\n  4113: [4113, 4024, 3937],\n  3834: [3834, 3257],\n  3075: [3075, 2693, 2377, 2198, 1636],\n  1525: [1525],\n  1433: [1433],\n  1125: [1125],\n  926: [926, 820, 728]},\n 113: {9999: [],\n  4717: [4717, 4327, 4217, 3995, 3936, 3741, 3548, 3452, 2991],\n  2777: [2777],\n  2684: [2684],\n  2291: [2291],\n  2197: [2197],\n  1836: [1836, 1731, 1339],\n  819: [819]},\n 116: {9999: [],\n  4716: [4716],\n  4429: [4429],\n  4112: [4112, 4022, 3934],\n  3544: [3544],\n  3365: [3365, 3256, 2680, 2571],\n  2380: [2380, 2285, 1932, 447],\n  356: [356],\n  81: [81]},\n 123: {9999: [],\n  4714: [4714],\n  4427: [4427],\n  4109: [4109],\n  3737: [3737, 3640, 3444],\n  3361: [3361, 3172, 3072, 2981, 2470],\n  1630: [1630],\n  1531: [1531, 1219],\n  351: [351, 239]},\n 76: {9999: [],\n  4709: [4709, 4525, 4034],\n  3947: [3947],\n  3533: [3533],\n  3351: [3351, 3193],\n  2852: [2852],\n  2557: [2557],\n  2386: [2386],\n  1233: [1233, 452]},\n 77: {9999: [4708],\n  4418: [4418],\n  4032: [4032, 3808, 3731, 3542],\n  3443: [3443],\n  2788: [2788],\n  2558: [2558, 2384],\n  2104: [2104],\n  1995: [1995, 1541, 698],\n  528: [528],\n  361: [361]},\n 5: {9999: [4701],\n  4411: [4411, 4100, 4013, 3729, 3530, 3438, 3249, 3163, 3058, 2664, 2275],\n  2182: [2182, 2079, 1794, 1007],\n  256: [256]},\n 19: {9999: [],\n  4699: [4699, 4594, 4493],\n  4407: [4407, 4303, 4095, 3912],\n  3051: [3051, 2755],\n  1987: [1987],\n  1812: [1812, 1615, 608],\n  154: [154]},\n 46: {9999: [],\n  4690: [4690],\n  4486: [4486, 4001, 3809, 3611],\n  3425: [3425],\n  3336: [3336],\n  3235: [3235],\n  2166: [2166],\n  2088: [2088, 1499, 1399],\n  1094: [1094, 990, 329],\n  143: [143],\n  54: [54]},\n 57: {9999: [4686, 4180],\n  4084: [4084],\n  3901: [3901],\n  3710: [3710],\n  3333: [3333, 2866],\n  2348: [2348],\n  2262: [2262, 2185],\n  1898: [1898, 1801, 1395],\n  1294: [1294, 985, 783, 511],\n  415: [415, 188]},\n 63: {9999: [],\n  4685: [4685],\n  4503: [4503, 4393],\n  4313: [4313, 3899],\n  3709: [3709, 3514, 3423],\n  3331: [3331],\n  3254: [3254, 2848, 2267],\n  1979: [1979],\n  1896: [1896],\n  1602: [1602, 1520],\n  1393: [1393],\n  1186: [1186],\n  597: [597],\n  345: [345],\n  186: [186]},\n 64: {9999: [],\n  4684: [4684, 4414, 4314, 3330, 3142],\n  3066: [3066, 2536, 2437, 2278],\n  1185: [1185, 1013],\n  605: [605, 277]},\n 150: {9999: [],\n  4680: [4680, 4608, 4392, 3039, 2870],\n  2741: [2741],\n  2032: [2032],\n  1923: [1923],\n  1753: [1753],\n  1288: [1288],\n  1211: [1211, 946],\n  718: [718, 568],\n  403: [403],\n  296: [296]},\n 235: {9999: [],\n  4678: [4678, 4477, 4386, 4077],\n  3701: [3701, 3507, 2427],\n  1969: [1969, 1569],\n  873: [873],\n  136: [136],\n  1: [1]},\n 239: {9999: [4676],\n  4574: [4574],\n  4384: [4384],\n  4169: [4169],\n  4075: [4075],\n  3892: [3892, 3794, 3598, 3211, 3134],\n  2255: [2255],\n  1686: [1686],\n  1039: [1039],\n  870: [870],\n  592: [592, 500],\n  134: [134]},\n 240: {9999: [4675, 4573],\n  4383: [4383],\n  4279: [4279, 4168, 3698],\n  3597: [3597, 3485],\n  3414: [3414, 3317, 3231],\n  2634: [2634],\n  2235: [2235],\n  1283: [1283, 1177],\n  767: [767],\n  661: [661, 591, 387]},\n 244: {9999: [],\n  4672: [4672],\n  3890: [3890, 3792, 3596, 3413],\n  2525: [2525, 2423],\n  2047: [2047, 1789],\n  1591: [1591, 1281, 1060],\n  757: [757],\n  663: [663]},\n 257: {9999: [],\n  4669: [4669, 4568],\n  3885: [3885, 3788, 3691],\n  3589: [3589],\n  3500: [3500],\n  3412: [3412, 3030, 1961],\n  1886: [1886, 1173, 1079],\n  965: [965, 311, 42]},\n 264: {9999: [],\n  4666: [4666, 4565],\n  4271: [4271],\n  3894: [3894],\n  3688: [3688, 3587],\n  3411: [3411, 3128, 3028, 2929, 2638],\n  2518: [2518, 2333],\n  1883: [1883],\n  1583: [1583],\n  1168: [1168],\n  773: [773, 586]},\n 277: {9999: [],\n  4664: [4664, 4562],\n  4269: [4269, 3306, 3220, 2926],\n  2824: [2824, 2330, 2141, 1676],\n  1578: [1578, 1285],\n  1164: [1164, 756, 219]},\n 280: {9999: [4662, 4560],\n  4467: [4467],\n  4267: [4267],\n  4065: [4065, 3491, 3404, 2622],\n  1070: [1070],\n  31: [31]},\n 281: {9999: [],\n  4661: [4661, 3982, 3785, 3305],\n  3219: [3219, 3122],\n  2822: [2822],\n  2242: [2242],\n  1867: [1867, 1577, 1473, 1373],\n  1271: [1271],\n  580: [580],\n  218: [218],\n  122: [122, 30]},\n 295: {9999: [4658],\n  4556: [4556, 4154],\n  3977: [3977, 3583],\n  3301: [3301],\n  3020: [3020, 2817, 2326, 1872, 1770, 1674, 1368],\n  1264: [1264],\n  1159: [1159],\n  666: [666, 389],\n  118: [118]},\n 256: {9999: [4655, 4273, 3886, 3131, 2833],\n  2147: [2147],\n  1887: [1887],\n  1587: [1587, 1381],\n  1080: [1080],\n  775: [775, 680],\n  23: [23]},\n 160: {9999: [],\n  4649: [4649, 4553],\n  4454: [4454],\n  4360: [4360, 4251, 3604],\n  3290: [3290, 3101],\n  2498: [2498, 2029, 1946, 1891, 1761],\n  953: [953],\n  293: [293],\n  65: [65]},\n 162: {9999: [4648, 4250],\n  4053: [4053, 3289],\n  3011: [3011],\n  2912: [2912, 2609, 2497, 2028, 1666],\n  714: [714],\n  381: [381],\n  301: [301, 97]},\n 181: {9999: [4644],\n  4449: [4449],\n  4241: [4241],\n  4136: [4136, 3963, 3766, 3475],\n  2706: [2706, 2601],\n  2403: [2403, 2225],\n  1860: [1860, 1354],\n  1154: [1154],\n  1058: [1058, 476, 412]},\n 190: {9999: [],\n  4643: [4643, 4539],\n  4238: [4238, 4056],\n  3568: [3568, 3467],\n  3384: [3384, 3282, 2899],\n  2400: [2400],\n  2301: [2301, 1858, 1765, 1257, 839],\n  748: [748, 469]},\n 201: {9999: [],\n  4638: [4638],\n  3959: [3959],\n  3655: [3655, 3394],\n  3297: [3297],\n  3002: [3002, 2586, 1543, 8]},\n 218: {9999: [],\n  4637: [4637, 4254],\n  4151: [4151, 4055],\n  3968: [3968],\n  3465: [3465],\n  2998: [2998, 2714, 2592],\n  2391: [2391],\n  2055: [2055, 1748],\n  1665: [1665, 1550],\n  1046: [1046],\n  979: [979, 739],\n  473: [473],\n  304: [304]},\n 207: {9999: [4634],\n  4440: [4440, 4130],\n  3657: [3657, 3418, 2913, 2792],\n  2110: [2110, 1744, 1546],\n  1342: [1342, 1138],\n  735: [735, 639]},\n 210: {9999: [4633],\n  4527: [4527, 4230, 4133],\n  3659: [3659, 3561, 3299, 3200, 2700, 2396],\n  2111: [2111, 2035, 1652],\n  1345: [1345, 1236, 1059, 956, 646],\n  569: [569],\n  464: [464],\n  374: [374, 96]},\n 98: {9999: [],\n  4630: [4630],\n  3837: [3837],\n  3749: [3749, 3647, 3453, 2781],\n  2006: [2006],\n  1839: [1839, 1739],\n  922: [922, 730],\n  637: [637],\n  458: [458],\n  88: [88]},\n 104: {9999: [4628],\n  3940: [3940, 3744, 3646],\n  3553: [3553, 3376],\n  3177: [3177, 2887],\n  2694: [2694],\n  2575: [2575, 2378],\n  2299: [2299, 1841],\n  1736: [1736],\n  1529: [1529],\n  1330: [1330, 627]},\n 120: {9999: [4616],\n  4430: [4430],\n  3641: [3641],\n  3546: [3546],\n  3446: [3446],\n  2985: [2985],\n  1123: [1123],\n  817: [817, 725],\n  352: [352]},\n 131: {9999: [4614, 4511],\n  3635: [3635],\n  3430: [3430],\n  3359: [3359, 2875, 2563],\n  2466: [2466],\n  2089: [2089],\n  1920: [1920, 1826],\n  1426: [1426, 1320, 1218],\n  816: [816]},\n 135: {9999: [],\n  4613: [4613, 4510, 4422],\n  4320: [4320, 3634],\n  3068: [3068],\n  2879: [2879, 2192],\n  2087: [2087, 1998, 1462, 1318, 1217],\n  908: [908],\n  619: [619, 109]},\n 71: {9999: [],\n  4603: [4603],\n  4336: [4336, 4018],\n  3801: [3801],\n  3706: [3706],\n  3511: [3511],\n  3270: [3270, 3184],\n  2947: [2947],\n  1798: [1798, 1697, 1032, 689],\n  439: [439]},\n 8: {9999: [],\n  4599: [4599],\n  4499: [4499],\n  4315: [4315, 4098],\n  3916: [3916, 3436, 2662],\n  2554: [2554, 2362, 2077],\n  1989: [1989],\n  1511: [1511],\n  1310: [1310],\n  1205: [1205, 432],\n  254: [254],\n  161: [161],\n  64: [64]},\n 10: {9999: [4598],\n  4307: [4307],\n  4198: [4198, 4012],\n  3915: [3915, 3724, 3624],\n  3347: [3347],\n  3160: [3160, 2963, 2273],\n  2181: [2181, 2075],\n  1510: [1510],\n  1308: [1308, 1204, 895],\n  159: [159]},\n 15: {9999: [4596, 4494, 4305, 4195, 4010],\n  3924: [3924],\n  3527: [3527],\n  3157: [3157],\n  3052: [3052, 2757, 2660],\n  2447: [2447],\n  2360: [2360],\n  2271: [2271, 2073],\n  1621: [1621, 1203],\n  1003: [1003, 707, 610],\n  428: [428],\n  250: [250]},\n 44: {9999: [4587],\n  4487: [4487, 4186],\n  4088: [4088],\n  3713: [3713],\n  2746: [2746],\n  2084: [2084],\n  1899: [1899, 1619, 1297],\n  1194: [1194, 992, 887],\n  787: [787, 600, 330, 145]},\n 56: {9999: [],\n  4584: [4584],\n  4181: [4181],\n  4085: [4085],\n  3805: [3805, 3517],\n  3062: [3062],\n  2539: [2539, 2349, 1994],\n  1604: [1604],\n  1494: [1494, 1295, 986],\n  884: [884, 694],\n  512: [512],\n  262: [262]},\n 67: {9999: [],\n  4583: [4583, 4507, 4317],\n  4207: [4207, 4016],\n  3803: [3803],\n  3629: [3629, 3329],\n  3272: [3272, 3152, 2845, 2646],\n  2282: [2282],\n  1977: [1977],\n  1895: [1895],\n  1717: [1717],\n  1600: [1600, 1290, 1208],\n  185: [185]},\n 68: {9999: [4582, 4316],\n  4103: [4103],\n  4020: [4020],\n  3802: [3802],\n  3708: [3708, 3632, 3512, 3439],\n  3328: [3328, 3166],\n  2844: [2844],\n  2535: [2535],\n  2436: [2436, 2366, 2204],\n  1976: [1976, 1392, 1089, 1028],\n  691: [691],\n  509: [509],\n  184: [184]},\n 260: {9999: [],\n  4567: [4567, 4070],\n  3883: [3883, 3689],\n  3588: [3588],\n  2733: [2733],\n  2519: [2519],\n  1669: [1669, 1171, 774, 678]},\n 233: {9999: [],\n  4552: [4552],\n  4078: [4078],\n  3992: [3992],\n  3135: [3135],\n  2738: [2738],\n  2613: [2613, 2526, 2428, 2323],\n  2158: [2158],\n  1970: [1970, 1363],\n  1272: [1272, 973, 874, 753],\n  641: [641, 316, 2]},\n 290: {9999: [],\n  4551: [4551, 4370],\n  4261: [4261, 4156],\n  4061: [4061],\n  3782: [3782, 3682],\n  3216: [3216],\n  2921: [2921, 2724, 2618, 1875],\n  1767: [1767],\n  1470: [1470, 1156, 1067],\n  955: [955, 764],\n  391: [391],\n  29: [29]},\n 194: {9999: [4549, 4236],\n  3667: [3667],\n  3566: [3566, 3381],\n  2811: [2811],\n  2610: [2610],\n  2485: [2485, 2408],\n  2232: [2232],\n  1648: [1648],\n  1351: [1351, 1133, 930]},\n 163: {9999: [],\n  4544: [4544],\n  4249: [4249],\n  3863: [3863, 3386],\n  2496: [2496, 2432, 1945, 1760],\n  1664: [1664],\n  1454: [1454, 1390],\n  1245: [1245],\n  1151: [1151, 1114, 929],\n  565: [565]},\n 188: {9999: [4540, 4445, 4239],\n  3773: [3773, 3570, 3482],\n  2802: [2802],\n  2707: [2707, 2307, 1441, 1247, 1140, 1054, 932],\n  372: [372]},\n 222: {9999: [],\n  4533: [4533],\n  4057: [4057, 3417],\n  2729: [2729],\n  2407: [2407, 2115],\n  2054: [2054, 1670],\n  1234: [1234, 1044, 978],\n  849: [849, 740, 645],\n  410: [410],\n  126: [126]},\n 213: {9999: [4529],\n  4346: [4346, 4043],\n  3756: [3756],\n  3469: [3469],\n  3322: [3322, 2699],\n  2037: [2037, 1649],\n  1136: [1136, 832, 737]},\n 211: {9999: [4528, 4232, 2395, 2220],\n  1854: [1854],\n  1651: [1651, 1553],\n  1346: [1346, 1237],\n  1041: [1041],\n  980: [980, 571],\n  383: [383],\n  198: [198]},\n 87: {9999: [4521],\n  4433: [4433, 3946, 3748, 3373, 3265, 2685],\n  2581: [2581],\n  1822: [1822, 1417, 1108],\n  824: [824]},\n 96: {9999: [],\n  4520: [4520],\n  4338: [4338, 4029, 3942, 3838],\n  3753: [3753, 3550, 3420, 3180, 2686, 2578, 2379, 2296],\n  1929: [1929],\n  1642: [1642],\n  1533: [1533, 1129],\n  920: [920],\n  545: [545, 456, 173],\n  89: [89]},\n 114: {9999: [4515, 4437],\n  4326: [4326],\n  4023: [4023, 3740, 3447],\n  3368: [3368, 3174],\n  2881: [2881],\n  2776: [2776, 2681],\n  2287: [2287, 2094],\n  1729: [1729],\n  1524: [1524],\n  1432: [1432, 1326],\n  1231: [1231, 1017],\n  927: [927, 727, 353],\n  141: [141]},\n 124: {9999: [4513, 4323, 3932],\n  3071: [3071, 2774],\n  2566: [2566],\n  2469: [2469],\n  2257: [2257],\n  1925: [1925, 1726, 1427],\n  912: [912, 94, 77]},\n 74: {9999: [4506, 4332, 4124, 3652],\n  3440: [3440, 3350, 3269, 3188],\n  3083: [3083],\n  2968: [2968],\n  2105: [2105, 1996],\n  1695: [1695, 1607],\n  1313: [1313],\n  1030: [1030],\n  805: [805, 618],\n  527: [527],\n  360: [360]},\n 9: {9999: [4498, 4416, 4308],\n  3625: [3625, 3529, 3348, 3246, 3161],\n  2970: [2970],\n  2553: [2553, 2076],\n  1912: [1912],\n  1309: [1309, 896, 340],\n  160: [160, 63]},\n 21: {9999: [4492],\n  4192: [4192, 3814, 3619],\n  3346: [3346],\n  3155: [3155, 2656, 2551],\n  2061: [2061],\n  1986: [1986, 1906],\n  1708: [1708],\n  1407: [1407],\n  1305: [1305],\n  1200: [1200, 1100, 338],\n  248: [248]},\n 270: {9999: [4480, 4374],\n  4270: [4270, 4163],\n  4067: [4067],\n  3775: [3775],\n  3686: [3686, 3310, 3223, 2332, 2234, 1388, 1167, 673]},\n 226: {9999: [],\n  4479: [4479, 3973],\n  3851: [3851],\n  3762: [3762],\n  3581: [3581],\n  2940: [2940, 2409],\n  1488: [1488, 1256],\n  1181: [1181, 975, 483, 409],\n  319: [319]},\n 271: {9999: [],\n  4471: [4471, 4162, 3880],\n  3497: [3497],\n  3025: [3025],\n  2828: [2828, 2514],\n  1959: [1959, 1779, 1678],\n  1581: [1581],\n  770: [770],\n  138: [138, 36]},\n 279: {9999: [],\n  4468: [4468, 4158],\n  3877: [3877],\n  3684: [3684],\n  3405: [3405, 3298, 2140, 1776],\n  1374: [1374],\n  1273: [1273]},\n 287: {9999: [],\n  4465: [4465],\n  3874: [3874],\n  3683: [3683],\n  3304: [3304, 3217, 3118],\n  3021: [3021],\n  2922: [2922],\n  2819: [2819, 2727, 2139],\n  2040: [2040],\n  1957: [1957],\n  1772: [1772, 1675],\n  1574: [1574],\n  1371: [1371, 1267, 857, 490]},\n 294: {9999: [],\n  4463: [4463],\n  4369: [4369, 3779],\n  3117: [3117],\n  1956: [1956, 1873, 1769, 1572],\n  1468: [1468],\n  850: [850, 662, 486, 114],\n  25: [25]},\n 209: {9999: [4459, 4347, 4044, 3852, 3757],\n  3663: [3663, 2999, 2941],\n  2701: [2701, 2588, 1447],\n  1344: [1344, 835],\n  465: [465, 197],\n  6: [6]},\n 198: {9999: [],\n  4442: [4442],\n  4045: [4045],\n  3953: [3953],\n  3844: [3844, 3664, 3565, 3462],\n  3380: [3380],\n  2893: [2893],\n  2797: [2797, 2486],\n  2131: [2131, 2018, 1742],\n  1443: [1443, 1362],\n  1134: [1134],\n  1050: [1050, 834],\n  557: [557],\n  480: [480]},\n 184: {9999: [],\n  4441: [4441],\n  4134: [4134, 3970],\n  3866: [3866],\n  3572: [3572],\n  3474: [3474],\n  2914: [2914],\n  2806: [2806],\n  2481: [2481],\n  2126: [2126],\n  2016: [2016],\n  934: [934, 841],\n  751: [751, 93, 12]},\n 90: {9999: [4439],\n  4035: [4035],\n  3839: [3839, 3650],\n  3263: [3263, 2783, 2298, 2009],\n  1914: [1914],\n  1718: [1718, 1640, 1431, 1333, 1110],\n  1026: [1026],\n  634: [634],\n  548: [548],\n  270: [270],\n  66: [66]},\n 142: {9999: [],\n  4428: [4428, 4329, 4208],\n  4082: [4082],\n  3975: [3975, 3536],\n  3354: [3354],\n  2467: [2467],\n  2258: [2258],\n  1627: [1627, 1422, 1116, 809, 71]},\n 18: {9999: [4408, 4193],\n  4007: [4007, 3913],\n  3721: [3721],\n  3621: [3621],\n  2658: [2658, 2358],\n  2178: [2178, 1813],\n  1616: [1616, 1201, 1101],\n  609: [609]},\n 26: {9999: [],\n  4406: [4406, 4299, 3922],\n  3433: [3433],\n  3343: [3343],\n  2655: [2655],\n  1904: [1904, 1613, 794, 704],\n  520: [520],\n  425: [425, 337],\n  246: [246]},\n 29: {9999: [4404, 3617],\n  3523: [3523],\n  3341: [3341, 3241, 3049, 2751, 2443],\n  2354: [2354, 1611, 1198],\n  1098: [1098],\n  890: [890, 802, 617, 424],\n  344: [344, 151]},\n 228: {9999: [4389, 4283, 3774, 3468],\n  2795: [2795],\n  2594: [2594, 2527],\n  2431: [2431, 2233],\n  2129: [2129],\n  2052: [2052, 1971],\n  1792: [1792],\n  1567: [1567],\n  1487: [1487, 974],\n  738: [738]},\n 232: {9999: [4387, 4059, 3796, 3678],\n  3600: [3600],\n  3483: [3483, 3415, 3195],\n  3136: [3136],\n  3016: [3016, 2810],\n  2739: [2739, 2625, 2343],\n  2132: [2132, 2051],\n  1849: [1849],\n  1687: [1687, 1040, 851],\n  317: [317],\n  232: [232]},\n 268: {9999: [4375],\n  4164: [4164],\n  3882: [3882],\n  3499: [3499],\n  2928: [2928],\n  2731: [2731],\n  2417: [2417, 2246, 1781, 1474],\n  1083: [1083, 771],\n  674: [674, 584],\n  504: [504]},\n 282: {9999: [4372, 4266, 4064, 3981],\n  3023: [3023, 2925, 2328],\n  2241: [2241, 1877, 1775, 1576],\n  1472: [1472, 1270],\n  768: [768, 121]},\n 216: {9999: [],\n  4363: [4363],\n  4040: [4040],\n  3661: [3661],\n  3199: [3199],\n  3108: [3108],\n  2697: [2697],\n  2306: [2306],\n  2219: [2219, 2114, 1934, 1751, 1647, 1549, 1463, 461],\n  212: [212, 98]},\n 161: {9999: [],\n  4359: [4359],\n  4144: [4144],\n  4054: [4054, 3680],\n  3582: [3582],\n  3484: [3484],\n  3100: [3100, 2839, 2614],\n  2490: [2490],\n  2453: [2453, 2229],\n  1418: [1418],\n  1255: [1255, 1158],\n  940: [940, 758],\n  382: [382, 207]},\n 192: {9999: [],\n  4350: [4350, 4237],\n  3952: [3952],\n  3383: [3383],\n  3279: [3279],\n  3091: [3091, 2997],\n  2801: [2801],\n  2303: [2303],\n  2123: [2123, 1939],\n  1752: [1752, 1442],\n  1132: [1132],\n  1049: [1049],\n  931: [931, 555]},\n 126: {9999: [],\n  4322: [4322],\n  3638: [3638],\n  3070: [3070],\n  2980: [2980],\n  2778: [2778, 2678, 2565],\n  2194: [2194],\n  2000: [2000],\n  1829: [1829, 1493],\n  1324: [1324],\n  1131: [1131, 1014],\n  533: [533],\n  76: [76]},\n 225: {9999: [4284, 3603, 3124],\n  2719: [2719, 2230, 2053, 1951],\n  1766: [1766, 1347, 1043, 976, 642, 234, 115]},\n 236: {9999: [],\n  4281: [4281, 4170],\n  4076: [4076, 3991, 3881, 3776],\n  3700: [3700, 3018],\n  2812: [2812, 2737],\n  2636: [2636],\n  2426: [2426],\n  2157: [2157],\n  1890: [1890, 1768, 1486],\n  1180: [1180],\n  659: [659, 573]},\n 227: {9999: [4258],\n  4173: [4173, 3865, 3772, 3702],\n  2939: [2939, 2593, 2321],\n  1689: [1689, 1258],\n  408: [408, 137]},\n 296: {9999: [],\n  4257: [4257, 3976, 3872],\n  3605: [3605, 3019],\n  2916: [2916, 2816],\n  1871: [1871, 1571],\n  1263: [1263, 941]},\n 132: {9999: [],\n  4211: [4211],\n  4108: [4108, 4019],\n  3929: [3929],\n  3831: [3831, 3074],\n  2978: [2978],\n  2773: [2773],\n  2675: [2675, 2370],\n  2201: [2201],\n  1825: [1825],\n  1724: [1724],\n  1625: [1625],\n  1452: [1452],\n  1118: [1118, 622],\n  101: [101, 75]},\n 1: {9999: [4200],\n  3920: [3920, 3531],\n  2967: [2967],\n  2862: [2862, 2665],\n  2556: [2556],\n  2452: [2452],\n  2081: [2081, 1713],\n  1618: [1618],\n  1492: [1492],\n  800: [800],\n  708: [708, 613, 529, 437, 163]},\n 272: {9999: [],\n  4161: [4161],\n  4066: [4066, 3586, 3496],\n  3409: [3409, 2624, 2416, 2042],\n  1880: [1880],\n  1778: [1778],\n  1377: [1377, 494, 396],\n  127: [127, 35]},\n 155: {9999: [4146],\n  3705: [3705, 3391, 3291],\n  3013: [3013, 2841, 2715, 2506, 1692],\n  716: [716],\n  526: [526, 449],\n  209: [209],\n  102: [102]},\n 108: {9999: [],\n  4025: [4025, 3645],\n  3556: [3556],\n  2994: [2994, 2885, 2692],\n  2572: [2572, 2199],\n  2097: [2097],\n  1844: [1844, 1328],\n  626: [626],\n  540: [540, 266]},\n 276: {9999: [],\n  3972: [3972],\n  3878: [3878, 3786, 3685, 3492, 3407],\n  3307: [3307, 3212, 3123, 2927, 2825],\n  2243: [2243],\n  1878: [1878, 1165],\n  1071: [1071],\n  582: [582],\n  309: [309],\n  220: [220],\n  123: [123],\n  32: [32]},\n 178: {9999: [],\n  3857: [3857, 3094, 2906, 2807, 2312],\n  2226: [2226, 2128, 1942],\n  1861: [1861, 1659, 1558, 1251, 1144],\n  376: [376, 211, 15]},\n 183: {9999: [],\n  3855: [3855, 2903, 2480],\n  2402: [2402],\n  2015: [2015],\n  1950: [1950],\n  1754: [1754],\n  1556: [1556, 654, 559],\n  474: [474, 192, 13]},\n 13: {9999: [],\n  3815: [3815],\n  3723: [3723],\n  3622: [3622],\n  3245: [3245],\n  3167: [3167, 3054],\n  2962: [2962, 2758],\n  2361: [2361, 2083],\n  1509: [1509],\n  1409: [1409],\n  892: [892],\n  611: [611],\n  251: [251]},\n 134: {9999: [],\n  3735: [3735, 3069],\n  1999: [1999],\n  1824: [1824],\n  1723: [1723, 1624, 1319, 621, 532, 325]},\n 212: {9999: [3660, 3560],\n  2794: [2794],\n  2112: [2112, 2059, 1936],\n  1650: [1650],\n  1238: [1238, 831, 593],\n  463: [463],\n  208: [208]},\n 206: {9999: [],\n  3656: [3656],\n  3562: [3562],\n  3464: [3464, 3210],\n  2895: [2895, 2305, 2222],\n  2109: [2109, 2033, 1545],\n  1341: [1341, 829, 7]},\n 189: {9999: [3569],\n  3470: [3470, 3379],\n  2901: [2901],\n  1859: [1859, 1667, 1352, 1246, 1053, 749],\n  558: [558, 371, 194],\n  140: [140]},\n 263: {9999: [3225],\n  3129: [3129, 3017, 2732, 2145],\n  1884: [1884, 1784],\n  1681: [1681, 1379, 1169, 962, 863, 223]},\n 112: {9999: [],\n  2882: [2882],\n  2787: [2787, 2683, 2095, 1931, 1732, 629],\n  448: [448, 354, 238],\n  83: [83]}}"
     },
     "execution_count": 445,
     "metadata": {},
     "output_type": "execute_result"
    }
   ],
   "source": [
    " # user:{}\n",
    "current_index = {} # user_id:curent_index\n",
    "current_user = df.iloc[-1].iloc[1]\n",
    "indexes = {}\n",
    "for index, row in reversed(list(df.iterrows())):\n",
    "    if row.iloc[1] not in current_index.keys():\n",
    "        current_index[row.iloc[1]] = 9999\n",
    "        indexes[row.iloc[1]] = {9999:[]}\n",
    "    if row.iloc[3] == 1:\n",
    "        current_index[row.iloc[1]] = index\n",
    "        indexes[row.iloc[1]][current_index[row.iloc[1]]] = [index]\n",
    "    else:\n",
    "        indexes[row.iloc[1]][current_index[row.iloc[1]]].append(index)\n",
    "\n",
    "indexes"
   ],
   "metadata": {
    "collapsed": false,
    "pycharm": {
     "name": "#%%\n"
    }
   }
  },
  {
   "cell_type": "code",
   "execution_count": 441,
   "outputs": [
    {
     "data": {
      "text/plain": "{9999: [2833, 2823, 2730, 2414, 2395, 2220],\n 4985: [4985, 4462],\n 4984: [4984, 4731],\n 4983: [4983],\n 4982: [4982, 4806],\n 4980: [4980],\n 4978: [4978],\n 4975: [4975],\n 4973: [4973, 4888, 4617, 4324, 4215],\n 4971: [4971],\n 4970: [4970, 4612],\n 4969: [4969, 4611, 4509],\n 4967: [4967],\n 4962: [4962, 4591],\n 4961: [4961],\n 4957: [4957, 4600, 4500],\n 4955: [4955, 4578, 4189],\n 4951: [4951, 4402],\n 4949: [4949],\n 4948: [4948, 4588, 4090],\n 4947: [4947, 4863],\n 4945: [4945, 4689],\n 4942: [4942, 4807, 3925, 3187, 2642, 2382],\n 4940: [4940, 4576],\n 4939: [4939, 4575, 4280],\n 4937: [4937],\n 4935: [4935, 4851, 4765],\n 4934: [4934],\n 4933: [4933],\n 4932: [4932],\n 4929: [4929, 4564],\n 4928: [4928, 4376, 3787, 3687, 3410],\n 4925: [4925, 4840],\n 4924: [4924, 4262],\n 4922: [4922],\n 4921: [4921, 4829, 4650, 4577, 4145, 4047],\n 4919: [4919, 3403, 2725, 2504, 2239, 2138],\n 4917: [4917, 4824],\n 4916: [4916],\n 4915: [4915],\n 4914: [4914],\n 4912: [4912],\n 4910: [4910, 4451, 4364],\n 4909: [4909],\n 4908: [4908],\n 4906: [4906],\n 4903: [4903],\n 4900: [4900],\n 4898: [4898, 4328],\n 4897: [4897, 4803],\n 4896: [4896, 4518, 4331, 3743],\n 4894: [4894],\n 4893: [4893, 4341, 4221, 4120, 3649],\n 4892: [4892],\n 4890: [4890, 4438],\n 4885: [4885],\n 4881: [4881, 4287],\n 4880: [4880],\n 4875: [4875, 4788, 4702, 4602],\n 4869: [4869, 4781, 4698],\n 4867: [4867],\n 4864: [4864, 4481, 3732],\n 4859: [4859, 4290, 3352],\n 4857: [4857],\n 4852: [4852],\n 4850: [4850, 4571, 4475],\n 4848: [4848, 4473, 4274],\n 4847: [4847],\n 4845: [4845],\n 4844: [4844, 4679, 3985, 3690],\n 4839: [4839],\n 4838: [4838],\n 4835: [4835],\n 4833: [4833],\n 4825: [4825],\n 4822: [4822, 3843],\n 4821: [4821, 4452],\n 4820: [4820, 4750, 4636, 4447, 4135, 3001, 2896, 2501, 2398, 2308, 1938],\n 4819: [4819, 4631],\n 4818: [4818, 4770, 4635],\n 4814: [4814, 4769],\n 4813: [4813],\n 4812: [4812],\n 4810: [4810, 4581],\n 4809: [4809],\n 4805: [4805, 4724, 4434, 4037],\n 4804: [4804],\n 4802: [4802],\n 4800: [4800],\n 4798: [4798],\n 4797: [4797],\n 4794: [4794],\n 4792: [4792],\n 4790: [4790],\n 4787: [4787, 4497, 3816],\n 4786: [4786],\n 4783: [4783],\n 4782: [4782, 4405],\n 4780: [4780],\n 4779: [4779, 4694, 4295, 4003],\n 4777: [4777, 4691],\n 4776: [4776],\n 4772: [4772],\n 4771: [4771, 4516, 4423, 3827, 3636, 2876, 2676],\n 4766: [4766, 4278, 4074],\n 4764: [4764, 4671, 4380],\n 4763: [4763],\n 4761: [4761, 4670, 4366, 4071, 3591, 3031, 2931, 2835, 2734],\n 4760: [4760, 4469, 3309, 3222, 2827, 2623],\n 4759: [4759, 4159],\n 4757: [4757],\n 4756: [4756, 4558, 4157, 3868, 3218],\n 4754: [4754, 4555, 4368, 4260],\n 4753: [4753, 4720],\n 4752: [4752, 4534],\n 4751: [4751],\n 4749: [4749, 4646],\n 4748: [4748],\n 4746: [4746],\n 4743: [4743, 4361, 4252, 4177, 3864, 3206, 2919],\n 4742: [4742],\n 4740: [4740, 4704],\n 4738: [4738],\n 4737: [4737],\n 4735: [4735, 4458, 4231],\n 4733: [4733],\n 4732: [4732, 4653, 4443],\n 4730: [4730],\n 4728: [4728, 4624, 4223, 4031],\n 4727: [4727, 4623, 4435],\n 4726: [4726, 4606, 4334, 3267],\n 4723: [4723, 4607, 3651],\n 4722: [4722, 4629, 4517],\n 4719: [4719],\n 4717: [4717, 4327, 4217, 3995, 3936, 3741, 3548, 3452, 2991],\n 4716: [4716],\n 4715: [4715, 4021, 3830],\n 4714: [4714],\n 4711: [4711],\n 4709: [4709, 4525, 4034],\n 4707: [4707],\n 4705: [4705, 4187],\n 4703: [4703, 4312, 3919, 3059, 2966, 2861],\n 4699: [4699, 4594, 4493],\n 4697: [4697, 4590, 4490],\n 4693: [4693],\n 4690: [4690],\n 4688: [4688, 4291],\n 4685: [4685],\n 4684: [4684, 4414, 4314, 3330, 3142],\n 4683: [4683, 4102, 3898],\n 4682: [4682, 4259],\n 4681: [4681],\n 4680: [4680, 4608, 4392, 3039, 2870],\n 4678: [4678, 4477, 4386, 4077],\n 4677: [4677],\n 4673: [4673, 3891],\n 4672: [4672],\n 4669: [4669, 4568],\n 4668: [4668, 4566],\n 4666: [4666, 4565],\n 4665: [4665],\n 4664: [4664, 4562],\n 4661: [4661, 3982, 3785, 3305],\n 4660: [4660],\n 4659: [4659],\n 4654: [4654],\n 4652: [4652],\n 4649: [4649, 4553],\n 4647: [4647, 3862],\n 4645: [4645],\n 4643: [4643, 4539],\n 4642: [4642, 4538],\n 4641: [4641],\n 4640: [4640],\n 4638: [4638],\n 4637: [4637, 4254],\n 4632: [4632, 4535, 4343],\n 4630: [4630],\n 4625: [4625, 4337],\n 4622: [4622, 4222, 4119],\n 4621: [4621],\n 4620: [4620, 4436],\n 4619: [4619, 4228, 4117],\n 4615: [4615],\n 4613: [4613, 4510, 4422],\n 4610: [4610],\n 4609: [4609, 4419],\n 4605: [4605, 4311, 3917],\n 4604: [4604],\n 4603: [4603],\n 4599: [4599],\n 4595: [4595],\n 4593: [4593, 4006, 3720, 3525, 3234, 2456, 2356, 2176],\n 4585: [4585],\n 4584: [4584],\n 4583: [4583, 4507, 4317],\n 4580: [4580, 3327, 3186, 2644],\n 4574: [4574],\n 4567: [4567, 4070],\n 4563: [4563, 3498],\n 4559: [4559],\n 4557: [4557, 4150],\n 4556: [4556, 4154],\n 4554: [4554, 4265],\n 4552: [4552],\n 4551: [4551, 4370],\n 4550: [4550, 4367],\n 4547: [4547, 4052],\n 4546: [4546, 4353, 4050],\n 4545: [4545, 4355, 4245, 4139, 3767],\n 4544: [4544],\n 4543: [4543],\n 4542: [4542],\n 4541: [4541],\n 4537: [4537],\n 4533: [4533],\n 4531: [4531],\n 4530: [4530, 3658, 3579, 3198],\n 4527: [4527, 4230, 4133],\n 4524: [4524, 4417],\n 4520: [4520],\n 4519: [4519],\n 4514: [4514, 3364, 3255, 3181, 3082],\n 4508: [4508, 4319],\n 4505: [4505, 4302, 4015, 3620, 2960],\n 4504: [4504, 4005, 3909, 3628, 3064],\n 4503: [4503, 4393],\n 4501: [4501],\n 4499: [4499],\n 4496: [4496, 4286, 4197],\n 4495: [4495, 4410, 4306, 4196],\n 4491: [4491, 3798],\n 4489: [4489],\n 4487: [4487, 4186],\n 4486: [4486, 4001, 3809, 3611],\n 4479: [4479, 3973],\n 4478: [4478, 3208, 3038],\n 4474: [4474, 4379, 3502, 3229],\n 4472: [4472],\n 4471: [4471, 4162, 3880],\n 4470: [4470],\n 4468: [4468, 4158],\n 4467: [4467],\n 4466: [4466],\n 4465: [4465],\n 4464: [4464],\n 4463: [4463],\n 4461: [4461, 4174, 3654],\n 4460: [4460],\n 4457: [4457],\n 4455: [4455],\n 4454: [4454],\n 4453: [4453, 4357, 4143, 3961],\n 4450: [4450, 4148, 4048],\n 4449: [4449],\n 4448: [4448, 4246],\n 4444: [4444, 4351, 3850, 3754, 3278, 3204],\n 4442: [4442],\n 4441: [4441],\n 4440: [4440, 4130],\n 4433: [4433, 3946, 3748, 3373, 3265, 2685],\n 4430: [4430],\n 4429: [4429],\n 4428: [4428, 4329, 4208],\n 4427: [4427],\n 4426: [4426],\n 4424: [4424],\n 4421: [4421],\n 4420: [4420],\n 4418: [4418],\n 4415: [4415],\n 4413: [4413, 4176, 4060],\n 4412: [4412, 4199, 3626],\n 4411: [4411, 4100, 4013, 3729, 3530, 3438, 3249, 3163, 3058, 2664, 2275],\n 4409: [4409, 4194, 4096],\n 4407: [4407, 4303, 4095, 3912],\n 4406: [4406, 4299, 3922],\n 4403: [4403],\n 4401: [4401],\n 4399: [4399, 4002],\n 4398: [4398],\n 4397: [4397],\n 4394: [4394, 4203],\n 4391: [4391, 4137],\n 4390: [4390],\n 4388: [4388, 4171, 3867],\n 4385: [4385],\n 4384: [4384],\n 4383: [4383],\n 4382: [4382],\n 4381: [4381],\n 4378: [4378],\n 4377: [4377],\n 4371: [4371],\n 4369: [4369, 3779],\n 4365: [4365, 3847, 3196, 2917, 2108, 1547],\n 4363: [4363],\n 4362: [4362, 4242, 3967, 3895],\n 4360: [4360, 4251, 3604],\n 4359: [4359],\n 4358: [4358, 4248],\n 4356: [4356, 4247, 3860, 3672],\n 4354: [4354, 3671, 3008],\n 4352: [4352, 4240],\n 4350: [4350, 4237],\n 4349: [4349],\n 4346: [4346, 4043],\n 4345: [4345, 4147],\n 4344: [4344, 4126, 3853],\n 4342: [4342],\n 4339: [4339],\n 4338: [4338, 4029, 3942, 3838],\n 4336: [4336, 4018],\n 4333: [4333],\n 4330: [4330, 4226],\n 4326: [4326],\n 4325: [4325],\n 4322: [4322],\n 4321: [4321, 4218],\n 4320: [4320, 3634],\n 4315: [4315, 4098],\n 4313: [4313, 3899],\n 4310: [4310],\n 4309: [4309, 3344],\n 4307: [4307],\n 4304: [4304],\n 4301: [4301],\n 4300: [4300],\n 4298: [4298, 3813, 3524, 3432],\n 4297: [4297, 4093, 3717, 3441, 3239, 3165, 3048],\n 4296: [4296, 4188, 4017],\n 4294: [4294, 3807],\n 4293: [4293, 3903],\n 4292: [4292],\n 4288: [4288, 3515, 3424, 2769],\n 4281: [4281, 4170],\n 4279: [4279, 4168, 3698],\n 4277: [4277, 3987],\n 4276: [4276, 3888, 3694],\n 4272: [4272],\n 4271: [4271],\n 4270: [4270, 4163],\n 4269: [4269, 3306, 3220, 2926],\n 4267: [4267],\n 4264: [4264, 4063],\n 4263: [4263, 3980, 3490, 3120, 3022],\n 4261: [4261, 4156],\n 4257: [4257, 3976, 3872],\n 4255: [4255],\n 4253: [4253],\n 4249: [4249],\n 4244: [4244],\n 4243: [4243, 3964, 3763, 3387],\n 4241: [4241],\n 4238: [4238, 4056],\n 4235: [4235],\n 4233: [4233, 4132, 3957, 3759],\n 4229: [4229, 4118],\n 4227: [4227],\n 4225: [4225, 4121, 3080],\n 4224: [4224, 3750],\n 4219: [4219],\n 4216: [4216, 4116],\n 4214: [4214],\n 4213: [4213, 3931, 3829, 3639],\n 4212: [4212, 3930],\n 4211: [4211],\n 4210: [4210],\n 4209: [4209],\n 4207: [4207, 4016],\n 4206: [4206],\n 4205: [4205],\n 4204: [4204],\n 4198: [4198, 4012],\n 4192: [4192, 3814, 3619],\n 4191: [4191, 3911, 3434, 2754, 2175, 1985],\n 4190: [4190, 4094],\n 4185: [4185, 3612, 1983, 1807, 1109, 991, 513],\n 4183: [4183, 4000, 3806, 3610, 3520],\n 4181: [4181],\n 4178: [4178, 3897],\n 4175: [4175],\n 4173: [4173, 3865, 3772, 3702],\n 4172: [4172, 4079, 3602, 3481, 3194, 2411, 1953, 1852],\n 4169: [4169],\n 4167: [4167, 3990, 3506],\n 4166: [4166],\n 4165: [4165, 4072, 3314, 2836],\n 4164: [4164],\n 4161: [4161],\n 4155: [4155],\n 4153: [4153],\n 4152: [4152],\n 4151: [4151, 4055],\n 4149: [4149],\n 4144: [4144],\n 4142: [4142, 3287, 2406, 2228],\n 4141: [4141],\n 4140: [4140],\n 4138: [4138, 4049, 3965, 3573],\n 4136: [4136, 3963, 3766, 3475],\n 4134: [4134, 3970],\n 4131: [4131, 3956, 3563, 3463, 3323],\n 4128: [4128],\n 4127: [4127, 3960],\n 4123: [4123, 3951, 3730],\n 4115: [4115, 4028],\n 4114: [4114, 3653, 3448],\n 4113: [4113, 4024, 3937],\n 4112: [4112, 4022, 3934],\n 4111: [4111],\n 4110: [4110],\n 4109: [4109],\n 4108: [4108, 4019],\n 4107: [4107],\n 4106: [4106, 3923],\n 4105: [4105, 3926],\n 4103: [4103],\n 4101: [4101],\n 4099: [4099, 3437],\n 4097: [4097, 4009],\n 4092: [4092, 3153],\n 4091: [4091, 3237],\n 4089: [4089, 3904],\n 4088: [4088],\n 4087: [4087],\n 4085: [4085],\n 4084: [4084],\n 4083: [4083],\n 4082: [4082],\n 4081: [4081],\n 4080: [4080],\n 4078: [4078],\n 4076: [4076, 3991, 3881, 3776],\n 4075: [4075],\n 4073: [4073, 3986, 3790],\n 4069: [4069],\n 4068: [4068, 3896],\n 4067: [4067],\n 4066: [4066, 3586, 3496],\n 4065: [4065, 3491, 3404, 2622],\n 4062: [4062, 3873],\n 4061: [4061],\n 4058: [4058, 3778],\n 4057: [4057, 3417],\n 4054: [4054, 3680],\n 4053: [4053, 3289],\n 4051: [4051],\n 4046: [4046, 3842],\n 4045: [4045],\n 4042: [4042, 3559, 2589, 2058, 1940, 1745],\n 4041: [4041],\n 4040: [4040],\n 4039: [4039, 3958, 3848, 3577, 2696],\n 4038: [4038, 3870],\n 4036: [4036],\n 4035: [4035],\n 4033: [4033, 3552],\n 4032: [4032, 3808, 3731, 3542],\n 4027: [4027],\n 4026: [4026, 3835, 3554],\n 4025: [4025, 3645],\n 4023: [4023, 3740, 3447],\n 4020: [4020],\n 4014: [4014],\n 4011: [4011],\n 4008: [4008, 3251, 3156, 2756],\n 4007: [4007, 3913],\n 4004: [4004, 3326],\n 3998: [3998],\n 3997: [3997, 3260],\n 3994: [3994, 3823, 3537, 3399, 3060, 2768],\n 3992: [3992],\n 3989: [3989],\n 3988: [3988, 3791, 3316],\n 3984: [3984, 3227, 3130, 2530],\n 3983: [3983, 3226],\n 3979: [3979],\n 3978: [3978],\n 3977: [3977, 3583],\n 3975: [3975, 3536],\n 3974: [3974, 3487],\n 3972: [3972],\n 3968: [3968],\n 3966: [3966, 3875, 3703],\n 3962: [3962, 3856],\n 3959: [3959],\n 3955: [3955, 3799, 3510, 3107],\n 3953: [3953],\n 3952: [3952],\n 3950: [3950],\n 3949: [3949, 2786, 2670, 2574],\n 3947: [3947],\n 3945: [3945],\n 3944: [3944],\n 3943: [3943],\n 3940: [3940, 3744, 3646],\n 3939: [3939, 3841],\n 3935: [3935],\n 3933: [3933],\n 3929: [3929],\n 3928: [3928, 3825],\n 3927: [3927],\n 3924: [3924],\n 3920: [3920, 3531],\n 3916: [3916, 3436, 2662],\n 3915: [3915, 3724, 3624],\n 3914: [3914],\n 3910: [3910],\n 3908: [3908, 2749, 2544, 2442],\n 3907: [3907],\n 3906: [3906],\n 3905: [3905, 3820],\n 3901: [3901],\n 3900: [3900],\n 3894: [3894],\n 3893: [3893, 3318],\n 3892: [3892, 3794, 3598, 3211, 3134],\n 3890: [3890, 3792, 3596, 3413],\n 3889: [3889],\n 3885: [3885, 3788, 3691],\n 3884: [3884, 3029, 2832],\n 3883: [3883, 3689],\n 3882: [3882],\n 3879: [3879, 3495, 3408],\n 3878: [3878, 3786, 3685, 3492, 3407],\n 3877: [3877],\n 3876: [3876, 3784],\n 3874: [3874],\n 3871: [3871],\n 3869: [3869],\n 3866: [3866],\n 3863: [3863, 3386],\n 3861: [3861],\n 3859: [3859],\n 3858: [3858, 3768, 3574, 3479, 3389],\n 3857: [3857, 3094, 2906, 2807, 2312],\n 3855: [3855, 2903, 2480],\n 3854: [3854],\n 3851: [3851],\n 3849: [3849],\n 3845: [3845, 3758],\n 3844: [3844, 3664, 3565, 3462],\n 3840: [3840, 3543],\n 3839: [3839, 3650],\n 3837: [3837],\n 3836: [3836],\n 3834: [3834, 3257],\n 3833: [3833, 3545],\n 3832: [3832, 3739],\n 3831: [3831, 3074],\n 3828: [3828],\n 3826: [3826],\n 3824: [3824],\n 3819: [3819, 2561, 2435, 2208, 2013],\n 3818: [3818, 3337, 3236, 3149, 2651, 2063, 1901],\n 3817: [3817],\n 3815: [3815],\n 3812: [3812, 3618],\n 3811: [3811],\n 3805: [3805, 3517],\n 3804: [3804, 3513, 3422],\n 3803: [3803],\n 3802: [3802],\n 3801: [3801],\n 3800: [3800],\n 3795: [3795, 3699],\n 3793: [3793],\n 3789: [3789, 3592],\n 3783: [3783, 3493],\n 3782: [3782, 3682],\n 3781: [3781],\n 3780: [3780],\n 3777: [3777],\n 3775: [3775],\n 3773: [3773, 3570, 3482],\n 3771: [3771, 3674, 3480],\n 3770: [3770],\n 3769: [3769],\n 3765: [3765],\n 3764: [3764, 3571],\n 3762: [3762],\n 3761: [3761],\n 3760: [3760, 3378],\n 3756: [3756],\n 3755: [3755],\n 3753: [3753, 3550, 3420, 3180, 2686, 2578, 2379, 2296],\n 3752: [3752, 3259],\n 3751: [3751],\n 3749: [3749, 3647, 3453, 2781],\n 3747: [3747],\n 3746: [3746, 3648],\n 3745: [3745],\n 3742: [3742],\n 3738: [3738],\n 3737: [3737, 3640, 3444],\n 3736: [3736],\n 3735: [3735, 3069],\n 3734: [3734],\n 3733: [3733],\n 3727: [3727],\n 3725: [3725],\n 3723: [3723],\n 3722: [3722],\n 3721: [3721],\n 3719: [3719],\n 3718: [3718, 3431],\n 3716: [3716],\n 3715: [3715],\n 3714: [3714],\n 3713: [3713],\n 3712: [3712, 3335],\n 3710: [3710],\n 3709: [3709, 3514, 3423],\n 3708: [3708, 3632, 3512, 3439],\n 3707: [3707],\n 3706: [3706],\n 3705: [3705, 3391, 3291],\n 3704: [3704],\n 3701: [3701, 3507, 2427],\n 3700: [3700, 3018],\n 3697: [3697],\n 3696: [3696, 3595],\n 3695: [3695, 3036],\n 3693: [3693, 3580, 3315, 3034],\n 3692: [3692, 3593, 3230],\n 3688: [3688, 3587],\n 3686: [3686, 3310, 3223, 2332, 2234, 1388, 1167, 673],\n 3684: [3684],\n 3683: [3683],\n 3681: [3681],\n 3679: [3679, 2612, 2509],\n 3677: [3677],\n 3676: [3676, 3320, 3197, 3014, 2319],\n 3675: [3675, 3280],\n 3673: [3673],\n 3670: [3670, 3477],\n 3669: [3669],\n 3668: [3668, 3578],\n 3667: [3667],\n 3666: [3666, 2891, 2698, 2597],\n 3665: [3665, 3395, 3276],\n 3663: [3663, 2999, 2941],\n 3662: [3662, 3564, 3295],\n 3661: [3661],\n 3659: [3659, 3561, 3299, 3200, 2700, 2396],\n 3657: [3657, 3418, 2913, 2792],\n 3656: [3656],\n 3655: [3655, 3394],\n 3644: [3644],\n 3643: [3643, 3534],\n 3642: [3642, 3363, 3073, 2775, 2679, 2375],\n 3641: [3641],\n 3638: [3638],\n 3637: [3637],\n 3635: [3635],\n 3633: [3633, 3065],\n 3631: [3631, 3185],\n 3630: [3630],\n 3629: [3629, 3329],\n 3627: [3627, 3102],\n 3625: [3625, 3529, 3348, 3246, 3161],\n 3623: [3623, 3528, 3158],\n 3622: [3622],\n 3621: [3621],\n 3616: [3616, 2545],\n 3615: [3615],\n 3614: [3614],\n 3613: [3613],\n 3609: [3609],\n 3607: [3607, 2648],\n 3605: [3605, 3019],\n 3601: [3601, 3416, 3319],\n 3600: [3600],\n 3599: [3599, 2736],\n 3597: [3597, 3485],\n 3594: [3594],\n 3590: [3590],\n 3589: [3589],\n 3588: [3588],\n 3585: [3585, 3494, 3221],\n 3582: [3582],\n 3581: [3581],\n 3576: [3576],\n 3575: [3575, 2399],\n 3572: [3572],\n 3568: [3568, 3467],\n 3567: [3567, 3098, 3009],\n 3566: [3566, 3381],\n 3562: [3562],\n 3558: [3558, 3466],\n 3557: [3557],\n 3556: [3556],\n 3555: [3555, 3450, 3258],\n 3553: [3553, 3376],\n 3551: [3551, 3375, 3077, 2780],\n 3549: [3549],\n 3547: [3547],\n 3546: [3546],\n 3544: [3544],\n 3541: [3541, 3232],\n 3540: [3540, 3421],\n 3539: [3539, 3360],\n 3538: [3538, 3113, 3041],\n 3535: [3535],\n 3533: [3533],\n 3532: [3532, 2945, 2643],\n 3527: [3527],\n 3526: [3526, 3435],\n 3523: [3523],\n 3522: [3522, 3429, 3238],\n 3521: [3521, 3334],\n 3519: [3519, 2532],\n 3518: [3518, 3143, 2950, 2649],\n 3516: [3516, 3252],\n 3511: [3511],\n 3509: [3509, 3345, 3243],\n 3508: [3508],\n 3505: [3505, 2936, 2633],\n 3504: [3504],\n 3503: [3503],\n 3501: [3501],\n 3500: [3500],\n 3499: [3499],\n 3497: [3497],\n 3489: [3489, 2723],\n 3488: [3488],\n 3486: [3486, 3215],\n 3484: [3484],\n 3483: [3483, 3415, 3195],\n 3478: [3478],\n 3476: [3476, 3274],\n 3474: [3474],\n 3473: [3473, 3205, 3089, 2804],\n 3472: [3472],\n 3471: [3471],\n 3470: [3470, 3379],\n 3469: [3469],\n 3465: [3465],\n 3464: [3464, 3210],\n 3461: [3461, 3382],\n 3460: [3460],\n 3459: [3459],\n 3457: [3457, 3191, 2695],\n 3456: [3456],\n 3455: [3455],\n 3454: [3454],\n 3451: [3451, 2886],\n 3449: [3449, 3367, 3176],\n 3446: [3446],\n 3445: [3445, 3362, 3250],\n 3443: [3443],\n 3442: [3442],\n 3440: [3440, 3350, 3269, 3188],\n 3433: [3433],\n 3430: [3430],\n 3428: [3428],\n 3427: [3427],\n 3426: [3426, 3148, 3043, 2853, 2265],\n 3425: [3425],\n 3419: [3419, 3358],\n 3414: [3414, 3317, 3231],\n 3412: [3412, 3030, 1961],\n 3411: [3411, 3128, 3028, 2929, 2638],\n 3409: [3409, 2624, 2416, 2042],\n 3405: [3405, 3298, 2140, 1776],\n 3402: [3402, 3302],\n 3401: [3401],\n 3400: [3400, 3300],\n 3398: [3398, 3321, 2717],\n 3397: [3397],\n 3396: [3396],\n 3393: [3393, 3284, 3105, 2871, 2743],\n 3392: [3392, 3293],\n 3390: [3390],\n 3388: [3388],\n 3385: [3385, 3095, 2803],\n 3384: [3384, 3282, 2899],\n 3383: [3383],\n 3380: [3380],\n 3377: [3377],\n 3374: [3374, 3264, 3179],\n 3372: [3372, 3261, 3078],\n 3371: [3371, 3262],\n 3370: [3370, 3271],\n 3368: [3368, 3174],\n 3366: [3366, 3214, 2977],\n 3365: [3365, 3256, 2680, 2571],\n 3361: [3361, 3172, 3072, 2981, 2470],\n 3359: [3359, 2875, 2563],\n 3357: [3357],\n 3356: [3356],\n 3355: [3355, 3067],\n 3354: [3354],\n 3353: [3353, 3266],\n 3351: [3351, 3193],\n 3349: [3349, 3247, 3162],\n 3347: [3347],\n 3346: [3346],\n 3343: [3343],\n 3342: [3342, 2958, 2855, 2548, 1612],\n 3341: [3341, 3241, 3049, 2751, 2443],\n 3340: [3340, 3044, 2956],\n 3338: [3338, 3253, 3150],\n 3336: [3336],\n 3333: [3333, 2866],\n 3332: [3332, 2949, 2850, 2186, 1416],\n 3331: [3331],\n 3328: [3328, 3166],\n 3325: [3325],\n 3324: [3324],\n 3322: [3322, 2699],\n 3313: [3313, 3224],\n 3312: [3312, 3126, 2626, 2515, 2247, 1881, 1782, 1679],\n 3311: [3311],\n 3308: [3308],\n 3307: [3307, 3212, 3123, 2927, 2825],\n 3304: [3304, 3217, 3118],\n 3303: [3303, 2726, 2619, 2413],\n 3301: [3301],\n 3297: [3297],\n 3296: [3296, 3007],\n 3294: [3294, 2868],\n 3292: [3292, 3040, 2639, 1184, 943, 781, 103],\n 3290: [3290, 3101],\n 3288: [3288],\n 3286: [3286],\n 3285: [3285, 3096],\n 3283: [3283, 2907],\n 3281: [3281, 3086, 2489, 2119],\n 3279: [3279],\n 3277: [3277],\n 3275: [3275],\n 3273: [3273],\n 3272: [3272, 3152, 2845, 2646],\n 3270: [3270, 3184],\n 3268: [3268],\n 3263: [3263, 2783, 2298, 2009],\n 3254: [3254, 2848, 2267],\n 3248: [3248, 2965, 2663, 1006, 897],\n 3245: [3245],\n 3244: [3244],\n 3242: [3242],\n 3240: [3240, 2957],\n 3235: [3235],\n 3233: [3233, 2984, 2888],\n 3228: [3228],\n 3219: [3219, 3122],\n 3216: [3216],\n 3213: [3213],\n 3209: [3209],\n 3207: [3207],\n 3203: [3203],\n 3202: [3202, 3109],\n 3201: [3201, 3085, 2915, 2798],\n 3199: [3199],\n 3192: [3192, 3079],\n 3190: [3190],\n 3189: [3189],\n 3183: [3183, 2476],\n 3182: [3182, 2457, 2297],\n 3178: [3178, 2294],\n 3177: [3177, 2887],\n 3175: [3175, 2990, 2883],\n 3173: [3173],\n 3171: [3171, 2878, 2373, 1922],\n 3170: [3170],\n 3169: [3169, 3084, 2843],\n 3168: [3168],\n 3167: [3167, 3054],\n 3164: [3164],\n 3160: [3160, 2963, 2273],\n 3159: [3159, 3056],\n 3157: [3157],\n 3155: [3155, 2656, 2551],\n 3154: [3154, 3050],\n 3151: [3151, 3045],\n 3147: [3147],\n 3146: [3146, 2744],\n 3145: [3145],\n 3144: [3144, 2753],\n 3141: [3141],\n 3140: [3140, 2979, 2877, 2475],\n 3139: [3139],\n 3138: [3138, 2976, 2874],\n 3137: [3137],\n 3136: [3136],\n 3135: [3135],\n 3133: [3133],\n 3132: [3132, 3033, 2630, 1868],\n 3129: [3129, 3017, 2732, 2145],\n 3127: [3127, 3027, 2831],\n 3125: [3125],\n 3121: [3121, 2924, 2728],\n 3119: [3119, 2923, 2820],\n 3117: [3117],\n 3116: [3116],\n 3115: [3115, 2720, 2508],\n 3114: [3114, 2918, 2507, 2324, 2237],\n 3112: [3112],\n 3111: [3111],\n 3108: [3108],\n 3106: [3106, 2742, 2573, 2318, 1972],\n 3104: [3104, 2661],\n 3103: [3103, 3012],\n 3100: [3100, 2839, 2614],\n 3099: [3099],\n 3097: [3097],\n 3093: [3093, 3000, 2790],\n 3092: [3092, 2599, 2484],\n 3091: [3091, 2997],\n 3090: [3090],\n 3088: [3088, 2805],\n 3087: [3087, 2904, 2709, 2479, 2320, 2014],\n 3083: [3083],\n 3081: [3081, 2869],\n 3076: [3076, 2576],\n 3075: [3075, 2693, 2377, 2198, 1636],\n 3071: [3071, 2774],\n 3070: [3070],\n 3068: [3068],\n 3066: [3066, 2536, 2437, 2278],\n 3063: [3063, 2961],\n 3062: [3062],\n 3061: [3061, 2951],\n 3057: [3057],\n 3055: [3055],\n 3053: [3053],\n 3052: [3052, 2757, 2660],\n 3051: [3051, 2755],\n 3047: [3047],\n 3046: [3046, 2441, 2171, 1610],\n 3042: [3042, 2745],\n 3037: [3037],\n 3035: [3035, 2735, 2523, 2422],\n 3032: [3032, 2932],\n 3026: [3026],\n 3025: [3025],\n 3024: [3024],\n 3023: [3023, 2925, 2328],\n 3021: [3021],\n 3020: [3020, 2817, 2326, 1872, 1770, 1674, 1368],\n 3016: [3016, 2810],\n 3015: [3015],\n 3013: [3013, 2841, 2715, 2506, 1692],\n 3011: [3011],\n 3010: [3010, 2911, 2815],\n 3006: [3006],\n 3005: [3005, 1662],\n 3004: [3004],\n 3003: [3003, 2900, 2789],\n 3002: [3002, 2586, 1543, 8],\n 2998: [2998, 2714, 2592],\n 2996: [2996, 2304],\n 2995: [2995],\n 2994: [2994, 2885, 2692],\n 2993: [2993, 2570],\n 2992: [2992],\n 2989: [2989],\n 2988: [2988],\n 2987: [2987],\n 2986: [2986, 2579, 2477],\n 2985: [2985],\n 2983: [2983, 2770],\n 2982: [2982, 2567, 2195],\n 2980: [2980],\n 2978: [2978],\n 2975: [2975],\n 2974: [2974],\n 2973: [2973, 2461, 1974, 1719, 1570],\n 2972: [2972, 2667, 2011, 1336],\n 2971: [2971],\n 2970: [2970],\n 2969: [2969, 2865, 2455, 2209, 2012, 1819, 1623],\n 2968: [2968],\n 2967: [2967],\n 2964: [2964, 2542],\n 2962: [2962, 2758],\n 2959: [2959],\n 2955: [2955],\n 2954: [2954, 2652],\n 2953: [2953, 2650, 2264, 1701],\n 2952: [2952, 2351],\n 2948: [2948, 2846, 2213],\n 2947: [2947],\n 2946: [2946],\n 2944: [2944, 1991],\n 2943: [2943],\n 2942: [2942, 2315, 2236],\n 2940: [2940, 2409],\n 2939: [2939, 2593, 2321],\n 2938: [2938, 2793, 2611, 2429, 1850, 1688],\n 2937: [2937],\n 2935: [2935],\n 2934: [2934, 2814],\n 2933: [2933, 2151, 2046],\n 2930: [2930],\n 2928: [2928],\n 2922: [2922],\n ...}"
     },
     "execution_count": 441,
     "metadata": {},
     "output_type": "execute_result"
    }
   ],
   "source": [
    "indexes = {} # purchase:[]\n",
    "current_index = {} # user_id:curent_index\n",
    "current_user = df.iloc[-1].iloc[1]\n",
    "\n",
    "for index, row in reversed(list(df.iterrows())):\n",
    "    if row.iloc[1] not in current_index.keys():\n",
    "        current_index[row.iloc[1]] = 9999\n",
    "        indexes[9999] = []\n",
    "    if row.iloc[3] == 1:\n",
    "        current_index[row.iloc[1]] = index\n",
    "        indexes[current_index[row.iloc[1]]] = [index]\n",
    "    else:\n",
    "        indexes[current_index[row.iloc[1]]].append(index)\n",
    "\n",
    "indexes"
   ],
   "metadata": {
    "collapsed": false,
    "pycharm": {
     "name": "#%%\n"
    }
   }
  },
  {
   "cell_type": "code",
   "execution_count": null,
   "outputs": [],
   "source": [],
   "metadata": {
    "collapsed": false,
    "pycharm": {
     "name": "#%%\n"
    }
   }
  },
  {
   "cell_type": "code",
   "execution_count": 345,
   "outputs": [],
   "source": [
    "df['new_col'] = df.index.map({key: value for key, value in indexes.items() if key != 9999})"
   ],
   "metadata": {
    "collapsed": false,
    "pycharm": {
     "name": "#%%\n"
    }
   }
  },
  {
   "cell_type": "code",
   "execution_count": 446,
   "outputs": [
    {
     "name": "stdout",
     "output_type": "stream",
     "text": [
      "[[4554, 4265], [4152], [3871], [3486, 3215], [3115, 2720, 2508], [1847], [1673, 1568, 1262, 760], [215, 117], [4985, 4462], [4390], [4253], [4155], [3704], [3292, 3040, 2639, 1184, 943, 781, 103], [4984, 4731], [3819, 2561, 2435, 2208, 2013], [1892, 1796, 1415, 1315], [1087], [879, 531, 455], [280], [4983], [4524, 4417], [4123, 3951, 3730], [3535], [3442], [3357], [3189], [2653], [2560, 2454, 2385, 1620], [1540], [1338, 1096], [889], [825], [710, 530], [453, 365], [281], [182, 51], [4982, 4806], [4723, 4607, 3651], [3460], [3081, 2869], [2779], [2389], [2300], [2210], [1900, 1820], [1622], [902], [719], [363, 181, 49], [4726, 4606, 4334, 3267], [2972, 2667, 2011, 1336], [906], [4980], [4805, 4724, 4434, 4037], [3949, 2786, 2670, 2574], [2387, 1232], [1033], [904, 712], [635], [190], [3939, 3841], [3457, 3191, 2695], [2582], [2103], [1823, 1637], [1334], [1035, 919], [734], [454, 275], [4978], [4225, 4121, 3080], [2995], [2785], [2292], [1911], [1846], [1716, 1638, 1537], [1111], [1036, 823, 732, 633, 549, 272, 177], [47], [4625, 4337], [3944], [3549], [3371, 3262], [3182, 2457, 2297], [1913], [1439, 1227], [638], [460], [269], [4622, 4222, 4119], [3745], [3455], [3372, 3261, 3078], [2986, 2579, 2477], [2202], [1535, 1024], [924, 821], [547], [175], [67], [4975], [4896, 4518, 4331, 3743], [2688, 2293, 2004, 1927, 1645], [1530], [1224], [1127, 267], [171], [4216, 4116], [3933], [3832, 3739], [3642, 3363, 3073, 2775, 2679, 2375], [2196], [2093, 1831], [1728, 1429, 1025], [915], [445], [116], [4973, 4888, 4617, 4324, 4215], [4111], [3840, 3543], [3233, 2984, 2888], [2569], [2374], [2005, 1924, 1631], [1522, 914], [536], [444, 264], [3736], [3540, 3421], [3140, 2979, 2877, 2475], [2372], [2091], [1323], [1008], [910], [348], [4971], [4771, 4516, 4423, 3827, 3636, 2876, 2676], [2283, 2193], [1827, 1626, 1491, 1321, 1119, 812], [733, 441, 69], [4970, 4612], [4014], [3734], [3366, 3214, 2977], [2674, 2465, 2365, 2281], [2191, 1919, 1461, 1317, 951], [907, 811], [4969, 4611, 4509], [4210], [4107], [3826], [3356], [3138, 2976, 2874], [2464, 2062], [1722], [1596, 1460], [1430, 1216], [810, 346, 108], [3955, 3799, 3510, 3107], [2944, 1991], [1918, 1714, 1213, 1115], [900, 720, 594], [106], [4967], [4864, 4481, 3732], [2840, 2763, 2671, 2317, 2030, 1327, 947], [723], [297, 210], [3294, 2868], [2641], [1915], [1420, 945, 808], [295, 104], [3532, 2945, 2643], [2534], [2369, 2212, 2106], [1993, 1893], [1797], [1597, 1312], [1210, 1029, 880], [806, 283], [4880], [4604], [4105, 3926], [3800], [3727], [3631, 3185], [2946], [2842, 2371], [2280], [2206], [1696], [1598, 1402], [1212, 438], [359], [4580, 3327, 3186, 2644], [2205, 1992], [1894, 1799], [803], [690, 620], [508], [436, 347], [4962, 4591], [4297, 4093, 3717, 3441, 3239, 3165, 3048], [2750, 1811], [1403], [1302], [792], [244], [57], [4961], [4557, 4150], [3401], [3111], [2813, 2722], [2616, 2510], [2160, 1573], [1469, 1065], [762], [667, 487], [26], [3164], [2860], [2555, 2451, 2364, 1513], [1412, 1311, 1105], [799], [525, 167], [4875, 4788, 4702, 4602], [4501], [4412, 4199, 3626], [2761], [2450], [2183, 1990], [1818, 1712], [1411, 1104, 898], [342, 261], [4605, 4311, 3917], [3248, 2965, 2663, 1006, 897], [4957, 4600, 4500], [4310], [4099, 3437], [3349, 3247, 3162], [3057], [2449], [2363], [2274], [2078, 1817, 1512, 1314], [1005, 798], [433], [341, 255, 0], [4505, 4302, 4015, 3620, 2960], [2764, 2657], [2445, 2357], [2177, 2085, 1709, 1001], [891, 339, 249, 153], [4955, 4578, 4189], [4004, 3326], [3154, 3050], [2959], [2856], [2766], [2549, 1614, 1507, 1405, 901, 615, 521], [426], [60], [4491, 3798], [3718, 3431], [3240, 2957], [2854, 2546], [2269], [2173], [1516], [1414, 998], [703], [4867], [4092, 3153], [3046, 2441, 2171, 1610], [1503], [1300], [1207, 903, 702, 518, 422, 335], [4693], [4504, 4005, 3909, 3628, 3064], [2948, 2846, 2213], [1978, 1519], [1038, 881, 414], [362], [278], [4951, 4402], [3906], [3428], [3151, 3045], [2748], [2654, 2268], [1705, 1097], [790, 701, 602], [421, 333], [4780], [4401], [4296, 4188, 4017], [3427], [3340, 3044, 2956], [2747], [2067], [1694, 1502], [1196], [997, 517, 332], [4949], [4705, 4187], [4091, 3237], [2955], [2352, 2169], [2065, 1808], [1609], [1501, 1299, 700, 419, 243, 148], [4948, 4588, 4090], [3818, 3337, 3236, 3149, 2651, 2063, 1901], [1391], [709], [331], [4947, 4863], [4398], [4185, 3612, 1983, 1807, 1109, 991, 513], [144], [4294, 3807], [3712, 3335], [2164, 2107], [1397], [886], [240, 142], [4945, 4689], [4585], [4397], [4293, 3903], [3146, 2744], [1982], [1805, 1700], [1092], [328, 165], [3998], [3607, 2648], [2439, 2261, 1090], [996, 883], [693, 279], [191], [4413, 4176, 4060], [3742], [3392, 3293], [3097], [2964, 2542], [2159], [1456, 1335], [807, 717, 292], [4942, 4807, 3925, 3187, 2642, 2382], [1704], [1316], [1088], [1031, 631, 183], [4457], [4391, 4137], [3207], [3103, 3012], [2942, 2315, 2236], [2024], [1954], [1762, 1206], [384, 46], [4940, 4576], [4388, 4171, 3867], [3601, 3416, 3319], [3112], [2938, 2793, 2611, 2429, 1850, 1688], [1360, 640], [502], [406, 318], [4939, 4575, 4280], [3869], [3795, 3699], [3599, 2736], [2425, 2342, 2156, 2049, 1968, 1485], [1376, 1260], [1179, 872, 755], [482], [230], [135], [4852], [4677], [4385], [3893, 3318], [2838, 2635, 2341], [1791], [1484, 1365], [1284], [1178], [871], [404], [4937], [4673, 3891], [3793], [3504], [2935], [2340, 2048], [1966], [1385], [1057, 970, 868, 314], [4381], [3989], [3696, 3595], [3503], [2524, 2254], [2153, 1965], [228], [4935, 4851, 4765], [3988, 3791, 3316], [2934, 2814], [2253], [2152, 1964], [1590], [1482], [1280, 1072], [981, 590], [498], [4934], [4850, 4571, 4475], [4276, 3888, 3694], [3594], [3213], [3133], [3035, 2735, 2523, 2422], [2339, 2252], [2150, 2045, 1589, 969, 683, 227], [22], [4933], [4763], [4166], [3693, 3580, 3315, 3034], [2837, 2632], [2338, 2251, 1952], [1588, 866], [213], [4932], [4165, 4072, 3314, 2836], [2631], [2337, 2149, 1684], [1480], [1279], [1062], [132, 45], [3590], [3501], [3228], [2834], [2521], [225], [4378], [4272], [4069], [3984, 3227, 3130, 2530], [2419, 2335, 2146, 1691], [1477], [1170], [963, 677, 587], [496, 128], [39], [4929, 4564], [4068, 3896], [3313, 3224], [3127, 3027, 2831], [1882], [1476, 1364, 1076], [862, 772, 676], [585], [4928, 4376, 3787, 3687, 3410], [3026], [2830, 2516, 2418, 2144, 1783], [1276, 1075], [961], [861], [675], [222], [4760, 4469, 3309, 3222, 2827, 2623], [2331], [2245], [2143, 1879, 1375], [1073], [769], [672], [583, 310, 34], [4660], [4371], [4264, 4063], [3876, 3784], [3121, 2924, 2728], [2621], [2511, 2327, 2036], [1069, 960, 766, 579], [395], [4925, 4840], [4757], [4559], [4466], [4263, 3980, 3490, 3120, 3022], [2620], [1774], [1372], [1269], [394], [307, 120], [4924, 4262], [3979], [2943], [2821, 2041], [1575, 1268, 1163, 1068, 858, 765], [670], [492, 393], [4839], [4756, 4558, 4157, 3868, 3218], [3119, 2923, 2820], [1773, 491], [4922], [4838], [4659], [4062, 3873], [3303, 2726, 2619, 2413], [2240], [1370], [1266], [669, 578, 489], [392], [4921, 4829, 4650, 4577, 4145, 4047], [3966, 3875, 3703], [3508], [2499], [1563, 1182], [942], [801, 715, 566], [112], [4478, 3208, 3038], [2637], [2134, 2050], [1593], [1157, 972, 501, 405, 315], [231], [4919, 3403, 2725, 2504, 2239, 2138], [2039], [1876], [1771], [1471], [1265, 1162], [959, 668], [577], [4365, 3847, 3196, 2917, 2108, 1547], [1489], [643, 320], [235], [4917, 4824], [4344, 4126, 3853], [3765], [3665, 3395, 3276], [3088, 2805], [2600], [2401], [2125, 2017, 1658, 1566], [1055], [653, 552], [373], [4916], [4743, 4361, 4252, 4177, 3864, 3206, 2919], [2863], [2434], [2314], [2031], [1947], [1261], [852, 779, 100], [4915], [4358, 4248], [4051], [3770], [3099], [3010, 2911, 2815], [2412, 1909, 1758, 1562], [1389], [1152], [939], [713, 284], [206], [4914], [4749, 4646], [4546, 4353, 4050], [3390], [3288], [2607, 1941], [1663], [1464], [1366, 1150, 1112, 845], [705], [560], [478], [4821, 4452], [4356, 4247, 3860, 3672], [3575, 2399], [2313, 1943], [938], [846, 477, 205], [4912], [4733], [4537], [4448, 4246], [4142, 3287, 2406, 2228], [2025], [1756, 1451, 1359, 780, 664], [378], [201], [4244], [3478], [3388], [3296, 3007], [2598], [2405], [2223, 1862], [1253, 1147, 1106], [657, 561], [203], [4910, 4451, 4364], [4138, 4049, 3965, 3573], [3283, 2907], [2491, 1555, 1355], [1146, 744], [286], [4909], [4255], [3669], [3476, 3274], [3015], [2905], [2602], [2487, 2404, 2311, 2127, 1557], [1350], [1250, 1063, 936, 842], [752], [4908], [4140], [3858, 3768, 3574, 3479, 3389], [3286], [3202, 3109], [2908, 2809], [2711, 2605], [2493], [2034, 1661, 1357], [1149, 1085], [649, 287], [3472], [3385, 3095, 2803], [2708, 2482], [2124], [1935], [1657, 1554, 1248], [840], [750], [553, 324, 193], [4906], [4822, 3843], [3675, 3280], [2705, 2120], [2019, 1750, 1052], [836, 651], [3760, 3378], [3090], [3003, 2900, 2789], [2116], [1855, 1551], [1444], [1135, 826, 745, 660], [467], [300], [4813], [4349], [4233, 4132, 3957, 3759], [3396], [2897, 2791], [2703, 2390], [1654], [1242, 1137], [828], [466], [4903], [4752, 4534], [3845, 3758], [2898], [2702], [2503, 1653], [1544, 954, 743, 554], [3201, 3085, 2915, 2798], [2587], [2517], [2397], [2221], [1446, 1348], [1235], [1139, 968, 736, 647], [367], [4632, 4535, 4343], [4149], [4041], [3755], [3558, 3466], [3139], [2596], [2505, 2394, 2117], [2057, 1655], [1548, 1445, 1048, 386], [4900], [4642, 4538], [4444, 4351, 3850, 3754, 3278, 3204], [2716], [2488, 2302, 1857], [747], [472], [370, 199], [4800], [4730], [4519], [4330, 4226], [3836], [3752, 3259], [2880], [2474, 1845], [1737], [1644, 1331, 1128, 628, 543, 180], [4898, 4328], [4219], [4114, 3653, 3448], [3175, 2990, 2883], [2002], [1835], [1733], [1635, 1526, 1434], [1018, 925, 538], [451, 170, 84], [4897, 4803], [2690], [2290, 1928], [1842, 1436, 1329], [1021], [928], [355, 87], [2971], [2669], [2583, 2010], [1641], [1538, 1229, 364, 274], [178], [48], [4894], [4809], [4036], [3747], [2987], [2782], [2689], [2203], [2008, 1837], [1534, 1332], [1226], [268, 174], [70], [4893, 4341, 4221, 4120, 3649], [3456], [3192, 3079], [2580, 2381, 1740], [1646], [1536], [1122], [1027, 822, 176], [4892], [4804], [4621], [3945], [3370, 3271], [2989], [2890, 2784, 2388], [2211, 2102], [1725, 1639], [1228, 271], [4798], [4514, 3364, 3255, 3181, 3082], [2993, 2570], [2376], [1832, 1632], [1523, 1440], [1221], [1124, 916], [818, 623, 446], [139], [79], [4890, 4438], [4325], [3935], [3833, 3545], [2992], [2286, 2098, 2001, 1833, 1633, 1016], [918, 726, 624, 537, 265], [164], [82], [4309, 3344], [2973, 2461, 1974, 1719, 1570], [4790], [4424], [4212, 3930], [3828], [3539, 3360], [3168], [2677], [2284], [2090, 1921, 1828, 1730], [1595], [1515], [1322], [982], [813], [724], [3419, 3358], [2772], [2346], [1834, 1634, 1222], [957], [909, 440], [4885], [4753, 4720], [4610], [4508, 4319], [3355, 3067], [2975], [2873], [2771], [2190], [2082], [1721], [1117, 983, 722, 596], [4748], [3928, 3825], [3633, 3065], [2974], [2872, 2673, 2344, 2161], [2060, 1997], [1795], [1459], [950], [413, 323], [237, 74], [4421], [3824], [3538, 3113, 3041], [2983, 2770], [1424, 1215], [541, 305], [73], [2682, 2310, 2276], [2184, 1594, 949], [905, 107], [4881, 4287], [4206], [4101], [3927], [3325], [3209], [2462], [2038, 878], [4333], [4033, 3552], [3268], [3190], [2969, 2865, 2455, 2209, 2012, 1819, 1623], [1539, 1337, 1037, 282, 50], [4779, 4694, 4295, 4003], [3905, 3820], [3615], [3338, 3253, 3150], [2954, 2652], [2440], [2279], [2168, 2064, 1910, 1702, 1500], [1298, 994], [888], [789], [4794], [4683, 4102, 3898], [3804, 3513, 3422], [3141], [2847], [2188], [1601], [1291, 1195, 1012], [3907], [3811], [3630], [3522, 3429, 3238], [3047], [2864], [2559, 2172], [2068], [1715], [1518], [1009], [149, 55], [4495, 4410, 4306, 4196], [3722], [3244], [3053], [2858], [2272], [1307], [1004, 796], [524, 429], [157], [62], [4595], [4304], [4097, 4009], [3914], [3526, 3435], [3063, 2961], [2857, 2552], [2446], [2187, 1814], [1508], [1183, 1103, 427], [156], [61], [4593, 4006, 3720, 3525, 3234, 2456, 2356, 2176], [1707, 1406], [1199, 1000, 706, 523], [4301], [4191, 3911, 3434, 2754, 2175, 1985], [1099], [795, 687], [522], [4869, 4781, 4698], [3910], [3812, 3618], [2752], [2666], [2547], [2444], [2355], [2070], [1903, 1706], [1506], [519], [245, 58], [4697, 4590, 4490], [3716], [3616, 2545], [2277], [2069, 1197], [1107], [804], [604, 150, 56], [3516, 3252], [2765], [2647], [2538, 2438], [2347, 2189, 1981, 1800, 1603], [1504], [1293], [692], [326], [189], [2353, 2266], [2170, 2066, 1902], [1809, 1703], [1095, 995, 601], [516, 420], [4776], [4087], [3242], [2952, 2351], [2165], [2086], [1398, 1093, 989], [786], [697], [53], [3521, 3334], [3042, 2745], [2350], [1806, 1193], [696, 417], [259], [4292], [4183, 4000, 3806, 3610, 3520], [3145], [2851], [2543, 2163, 1608, 1498, 1192, 785], [599], [416, 260, 166], [52], [4859, 4290, 3352], [3144, 2753], [2263], [2162, 1802], [1496, 1396], [1189], [784, 169], [3518, 3143, 2950, 2649], [2540], [1605], [1495, 1296], [1091], [987, 695], [263, 168], [4857], [4740, 4704], [4609, 4419], [4178, 3897], [3393, 3284, 3105, 2871, 2743], [2672, 2533, 2460, 1973, 1916], [1793, 1693, 1565], [595, 506], [411], [298, 78], [3353, 3266], [2867, 2584, 2459, 1425], [1287, 1230, 1034], [632], [550], [179], [3104, 2661], [2531], [2458, 2316, 2256], [2135], [1763, 1455, 1419], [944, 876], [4550, 4367], [2796], [2590], [2430, 1851, 875, 503], [407, 3], [4073, 3986, 3790], [3692, 3593, 3230], [2421, 1962, 1481, 1383], [967, 682, 589], [400, 313, 226], [43], [4848, 4473, 4274], [3789, 3592], [3032, 2932], [2629], [2148, 1787], [1382], [1278, 1175], [1082], [130], [4847], [4761, 4670, 4366, 4071, 3591, 3031, 2931, 2835, 2734], [2522], [2420, 2250], [2044, 1786], [1174, 1081, 966, 776], [588, 312], [4845], [3884, 3029, 2832], [2628], [2520], [2336], [2043, 1885], [1682, 1586], [1078], [964], [399], [41], [4844, 4679, 3985, 3690], [2627], [2249, 1785], [1585], [1479], [1380, 1172], [865], [679], [129], [40], [4668, 4566], [4472], [4377], [3983, 3226], [2930], [2334, 2248, 1584, 1277], [1077], [864], [505], [224, 38], [4563, 3498], [3311], [2829], [2740], [1960], [1780], [1582, 1061, 397, 37], [3879, 3495, 3408], [3308], [3137], [2718], [2513, 2415], [1677], [1580], [1274], [860], [671, 125], [4754, 4555, 4368, 4260], [3974, 3487], [3400, 3300], [3116], [2721], [2615, 2325], [2136, 1955, 1870], [1367], [1259, 1064, 854], [761], [665], [575], [306], [217], [4641], [4153], [4058, 3778], [3679, 2612, 2509], [2410], [2322, 2238], [1161], [853], [574, 485, 24], [4835], [4652], [4455], [4362, 4242, 3967, 3895], [3777], [3725], [3627, 3102], [2500], [2231], [1949], [1671], [1564, 1286], [567], [484], [375], [294], [4172, 4079, 3602, 3481, 3194, 2411, 1953, 1852], [1343, 1042, 233], [4833], [3781], [3681], [3489, 2723], [2617, 1066, 958], [856], [488, 390, 28], [3849], [3676, 3320, 3197, 3014, 2319], [2214], [1764, 1690, 1467, 977], [741], [644, 388], [321, 214], [3662, 3564, 3295], [2894, 2704], [2478], [2118], [1743, 1349], [468, 368, 291, 195], [4038, 3870], [3783, 3493], [3114, 2918, 2507, 2324, 2237], [2137, 1672, 1466], [759], [4453, 4357, 4143, 3961], [3861], [3576], [2909], [2712], [2606, 2494, 1944, 1869, 1561], [1361, 686, 379, 289], [92], [19], [4681], [4543], [4354, 3671, 3008], [2800], [2492, 1660, 1560], [1086], [937, 844], [204, 91], [17], [4243, 3964, 3763, 3387], [3006], [2808], [2710], [2603, 2502, 1755, 1559], [1449, 1252, 1145, 1084, 656], [202, 16], [4825], [4735, 4458, 4231], [3962, 3856], [3275], [3087, 2904, 2709, 2479, 2320, 2014], [1856, 1353], [1249, 1056], [935], [655], [475, 366, 200], [14], [4640], [4235], [4046, 3842], [3761], [3666, 2891, 2698, 2597], [2121, 1865], [848, 471], [196], [10], [4820, 4750, 4636, 4447, 4135, 3001, 2896, 2501, 2398, 2308, 1938], [1141, 648], [4819, 4631], [4531], [4175], [4039, 3958, 3848, 3577, 2696], [2591, 2529, 2393], [2218, 2056], [1948, 1747], [1465, 1240, 1153], [1047], [833], [322], [4818, 4770, 4635], [4131, 3956, 3563, 3463, 3323], [3093, 3000, 2790], [2216], [2020, 1937, 1450], [1340, 827, 754, 302, 95], [4530, 3658, 3579, 3198], [1749], [1680], [1478], [1241], [1155], [1045, 847, 481], [236, 4], [2996, 2304], [2217, 1853, 1746, 1668], [111], [5], [4814, 4769], [4470], [4345, 4147], [4042, 3559, 2589, 2058, 1940, 1745], [1448, 1243, 830], [742], [462], [4812], [4654], [4461, 4174, 3654], [3398, 3321, 2717], [2528], [2392, 2215, 2113], [1552], [1239, 493, 113], [4810, 4581], [4415], [4342], [4205], [4106, 3923], [3707], [3169, 3084, 2843], [2767, 2645], [2367], [2207], [1975, 1599, 1532], [1289], [616], [435], [4802], [4728, 4624, 4223, 4031], [3454], [3374, 3264, 3179], [2988], [2889, 2295, 2200], [2007], [1838], [1643], [1542], [1023, 921], [731], [544, 457, 357], [4229, 4118], [4027], [3751], [3459], [3178, 2294], [2101], [1926], [1738, 1438], [358, 172], [4619, 4228, 4117], [3555, 3450, 3258], [2691], [2288, 2099, 1933], [1735, 1527, 1126, 1019], [551, 85], [4797], [4715, 4021, 3830], [3173], [2568], [2471, 2092, 1325, 1220], [1015], [913, 535], [443], [80], [4288, 3515, 3424, 2769], [2537], [2259], [1897, 1517], [1292, 882, 791, 276], [4426], [4213, 3931, 3829, 3639], [3397], [3171, 2878, 2373, 1922], [1629], [911], [534, 442], [350, 257], [4489], [4403], [4204], [3908, 2749, 2544, 2442], [2368], [1810], [1505], [1401, 1301], [603, 423], [4792], [4394, 4203], [4083], [3997, 3260], [2849], [2260, 1980, 1698], [1394, 1187, 782, 510], [334], [187], [3900], [3332, 2949, 2850, 2186, 1416], [1188, 1010], [4703, 4312, 3919, 3059, 2966, 2861], [2762], [2080], [1908], [1514, 899], [711, 343], [258], [162], [4787, 4497, 3816], [3159, 3056], [2760], [2668], [2448, 2180, 1988, 1816, 1711, 1011], [894], [431, 253], [4786], [4707], [4496, 4286, 4197], [4011], [3623, 3528, 3158], [3055], [2859], [2759], [2074], [1907], [1821, 1710, 1617, 1410, 893, 797], [612], [430, 252], [158], [4409, 4194, 4096], [4008, 3251, 3156, 2756], [2659, 2359, 2179, 1408, 1306], [1202, 1102], [1002], [155], [4783], [4300], [4190, 4094], [3719], [3509, 3345, 3243], [2550, 2270], [2174, 2071, 1905], [1304], [999], [877, 607], [247], [152], [4782, 4405], [4298, 3813, 3524, 3432], [3342, 2958, 2855, 2548, 1612], [1404, 1303, 793, 606, 336, 59], [4089, 3904], [3715], [3614], [3426, 3148, 3043, 2853, 2265], [2167], [2072, 1984], [788, 699, 515, 418], [242, 147], [4777, 4691], [4399, 4002], [3714], [3613], [3147], [2953, 2650, 2264, 1701], [1400, 1209], [993, 514, 241, 146], [68], [4688, 4291], [3519, 2532], [1804], [1699, 1497], [1191, 988, 598], [3609], [3061, 2951], [2541], [1803], [1606, 1190, 885, 327], [4321, 4218], [3637], [3541, 3232], [3170], [2564, 2468], [1628], [1120, 984], [814], [349], [110], [4772], [4615], [4214], [4110], [3738], [3445, 3362, 3250], [2982, 2567, 2195], [1830], [1727], [1521, 1428, 917], [815, 273], [4382], [4167, 3990, 3506], [3037], [2937], [2155, 1864, 1387, 869, 402], [133], [20], [4766, 4278, 4074], [3697], [3505, 2936, 2633], [2424, 2154], [1967], [1866], [1790, 1685, 1592], [1483], [1386, 1282], [971], [685, 499, 229], [4764, 4671, 4380], [4277, 3987], [3889], [3695, 3036], [2933, 2151, 2046], [1963], [1888], [1384, 867], [777], [684, 401, 303], [4474, 4379, 3502, 3229], [3132, 3033, 2630, 1868], [1788, 1683], [1490, 1176], [681, 497], [131], [4759, 4159], [3585, 3494, 3221], [3125], [3024], [2826], [2640], [2512, 2244, 2142], [1777], [1579], [1166, 221, 124], [33], [2329, 1958], [859], [778], [581, 308], [4464], [3978], [3780], [3677], [3488], [3402, 3302], [2920, 2818], [2133, 1874], [1369, 1160], [855], [763, 576, 119], [27], [4751], [4665], [4460], [3312, 3126, 2626, 2515, 2247, 1881, 1782, 1679], [1475, 1378], [1275, 1074], [572], [495], [398], [4746], [4711], [4420], [4209], [3994, 3823, 3537, 3399, 3060, 2768], [2562], [2463], [2345, 1815], [1720], [1458], [1423, 1214], [1121, 721, 614], [299], [72], [4682, 4259], [4080], [3817], [3733], [3643, 3534], [3324], [3106, 2742, 2573, 2318, 1972], [1917, 1457, 1421], [948, 507, 434, 216], [105], [4742], [4547, 4052], [3854], [3771, 3674, 3480], [2902, 2713, 2495, 2027, 1759], [1453, 1413, 1143], [1113], [44], [4647, 3862], [3673], [3567, 3098, 3009], [2910, 2608], [2026], [1889, 1757], [688, 564], [479, 380, 290, 21], [4128], [4081], [3273], [3004], [2892, 2799, 2595], [2483, 1848, 1741, 1051, 952], [746], [650, 556, 470], [369], [99], [9], [4738], [4141], [3859], [3769], [3471], [3005, 1662], [1358, 837, 658, 563, 377], [288, 18], [4737], [4545, 4355, 4245, 4139, 3767], [3285, 3096], [2604], [2433, 2227], [2130, 2023], [1863], [1656], [1356], [1254], [1148], [562, 90], [4645], [4542], [4450, 4148, 4048], [3670, 3477], [3281, 3086, 2489, 2119], [2021, 843], [570], [385], [4541], [4352, 4240], [4127, 3960], [3764, 3571], [3473, 3205, 3089, 2804], [2309], [1142, 933, 285], [4732, 4653, 4443], [3668, 3578], [3461, 3382], [3277], [3203], [3092, 2599, 2484], [2224, 2122, 2022, 1244, 838], [652, 11], [4339], [4224, 3750], [3551, 3375, 3077, 2780], [2687], [2577, 1225, 630], [459], [4727, 4623, 4435], [3943], [3746, 3648], [3377], [3183, 2476], [2383, 1840, 1130], [636], [546], [4722, 4629, 4517], [4227], [4026, 3835, 3554], [3451, 2886], [2585], [2473, 2289, 1843, 1528, 1435, 1223], [1020], [729, 542], [86], [3557], [3076, 2576], [2100], [2003, 1437], [1022], [923], [450], [4719], [4115, 4028], [3950], [3644], [3547], [3449, 3367, 3176], [2884, 2472], [2096], [1930, 1734], [625, 539], [4620, 4436], [4113, 4024, 3937], [3834, 3257], [3075, 2693, 2377, 2198, 1636], [1525], [1433], [1125], [926, 820, 728], [4717, 4327, 4217, 3995, 3936, 3741, 3548, 3452, 2991], [2777], [2684], [2291], [2197], [1836, 1731, 1339], [819], [4716], [4429], [4112, 4022, 3934], [3544], [3365, 3256, 2680, 2571], [2380, 2285, 1932, 447], [356], [81], [4714], [4427], [4109], [3737, 3640, 3444], [3361, 3172, 3072, 2981, 2470], [1630], [1531, 1219], [351, 239], [4709, 4525, 4034], [3947], [3533], [3351, 3193], [2852], [2557], [2386], [1233, 452], [4418], [4032, 3808, 3731, 3542], [3443], [2788], [2558, 2384], [2104], [1995, 1541, 698], [528], [361], [4411, 4100, 4013, 3729, 3530, 3438, 3249, 3163, 3058, 2664, 2275], [2182, 2079, 1794, 1007], [256], [4699, 4594, 4493], [4407, 4303, 4095, 3912], [3051, 2755], [1987], [1812, 1615, 608], [154], [4690], [4486, 4001, 3809, 3611], [3425], [3336], [3235], [2166], [2088, 1499, 1399], [1094, 990, 329], [143], [54], [4084], [3901], [3710], [3333, 2866], [2348], [2262, 2185], [1898, 1801, 1395], [1294, 985, 783, 511], [415, 188], [4685], [4503, 4393], [4313, 3899], [3709, 3514, 3423], [3331], [3254, 2848, 2267], [1979], [1896], [1602, 1520], [1393], [1186], [597], [345], [186], [4684, 4414, 4314, 3330, 3142], [3066, 2536, 2437, 2278], [1185, 1013], [605, 277], [4680, 4608, 4392, 3039, 2870], [2741], [2032], [1923], [1753], [1288], [1211, 946], [718, 568], [403], [296], [4678, 4477, 4386, 4077], [3701, 3507, 2427], [1969, 1569], [873], [136], [1], [4574], [4384], [4169], [4075], [3892, 3794, 3598, 3211, 3134], [2255], [1686], [1039], [870], [592, 500], [134], [4383], [4279, 4168, 3698], [3597, 3485], [3414, 3317, 3231], [2634], [2235], [1283, 1177], [767], [661, 591, 387], [4672], [3890, 3792, 3596, 3413], [2525, 2423], [2047, 1789], [1591, 1281, 1060], [757], [663], [4669, 4568], [3885, 3788, 3691], [3589], [3500], [3412, 3030, 1961], [1886, 1173, 1079], [965, 311, 42], [4666, 4565], [4271], [3894], [3688, 3587], [3411, 3128, 3028, 2929, 2638], [2518, 2333], [1883], [1583], [1168], [773, 586], [4664, 4562], [4269, 3306, 3220, 2926], [2824, 2330, 2141, 1676], [1578, 1285], [1164, 756, 219], [4467], [4267], [4065, 3491, 3404, 2622], [1070], [31], [4661, 3982, 3785, 3305], [3219, 3122], [2822], [2242], [1867, 1577, 1473, 1373], [1271], [580], [218], [122, 30], [4556, 4154], [3977, 3583], [3301], [3020, 2817, 2326, 1872, 1770, 1674, 1368], [1264], [1159], [666, 389], [118], [2147], [1887], [1587, 1381], [1080], [775, 680], [23], [4649, 4553], [4454], [4360, 4251, 3604], [3290, 3101], [2498, 2029, 1946, 1891, 1761], [953], [293], [65], [4053, 3289], [3011], [2912, 2609, 2497, 2028, 1666], [714], [381], [301, 97], [4449], [4241], [4136, 3963, 3766, 3475], [2706, 2601], [2403, 2225], [1860, 1354], [1154], [1058, 476, 412], [4643, 4539], [4238, 4056], [3568, 3467], [3384, 3282, 2899], [2400], [2301, 1858, 1765, 1257, 839], [748, 469], [4638], [3959], [3655, 3394], [3297], [3002, 2586, 1543, 8], [4637, 4254], [4151, 4055], [3968], [3465], [2998, 2714, 2592], [2391], [2055, 1748], [1665, 1550], [1046], [979, 739], [473], [304], [4440, 4130], [3657, 3418, 2913, 2792], [2110, 1744, 1546], [1342, 1138], [735, 639], [4527, 4230, 4133], [3659, 3561, 3299, 3200, 2700, 2396], [2111, 2035, 1652], [1345, 1236, 1059, 956, 646], [569], [464], [374, 96], [4630], [3837], [3749, 3647, 3453, 2781], [2006], [1839, 1739], [922, 730], [637], [458], [88], [3940, 3744, 3646], [3553, 3376], [3177, 2887], [2694], [2575, 2378], [2299, 1841], [1736], [1529], [1330, 627], [4430], [3641], [3546], [3446], [2985], [1123], [817, 725], [352], [3635], [3430], [3359, 2875, 2563], [2466], [2089], [1920, 1826], [1426, 1320, 1218], [816], [4613, 4510, 4422], [4320, 3634], [3068], [2879, 2192], [2087, 1998, 1462, 1318, 1217], [908], [619, 109], [4603], [4336, 4018], [3801], [3706], [3511], [3270, 3184], [2947], [1798, 1697, 1032, 689], [439], [4599], [4499], [4315, 4098], [3916, 3436, 2662], [2554, 2362, 2077], [1989], [1511], [1310], [1205, 432], [254], [161], [64], [4307], [4198, 4012], [3915, 3724, 3624], [3347], [3160, 2963, 2273], [2181, 2075], [1510], [1308, 1204, 895], [159], [3924], [3527], [3157], [3052, 2757, 2660], [2447], [2360], [2271, 2073], [1621, 1203], [1003, 707, 610], [428], [250], [4487, 4186], [4088], [3713], [2746], [2084], [1899, 1619, 1297], [1194, 992, 887], [787, 600, 330, 145], [4584], [4181], [4085], [3805, 3517], [3062], [2539, 2349, 1994], [1604], [1494, 1295, 986], [884, 694], [512], [262], [4583, 4507, 4317], [4207, 4016], [3803], [3629, 3329], [3272, 3152, 2845, 2646], [2282], [1977], [1895], [1717], [1600, 1290, 1208], [185], [4103], [4020], [3802], [3708, 3632, 3512, 3439], [3328, 3166], [2844], [2535], [2436, 2366, 2204], [1976, 1392, 1089, 1028], [691], [509], [184], [4567, 4070], [3883, 3689], [3588], [2733], [2519], [1669, 1171, 774, 678], [4552], [4078], [3992], [3135], [2738], [2613, 2526, 2428, 2323], [2158], [1970, 1363], [1272, 973, 874, 753], [641, 316, 2], [4551, 4370], [4261, 4156], [4061], [3782, 3682], [3216], [2921, 2724, 2618, 1875], [1767], [1470, 1156, 1067], [955, 764], [391], [29], [3667], [3566, 3381], [2811], [2610], [2485, 2408], [2232], [1648], [1351, 1133, 930], [4544], [4249], [3863, 3386], [2496, 2432, 1945, 1760], [1664], [1454, 1390], [1245], [1151, 1114, 929], [565], [3773, 3570, 3482], [2802], [2707, 2307, 1441, 1247, 1140, 1054, 932], [372], [4533], [4057, 3417], [2729], [2407, 2115], [2054, 1670], [1234, 1044, 978], [849, 740, 645], [410], [126], [4346, 4043], [3756], [3469], [3322, 2699], [2037, 1649], [1136, 832, 737], [1854], [1651, 1553], [1346, 1237], [1041], [980, 571], [383], [198], [4433, 3946, 3748, 3373, 3265, 2685], [2581], [1822, 1417, 1108], [824], [4520], [4338, 4029, 3942, 3838], [3753, 3550, 3420, 3180, 2686, 2578, 2379, 2296], [1929], [1642], [1533, 1129], [920], [545, 456, 173], [89], [4326], [4023, 3740, 3447], [3368, 3174], [2881], [2776, 2681], [2287, 2094], [1729], [1524], [1432, 1326], [1231, 1017], [927, 727, 353], [141], [3071, 2774], [2566], [2469], [2257], [1925, 1726, 1427], [912, 94, 77], [3440, 3350, 3269, 3188], [3083], [2968], [2105, 1996], [1695, 1607], [1313], [1030], [805, 618], [527], [360], [3625, 3529, 3348, 3246, 3161], [2970], [2553, 2076], [1912], [1309, 896, 340], [160, 63], [4192, 3814, 3619], [3346], [3155, 2656, 2551], [2061], [1986, 1906], [1708], [1407], [1305], [1200, 1100, 338], [248], [4270, 4163], [4067], [3775], [3686, 3310, 3223, 2332, 2234, 1388, 1167, 673], [4479, 3973], [3851], [3762], [3581], [2940, 2409], [1488, 1256], [1181, 975, 483, 409], [319], [4471, 4162, 3880], [3497], [3025], [2828, 2514], [1959, 1779, 1678], [1581], [770], [138, 36], [4468, 4158], [3877], [3684], [3405, 3298, 2140, 1776], [1374], [1273], [4465], [3874], [3683], [3304, 3217, 3118], [3021], [2922], [2819, 2727, 2139], [2040], [1957], [1772, 1675], [1574], [1371, 1267, 857, 490], [4463], [4369, 3779], [3117], [1956, 1873, 1769, 1572], [1468], [850, 662, 486, 114], [25], [3663, 2999, 2941], [2701, 2588, 1447], [1344, 835], [465, 197], [6], [4442], [4045], [3953], [3844, 3664, 3565, 3462], [3380], [2893], [2797, 2486], [2131, 2018, 1742], [1443, 1362], [1134], [1050, 834], [557], [480], [4441], [4134, 3970], [3866], [3572], [3474], [2914], [2806], [2481], [2126], [2016], [934, 841], [751, 93, 12], [4035], [3839, 3650], [3263, 2783, 2298, 2009], [1914], [1718, 1640, 1431, 1333, 1110], [1026], [634], [548], [270], [66], [4428, 4329, 4208], [4082], [3975, 3536], [3354], [2467], [2258], [1627, 1422, 1116, 809, 71], [4007, 3913], [3721], [3621], [2658, 2358], [2178, 1813], [1616, 1201, 1101], [609], [4406, 4299, 3922], [3433], [3343], [2655], [1904, 1613, 794, 704], [520], [425, 337], [246], [3523], [3341, 3241, 3049, 2751, 2443], [2354, 1611, 1198], [1098], [890, 802, 617, 424], [344, 151], [2795], [2594, 2527], [2431, 2233], [2129], [2052, 1971], [1792], [1567], [1487, 974], [738], [3600], [3483, 3415, 3195], [3136], [3016, 2810], [2739, 2625, 2343], [2132, 2051], [1849], [1687, 1040, 851], [317], [232], [4164], [3882], [3499], [2928], [2731], [2417, 2246, 1781, 1474], [1083, 771], [674, 584], [504], [3023, 2925, 2328], [2241, 1877, 1775, 1576], [1472, 1270], [768, 121], [4363], [4040], [3661], [3199], [3108], [2697], [2306], [2219, 2114, 1934, 1751, 1647, 1549, 1463, 461], [212, 98], [4359], [4144], [4054, 3680], [3582], [3484], [3100, 2839, 2614], [2490], [2453, 2229], [1418], [1255, 1158], [940, 758], [382, 207], [4350, 4237], [3952], [3383], [3279], [3091, 2997], [2801], [2303], [2123, 1939], [1752, 1442], [1132], [1049], [931, 555], [4322], [3638], [3070], [2980], [2778, 2678, 2565], [2194], [2000], [1829, 1493], [1324], [1131, 1014], [533], [76], [2719, 2230, 2053, 1951], [1766, 1347, 1043, 976, 642, 234, 115], [4281, 4170], [4076, 3991, 3881, 3776], [3700, 3018], [2812, 2737], [2636], [2426], [2157], [1890, 1768, 1486], [1180], [659, 573], [4173, 3865, 3772, 3702], [2939, 2593, 2321], [1689, 1258], [408, 137], [4257, 3976, 3872], [3605, 3019], [2916, 2816], [1871, 1571], [1263, 941], [4211], [4108, 4019], [3929], [3831, 3074], [2978], [2773], [2675, 2370], [2201], [1825], [1724], [1625], [1452], [1118, 622], [101, 75], [3920, 3531], [2967], [2862, 2665], [2556], [2452], [2081, 1713], [1618], [1492], [800], [708, 613, 529, 437, 163], [4161], [4066, 3586, 3496], [3409, 2624, 2416, 2042], [1880], [1778], [1377, 494, 396], [127, 35], [3705, 3391, 3291], [3013, 2841, 2715, 2506, 1692], [716], [526, 449], [209], [102], [4025, 3645], [3556], [2994, 2885, 2692], [2572, 2199], [2097], [1844, 1328], [626], [540, 266], [3972], [3878, 3786, 3685, 3492, 3407], [3307, 3212, 3123, 2927, 2825], [2243], [1878, 1165], [1071], [582], [309], [220], [123], [32], [3857, 3094, 2906, 2807, 2312], [2226, 2128, 1942], [1861, 1659, 1558, 1251, 1144], [376, 211, 15], [3855, 2903, 2480], [2402], [2015], [1950], [1754], [1556, 654, 559], [474, 192, 13], [3815], [3723], [3622], [3245], [3167, 3054], [2962, 2758], [2361, 2083], [1509], [1409], [892], [611], [251], [3735, 3069], [1999], [1824], [1723, 1624, 1319, 621, 532, 325], [2794], [2112, 2059, 1936], [1650], [1238, 831, 593], [463], [208], [3656], [3562], [3464, 3210], [2895, 2305, 2222], [2109, 2033, 1545], [1341, 829, 7], [3470, 3379], [2901], [1859, 1667, 1352, 1246, 1053, 749], [558, 371, 194], [140], [3129, 3017, 2732, 2145], [1884, 1784], [1681, 1379, 1169, 962, 863, 223], [2882], [2787, 2683, 2095, 1931, 1732, 629], [448, 354, 238], [83]]\n"
     ]
    },
    {
     "name": "stderr",
     "output_type": "stream",
     "text": [
      "C:\\Users\\Neesty\\AppData\\Local\\Temp\\ipykernel_11472\\1466263585.py:9: SettingWithCopyWarning: \n",
      "A value is trying to be set on a copy of a slice from a DataFrame.\n",
      "Try using .loc[row_indexer,col_indexer] = value instead\n",
      "\n",
      "See the caveats in the documentation: https://pandas.pydata.org/pandas-docs/stable/user_guide/indexing.html#returning-a-view-versus-a-copy\n",
      "  df_9_8['group'] = df_9_8.index.map(reverse_dict)\n"
     ]
    }
   ],
   "source": [
    "list_of_lists = [value for values in indexes.values() for key, value in values.items() if key != 9999]\n",
    "print(list_of_lists)\n",
    "# Создаем новую колонку \"group\"\n",
    "reverse_dict = {}\n",
    "for num, group in enumerate(list_of_lists):\n",
    "    for index in group:\n",
    "        reverse_dict[index] = num\n",
    "\n",
    "df_9_8['group'] = df_9_8.index.map(reverse_dict)"
   ],
   "metadata": {
    "collapsed": false,
    "pycharm": {
     "name": "#%%\n"
    }
   }
  },
  {
   "cell_type": "code",
   "execution_count": 374,
   "outputs": [
    {
     "data": {
      "text/plain": "      week  user_id       channel  is_purchased  gmv  group\n63       1        9   context_ads             0    0   17.0\n64       1        8   context_ads             1  100   11.0\n160      2        9  social_media             1  100   17.0\n161      2        8    mobile_ads             1  200   10.0\n254      3        8      bloggers             1   50    9.0\n340      4        9   context_ads             0    0   16.0\n432      5        8  social_media             0    0    8.0\n896     10        9  social_media             0    0   16.0\n1205    13        8   context_ads             1   50    8.0\n1309    14        9  social_media             1  100   16.0\n1310    14        8  social_media             1   50    7.0\n1511    16        8      bloggers             1   50    6.0\n1912    20        9  social_media             1   50   15.0\n1989    21        8  social_media             1  100    5.0\n2076    22        9  social_media             0    0   14.0\n2077    22        8    mobile_ads             0    0    4.0\n2362    25        8   context_ads             0    0    4.0\n2553    27        9    mobile_ads             1   10   14.0\n2554    27        8   context_ads             1   10    4.0\n2662    28        8    mobile_ads             0    0    3.0\n2970    31        9   context_ads             1  210   13.0\n3161    33        9      bloggers             0    0   12.0\n3246    34        9      bloggers             0    0   12.0\n3348    35        9  social_media             0    0   12.0\n3436    36        8    mobile_ads             0    0    3.0\n3529    37        9      bloggers             0    0   12.0\n3625    38        9  social_media             1  100   12.0\n3916    41        8  social_media             1  200    3.0\n4098    43        8   context_ads             0    0    2.0\n4308    45        9   context_ads             0    0    NaN\n4315    45        8    mobile_ads             1  100    2.0\n4416    46        9  social_media             0    0    NaN\n4498    47        9   context_ads             0    0    NaN\n4499    47        8  social_media             1  200    1.0\n4599    48        8    mobile_ads             1   50    0.0",
      "text/html": "<div>\n<style scoped>\n    .dataframe tbody tr th:only-of-type {\n        vertical-align: middle;\n    }\n\n    .dataframe tbody tr th {\n        vertical-align: top;\n    }\n\n    .dataframe thead th {\n        text-align: right;\n    }\n</style>\n<table border=\"1\" class=\"dataframe\">\n  <thead>\n    <tr style=\"text-align: right;\">\n      <th></th>\n      <th>week</th>\n      <th>user_id</th>\n      <th>channel</th>\n      <th>is_purchased</th>\n      <th>gmv</th>\n      <th>group</th>\n    </tr>\n  </thead>\n  <tbody>\n    <tr>\n      <th>63</th>\n      <td>1</td>\n      <td>9</td>\n      <td>context_ads</td>\n      <td>0</td>\n      <td>0</td>\n      <td>17.0</td>\n    </tr>\n    <tr>\n      <th>64</th>\n      <td>1</td>\n      <td>8</td>\n      <td>context_ads</td>\n      <td>1</td>\n      <td>100</td>\n      <td>11.0</td>\n    </tr>\n    <tr>\n      <th>160</th>\n      <td>2</td>\n      <td>9</td>\n      <td>social_media</td>\n      <td>1</td>\n      <td>100</td>\n      <td>17.0</td>\n    </tr>\n    <tr>\n      <th>161</th>\n      <td>2</td>\n      <td>8</td>\n      <td>mobile_ads</td>\n      <td>1</td>\n      <td>200</td>\n      <td>10.0</td>\n    </tr>\n    <tr>\n      <th>254</th>\n      <td>3</td>\n      <td>8</td>\n      <td>bloggers</td>\n      <td>1</td>\n      <td>50</td>\n      <td>9.0</td>\n    </tr>\n    <tr>\n      <th>340</th>\n      <td>4</td>\n      <td>9</td>\n      <td>context_ads</td>\n      <td>0</td>\n      <td>0</td>\n      <td>16.0</td>\n    </tr>\n    <tr>\n      <th>432</th>\n      <td>5</td>\n      <td>8</td>\n      <td>social_media</td>\n      <td>0</td>\n      <td>0</td>\n      <td>8.0</td>\n    </tr>\n    <tr>\n      <th>896</th>\n      <td>10</td>\n      <td>9</td>\n      <td>social_media</td>\n      <td>0</td>\n      <td>0</td>\n      <td>16.0</td>\n    </tr>\n    <tr>\n      <th>1205</th>\n      <td>13</td>\n      <td>8</td>\n      <td>context_ads</td>\n      <td>1</td>\n      <td>50</td>\n      <td>8.0</td>\n    </tr>\n    <tr>\n      <th>1309</th>\n      <td>14</td>\n      <td>9</td>\n      <td>social_media</td>\n      <td>1</td>\n      <td>100</td>\n      <td>16.0</td>\n    </tr>\n    <tr>\n      <th>1310</th>\n      <td>14</td>\n      <td>8</td>\n      <td>social_media</td>\n      <td>1</td>\n      <td>50</td>\n      <td>7.0</td>\n    </tr>\n    <tr>\n      <th>1511</th>\n      <td>16</td>\n      <td>8</td>\n      <td>bloggers</td>\n      <td>1</td>\n      <td>50</td>\n      <td>6.0</td>\n    </tr>\n    <tr>\n      <th>1912</th>\n      <td>20</td>\n      <td>9</td>\n      <td>social_media</td>\n      <td>1</td>\n      <td>50</td>\n      <td>15.0</td>\n    </tr>\n    <tr>\n      <th>1989</th>\n      <td>21</td>\n      <td>8</td>\n      <td>social_media</td>\n      <td>1</td>\n      <td>100</td>\n      <td>5.0</td>\n    </tr>\n    <tr>\n      <th>2076</th>\n      <td>22</td>\n      <td>9</td>\n      <td>social_media</td>\n      <td>0</td>\n      <td>0</td>\n      <td>14.0</td>\n    </tr>\n    <tr>\n      <th>2077</th>\n      <td>22</td>\n      <td>8</td>\n      <td>mobile_ads</td>\n      <td>0</td>\n      <td>0</td>\n      <td>4.0</td>\n    </tr>\n    <tr>\n      <th>2362</th>\n      <td>25</td>\n      <td>8</td>\n      <td>context_ads</td>\n      <td>0</td>\n      <td>0</td>\n      <td>4.0</td>\n    </tr>\n    <tr>\n      <th>2553</th>\n      <td>27</td>\n      <td>9</td>\n      <td>mobile_ads</td>\n      <td>1</td>\n      <td>10</td>\n      <td>14.0</td>\n    </tr>\n    <tr>\n      <th>2554</th>\n      <td>27</td>\n      <td>8</td>\n      <td>context_ads</td>\n      <td>1</td>\n      <td>10</td>\n      <td>4.0</td>\n    </tr>\n    <tr>\n      <th>2662</th>\n      <td>28</td>\n      <td>8</td>\n      <td>mobile_ads</td>\n      <td>0</td>\n      <td>0</td>\n      <td>3.0</td>\n    </tr>\n    <tr>\n      <th>2970</th>\n      <td>31</td>\n      <td>9</td>\n      <td>context_ads</td>\n      <td>1</td>\n      <td>210</td>\n      <td>13.0</td>\n    </tr>\n    <tr>\n      <th>3161</th>\n      <td>33</td>\n      <td>9</td>\n      <td>bloggers</td>\n      <td>0</td>\n      <td>0</td>\n      <td>12.0</td>\n    </tr>\n    <tr>\n      <th>3246</th>\n      <td>34</td>\n      <td>9</td>\n      <td>bloggers</td>\n      <td>0</td>\n      <td>0</td>\n      <td>12.0</td>\n    </tr>\n    <tr>\n      <th>3348</th>\n      <td>35</td>\n      <td>9</td>\n      <td>social_media</td>\n      <td>0</td>\n      <td>0</td>\n      <td>12.0</td>\n    </tr>\n    <tr>\n      <th>3436</th>\n      <td>36</td>\n      <td>8</td>\n      <td>mobile_ads</td>\n      <td>0</td>\n      <td>0</td>\n      <td>3.0</td>\n    </tr>\n    <tr>\n      <th>3529</th>\n      <td>37</td>\n      <td>9</td>\n      <td>bloggers</td>\n      <td>0</td>\n      <td>0</td>\n      <td>12.0</td>\n    </tr>\n    <tr>\n      <th>3625</th>\n      <td>38</td>\n      <td>9</td>\n      <td>social_media</td>\n      <td>1</td>\n      <td>100</td>\n      <td>12.0</td>\n    </tr>\n    <tr>\n      <th>3916</th>\n      <td>41</td>\n      <td>8</td>\n      <td>social_media</td>\n      <td>1</td>\n      <td>200</td>\n      <td>3.0</td>\n    </tr>\n    <tr>\n      <th>4098</th>\n      <td>43</td>\n      <td>8</td>\n      <td>context_ads</td>\n      <td>0</td>\n      <td>0</td>\n      <td>2.0</td>\n    </tr>\n    <tr>\n      <th>4308</th>\n      <td>45</td>\n      <td>9</td>\n      <td>context_ads</td>\n      <td>0</td>\n      <td>0</td>\n      <td>NaN</td>\n    </tr>\n    <tr>\n      <th>4315</th>\n      <td>45</td>\n      <td>8</td>\n      <td>mobile_ads</td>\n      <td>1</td>\n      <td>100</td>\n      <td>2.0</td>\n    </tr>\n    <tr>\n      <th>4416</th>\n      <td>46</td>\n      <td>9</td>\n      <td>social_media</td>\n      <td>0</td>\n      <td>0</td>\n      <td>NaN</td>\n    </tr>\n    <tr>\n      <th>4498</th>\n      <td>47</td>\n      <td>9</td>\n      <td>context_ads</td>\n      <td>0</td>\n      <td>0</td>\n      <td>NaN</td>\n    </tr>\n    <tr>\n      <th>4499</th>\n      <td>47</td>\n      <td>8</td>\n      <td>social_media</td>\n      <td>1</td>\n      <td>200</td>\n      <td>1.0</td>\n    </tr>\n    <tr>\n      <th>4599</th>\n      <td>48</td>\n      <td>8</td>\n      <td>mobile_ads</td>\n      <td>1</td>\n      <td>50</td>\n      <td>0.0</td>\n    </tr>\n  </tbody>\n</table>\n</div>"
     },
     "execution_count": 374,
     "metadata": {},
     "output_type": "execute_result"
    }
   ],
   "source": [
    "df_9_8"
   ],
   "metadata": {
    "collapsed": false,
    "pycharm": {
     "name": "#%%\n"
    }
   }
  },
  {
   "cell_type": "code",
   "execution_count": 419,
   "outputs": [
    {
     "name": "stdout",
     "output_type": "stream",
     "text": [
      "Group: 0.0\n",
      "value before:  [50]\n",
      "value:  [50]\n",
      "before:  [50]\n",
      "after:  [50]\n",
      "Group: 1.0\n",
      "value before:  [200]\n",
      "value:  [200]\n",
      "before:  [200]\n",
      "after:  [200]\n",
      "Group: 2.0\n",
      "value before:  [  0 100]\n",
      "value:  [100   0]\n",
      "before:  [  0 100]\n",
      "after:  [100   0]\n",
      "Group: 3.0\n",
      "value before:  [  0   0 200]\n",
      "value:  [200   0   0]\n",
      "before:  [  0   0 200]\n",
      "after:  [200   0   0]\n",
      "Group: 4.0\n",
      "value before:  [ 0  0 10]\n",
      "value:  [10  0  0]\n",
      "before:  [ 0  0 10]\n",
      "after:  [10  0  0]\n",
      "Group: 5.0\n",
      "value before:  [100]\n",
      "value:  [100]\n",
      "before:  [100]\n",
      "after:  [100]\n",
      "Group: 6.0\n",
      "value before:  [50]\n",
      "value:  [50]\n",
      "before:  [50]\n",
      "after:  [50]\n",
      "Group: 7.0\n",
      "value before:  [50]\n",
      "value:  [50]\n",
      "before:  [50]\n",
      "after:  [50]\n",
      "Group: 8.0\n",
      "value before:  [ 0 50]\n",
      "value:  [50  0]\n",
      "before:  [ 0 50]\n",
      "after:  [50  0]\n",
      "Group: 9.0\n",
      "value before:  [50]\n",
      "value:  [50]\n",
      "before:  [50]\n",
      "after:  [50]\n",
      "Group: 10.0\n",
      "value before:  [200]\n",
      "value:  [200]\n",
      "before:  [200]\n",
      "after:  [200]\n",
      "Group: 11.0\n",
      "value before:  [100]\n",
      "value:  [100]\n",
      "before:  [100]\n",
      "after:  [100]\n",
      "Group: 12.0\n",
      "value before:  [  0   0   0   0 100]\n",
      "value:  [100   0   0   0   0]\n",
      "before:  [  0   0   0   0 100]\n",
      "after:  [100   0   0   0   0]\n",
      "Group: 13.0\n",
      "value before:  [210]\n",
      "value:  [210]\n",
      "before:  [210]\n",
      "after:  [210]\n",
      "Group: 14.0\n",
      "value before:  [ 0 10]\n",
      "value:  [10  0]\n",
      "before:  [ 0 10]\n",
      "after:  [10  0]\n",
      "Group: 15.0\n",
      "value before:  [50]\n",
      "value:  [50]\n",
      "before:  [50]\n",
      "after:  [50]\n",
      "Group: 16.0\n",
      "value before:  [  0   0 100]\n",
      "value:  [100   0   0]\n",
      "before:  [  0   0 100]\n",
      "after:  [100   0   0]\n",
      "Group: 17.0\n",
      "value before:  [  0 100]\n",
      "value:  [100   0]\n",
      "before:  [  0 100]\n",
      "after:  [100   0]\n"
     ]
    }
   ],
   "source": [
    "for key, subgroup in df_9_8.groupby('group'):\n",
    "    df_9_8.loc[df_9_8['group'] == key, 'gmv'] = subgroup['gmv'].values[::-1]"
   ],
   "metadata": {
    "collapsed": false,
    "pycharm": {
     "name": "#%%\n"
    }
   }
  },
  {
   "cell_type": "code",
   "execution_count": 20,
   "outputs": [],
   "source": [
    "def group_by_actions(df: pd.DataFrame):\n",
    "    # user:{}\n",
    "    current_index = {}  # user_id:curent_index\n",
    "    current_user = df.iloc[-1].iloc[1]\n",
    "    indexes = {}\n",
    "    for index, row in reversed(list(df.iterrows())):\n",
    "        if row.iloc[1] not in current_index.keys():\n",
    "            current_index[row.iloc[1]] = 9999\n",
    "            indexes[row.iloc[1]] = {9999: []}\n",
    "        if row.iloc[3] == 1:\n",
    "            current_index[row.iloc[1]] = index\n",
    "            indexes[row.iloc[1]][current_index[row.iloc[1]]] = [index]\n",
    "        else:\n",
    "            indexes[row.iloc[1]][current_index[row.iloc[1]]].append(index)\n",
    "\n",
    "    list_of_lists = [value for values in indexes.values() for key, value in values.items() if key != 9999]\n",
    "    # Создаем новую колонку \"group\"\n",
    "    indexes_groups = {}\n",
    "    for num, group in enumerate(list_of_lists):\n",
    "        for index in group:\n",
    "            indexes_groups[index] = num\n",
    "\n",
    "    return indexes_groups"
   ],
   "metadata": {
    "collapsed": false,
    "pycharm": {
     "name": "#%%\n"
    }
   }
  },
  {
   "cell_type": "code",
   "execution_count": 21,
   "outputs": [],
   "source": [],
   "metadata": {
    "collapsed": false,
    "pycharm": {
     "name": "#%%\n"
    }
   }
  },
  {
   "cell_type": "code",
   "execution_count": 38,
   "outputs": [],
   "source": [
    "def pivot_count_costs(df: pd.DataFrame):\n",
    "    df = df.query('gmv > 0')\n",
    "    final_table = pd.pivot_table(df,\n",
    "                                 values='gmv',\n",
    "                                 index=['week', 'user_id'],\n",
    "                                 columns=['channel'],\n",
    "                                 aggfunc='sum',\n",
    "                                 fill_value=0,\n",
    "                                 margins_name='user_id')\n",
    "    final_table = final_table.reset_index()\n",
    "    final_table.columns.names = [None]\n",
    "    final_table['total_gmv'] = final_table.iloc[:, -4:].sum(axis=1)\n",
    "\n",
    "    return final_table"
   ],
   "metadata": {
    "collapsed": false,
    "pycharm": {
     "name": "#%%\n"
    }
   }
  },
  {
   "cell_type": "code",
   "execution_count": null,
   "outputs": [],
   "source": [],
   "metadata": {
    "collapsed": false,
    "pycharm": {
     "name": "#%%\n"
    }
   }
  },
  {
   "cell_type": "code",
   "execution_count": 529,
   "outputs": [],
   "source": [
    "df = pd.read_csv('events.csv')"
   ],
   "metadata": {
    "collapsed": false,
    "pycharm": {
     "name": "#%%\n"
    }
   }
  },
  {
   "cell_type": "code",
   "execution_count": 530,
   "outputs": [],
   "source": [
    "df = df.query('user_id == 1')"
   ],
   "metadata": {
    "collapsed": false,
    "pycharm": {
     "name": "#%%\n"
    }
   }
  },
  {
   "cell_type": "code",
   "execution_count": 502,
   "outputs": [],
   "source": [
    "indexes_groups = group_by_actions(df)\n",
    "df['group'] = df.index.map(indexes_groups)\n"
   ],
   "metadata": {
    "collapsed": false,
    "pycharm": {
     "name": "#%%\n"
    }
   }
  },
  {
   "cell_type": "code",
   "execution_count": 503,
   "outputs": [],
   "source": [
    "for key, subgroup in df.groupby('group'):\n",
    "    # print(round(subgroup['gmv'].values[::-1].mean()))\n",
    "    # print(len(subgroup))\n",
    "    df.loc[df['group'] == key, 'gmv'] = [(subgroup['gmv'].values[::-1].mean())] * len(subgroup)\n",
    "    # df.loc[df['group'] == key, 'week'] = subgroup['week'].values[::-1]"
   ],
   "metadata": {
    "collapsed": false,
    "pycharm": {
     "name": "#%%\n"
    }
   }
  },
  {
   "cell_type": "code",
   "execution_count": 504,
   "outputs": [],
   "source": [
    "df = df.query('gmv > 0')\n",
    "final_table = pd.pivot_table(df,\n",
    "                             values='gmv',\n",
    "                             index=['week', 'user_id', df.index],\n",
    "                             columns=['channel'],\n",
    "                             aggfunc='sum',\n",
    "                             fill_value=0,\n",
    "                             margins_name='user_id')\n"
   ],
   "metadata": {
    "collapsed": false,
    "pycharm": {
     "name": "#%%\n"
    }
   }
  },
  {
   "cell_type": "code",
   "execution_count": 505,
   "outputs": [],
   "source": [
    "final_table['group'] = final_table.index.get_level_values(2).map(indexes_groups)"
   ],
   "metadata": {
    "collapsed": false,
    "pycharm": {
     "name": "#%%\n"
    }
   }
  },
  {
   "cell_type": "code",
   "execution_count": 506,
   "outputs": [
    {
     "data": {
      "text/plain": "channel            bloggers  context_ads  mobile_ads  social_media  group\nweek user_id                                                             \n2    1       163        0.0         10.0         0.0           0.0      9\n5    1       437        0.0          0.0         0.0          10.0      9\n6    1       529        0.0         10.0         0.0           0.0      9\n7    1       613        0.0          0.0         0.0          10.0      9\n8    1       708        0.0         10.0         0.0           0.0      9\n9    1       800        0.0         10.0         0.0           0.0      8\n16   1       1492       0.0          0.0         0.0         400.0      7\n17   1       1618       0.0          0.0         0.0          50.0      6\n18   1       1713       0.0          0.0         0.0           5.0      5\n22   1       2081       5.0          0.0         0.0           0.0      5\n26   1       2452       0.0          0.0       110.0           0.0      4\n27   1       2556       0.0        100.0         0.0           0.0      3\n28   1       2665       0.0          0.0         0.0         100.0      2\n30   1       2862     100.0          0.0         0.0           0.0      2\n31   1       2967       0.0          0.0         0.0          50.0      1\n37   1       3531       0.0        100.0         0.0           0.0      0\n41   1       3920       0.0          0.0       100.0           0.0      0",
      "text/html": "<div>\n<style scoped>\n    .dataframe tbody tr th:only-of-type {\n        vertical-align: middle;\n    }\n\n    .dataframe tbody tr th {\n        vertical-align: top;\n    }\n\n    .dataframe thead th {\n        text-align: right;\n    }\n</style>\n<table border=\"1\" class=\"dataframe\">\n  <thead>\n    <tr style=\"text-align: right;\">\n      <th></th>\n      <th></th>\n      <th>channel</th>\n      <th>bloggers</th>\n      <th>context_ads</th>\n      <th>mobile_ads</th>\n      <th>social_media</th>\n      <th>group</th>\n    </tr>\n    <tr>\n      <th>week</th>\n      <th>user_id</th>\n      <th></th>\n      <th></th>\n      <th></th>\n      <th></th>\n      <th></th>\n      <th></th>\n    </tr>\n  </thead>\n  <tbody>\n    <tr>\n      <th>2</th>\n      <th>1</th>\n      <th>163</th>\n      <td>0.0</td>\n      <td>10.0</td>\n      <td>0.0</td>\n      <td>0.0</td>\n      <td>9</td>\n    </tr>\n    <tr>\n      <th>5</th>\n      <th>1</th>\n      <th>437</th>\n      <td>0.0</td>\n      <td>0.0</td>\n      <td>0.0</td>\n      <td>10.0</td>\n      <td>9</td>\n    </tr>\n    <tr>\n      <th>6</th>\n      <th>1</th>\n      <th>529</th>\n      <td>0.0</td>\n      <td>10.0</td>\n      <td>0.0</td>\n      <td>0.0</td>\n      <td>9</td>\n    </tr>\n    <tr>\n      <th>7</th>\n      <th>1</th>\n      <th>613</th>\n      <td>0.0</td>\n      <td>0.0</td>\n      <td>0.0</td>\n      <td>10.0</td>\n      <td>9</td>\n    </tr>\n    <tr>\n      <th>8</th>\n      <th>1</th>\n      <th>708</th>\n      <td>0.0</td>\n      <td>10.0</td>\n      <td>0.0</td>\n      <td>0.0</td>\n      <td>9</td>\n    </tr>\n    <tr>\n      <th>9</th>\n      <th>1</th>\n      <th>800</th>\n      <td>0.0</td>\n      <td>10.0</td>\n      <td>0.0</td>\n      <td>0.0</td>\n      <td>8</td>\n    </tr>\n    <tr>\n      <th>16</th>\n      <th>1</th>\n      <th>1492</th>\n      <td>0.0</td>\n      <td>0.0</td>\n      <td>0.0</td>\n      <td>400.0</td>\n      <td>7</td>\n    </tr>\n    <tr>\n      <th>17</th>\n      <th>1</th>\n      <th>1618</th>\n      <td>0.0</td>\n      <td>0.0</td>\n      <td>0.0</td>\n      <td>50.0</td>\n      <td>6</td>\n    </tr>\n    <tr>\n      <th>18</th>\n      <th>1</th>\n      <th>1713</th>\n      <td>0.0</td>\n      <td>0.0</td>\n      <td>0.0</td>\n      <td>5.0</td>\n      <td>5</td>\n    </tr>\n    <tr>\n      <th>22</th>\n      <th>1</th>\n      <th>2081</th>\n      <td>5.0</td>\n      <td>0.0</td>\n      <td>0.0</td>\n      <td>0.0</td>\n      <td>5</td>\n    </tr>\n    <tr>\n      <th>26</th>\n      <th>1</th>\n      <th>2452</th>\n      <td>0.0</td>\n      <td>0.0</td>\n      <td>110.0</td>\n      <td>0.0</td>\n      <td>4</td>\n    </tr>\n    <tr>\n      <th>27</th>\n      <th>1</th>\n      <th>2556</th>\n      <td>0.0</td>\n      <td>100.0</td>\n      <td>0.0</td>\n      <td>0.0</td>\n      <td>3</td>\n    </tr>\n    <tr>\n      <th>28</th>\n      <th>1</th>\n      <th>2665</th>\n      <td>0.0</td>\n      <td>0.0</td>\n      <td>0.0</td>\n      <td>100.0</td>\n      <td>2</td>\n    </tr>\n    <tr>\n      <th>30</th>\n      <th>1</th>\n      <th>2862</th>\n      <td>100.0</td>\n      <td>0.0</td>\n      <td>0.0</td>\n      <td>0.0</td>\n      <td>2</td>\n    </tr>\n    <tr>\n      <th>31</th>\n      <th>1</th>\n      <th>2967</th>\n      <td>0.0</td>\n      <td>0.0</td>\n      <td>0.0</td>\n      <td>50.0</td>\n      <td>1</td>\n    </tr>\n    <tr>\n      <th>37</th>\n      <th>1</th>\n      <th>3531</th>\n      <td>0.0</td>\n      <td>100.0</td>\n      <td>0.0</td>\n      <td>0.0</td>\n      <td>0</td>\n    </tr>\n    <tr>\n      <th>41</th>\n      <th>1</th>\n      <th>3920</th>\n      <td>0.0</td>\n      <td>0.0</td>\n      <td>100.0</td>\n      <td>0.0</td>\n      <td>0</td>\n    </tr>\n  </tbody>\n</table>\n</div>"
     },
     "execution_count": 506,
     "metadata": {},
     "output_type": "execute_result"
    }
   ],
   "source": [
    "final_table"
   ],
   "metadata": {
    "collapsed": false,
    "pycharm": {
     "name": "#%%\n"
    }
   }
  },
  {
   "cell_type": "code",
   "execution_count": 507,
   "outputs": [],
   "source": [
    "final_table = final_table.reset_index()\n",
    "final_table.columns.names = [None]"
   ],
   "metadata": {
    "collapsed": false,
    "pycharm": {
     "name": "#%%\n"
    }
   }
  },
  {
   "cell_type": "code",
   "execution_count": 508,
   "outputs": [
    {
     "data": {
      "text/plain": "    week  user_id  level_2  bloggers  context_ads  mobile_ads  social_media  \\\n0      2        1      163       0.0         10.0         0.0           0.0   \n1      5        1      437       0.0          0.0         0.0          10.0   \n2      6        1      529       0.0         10.0         0.0           0.0   \n3      7        1      613       0.0          0.0         0.0          10.0   \n4      8        1      708       0.0         10.0         0.0           0.0   \n5      9        1      800       0.0         10.0         0.0           0.0   \n6     16        1     1492       0.0          0.0         0.0         400.0   \n7     17        1     1618       0.0          0.0         0.0          50.0   \n8     18        1     1713       0.0          0.0         0.0           5.0   \n9     22        1     2081       5.0          0.0         0.0           0.0   \n10    26        1     2452       0.0          0.0       110.0           0.0   \n11    27        1     2556       0.0        100.0         0.0           0.0   \n12    28        1     2665       0.0          0.0         0.0         100.0   \n13    30        1     2862     100.0          0.0         0.0           0.0   \n14    31        1     2967       0.0          0.0         0.0          50.0   \n15    37        1     3531       0.0        100.0         0.0           0.0   \n16    41        1     3920       0.0          0.0       100.0           0.0   \n\n    group  \n0       9  \n1       9  \n2       9  \n3       9  \n4       9  \n5       8  \n6       7  \n7       6  \n8       5  \n9       5  \n10      4  \n11      3  \n12      2  \n13      2  \n14      1  \n15      0  \n16      0  ",
      "text/html": "<div>\n<style scoped>\n    .dataframe tbody tr th:only-of-type {\n        vertical-align: middle;\n    }\n\n    .dataframe tbody tr th {\n        vertical-align: top;\n    }\n\n    .dataframe thead th {\n        text-align: right;\n    }\n</style>\n<table border=\"1\" class=\"dataframe\">\n  <thead>\n    <tr style=\"text-align: right;\">\n      <th></th>\n      <th>week</th>\n      <th>user_id</th>\n      <th>level_2</th>\n      <th>bloggers</th>\n      <th>context_ads</th>\n      <th>mobile_ads</th>\n      <th>social_media</th>\n      <th>group</th>\n    </tr>\n  </thead>\n  <tbody>\n    <tr>\n      <th>0</th>\n      <td>2</td>\n      <td>1</td>\n      <td>163</td>\n      <td>0.0</td>\n      <td>10.0</td>\n      <td>0.0</td>\n      <td>0.0</td>\n      <td>9</td>\n    </tr>\n    <tr>\n      <th>1</th>\n      <td>5</td>\n      <td>1</td>\n      <td>437</td>\n      <td>0.0</td>\n      <td>0.0</td>\n      <td>0.0</td>\n      <td>10.0</td>\n      <td>9</td>\n    </tr>\n    <tr>\n      <th>2</th>\n      <td>6</td>\n      <td>1</td>\n      <td>529</td>\n      <td>0.0</td>\n      <td>10.0</td>\n      <td>0.0</td>\n      <td>0.0</td>\n      <td>9</td>\n    </tr>\n    <tr>\n      <th>3</th>\n      <td>7</td>\n      <td>1</td>\n      <td>613</td>\n      <td>0.0</td>\n      <td>0.0</td>\n      <td>0.0</td>\n      <td>10.0</td>\n      <td>9</td>\n    </tr>\n    <tr>\n      <th>4</th>\n      <td>8</td>\n      <td>1</td>\n      <td>708</td>\n      <td>0.0</td>\n      <td>10.0</td>\n      <td>0.0</td>\n      <td>0.0</td>\n      <td>9</td>\n    </tr>\n    <tr>\n      <th>5</th>\n      <td>9</td>\n      <td>1</td>\n      <td>800</td>\n      <td>0.0</td>\n      <td>10.0</td>\n      <td>0.0</td>\n      <td>0.0</td>\n      <td>8</td>\n    </tr>\n    <tr>\n      <th>6</th>\n      <td>16</td>\n      <td>1</td>\n      <td>1492</td>\n      <td>0.0</td>\n      <td>0.0</td>\n      <td>0.0</td>\n      <td>400.0</td>\n      <td>7</td>\n    </tr>\n    <tr>\n      <th>7</th>\n      <td>17</td>\n      <td>1</td>\n      <td>1618</td>\n      <td>0.0</td>\n      <td>0.0</td>\n      <td>0.0</td>\n      <td>50.0</td>\n      <td>6</td>\n    </tr>\n    <tr>\n      <th>8</th>\n      <td>18</td>\n      <td>1</td>\n      <td>1713</td>\n      <td>0.0</td>\n      <td>0.0</td>\n      <td>0.0</td>\n      <td>5.0</td>\n      <td>5</td>\n    </tr>\n    <tr>\n      <th>9</th>\n      <td>22</td>\n      <td>1</td>\n      <td>2081</td>\n      <td>5.0</td>\n      <td>0.0</td>\n      <td>0.0</td>\n      <td>0.0</td>\n      <td>5</td>\n    </tr>\n    <tr>\n      <th>10</th>\n      <td>26</td>\n      <td>1</td>\n      <td>2452</td>\n      <td>0.0</td>\n      <td>0.0</td>\n      <td>110.0</td>\n      <td>0.0</td>\n      <td>4</td>\n    </tr>\n    <tr>\n      <th>11</th>\n      <td>27</td>\n      <td>1</td>\n      <td>2556</td>\n      <td>0.0</td>\n      <td>100.0</td>\n      <td>0.0</td>\n      <td>0.0</td>\n      <td>3</td>\n    </tr>\n    <tr>\n      <th>12</th>\n      <td>28</td>\n      <td>1</td>\n      <td>2665</td>\n      <td>0.0</td>\n      <td>0.0</td>\n      <td>0.0</td>\n      <td>100.0</td>\n      <td>2</td>\n    </tr>\n    <tr>\n      <th>13</th>\n      <td>30</td>\n      <td>1</td>\n      <td>2862</td>\n      <td>100.0</td>\n      <td>0.0</td>\n      <td>0.0</td>\n      <td>0.0</td>\n      <td>2</td>\n    </tr>\n    <tr>\n      <th>14</th>\n      <td>31</td>\n      <td>1</td>\n      <td>2967</td>\n      <td>0.0</td>\n      <td>0.0</td>\n      <td>0.0</td>\n      <td>50.0</td>\n      <td>1</td>\n    </tr>\n    <tr>\n      <th>15</th>\n      <td>37</td>\n      <td>1</td>\n      <td>3531</td>\n      <td>0.0</td>\n      <td>100.0</td>\n      <td>0.0</td>\n      <td>0.0</td>\n      <td>0</td>\n    </tr>\n    <tr>\n      <th>16</th>\n      <td>41</td>\n      <td>1</td>\n      <td>3920</td>\n      <td>0.0</td>\n      <td>0.0</td>\n      <td>100.0</td>\n      <td>0.0</td>\n      <td>0</td>\n    </tr>\n  </tbody>\n</table>\n</div>"
     },
     "execution_count": 508,
     "metadata": {},
     "output_type": "execute_result"
    }
   ],
   "source": [
    "final_table"
   ],
   "metadata": {
    "collapsed": false,
    "pycharm": {
     "name": "#%%\n"
    }
   }
  },
  {
   "cell_type": "code",
   "execution_count": 509,
   "outputs": [],
   "source": [
    "final_table.set_index('level_2', inplace=True)"
   ],
   "metadata": {
    "collapsed": false,
    "pycharm": {
     "name": "#%%\n"
    }
   }
  },
  {
   "cell_type": "code",
   "execution_count": 510,
   "outputs": [
    {
     "data": {
      "text/plain": "         week  user_id  bloggers  context_ads  mobile_ads  social_media  group\nlevel_2                                                                       \n163         2        1       0.0         10.0         0.0           0.0      9\n437         5        1       0.0          0.0         0.0          10.0      9\n529         6        1       0.0         10.0         0.0           0.0      9\n613         7        1       0.0          0.0         0.0          10.0      9\n708         8        1       0.0         10.0         0.0           0.0      9\n800         9        1       0.0         10.0         0.0           0.0      8\n1492       16        1       0.0          0.0         0.0         400.0      7\n1618       17        1       0.0          0.0         0.0          50.0      6\n1713       18        1       0.0          0.0         0.0           5.0      5\n2081       22        1       5.0          0.0         0.0           0.0      5\n2452       26        1       0.0          0.0       110.0           0.0      4\n2556       27        1       0.0        100.0         0.0           0.0      3\n2665       28        1       0.0          0.0         0.0         100.0      2\n2862       30        1     100.0          0.0         0.0           0.0      2\n2967       31        1       0.0          0.0         0.0          50.0      1\n3531       37        1       0.0        100.0         0.0           0.0      0\n3920       41        1       0.0          0.0       100.0           0.0      0",
      "text/html": "<div>\n<style scoped>\n    .dataframe tbody tr th:only-of-type {\n        vertical-align: middle;\n    }\n\n    .dataframe tbody tr th {\n        vertical-align: top;\n    }\n\n    .dataframe thead th {\n        text-align: right;\n    }\n</style>\n<table border=\"1\" class=\"dataframe\">\n  <thead>\n    <tr style=\"text-align: right;\">\n      <th></th>\n      <th>week</th>\n      <th>user_id</th>\n      <th>bloggers</th>\n      <th>context_ads</th>\n      <th>mobile_ads</th>\n      <th>social_media</th>\n      <th>group</th>\n    </tr>\n    <tr>\n      <th>level_2</th>\n      <th></th>\n      <th></th>\n      <th></th>\n      <th></th>\n      <th></th>\n      <th></th>\n      <th></th>\n    </tr>\n  </thead>\n  <tbody>\n    <tr>\n      <th>163</th>\n      <td>2</td>\n      <td>1</td>\n      <td>0.0</td>\n      <td>10.0</td>\n      <td>0.0</td>\n      <td>0.0</td>\n      <td>9</td>\n    </tr>\n    <tr>\n      <th>437</th>\n      <td>5</td>\n      <td>1</td>\n      <td>0.0</td>\n      <td>0.0</td>\n      <td>0.0</td>\n      <td>10.0</td>\n      <td>9</td>\n    </tr>\n    <tr>\n      <th>529</th>\n      <td>6</td>\n      <td>1</td>\n      <td>0.0</td>\n      <td>10.0</td>\n      <td>0.0</td>\n      <td>0.0</td>\n      <td>9</td>\n    </tr>\n    <tr>\n      <th>613</th>\n      <td>7</td>\n      <td>1</td>\n      <td>0.0</td>\n      <td>0.0</td>\n      <td>0.0</td>\n      <td>10.0</td>\n      <td>9</td>\n    </tr>\n    <tr>\n      <th>708</th>\n      <td>8</td>\n      <td>1</td>\n      <td>0.0</td>\n      <td>10.0</td>\n      <td>0.0</td>\n      <td>0.0</td>\n      <td>9</td>\n    </tr>\n    <tr>\n      <th>800</th>\n      <td>9</td>\n      <td>1</td>\n      <td>0.0</td>\n      <td>10.0</td>\n      <td>0.0</td>\n      <td>0.0</td>\n      <td>8</td>\n    </tr>\n    <tr>\n      <th>1492</th>\n      <td>16</td>\n      <td>1</td>\n      <td>0.0</td>\n      <td>0.0</td>\n      <td>0.0</td>\n      <td>400.0</td>\n      <td>7</td>\n    </tr>\n    <tr>\n      <th>1618</th>\n      <td>17</td>\n      <td>1</td>\n      <td>0.0</td>\n      <td>0.0</td>\n      <td>0.0</td>\n      <td>50.0</td>\n      <td>6</td>\n    </tr>\n    <tr>\n      <th>1713</th>\n      <td>18</td>\n      <td>1</td>\n      <td>0.0</td>\n      <td>0.0</td>\n      <td>0.0</td>\n      <td>5.0</td>\n      <td>5</td>\n    </tr>\n    <tr>\n      <th>2081</th>\n      <td>22</td>\n      <td>1</td>\n      <td>5.0</td>\n      <td>0.0</td>\n      <td>0.0</td>\n      <td>0.0</td>\n      <td>5</td>\n    </tr>\n    <tr>\n      <th>2452</th>\n      <td>26</td>\n      <td>1</td>\n      <td>0.0</td>\n      <td>0.0</td>\n      <td>110.0</td>\n      <td>0.0</td>\n      <td>4</td>\n    </tr>\n    <tr>\n      <th>2556</th>\n      <td>27</td>\n      <td>1</td>\n      <td>0.0</td>\n      <td>100.0</td>\n      <td>0.0</td>\n      <td>0.0</td>\n      <td>3</td>\n    </tr>\n    <tr>\n      <th>2665</th>\n      <td>28</td>\n      <td>1</td>\n      <td>0.0</td>\n      <td>0.0</td>\n      <td>0.0</td>\n      <td>100.0</td>\n      <td>2</td>\n    </tr>\n    <tr>\n      <th>2862</th>\n      <td>30</td>\n      <td>1</td>\n      <td>100.0</td>\n      <td>0.0</td>\n      <td>0.0</td>\n      <td>0.0</td>\n      <td>2</td>\n    </tr>\n    <tr>\n      <th>2967</th>\n      <td>31</td>\n      <td>1</td>\n      <td>0.0</td>\n      <td>0.0</td>\n      <td>0.0</td>\n      <td>50.0</td>\n      <td>1</td>\n    </tr>\n    <tr>\n      <th>3531</th>\n      <td>37</td>\n      <td>1</td>\n      <td>0.0</td>\n      <td>100.0</td>\n      <td>0.0</td>\n      <td>0.0</td>\n      <td>0</td>\n    </tr>\n    <tr>\n      <th>3920</th>\n      <td>41</td>\n      <td>1</td>\n      <td>0.0</td>\n      <td>0.0</td>\n      <td>100.0</td>\n      <td>0.0</td>\n      <td>0</td>\n    </tr>\n  </tbody>\n</table>\n</div>"
     },
     "execution_count": 510,
     "metadata": {},
     "output_type": "execute_result"
    }
   ],
   "source": [
    "final_table"
   ],
   "metadata": {
    "collapsed": false,
    "pycharm": {
     "name": "#%%\n"
    }
   }
  },
  {
   "cell_type": "code",
   "execution_count": 511,
   "outputs": [],
   "source": [
    "# user_week_final_table = final_table.iloc[:, :2]"
   ],
   "metadata": {
    "collapsed": false,
    "pycharm": {
     "name": "#%%\n"
    }
   }
  },
  {
   "cell_type": "code",
   "execution_count": 512,
   "outputs": [],
   "source": [
    "user_week_final_table = df.query('is_purchased==1').loc[:, [\"week\", 'user_id']]"
   ],
   "metadata": {
    "collapsed": false,
    "pycharm": {
     "name": "#%%\n"
    }
   }
  },
  {
   "cell_type": "code",
   "execution_count": 513,
   "outputs": [
    {
     "data": {
      "text/plain": "         week  user_id  bloggers  context_ads  mobile_ads  social_media  group\nlevel_2                                                                       \n163         2        1       0.0         10.0         0.0           0.0      9\n437         5        1       0.0          0.0         0.0          10.0      9\n529         6        1       0.0         10.0         0.0           0.0      9\n613         7        1       0.0          0.0         0.0          10.0      9\n708         8        1       0.0         10.0         0.0           0.0      9\n800         9        1       0.0         10.0         0.0           0.0      8\n1492       16        1       0.0          0.0         0.0         400.0      7\n1618       17        1       0.0          0.0         0.0          50.0      6\n1713       18        1       0.0          0.0         0.0           5.0      5\n2081       22        1       5.0          0.0         0.0           0.0      5\n2452       26        1       0.0          0.0       110.0           0.0      4\n2556       27        1       0.0        100.0         0.0           0.0      3\n2665       28        1       0.0          0.0         0.0         100.0      2\n2862       30        1     100.0          0.0         0.0           0.0      2\n2967       31        1       0.0          0.0         0.0          50.0      1\n3531       37        1       0.0        100.0         0.0           0.0      0\n3920       41        1       0.0          0.0       100.0           0.0      0",
      "text/html": "<div>\n<style scoped>\n    .dataframe tbody tr th:only-of-type {\n        vertical-align: middle;\n    }\n\n    .dataframe tbody tr th {\n        vertical-align: top;\n    }\n\n    .dataframe thead th {\n        text-align: right;\n    }\n</style>\n<table border=\"1\" class=\"dataframe\">\n  <thead>\n    <tr style=\"text-align: right;\">\n      <th></th>\n      <th>week</th>\n      <th>user_id</th>\n      <th>bloggers</th>\n      <th>context_ads</th>\n      <th>mobile_ads</th>\n      <th>social_media</th>\n      <th>group</th>\n    </tr>\n    <tr>\n      <th>level_2</th>\n      <th></th>\n      <th></th>\n      <th></th>\n      <th></th>\n      <th></th>\n      <th></th>\n      <th></th>\n    </tr>\n  </thead>\n  <tbody>\n    <tr>\n      <th>163</th>\n      <td>2</td>\n      <td>1</td>\n      <td>0.0</td>\n      <td>10.0</td>\n      <td>0.0</td>\n      <td>0.0</td>\n      <td>9</td>\n    </tr>\n    <tr>\n      <th>437</th>\n      <td>5</td>\n      <td>1</td>\n      <td>0.0</td>\n      <td>0.0</td>\n      <td>0.0</td>\n      <td>10.0</td>\n      <td>9</td>\n    </tr>\n    <tr>\n      <th>529</th>\n      <td>6</td>\n      <td>1</td>\n      <td>0.0</td>\n      <td>10.0</td>\n      <td>0.0</td>\n      <td>0.0</td>\n      <td>9</td>\n    </tr>\n    <tr>\n      <th>613</th>\n      <td>7</td>\n      <td>1</td>\n      <td>0.0</td>\n      <td>0.0</td>\n      <td>0.0</td>\n      <td>10.0</td>\n      <td>9</td>\n    </tr>\n    <tr>\n      <th>708</th>\n      <td>8</td>\n      <td>1</td>\n      <td>0.0</td>\n      <td>10.0</td>\n      <td>0.0</td>\n      <td>0.0</td>\n      <td>9</td>\n    </tr>\n    <tr>\n      <th>800</th>\n      <td>9</td>\n      <td>1</td>\n      <td>0.0</td>\n      <td>10.0</td>\n      <td>0.0</td>\n      <td>0.0</td>\n      <td>8</td>\n    </tr>\n    <tr>\n      <th>1492</th>\n      <td>16</td>\n      <td>1</td>\n      <td>0.0</td>\n      <td>0.0</td>\n      <td>0.0</td>\n      <td>400.0</td>\n      <td>7</td>\n    </tr>\n    <tr>\n      <th>1618</th>\n      <td>17</td>\n      <td>1</td>\n      <td>0.0</td>\n      <td>0.0</td>\n      <td>0.0</td>\n      <td>50.0</td>\n      <td>6</td>\n    </tr>\n    <tr>\n      <th>1713</th>\n      <td>18</td>\n      <td>1</td>\n      <td>0.0</td>\n      <td>0.0</td>\n      <td>0.0</td>\n      <td>5.0</td>\n      <td>5</td>\n    </tr>\n    <tr>\n      <th>2081</th>\n      <td>22</td>\n      <td>1</td>\n      <td>5.0</td>\n      <td>0.0</td>\n      <td>0.0</td>\n      <td>0.0</td>\n      <td>5</td>\n    </tr>\n    <tr>\n      <th>2452</th>\n      <td>26</td>\n      <td>1</td>\n      <td>0.0</td>\n      <td>0.0</td>\n      <td>110.0</td>\n      <td>0.0</td>\n      <td>4</td>\n    </tr>\n    <tr>\n      <th>2556</th>\n      <td>27</td>\n      <td>1</td>\n      <td>0.0</td>\n      <td>100.0</td>\n      <td>0.0</td>\n      <td>0.0</td>\n      <td>3</td>\n    </tr>\n    <tr>\n      <th>2665</th>\n      <td>28</td>\n      <td>1</td>\n      <td>0.0</td>\n      <td>0.0</td>\n      <td>0.0</td>\n      <td>100.0</td>\n      <td>2</td>\n    </tr>\n    <tr>\n      <th>2862</th>\n      <td>30</td>\n      <td>1</td>\n      <td>100.0</td>\n      <td>0.0</td>\n      <td>0.0</td>\n      <td>0.0</td>\n      <td>2</td>\n    </tr>\n    <tr>\n      <th>2967</th>\n      <td>31</td>\n      <td>1</td>\n      <td>0.0</td>\n      <td>0.0</td>\n      <td>0.0</td>\n      <td>50.0</td>\n      <td>1</td>\n    </tr>\n    <tr>\n      <th>3531</th>\n      <td>37</td>\n      <td>1</td>\n      <td>0.0</td>\n      <td>100.0</td>\n      <td>0.0</td>\n      <td>0.0</td>\n      <td>0</td>\n    </tr>\n    <tr>\n      <th>3920</th>\n      <td>41</td>\n      <td>1</td>\n      <td>0.0</td>\n      <td>0.0</td>\n      <td>100.0</td>\n      <td>0.0</td>\n      <td>0</td>\n    </tr>\n  </tbody>\n</table>\n</div>"
     },
     "execution_count": 513,
     "metadata": {},
     "output_type": "execute_result"
    }
   ],
   "source": [
    "final_table"
   ],
   "metadata": {
    "collapsed": false,
    "pycharm": {
     "name": "#%%\n"
    }
   }
  },
  {
   "cell_type": "code",
   "execution_count": 514,
   "outputs": [
    {
     "name": "stderr",
     "output_type": "stream",
     "text": [
      "C:\\Users\\Neesty\\AppData\\Local\\Temp\\ipykernel_31448\\3554615798.py:1: FutureWarning: The provided callable <built-in function sum> is currently using DataFrameGroupBy.sum. In a future version of pandas, the provided callable will be used directly. To keep current behavior pass the string \"sum\" instead.\n",
      "  final_table = final_table.iloc[:, -5:].groupby('group').agg(sum).loc[::-1]\n"
     ]
    }
   ],
   "source": [
    "final_table = final_table.iloc[:, -5:].groupby('group').agg(sum).loc[::-1]"
   ],
   "metadata": {
    "collapsed": false,
    "pycharm": {
     "name": "#%%\n"
    }
   }
  },
  {
   "cell_type": "code",
   "execution_count": 515,
   "outputs": [
    {
     "data": {
      "text/plain": "       bloggers  context_ads  mobile_ads  social_media\ngroup                                                 \n9           0.0         30.0         0.0          20.0\n8           0.0         10.0         0.0           0.0\n7           0.0          0.0         0.0         400.0\n6           0.0          0.0         0.0          50.0\n5           5.0          0.0         0.0           5.0\n4           0.0          0.0       110.0           0.0\n3           0.0        100.0         0.0           0.0\n2         100.0          0.0         0.0         100.0\n1           0.0          0.0         0.0          50.0\n0           0.0        100.0       100.0           0.0",
      "text/html": "<div>\n<style scoped>\n    .dataframe tbody tr th:only-of-type {\n        vertical-align: middle;\n    }\n\n    .dataframe tbody tr th {\n        vertical-align: top;\n    }\n\n    .dataframe thead th {\n        text-align: right;\n    }\n</style>\n<table border=\"1\" class=\"dataframe\">\n  <thead>\n    <tr style=\"text-align: right;\">\n      <th></th>\n      <th>bloggers</th>\n      <th>context_ads</th>\n      <th>mobile_ads</th>\n      <th>social_media</th>\n    </tr>\n    <tr>\n      <th>group</th>\n      <th></th>\n      <th></th>\n      <th></th>\n      <th></th>\n    </tr>\n  </thead>\n  <tbody>\n    <tr>\n      <th>9</th>\n      <td>0.0</td>\n      <td>30.0</td>\n      <td>0.0</td>\n      <td>20.0</td>\n    </tr>\n    <tr>\n      <th>8</th>\n      <td>0.0</td>\n      <td>10.0</td>\n      <td>0.0</td>\n      <td>0.0</td>\n    </tr>\n    <tr>\n      <th>7</th>\n      <td>0.0</td>\n      <td>0.0</td>\n      <td>0.0</td>\n      <td>400.0</td>\n    </tr>\n    <tr>\n      <th>6</th>\n      <td>0.0</td>\n      <td>0.0</td>\n      <td>0.0</td>\n      <td>50.0</td>\n    </tr>\n    <tr>\n      <th>5</th>\n      <td>5.0</td>\n      <td>0.0</td>\n      <td>0.0</td>\n      <td>5.0</td>\n    </tr>\n    <tr>\n      <th>4</th>\n      <td>0.0</td>\n      <td>0.0</td>\n      <td>110.0</td>\n      <td>0.0</td>\n    </tr>\n    <tr>\n      <th>3</th>\n      <td>0.0</td>\n      <td>100.0</td>\n      <td>0.0</td>\n      <td>0.0</td>\n    </tr>\n    <tr>\n      <th>2</th>\n      <td>100.0</td>\n      <td>0.0</td>\n      <td>0.0</td>\n      <td>100.0</td>\n    </tr>\n    <tr>\n      <th>1</th>\n      <td>0.0</td>\n      <td>0.0</td>\n      <td>0.0</td>\n      <td>50.0</td>\n    </tr>\n    <tr>\n      <th>0</th>\n      <td>0.0</td>\n      <td>100.0</td>\n      <td>100.0</td>\n      <td>0.0</td>\n    </tr>\n  </tbody>\n</table>\n</div>"
     },
     "execution_count": 515,
     "metadata": {},
     "output_type": "execute_result"
    }
   ],
   "source": [
    "final_table"
   ],
   "metadata": {
    "collapsed": false,
    "pycharm": {
     "name": "#%%\n"
    }
   }
  },
  {
   "cell_type": "code",
   "execution_count": 516,
   "outputs": [],
   "source": [
    "final_table.set_index(user_week_final_table.index, inplace=True)"
   ],
   "metadata": {
    "collapsed": false,
    "pycharm": {
     "name": "#%%\n"
    }
   }
  },
  {
   "cell_type": "code",
   "execution_count": 517,
   "outputs": [],
   "source": [
    "final_table = pd.merge(user_week_final_table, final_table, left_index=True, right_index=True)\n",
    "\n"
   ],
   "metadata": {
    "collapsed": false,
    "pycharm": {
     "name": "#%%\n"
    }
   }
  },
  {
   "cell_type": "code",
   "execution_count": 518,
   "outputs": [],
   "source": [
    "final_table['total_gmv'] = final_table.iloc[:, -4:].sum(axis=1)"
   ],
   "metadata": {
    "collapsed": false,
    "pycharm": {
     "name": "#%%\n"
    }
   }
  },
  {
   "cell_type": "markdown",
   "source": [],
   "metadata": {
    "collapsed": false,
    "pycharm": {
     "name": "#%% md\n"
    }
   }
  },
  {
   "cell_type": "code",
   "execution_count": 521,
   "outputs": [],
   "source": [
    "final_table.index = np.arange(len(final_table))"
   ],
   "metadata": {
    "collapsed": false,
    "pycharm": {
     "name": "#%%\n"
    }
   }
  },
  {
   "cell_type": "code",
   "execution_count": 522,
   "outputs": [
    {
     "data": {
      "text/plain": "   week  user_id  bloggers  context_ads  mobile_ads  social_media  total_gmv\n0     8        1       0.0         30.0         0.0          20.0       50.0\n1     9        1       0.0         10.0         0.0           0.0       10.0\n2    16        1       0.0          0.0         0.0         400.0      400.0\n3    17        1       0.0          0.0         0.0          50.0       50.0\n4    22        1       5.0          0.0         0.0           5.0       10.0\n5    26        1       0.0          0.0       110.0           0.0      110.0\n6    27        1       0.0        100.0         0.0           0.0      100.0\n7    30        1     100.0          0.0         0.0         100.0      200.0\n8    31        1       0.0          0.0         0.0          50.0       50.0\n9    41        1       0.0        100.0       100.0           0.0      200.0",
      "text/html": "<div>\n<style scoped>\n    .dataframe tbody tr th:only-of-type {\n        vertical-align: middle;\n    }\n\n    .dataframe tbody tr th {\n        vertical-align: top;\n    }\n\n    .dataframe thead th {\n        text-align: right;\n    }\n</style>\n<table border=\"1\" class=\"dataframe\">\n  <thead>\n    <tr style=\"text-align: right;\">\n      <th></th>\n      <th>week</th>\n      <th>user_id</th>\n      <th>bloggers</th>\n      <th>context_ads</th>\n      <th>mobile_ads</th>\n      <th>social_media</th>\n      <th>total_gmv</th>\n    </tr>\n  </thead>\n  <tbody>\n    <tr>\n      <th>0</th>\n      <td>8</td>\n      <td>1</td>\n      <td>0.0</td>\n      <td>30.0</td>\n      <td>0.0</td>\n      <td>20.0</td>\n      <td>50.0</td>\n    </tr>\n    <tr>\n      <th>1</th>\n      <td>9</td>\n      <td>1</td>\n      <td>0.0</td>\n      <td>10.0</td>\n      <td>0.0</td>\n      <td>0.0</td>\n      <td>10.0</td>\n    </tr>\n    <tr>\n      <th>2</th>\n      <td>16</td>\n      <td>1</td>\n      <td>0.0</td>\n      <td>0.0</td>\n      <td>0.0</td>\n      <td>400.0</td>\n      <td>400.0</td>\n    </tr>\n    <tr>\n      <th>3</th>\n      <td>17</td>\n      <td>1</td>\n      <td>0.0</td>\n      <td>0.0</td>\n      <td>0.0</td>\n      <td>50.0</td>\n      <td>50.0</td>\n    </tr>\n    <tr>\n      <th>4</th>\n      <td>22</td>\n      <td>1</td>\n      <td>5.0</td>\n      <td>0.0</td>\n      <td>0.0</td>\n      <td>5.0</td>\n      <td>10.0</td>\n    </tr>\n    <tr>\n      <th>5</th>\n      <td>26</td>\n      <td>1</td>\n      <td>0.0</td>\n      <td>0.0</td>\n      <td>110.0</td>\n      <td>0.0</td>\n      <td>110.0</td>\n    </tr>\n    <tr>\n      <th>6</th>\n      <td>27</td>\n      <td>1</td>\n      <td>0.0</td>\n      <td>100.0</td>\n      <td>0.0</td>\n      <td>0.0</td>\n      <td>100.0</td>\n    </tr>\n    <tr>\n      <th>7</th>\n      <td>30</td>\n      <td>1</td>\n      <td>100.0</td>\n      <td>0.0</td>\n      <td>0.0</td>\n      <td>100.0</td>\n      <td>200.0</td>\n    </tr>\n    <tr>\n      <th>8</th>\n      <td>31</td>\n      <td>1</td>\n      <td>0.0</td>\n      <td>0.0</td>\n      <td>0.0</td>\n      <td>50.0</td>\n      <td>50.0</td>\n    </tr>\n    <tr>\n      <th>9</th>\n      <td>41</td>\n      <td>1</td>\n      <td>0.0</td>\n      <td>100.0</td>\n      <td>100.0</td>\n      <td>0.0</td>\n      <td>200.0</td>\n    </tr>\n  </tbody>\n</table>\n</div>"
     },
     "execution_count": 522,
     "metadata": {},
     "output_type": "execute_result"
    }
   ],
   "source": [
    "final_table"
   ],
   "metadata": {
    "collapsed": false,
    "pycharm": {
     "name": "#%%\n"
    }
   }
  },
  {
   "cell_type": "code",
   "execution_count": null,
   "outputs": [],
   "source": [],
   "metadata": {
    "collapsed": false,
    "pycharm": {
     "name": "#%%\n"
    }
   }
  },
  {
   "cell_type": "code",
   "execution_count": 39,
   "outputs": [
    {
     "data": {
      "text/plain": "      week  user_id  bloggers  context_ads  mobile_ads  social_media  \\\n0        1        7         3            0           0             0   \n1        1        8         0          100           0             0   \n2        1        9         0           50           0             0   \n3        1       14        10            0           0             0   \n4        1       16         0            0           0            10   \n...    ...      ...       ...          ...         ...           ...   \n4664    52      284         5            0           0             0   \n4665    52      285         0            0           0           105   \n4666    52      288         0          150           0             0   \n4667    52      289         0            0           0            33   \n4668    52      293         0            0           0            50   \n\n      total_gmv  \n0             3  \n1           100  \n2            50  \n3            10  \n4            10  \n...         ...  \n4664          5  \n4665        105  \n4666        150  \n4667         33  \n4668         50  \n\n[4669 rows x 7 columns]",
      "text/html": "<div>\n<style scoped>\n    .dataframe tbody tr th:only-of-type {\n        vertical-align: middle;\n    }\n\n    .dataframe tbody tr th {\n        vertical-align: top;\n    }\n\n    .dataframe thead th {\n        text-align: right;\n    }\n</style>\n<table border=\"1\" class=\"dataframe\">\n  <thead>\n    <tr style=\"text-align: right;\">\n      <th></th>\n      <th>week</th>\n      <th>user_id</th>\n      <th>bloggers</th>\n      <th>context_ads</th>\n      <th>mobile_ads</th>\n      <th>social_media</th>\n      <th>total_gmv</th>\n    </tr>\n  </thead>\n  <tbody>\n    <tr>\n      <th>0</th>\n      <td>1</td>\n      <td>7</td>\n      <td>3</td>\n      <td>0</td>\n      <td>0</td>\n      <td>0</td>\n      <td>3</td>\n    </tr>\n    <tr>\n      <th>1</th>\n      <td>1</td>\n      <td>8</td>\n      <td>0</td>\n      <td>100</td>\n      <td>0</td>\n      <td>0</td>\n      <td>100</td>\n    </tr>\n    <tr>\n      <th>2</th>\n      <td>1</td>\n      <td>9</td>\n      <td>0</td>\n      <td>50</td>\n      <td>0</td>\n      <td>0</td>\n      <td>50</td>\n    </tr>\n    <tr>\n      <th>3</th>\n      <td>1</td>\n      <td>14</td>\n      <td>10</td>\n      <td>0</td>\n      <td>0</td>\n      <td>0</td>\n      <td>10</td>\n    </tr>\n    <tr>\n      <th>4</th>\n      <td>1</td>\n      <td>16</td>\n      <td>0</td>\n      <td>0</td>\n      <td>0</td>\n      <td>10</td>\n      <td>10</td>\n    </tr>\n    <tr>\n      <th>...</th>\n      <td>...</td>\n      <td>...</td>\n      <td>...</td>\n      <td>...</td>\n      <td>...</td>\n      <td>...</td>\n      <td>...</td>\n    </tr>\n    <tr>\n      <th>4664</th>\n      <td>52</td>\n      <td>284</td>\n      <td>5</td>\n      <td>0</td>\n      <td>0</td>\n      <td>0</td>\n      <td>5</td>\n    </tr>\n    <tr>\n      <th>4665</th>\n      <td>52</td>\n      <td>285</td>\n      <td>0</td>\n      <td>0</td>\n      <td>0</td>\n      <td>105</td>\n      <td>105</td>\n    </tr>\n    <tr>\n      <th>4666</th>\n      <td>52</td>\n      <td>288</td>\n      <td>0</td>\n      <td>150</td>\n      <td>0</td>\n      <td>0</td>\n      <td>150</td>\n    </tr>\n    <tr>\n      <th>4667</th>\n      <td>52</td>\n      <td>289</td>\n      <td>0</td>\n      <td>0</td>\n      <td>0</td>\n      <td>33</td>\n      <td>33</td>\n    </tr>\n    <tr>\n      <th>4668</th>\n      <td>52</td>\n      <td>293</td>\n      <td>0</td>\n      <td>0</td>\n      <td>0</td>\n      <td>50</td>\n      <td>50</td>\n    </tr>\n  </tbody>\n</table>\n<p>4669 rows × 7 columns</p>\n</div>"
     },
     "execution_count": 39,
     "metadata": {},
     "output_type": "execute_result"
    }
   ],
   "source": [
    "pivot_count_costs(df)"
   ],
   "metadata": {
    "collapsed": false,
    "pycharm": {
     "name": "#%%\n"
    }
   }
  },
  {
   "cell_type": "code",
   "execution_count": null,
   "outputs": [],
   "source": [],
   "metadata": {
    "collapsed": false,
    "pycharm": {
     "name": "#%%\n"
    }
   }
  },
  {
   "cell_type": "code",
   "execution_count": null,
   "outputs": [],
   "source": [],
   "metadata": {
    "collapsed": false,
    "pycharm": {
     "name": "#%%\n"
    }
   }
  },
  {
   "cell_type": "code",
   "execution_count": 545,
   "outputs": [],
   "source": [
    "df = pd.read_csv('events.csv')"
   ],
   "metadata": {
    "collapsed": false,
    "pycharm": {
     "name": "#%%\n"
    }
   }
  },
  {
   "cell_type": "code",
   "execution_count": 280,
   "outputs": [],
   "source": [
    "indexes_groups = group_by_actions(df)\n",
    "df['group'] = df.index.map(indexes_groups)\n"
   ],
   "metadata": {
    "collapsed": false,
    "pycharm": {
     "name": "#%%\n"
    }
   }
  },
  {
   "cell_type": "code",
   "execution_count": 281,
   "outputs": [
    {
     "name": "stderr",
     "output_type": "stream",
     "text": [
      "C:\\Users\\Neesty\\AppData\\Local\\Temp\\ipykernel_31448\\1927398761.py:4: FutureWarning: Setting an item of incompatible dtype is deprecated and will raise an error in a future version of pandas. Value '[25.0, 25.0]' has dtype incompatible with int64, please explicitly cast to a compatible dtype first.\n",
      "  df.loc[df['group'] == key, 'gmv'] = [(subgroup['gmv'].values[::-1].mean())] * len(subgroup)\n"
     ]
    }
   ],
   "source": [
    "\n",
    "for key, subgroup in df.groupby('group'):\n",
    "    # print(round(subgroup['gmv'].values[::-1].mean()))\n",
    "    # print(len(subgroup))\n",
    "    df.loc[df['group'] == key, 'gmv'] = [(subgroup['gmv'].values[::-1].mean())] * len(subgroup)\n",
    "    # df.loc[df['group'] == key, 'week'] = subgroup['week'].values[::-1]"
   ],
   "metadata": {
    "collapsed": false,
    "pycharm": {
     "name": "#%%\n"
    }
   }
  },
  {
   "cell_type": "code",
   "execution_count": 282,
   "outputs": [
    {
     "data": {
      "text/plain": "      week  user_id       channel  is_purchased         gmv   group\n0        1        7      bloggers             0    3.333333   252.0\n1        1      235  social_media             1  100.000000  1764.0\n2        1      233  social_media             0   33.333333  2039.0\n3        1      230      bloggers             0    5.000000  1039.0\n4        1      220      bloggers             0   50.000000  1247.0\n...    ...      ...           ...           ...         ...     ...\n4982    52       81      bloggers             1   25.000000    37.0\n4983    52       79      bloggers             1   50.000000    20.0\n4984    52       78    mobile_ads             1   50.000000    14.0\n4985    52      154  social_media             1   25.000000     8.0\n4986    52      299    mobile_ads             0    0.000000     NaN\n\n[4987 rows x 6 columns]",
      "text/html": "<div>\n<style scoped>\n    .dataframe tbody tr th:only-of-type {\n        vertical-align: middle;\n    }\n\n    .dataframe tbody tr th {\n        vertical-align: top;\n    }\n\n    .dataframe thead th {\n        text-align: right;\n    }\n</style>\n<table border=\"1\" class=\"dataframe\">\n  <thead>\n    <tr style=\"text-align: right;\">\n      <th></th>\n      <th>week</th>\n      <th>user_id</th>\n      <th>channel</th>\n      <th>is_purchased</th>\n      <th>gmv</th>\n      <th>group</th>\n    </tr>\n  </thead>\n  <tbody>\n    <tr>\n      <th>0</th>\n      <td>1</td>\n      <td>7</td>\n      <td>bloggers</td>\n      <td>0</td>\n      <td>3.333333</td>\n      <td>252.0</td>\n    </tr>\n    <tr>\n      <th>1</th>\n      <td>1</td>\n      <td>235</td>\n      <td>social_media</td>\n      <td>1</td>\n      <td>100.000000</td>\n      <td>1764.0</td>\n    </tr>\n    <tr>\n      <th>2</th>\n      <td>1</td>\n      <td>233</td>\n      <td>social_media</td>\n      <td>0</td>\n      <td>33.333333</td>\n      <td>2039.0</td>\n    </tr>\n    <tr>\n      <th>3</th>\n      <td>1</td>\n      <td>230</td>\n      <td>bloggers</td>\n      <td>0</td>\n      <td>5.000000</td>\n      <td>1039.0</td>\n    </tr>\n    <tr>\n      <th>4</th>\n      <td>1</td>\n      <td>220</td>\n      <td>bloggers</td>\n      <td>0</td>\n      <td>50.000000</td>\n      <td>1247.0</td>\n    </tr>\n    <tr>\n      <th>...</th>\n      <td>...</td>\n      <td>...</td>\n      <td>...</td>\n      <td>...</td>\n      <td>...</td>\n      <td>...</td>\n    </tr>\n    <tr>\n      <th>4982</th>\n      <td>52</td>\n      <td>81</td>\n      <td>bloggers</td>\n      <td>1</td>\n      <td>25.000000</td>\n      <td>37.0</td>\n    </tr>\n    <tr>\n      <th>4983</th>\n      <td>52</td>\n      <td>79</td>\n      <td>bloggers</td>\n      <td>1</td>\n      <td>50.000000</td>\n      <td>20.0</td>\n    </tr>\n    <tr>\n      <th>4984</th>\n      <td>52</td>\n      <td>78</td>\n      <td>mobile_ads</td>\n      <td>1</td>\n      <td>50.000000</td>\n      <td>14.0</td>\n    </tr>\n    <tr>\n      <th>4985</th>\n      <td>52</td>\n      <td>154</td>\n      <td>social_media</td>\n      <td>1</td>\n      <td>25.000000</td>\n      <td>8.0</td>\n    </tr>\n    <tr>\n      <th>4986</th>\n      <td>52</td>\n      <td>299</td>\n      <td>mobile_ads</td>\n      <td>0</td>\n      <td>0.000000</td>\n      <td>NaN</td>\n    </tr>\n  </tbody>\n</table>\n<p>4987 rows × 6 columns</p>\n</div>"
     },
     "execution_count": 282,
     "metadata": {},
     "output_type": "execute_result"
    }
   ],
   "source": [
    "df"
   ],
   "metadata": {
    "collapsed": false,
    "pycharm": {
     "name": "#%%\n"
    }
   }
  },
  {
   "cell_type": "code",
   "execution_count": null,
   "outputs": [],
   "source": [],
   "metadata": {
    "collapsed": false,
    "pycharm": {
     "name": "#%%\n"
    }
   }
  },
  {
   "cell_type": "code",
   "execution_count": null,
   "outputs": [],
   "source": [],
   "metadata": {
    "collapsed": false,
    "pycharm": {
     "name": "#%%\n"
    }
   }
  },
  {
   "cell_type": "code",
   "execution_count": 278,
   "outputs": [],
   "source": [
    "def pivot_count_costs_linear(df: pd.DataFrame, indexes_groups):\n",
    "    df = df.query('gmv > 0')\n",
    "    final_table = pd.pivot_table(df,\n",
    "                                 values='gmv',\n",
    "                                 index=['week', 'user_id', df.index],\n",
    "                                 columns=['channel'],\n",
    "                                 aggfunc='sum',\n",
    "                                 fill_value=0,\n",
    "                                 margins_name='user_id')\n",
    "\n",
    "    final_table['group'] = final_table.index.get_level_values(2).map(indexes_groups)\n",
    "    final_table = final_table.reset_index()\n",
    "    final_table.columns.names = [None]\n",
    "    del final_table['level_2']\n",
    "    user_week_final_table = final_table.iloc[:, :2]\n",
    "    final_table = final_table.iloc[:, -5:].groupby('group').agg(sum)\n",
    "    final_table = pd.merge(user_week_final_table, final_table, left_index=True, right_index=True)\n",
    "    final_table['total_gmv'] = final_table.iloc[:, -4:].sum(axis=1)\n",
    "\n",
    "    return final_table"
   ],
   "metadata": {
    "collapsed": false,
    "pycharm": {
     "name": "#%%\n"
    }
   }
  },
  {
   "cell_type": "code",
   "execution_count": 283,
   "outputs": [
    {
     "name": "stderr",
     "output_type": "stream",
     "text": [
      "C:\\Users\\Neesty\\AppData\\Local\\Temp\\ipykernel_31448\\3971379872.py:16: FutureWarning: The provided callable <built-in function sum> is currently using DataFrameGroupBy.sum. In a future version of pandas, the provided callable will be used directly. To keep current behavior pass the string \"sum\" instead.\n",
      "  final_table = final_table.iloc[:, -5:].groupby('group').agg(sum)\n"
     ]
    },
    {
     "data": {
      "text/plain": "      week  user_id   bloggers  context_ads  mobile_ads  social_media  \\\n0        1        7  25.000000     0.000000    0.000000     25.000000   \n1        1        8   0.000000    50.000000    0.000000      0.000000   \n2        1        9   0.000000    10.000000    0.000000      0.000000   \n3        1       14   0.000000     0.000000  200.000000      0.000000   \n4        1       16  33.333333    33.333333    0.000000     33.333333   \n...    ...      ...        ...          ...         ...           ...   \n2464    26      244   1.666667     3.333333    0.000000      5.000000   \n2465    26      248   0.000000   200.000000    0.000000      0.000000   \n2466    26      250  33.333333    16.666667   16.666667     33.333333   \n2467    26      254   0.000000    66.666667   33.333333      0.000000   \n2468    26      261   0.000000   100.000000    0.000000      0.000000   \n\n      total_gmv  \n0          50.0  \n1          50.0  \n2          10.0  \n3         200.0  \n4         100.0  \n...         ...  \n2464       10.0  \n2465      200.0  \n2466      100.0  \n2467      100.0  \n2468      100.0  \n\n[2469 rows x 7 columns]",
      "text/html": "<div>\n<style scoped>\n    .dataframe tbody tr th:only-of-type {\n        vertical-align: middle;\n    }\n\n    .dataframe tbody tr th {\n        vertical-align: top;\n    }\n\n    .dataframe thead th {\n        text-align: right;\n    }\n</style>\n<table border=\"1\" class=\"dataframe\">\n  <thead>\n    <tr style=\"text-align: right;\">\n      <th></th>\n      <th>week</th>\n      <th>user_id</th>\n      <th>bloggers</th>\n      <th>context_ads</th>\n      <th>mobile_ads</th>\n      <th>social_media</th>\n      <th>total_gmv</th>\n    </tr>\n  </thead>\n  <tbody>\n    <tr>\n      <th>0</th>\n      <td>1</td>\n      <td>7</td>\n      <td>25.000000</td>\n      <td>0.000000</td>\n      <td>0.000000</td>\n      <td>25.000000</td>\n      <td>50.0</td>\n    </tr>\n    <tr>\n      <th>1</th>\n      <td>1</td>\n      <td>8</td>\n      <td>0.000000</td>\n      <td>50.000000</td>\n      <td>0.000000</td>\n      <td>0.000000</td>\n      <td>50.0</td>\n    </tr>\n    <tr>\n      <th>2</th>\n      <td>1</td>\n      <td>9</td>\n      <td>0.000000</td>\n      <td>10.000000</td>\n      <td>0.000000</td>\n      <td>0.000000</td>\n      <td>10.0</td>\n    </tr>\n    <tr>\n      <th>3</th>\n      <td>1</td>\n      <td>14</td>\n      <td>0.000000</td>\n      <td>0.000000</td>\n      <td>200.000000</td>\n      <td>0.000000</td>\n      <td>200.0</td>\n    </tr>\n    <tr>\n      <th>4</th>\n      <td>1</td>\n      <td>16</td>\n      <td>33.333333</td>\n      <td>33.333333</td>\n      <td>0.000000</td>\n      <td>33.333333</td>\n      <td>100.0</td>\n    </tr>\n    <tr>\n      <th>...</th>\n      <td>...</td>\n      <td>...</td>\n      <td>...</td>\n      <td>...</td>\n      <td>...</td>\n      <td>...</td>\n      <td>...</td>\n    </tr>\n    <tr>\n      <th>2464</th>\n      <td>26</td>\n      <td>244</td>\n      <td>1.666667</td>\n      <td>3.333333</td>\n      <td>0.000000</td>\n      <td>5.000000</td>\n      <td>10.0</td>\n    </tr>\n    <tr>\n      <th>2465</th>\n      <td>26</td>\n      <td>248</td>\n      <td>0.000000</td>\n      <td>200.000000</td>\n      <td>0.000000</td>\n      <td>0.000000</td>\n      <td>200.0</td>\n    </tr>\n    <tr>\n      <th>2466</th>\n      <td>26</td>\n      <td>250</td>\n      <td>33.333333</td>\n      <td>16.666667</td>\n      <td>16.666667</td>\n      <td>33.333333</td>\n      <td>100.0</td>\n    </tr>\n    <tr>\n      <th>2467</th>\n      <td>26</td>\n      <td>254</td>\n      <td>0.000000</td>\n      <td>66.666667</td>\n      <td>33.333333</td>\n      <td>0.000000</td>\n      <td>100.0</td>\n    </tr>\n    <tr>\n      <th>2468</th>\n      <td>26</td>\n      <td>261</td>\n      <td>0.000000</td>\n      <td>100.000000</td>\n      <td>0.000000</td>\n      <td>0.000000</td>\n      <td>100.0</td>\n    </tr>\n  </tbody>\n</table>\n<p>2469 rows × 7 columns</p>\n</div>"
     },
     "execution_count": 283,
     "metadata": {},
     "output_type": "execute_result"
    }
   ],
   "source": [
    "final_table = pivot_count_costs_linear(df, indexes_groups)\n",
    "final_table"
   ],
   "metadata": {
    "collapsed": false,
    "pycharm": {
     "name": "#%%\n"
    }
   }
  },
  {
   "cell_type": "code",
   "execution_count": 284,
   "outputs": [
    {
     "data": {
      "text/plain": "      week  user_id  bloggers  context_ads  mobile_ads  social_media  \\\n90       2        1     200.0     0.000000    0.000000      0.000000   \n366      5        1       5.0     0.000000    0.000000      5.000000   \n461      6        1      10.0     0.000000    0.000000      0.000000   \n552      7        1      25.0     8.333333    8.333333      8.333333   \n639      8        1       0.0     0.000000    0.000000    200.000000   \n735      9        1      50.0     0.000000    0.000000      0.000000   \n1441    16        1       0.0     0.000000   50.000000      0.000000   \n1543    17        1      37.5     0.000000    0.000000     12.500000   \n1647    18        1       0.0    10.000000    0.000000      0.000000   \n2014    22        1      50.0     0.000000    0.000000      0.000000   \n2389    26        1       0.0     0.000000   10.000000      0.000000   \n\n      total_gmv  \n90        200.0  \n366        10.0  \n461        10.0  \n552        50.0  \n639       200.0  \n735        50.0  \n1441       50.0  \n1543       50.0  \n1647       10.0  \n2014       50.0  \n2389       10.0  ",
      "text/html": "<div>\n<style scoped>\n    .dataframe tbody tr th:only-of-type {\n        vertical-align: middle;\n    }\n\n    .dataframe tbody tr th {\n        vertical-align: top;\n    }\n\n    .dataframe thead th {\n        text-align: right;\n    }\n</style>\n<table border=\"1\" class=\"dataframe\">\n  <thead>\n    <tr style=\"text-align: right;\">\n      <th></th>\n      <th>week</th>\n      <th>user_id</th>\n      <th>bloggers</th>\n      <th>context_ads</th>\n      <th>mobile_ads</th>\n      <th>social_media</th>\n      <th>total_gmv</th>\n    </tr>\n  </thead>\n  <tbody>\n    <tr>\n      <th>90</th>\n      <td>2</td>\n      <td>1</td>\n      <td>200.0</td>\n      <td>0.000000</td>\n      <td>0.000000</td>\n      <td>0.000000</td>\n      <td>200.0</td>\n    </tr>\n    <tr>\n      <th>366</th>\n      <td>5</td>\n      <td>1</td>\n      <td>5.0</td>\n      <td>0.000000</td>\n      <td>0.000000</td>\n      <td>5.000000</td>\n      <td>10.0</td>\n    </tr>\n    <tr>\n      <th>461</th>\n      <td>6</td>\n      <td>1</td>\n      <td>10.0</td>\n      <td>0.000000</td>\n      <td>0.000000</td>\n      <td>0.000000</td>\n      <td>10.0</td>\n    </tr>\n    <tr>\n      <th>552</th>\n      <td>7</td>\n      <td>1</td>\n      <td>25.0</td>\n      <td>8.333333</td>\n      <td>8.333333</td>\n      <td>8.333333</td>\n      <td>50.0</td>\n    </tr>\n    <tr>\n      <th>639</th>\n      <td>8</td>\n      <td>1</td>\n      <td>0.0</td>\n      <td>0.000000</td>\n      <td>0.000000</td>\n      <td>200.000000</td>\n      <td>200.0</td>\n    </tr>\n    <tr>\n      <th>735</th>\n      <td>9</td>\n      <td>1</td>\n      <td>50.0</td>\n      <td>0.000000</td>\n      <td>0.000000</td>\n      <td>0.000000</td>\n      <td>50.0</td>\n    </tr>\n    <tr>\n      <th>1441</th>\n      <td>16</td>\n      <td>1</td>\n      <td>0.0</td>\n      <td>0.000000</td>\n      <td>50.000000</td>\n      <td>0.000000</td>\n      <td>50.0</td>\n    </tr>\n    <tr>\n      <th>1543</th>\n      <td>17</td>\n      <td>1</td>\n      <td>37.5</td>\n      <td>0.000000</td>\n      <td>0.000000</td>\n      <td>12.500000</td>\n      <td>50.0</td>\n    </tr>\n    <tr>\n      <th>1647</th>\n      <td>18</td>\n      <td>1</td>\n      <td>0.0</td>\n      <td>10.000000</td>\n      <td>0.000000</td>\n      <td>0.000000</td>\n      <td>10.0</td>\n    </tr>\n    <tr>\n      <th>2014</th>\n      <td>22</td>\n      <td>1</td>\n      <td>50.0</td>\n      <td>0.000000</td>\n      <td>0.000000</td>\n      <td>0.000000</td>\n      <td>50.0</td>\n    </tr>\n    <tr>\n      <th>2389</th>\n      <td>26</td>\n      <td>1</td>\n      <td>0.0</td>\n      <td>0.000000</td>\n      <td>10.000000</td>\n      <td>0.000000</td>\n      <td>10.0</td>\n    </tr>\n  </tbody>\n</table>\n</div>"
     },
     "execution_count": 284,
     "metadata": {},
     "output_type": "execute_result"
    }
   ],
   "source": [
    "final_table.query('user_id == 1')"
   ],
   "metadata": {
    "collapsed": false,
    "pycharm": {
     "name": "#%%\n"
    }
   }
  },
  {
   "cell_type": "markdown",
   "source": [],
   "metadata": {
    "collapsed": false,
    "pycharm": {
     "name": "#%% md\n"
    }
   }
  },
  {
   "cell_type": "code",
   "execution_count": 570,
   "outputs": [],
   "source": [
    "df = pd.read_csv('events.csv')"
   ],
   "metadata": {
    "collapsed": false,
    "pycharm": {
     "name": "#%%\n"
    }
   }
  },
  {
   "cell_type": "code",
   "execution_count": 571,
   "outputs": [],
   "source": [
    "df = df.query('user_id == 1')"
   ],
   "metadata": {
    "collapsed": false,
    "pycharm": {
     "name": "#%%\n"
    }
   }
  },
  {
   "cell_type": "code",
   "execution_count": 572,
   "outputs": [],
   "source": [
    "indexes_groups = group_by_actions(df)\n",
    "df['group'] = df.index.map(indexes_groups)"
   ],
   "metadata": {
    "collapsed": false,
    "pycharm": {
     "name": "#%%\n"
    }
   }
  },
  {
   "cell_type": "code",
   "execution_count": 575,
   "outputs": [],
   "source": [
    "for key, subgroup in df.groupby('group'):\n",
    "    if len(subgroup) == 1:\n",
    "        pass\n",
    "    elif len(subgroup) == 2:\n",
    "        weight = [0.5, 0.5]\n",
    "    else:\n",
    "        weight = [0.4, *[0.2 / (len(subgroup)-2)] * (len(subgroup)-2), 0.4]\n",
    "\n",
    "        df.loc[df['group'] == key, 'gmv'] = [df.loc[df['group'] == key, 'gmv'].sum()] * len(subgroup)\n",
    "\n",
    "        df.loc[df['group'] == key, 'gmv'] = round(df.loc[df['group'] == key, 'gmv'] * weight, 2)"
   ],
   "metadata": {
    "collapsed": false,
    "pycharm": {
     "name": "#%%\n"
    }
   }
  },
  {
   "cell_type": "code",
   "execution_count": 576,
   "outputs": [
    {
     "data": {
      "text/plain": "      week  user_id       channel  is_purchased     gmv  group\n163      2        1   context_ads             0   20.00    9.0\n437      5        1  social_media             0    3.33    9.0\n529      6        1   context_ads             0    3.33    9.0\n613      7        1  social_media             0    3.33    9.0\n708      8        1   context_ads             1   20.00    9.0\n800      9        1   context_ads             1   10.00    8.0\n1492    16        1  social_media             1  400.00    7.0\n1618    17        1  social_media             1   50.00    6.0\n1713    18        1  social_media             0    0.00    5.0\n2081    22        1      bloggers             1   10.00    5.0\n2452    26        1    mobile_ads             1  110.00    4.0\n2556    27        1   context_ads             1  100.00    3.0\n2665    28        1  social_media             0    0.00    2.0\n2862    30        1      bloggers             1  200.00    2.0\n2967    31        1  social_media             1   50.00    1.0\n3531    37        1   context_ads             0    0.00    0.0\n3920    41        1    mobile_ads             1  200.00    0.0\n4200    44        1      bloggers             0    0.00    NaN",
      "text/html": "<div>\n<style scoped>\n    .dataframe tbody tr th:only-of-type {\n        vertical-align: middle;\n    }\n\n    .dataframe tbody tr th {\n        vertical-align: top;\n    }\n\n    .dataframe thead th {\n        text-align: right;\n    }\n</style>\n<table border=\"1\" class=\"dataframe\">\n  <thead>\n    <tr style=\"text-align: right;\">\n      <th></th>\n      <th>week</th>\n      <th>user_id</th>\n      <th>channel</th>\n      <th>is_purchased</th>\n      <th>gmv</th>\n      <th>group</th>\n    </tr>\n  </thead>\n  <tbody>\n    <tr>\n      <th>163</th>\n      <td>2</td>\n      <td>1</td>\n      <td>context_ads</td>\n      <td>0</td>\n      <td>20.00</td>\n      <td>9.0</td>\n    </tr>\n    <tr>\n      <th>437</th>\n      <td>5</td>\n      <td>1</td>\n      <td>social_media</td>\n      <td>0</td>\n      <td>3.33</td>\n      <td>9.0</td>\n    </tr>\n    <tr>\n      <th>529</th>\n      <td>6</td>\n      <td>1</td>\n      <td>context_ads</td>\n      <td>0</td>\n      <td>3.33</td>\n      <td>9.0</td>\n    </tr>\n    <tr>\n      <th>613</th>\n      <td>7</td>\n      <td>1</td>\n      <td>social_media</td>\n      <td>0</td>\n      <td>3.33</td>\n      <td>9.0</td>\n    </tr>\n    <tr>\n      <th>708</th>\n      <td>8</td>\n      <td>1</td>\n      <td>context_ads</td>\n      <td>1</td>\n      <td>20.00</td>\n      <td>9.0</td>\n    </tr>\n    <tr>\n      <th>800</th>\n      <td>9</td>\n      <td>1</td>\n      <td>context_ads</td>\n      <td>1</td>\n      <td>10.00</td>\n      <td>8.0</td>\n    </tr>\n    <tr>\n      <th>1492</th>\n      <td>16</td>\n      <td>1</td>\n      <td>social_media</td>\n      <td>1</td>\n      <td>400.00</td>\n      <td>7.0</td>\n    </tr>\n    <tr>\n      <th>1618</th>\n      <td>17</td>\n      <td>1</td>\n      <td>social_media</td>\n      <td>1</td>\n      <td>50.00</td>\n      <td>6.0</td>\n    </tr>\n    <tr>\n      <th>1713</th>\n      <td>18</td>\n      <td>1</td>\n      <td>social_media</td>\n      <td>0</td>\n      <td>0.00</td>\n      <td>5.0</td>\n    </tr>\n    <tr>\n      <th>2081</th>\n      <td>22</td>\n      <td>1</td>\n      <td>bloggers</td>\n      <td>1</td>\n      <td>10.00</td>\n      <td>5.0</td>\n    </tr>\n    <tr>\n      <th>2452</th>\n      <td>26</td>\n      <td>1</td>\n      <td>mobile_ads</td>\n      <td>1</td>\n      <td>110.00</td>\n      <td>4.0</td>\n    </tr>\n    <tr>\n      <th>2556</th>\n      <td>27</td>\n      <td>1</td>\n      <td>context_ads</td>\n      <td>1</td>\n      <td>100.00</td>\n      <td>3.0</td>\n    </tr>\n    <tr>\n      <th>2665</th>\n      <td>28</td>\n      <td>1</td>\n      <td>social_media</td>\n      <td>0</td>\n      <td>0.00</td>\n      <td>2.0</td>\n    </tr>\n    <tr>\n      <th>2862</th>\n      <td>30</td>\n      <td>1</td>\n      <td>bloggers</td>\n      <td>1</td>\n      <td>200.00</td>\n      <td>2.0</td>\n    </tr>\n    <tr>\n      <th>2967</th>\n      <td>31</td>\n      <td>1</td>\n      <td>social_media</td>\n      <td>1</td>\n      <td>50.00</td>\n      <td>1.0</td>\n    </tr>\n    <tr>\n      <th>3531</th>\n      <td>37</td>\n      <td>1</td>\n      <td>context_ads</td>\n      <td>0</td>\n      <td>0.00</td>\n      <td>0.0</td>\n    </tr>\n    <tr>\n      <th>3920</th>\n      <td>41</td>\n      <td>1</td>\n      <td>mobile_ads</td>\n      <td>1</td>\n      <td>200.00</td>\n      <td>0.0</td>\n    </tr>\n    <tr>\n      <th>4200</th>\n      <td>44</td>\n      <td>1</td>\n      <td>bloggers</td>\n      <td>0</td>\n      <td>0.00</td>\n      <td>NaN</td>\n    </tr>\n  </tbody>\n</table>\n</div>"
     },
     "execution_count": 576,
     "metadata": {},
     "output_type": "execute_result"
    }
   ],
   "source": [
    "df"
   ],
   "metadata": {
    "collapsed": false,
    "pycharm": {
     "name": "#%%\n"
    }
   }
  },
  {
   "cell_type": "code",
   "execution_count": null,
   "outputs": [],
   "source": [],
   "metadata": {
    "collapsed": false,
    "pycharm": {
     "name": "#%%\n"
    }
   }
  }
 ],
 "metadata": {
  "kernelspec": {
   "display_name": "Python 3",
   "language": "python",
   "name": "python3"
  },
  "language_info": {
   "codemirror_mode": {
    "name": "ipython",
    "version": 2
   },
   "file_extension": ".py",
   "mimetype": "text/x-python",
   "name": "python",
   "nbconvert_exporter": "python",
   "pygments_lexer": "ipython2",
   "version": "2.7.6"
  }
 },
 "nbformat": 4,
 "nbformat_minor": 0
}