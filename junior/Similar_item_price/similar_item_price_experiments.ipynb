{
 "cells": [
  {
   "cell_type": "code",
   "execution_count": 407,
   "outputs": [],
   "source": [
    "from typing import Dict, Tuple, List\n",
    "from itertools import combinations\n",
    "from collections import Counter, defaultdict\n",
    "import copy"
   ],
   "metadata": {
    "collapsed": false,
    "pycharm": {
     "name": "#%%\n"
    }
   }
  },
  {
   "cell_type": "code",
   "execution_count": null,
   "outputs": [],
   "source": [],
   "metadata": {
    "collapsed": false,
    "pycharm": {
     "name": "#%%\n"
    }
   }
  },
  {
   "cell_type": "code",
   "execution_count": 47,
   "outputs": [],
   "source": [
    "import pandas as pd\n",
    "import numpy as np\n",
    "from scipy.stats import linregress\n",
    "from sklearn.metrics.pairwise import cosine_similarity"
   ],
   "metadata": {
    "collapsed": false,
    "pycharm": {
     "name": "#%%\n"
    }
   }
  },
  {
   "cell_type": "code",
   "execution_count": 4,
   "outputs": [],
   "source": [
    "embeddings = {\n",
    "    1: np.array([-26.57, -76.61, 81.61, -9.11, 74.8, 54.23, 32.56, -22.62, -72.44, -82.78]),\n",
    "    2: np.array([-55.98, 82.87, 86.07, 18.71, -18.66, -46.74, -68.18, 60.29, 98.92, -78.95]),\n",
    "    3: np.array([-27.97, 25.39, -96.85, 3.51, 95.57, -27.48, -80.27, 8.39, 89.96, -36.68]),\n",
    "    4: np.array([-37.0, -49.39, 43.3, 73.36, 29.98, -56.44, -15.91, -56.46, 24.54, 12.43]),\n",
    "    5: np.array([-22.71, 4.47, -65.42, 10.11, 98.34, 17.96, -10.77, 2.5, -26.55, 69.16])\n",
    "}\n",
    "\n",
    "prices = {\n",
    "    1: 100.5,\n",
    "    2: 12.2,\n",
    "    3: 60.0,\n",
    "    4: 11.1,\n",
    "    5: 245.2\n",
    "}"
   ],
   "metadata": {
    "collapsed": false,
    "pycharm": {
     "name": "#%%\n"
    }
   }
  },
  {
   "cell_type": "code",
   "execution_count": 5,
   "outputs": [
    {
     "data": {
      "text/plain": "{1: array([-26.57, -76.61,  81.61,  -9.11,  74.8 ,  54.23,  32.56, -22.62,\n        -72.44, -82.78]),\n 2: array([-55.98,  82.87,  86.07,  18.71, -18.66, -46.74, -68.18,  60.29,\n         98.92, -78.95]),\n 3: array([-27.97,  25.39, -96.85,   3.51,  95.57, -27.48, -80.27,   8.39,\n         89.96, -36.68]),\n 4: array([-37.  , -49.39,  43.3 ,  73.36,  29.98, -56.44, -15.91, -56.46,\n         24.54,  12.43]),\n 5: array([-22.71,   4.47, -65.42,  10.11,  98.34,  17.96, -10.77,   2.5 ,\n        -26.55,  69.16])}"
     },
     "execution_count": 5,
     "metadata": {},
     "output_type": "execute_result"
    }
   ],
   "source": [
    "embeddings"
   ],
   "metadata": {
    "collapsed": false,
    "pycharm": {
     "name": "#%%\n"
    }
   }
  },
  {
   "cell_type": "markdown",
   "source": [],
   "metadata": {
    "collapsed": false,
    "pycharm": {
     "name": "#%% md\n"
    }
   }
  },
  {
   "cell_type": "code",
   "execution_count": 79,
   "outputs": [],
   "source": [
    "@staticmethod\n",
    "def similarity(embeddings: Dict[int, np.ndarray]) -> Dict[Tuple[int, int], float]:\n",
    "    \"\"\"Calculate pairwise similarities between each item\n",
    "    in embedding.\n",
    "\n",
    "    Args:\n",
    "        embeddings (Dict[int, np.ndarray]): Items embeddings.\n",
    "\n",
    "    Returns:\n",
    "        Dict[Tuple[int, int], float]:\n",
    "        Keys are in form of (i, j) - combinations pairs of item_ids\n",
    "        with i < j.\n",
    "        Round each value to 8 decimal places.\n",
    "    \"\"\"\n",
    "    keys = embeddings.keys()\n",
    "    combination = combinations(keys, 2)\n",
    "    pair_sims = {}\n",
    "    for left, right in combination:\n",
    "        left_elements = np.array(embeddings.get(left)).reshape(1, -1)\n",
    "        right_elements = np.array(embeddings.get(right)).reshape(1, -1)\n",
    "        cos_sim = cosine_similarity(left_elements, right_elements)\n",
    "        pair_sims[(left, right)] = round(cos_sim[0, 0], 8)\n",
    "\n",
    "    return pair_sims"
   ],
   "metadata": {
    "collapsed": false,
    "pycharm": {
     "name": "#%%\n"
    }
   }
  },
  {
   "cell_type": "code",
   "execution_count": 82,
   "outputs": [
    {
     "data": {
      "text/plain": "{(1, 2): -0.15456349,\n (1, 3): -0.27053417,\n (1, 4): 0.18181101,\n (1, 5): -0.03886083,\n (2, 3): 0.31346095,\n (2, 4): 0.14582334,\n (2, 5): -0.45207678,\n (3, 4): 0.10573868,\n (3, 5): 0.43696494,\n (4, 5): 0.03519999}"
     },
     "execution_count": 82,
     "metadata": {},
     "output_type": "execute_result"
    }
   ],
   "source": [
    "sim = similarity(embeddings)\n",
    "sim"
   ],
   "metadata": {
    "collapsed": false,
    "pycharm": {
     "name": "#%%\n"
    }
   }
  },
  {
   "cell_type": "code",
   "execution_count": 265,
   "outputs": [],
   "source": [
    "def knn(\n",
    "        sim: Dict[Tuple[int, int], float], top: int\n",
    ") -> Dict[int, List[Tuple[int, float]]]:\n",
    "    \"\"\"Return closest neighbors for each item.\n",
    "\n",
    "    Args:\n",
    "        sim (Dict[Tuple[int, int], float]): <similarity> method output.\n",
    "        top (int): Number of top neighbors to consider.\n",
    "\n",
    "    Returns:\n",
    "        Dict[int, List[Tuple[int, float]]]: Dict with top closest neighbors\n",
    "        for each item.\n",
    "    \"\"\"\n",
    "    sorted_dict = dict(sorted(sim.items(), key=lambda item: item[1], reverse=True))\n",
    "    result_dict = {}\n",
    "    for key, value in sorted_dict.items():\n",
    "        if result_dict.get(key[0]) is None:\n",
    "            result_dict[key[0]] = []\n",
    "        if result_dict.get(key[1]) is None:\n",
    "            result_dict[key[1]] = []\n",
    "\n",
    "        if len(result_dict.get(key[0])) < top:\n",
    "            result_dict[key[0]].append((key[1], value))\n",
    "        if len(result_dict.get(key[1])) < top:\n",
    "            result_dict[key[1]].append((key[0], value))\n",
    "\n",
    "    return result_dict\n"
   ],
   "metadata": {
    "collapsed": false,
    "pycharm": {
     "name": "#%%\n"
    }
   }
  },
  {
   "cell_type": "code",
   "execution_count": null,
   "outputs": [],
   "source": [],
   "metadata": {
    "collapsed": false,
    "pycharm": {
     "name": "#%%\n"
    }
   }
  },
  {
   "cell_type": "code",
   "execution_count": null,
   "outputs": [],
   "source": [],
   "metadata": {
    "collapsed": false,
    "pycharm": {
     "name": "#%%\n"
    }
   }
  },
  {
   "cell_type": "code",
   "execution_count": 473,
   "outputs": [],
   "source": [
    "knn_values = knn(sim, 3)"
   ],
   "metadata": {
    "collapsed": false,
    "pycharm": {
     "name": "#%%\n"
    }
   }
  },
  {
   "cell_type": "code",
   "execution_count": 474,
   "outputs": [
    {
     "data": {
      "text/plain": "{3: [(5, 0.43696494), (2, 0.31346095), (4, 0.10573868)],\n 5: [(3, 0.43696494), (4, 0.03519999), (1, -0.03886083)],\n 2: [(3, 0.31346095), (4, 0.14582334), (1, -0.15456349)],\n 1: [(4, 0.18181101), (5, -0.03886083), (2, -0.15456349)],\n 4: [(1, 0.18181101), (2, 0.14582334), (3, 0.10573868)]}"
     },
     "execution_count": 474,
     "metadata": {},
     "output_type": "execute_result"
    }
   ],
   "source": [
    "knn_values"
   ],
   "metadata": {
    "collapsed": false,
    "pycharm": {
     "name": "#%%\n"
    }
   }
  },
  {
   "cell_type": "code",
   "execution_count": 586,
   "outputs": [],
   "source": [
    "prices = {\n",
    "    1: 100.5,\n",
    "    2: 12.2,\n",
    "    3: 60.0,\n",
    "    4: 11.1,\n",
    "    5: 245.2\n",
    "}\n",
    "\n",
    "\n",
    "def knn_price(\n",
    "        knn_dict: Dict[int, List[Tuple[int, float]]],\n",
    "        prices: Dict[int, float],\n",
    ") -> Dict[int, float]:\n",
    "    \"\"\"Calculate weighted average prices for each item.\n",
    "    Weights should be positive numbers in [0, 2] interval.\n",
    "\n",
    "    Args:\n",
    "        knn_dict (Dict[int, List[Tuple[int, float]]]): <knn> method output.\n",
    "        prices (Dict[int, float]): Price dict for each item.\n",
    "\n",
    "    Returns:\n",
    "        Dict[int, float]: New prices dict, rounded to 2 decimal places.\n",
    "    \"\"\"\n",
    "    knn_price_dict = copy.deepcopy(knn_dict)\n",
    "\n",
    "    # for key, value_list in knn_price_dict.items():\n",
    "    #     for i, (inner_key, inner_value) in enumerate(value_list):\n",
    "    #         new_value = prices.get(inner_key, 0.0)\n",
    "    #         knn_price_dict[key][i] = (inner_key, inner_value, new_value)\n",
    "\n",
    "    for key, value_list in knn_price_dict.items():\n",
    "        norm_weight = sum(map(lambda t: t[-1] + 1, value_list))\n",
    "        print(norm_weight)\n",
    "        for i, (inner_key, inner_value) in enumerate(value_list):\n",
    "            price = prices.get(inner_key, 0.0)\n",
    "            knn_price_dict[key][i] = ((inner_value+ 1) / norm_weight ) * price\n",
    "\n",
    "        knn_price_dict[key] = round(sum(knn_price_dict.get(key)),2)\n",
    "\n",
    "    return knn_price_dict\n"
   ],
   "metadata": {
    "collapsed": false,
    "pycharm": {
     "name": "#%%\n"
    }
   }
  },
  {
   "cell_type": "code",
   "execution_count": 587,
   "outputs": [
    {
     "name": "stdout",
     "output_type": "stream",
     "text": [
      "3.85616457\n",
      "3.4333041\n",
      "3.3047208\n",
      "2.98838669\n",
      "3.4333730300000003\n"
     ]
    },
    {
     "data": {
      "text/plain": "{3: 98.71, 5: 56.59, 2: 53.41, 1: 86.7, 4: 57.99}"
     },
     "execution_count": 587,
     "metadata": {},
     "output_type": "execute_result"
    }
   ],
   "source": [
    "knn_prises = knn_price(knn_values, prices)\n",
    "knn_prises"
   ],
   "metadata": {
    "collapsed": false,
    "pycharm": {
     "name": "#%%\n"
    }
   }
  },
  {
   "cell_type": "code",
   "execution_count": 483,
   "outputs": [
    {
     "name": "stdout",
     "output_type": "stream",
     "text": [
      "[(5, 0.43696494), (2, 0.31346095), (4, 0.10573868)]\n",
      "[(3, 0.43696494), (4, 0.03519999), (1, -0.03886083)]\n",
      "[(3, 0.31346095), (4, 0.14582334), (1, -0.15456349)]\n",
      "[(4, 0.18181101), (5, -0.03886083), (2, -0.15456349)]\n",
      "[(1, 0.18181101), (2, 0.14582334), (3, 0.10573868)]\n",
      "{3: [(5, 0.43696494, 245.2), (2, 0.31346095, 12.2), (4, 0.10573868, 11.1)], 5: [(3, 0.43696494, 60.0), (4, 0.03519999, 11.1), (1, -0.03886083, 100.5)], 2: [(3, 0.31346095, 60.0), (4, 0.14582334, 11.1), (1, -0.15456349, 100.5)], 1: [(4, 0.18181101, 11.1), (5, -0.03886083, 245.2), (2, -0.15456349, 12.2)], 4: [(1, 0.18181101, 100.5), (2, 0.14582334, 12.2), (3, 0.10573868, 60.0)]}\n"
     ]
    }
   ],
   "source": [
    "data = {\n",
    "    3: [(5, 0.43696494), (2, 0.31346095), (4, 0.10573868)],\n",
    "    5: [(3, 0.43696494), (4, 0.03519999), (1, -0.03886083)],\n",
    "    2: [(3, 0.31346095), (4, 0.14582334), (1, -0.15456349)],\n",
    "    1: [(4, 0.18181101), (5, -0.03886083), (2, -0.15456349)],\n",
    "    4: [(1, 0.18181101), (2, 0.14582334), (3, 0.10573868)]\n",
    "}\n",
    "\n",
    "prices = {\n",
    "    1: 100.5,\n",
    "    2: 12.2,\n",
    "    3: 60.0,\n",
    "    4: 11.1,\n",
    "    5: 245.2\n",
    "}\n",
    "\n",
    "for key, value_list in data.items():\n",
    "    print(value_list)\n",
    "    for i, (inner_key, inner_value) in enumerate(value_list):\n",
    "        new_value = prices.get(inner_key, 0.0)\n",
    "        data[key][i] = (inner_key, inner_value, new_value)\n",
    "\n",
    "print(data)\n"
   ],
   "metadata": {
    "collapsed": false,
    "pycharm": {
     "name": "#%%\n"
    }
   }
  },
  {
   "cell_type": "code",
   "execution_count": 557,
   "outputs": [],
   "source": [],
   "metadata": {
    "collapsed": false,
    "pycharm": {
     "name": "#%%\n"
    }
   }
  },
  {
   "cell_type": "code",
   "execution_count": 558,
   "outputs": [],
   "source": [
    "def transform(\n",
    "    embeddings: Dict[int, np.ndarray],\n",
    "    prices: Dict[int, float],\n",
    "    top: int,\n",
    ") -> Dict[int, float]:\n",
    "    \"\"\"Transforming input embeddings into a dictionary\n",
    "    with weighted average prices for each item.\n",
    "\n",
    "    Args:\n",
    "        embeddings (Dict[int, np.ndarray]): Items embeddings.\n",
    "        prices (Dict[int, float]): Price dict for each item.\n",
    "        top (int): Number of top neighbors to consider.\n",
    "\n",
    "    Returns:\n",
    "        Dict[int, float]: Dict with weighted average prices for each item.\n",
    "    \"\"\"\n",
    "    knn_price_dict = knn_price(knn(similarity(embeddings), top), prices)\n",
    "    return knn_price_dict"
   ],
   "metadata": {
    "collapsed": false,
    "pycharm": {
     "name": "#%%\n"
    }
   }
  },
  {
   "cell_type": "code",
   "execution_count": 561,
   "outputs": [
    {
     "data": {
      "text/plain": "{3: 364.511772813341,\n 5: 181.43734755802598,\n 2: 173.09089689318515,\n 1: 268.6091215395021,\n 4: 184.13904236458595}"
     },
     "execution_count": 561,
     "metadata": {},
     "output_type": "execute_result"
    }
   ],
   "source": [
    "transform(embeddings,prices, 3)"
   ],
   "metadata": {
    "collapsed": false,
    "pycharm": {
     "name": "#%%\n"
    }
   }
  },
  {
   "cell_type": "code",
   "execution_count": 557,
   "outputs": [],
   "source": [],
   "metadata": {
    "collapsed": false,
    "pycharm": {
     "name": "#%%\n"
    }
   }
  }
 ],
 "metadata": {
  "kernelspec": {
   "display_name": "Python 3",
   "language": "python",
   "name": "python3"
  },
  "language_info": {
   "codemirror_mode": {
    "name": "ipython",
    "version": 2
   },
   "file_extension": ".py",
   "mimetype": "text/x-python",
   "name": "python",
   "nbconvert_exporter": "python",
   "pygments_lexer": "ipython2",
   "version": "2.7.6"
  }
 },
 "nbformat": 4,
 "nbformat_minor": 0
}