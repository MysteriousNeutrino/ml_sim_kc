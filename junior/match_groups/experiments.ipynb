{
 "cells": [
  {
   "cell_type": "code",
   "execution_count": 1,
   "metadata": {
    "collapsed": true,
    "pycharm": {
     "name": "#%%\n"
    }
   },
   "outputs": [],
   "source": [
    "import numpy as np"
   ]
  },
  {
   "cell_type": "code",
   "execution_count": null,
   "outputs": [],
   "source": [
    "# | -- для объединений\n",
    "# & -- для пересечений\n",
    "# - -- для разницы\n",
    "# ^ -- Симметричная разница"
   ],
   "metadata": {
    "collapsed": false,
    "pycharm": {
     "name": "#%%\n"
    }
   }
  },
  {
   "cell_type": "code",
   "execution_count": 22,
   "outputs": [],
   "source": [
    "x = [(1, 2), (7, 2)]"
   ],
   "metadata": {
    "collapsed": false,
    "pycharm": {
     "name": "#%%\n"
    }
   }
  },
  {
   "cell_type": "code",
   "execution_count": 23,
   "outputs": [
    {
     "data": {
      "text/plain": "[{1, 2}, {2, 7}]"
     },
     "execution_count": 23,
     "metadata": {},
     "output_type": "execute_result"
    }
   ],
   "source": [
    "sets = [set(elem) for elem in x]\n",
    "sets"
   ],
   "metadata": {
    "collapsed": false,
    "pycharm": {
     "name": "#%%\n"
    }
   }
  },
  {
   "cell_type": "code",
   "execution_count": 24,
   "outputs": [
    {
     "data": {
      "text/plain": "{2}"
     },
     "execution_count": 24,
     "metadata": {},
     "output_type": "execute_result"
    }
   ],
   "source": [],
   "metadata": {
    "collapsed": false,
    "pycharm": {
     "name": "#%%\n"
    }
   }
  },
  {
   "cell_type": "code",
   "execution_count": 25,
   "outputs": [
    {
     "data": {
      "text/plain": "{1, 7}"
     },
     "execution_count": 25,
     "metadata": {},
     "output_type": "execute_result"
    }
   ],
   "source": [
    "sets[0] ^ sets[1]"
   ],
   "metadata": {
    "collapsed": false,
    "pycharm": {
     "name": "#%%\n"
    }
   }
  },
  {
   "cell_type": "code",
   "execution_count": 54,
   "outputs": [
    {
     "name": "stdout",
     "output_type": "stream",
     "text": [
      "[(1, 2), (7, 2)]\n",
      "Операция между (1, 2) и (7, 2): {1, 7}\n"
     ]
    },
    {
     "data": {
      "text/plain": "[(1, 2), (1, 7), (7, 2)]"
     },
     "execution_count": 54,
     "metadata": {},
     "output_type": "execute_result"
    }
   ],
   "source": [
    "from itertools import combinations\n",
    "\n",
    "elements = [(1, 2), (7, 2)]\n",
    "print(elements)\n",
    "for pair in combinations(elements, 2):\n",
    "    # Выполняйте здесь операции между pair[0] и pair[1]\n",
    "    # Например, вы можете сложить их, умножить, вычесть и т.д.\n",
    "    result = set(pair[0]) ^ set(pair[1])\n",
    "    if len(result) == 2:\n",
    "        elements.append(tuple(result))\n",
    "    print(f\"Операция между {pair[0]} и {pair[1]}: {result}\")\n",
    "elements\n",
    "sorted(elements, key=lambda x: (x[0], x[1]))"
   ],
   "metadata": {
    "collapsed": false,
    "pycharm": {
     "name": "#%%\n"
    }
   }
  },
  {
   "cell_type": "code",
   "execution_count": 48,
   "outputs": [
    {
     "name": "stdout",
     "output_type": "stream",
     "text": [
      "Сортировка по первому элементу: [(1, 2), (1, 7), (2, 7)]\n",
      "Сортировка по второму элементу: [(1, 2), (2, 7), (1, 7)]\n"
     ]
    }
   ],
   "source": [
    "pairs = [(1, 2), (2, 7), (1, 7)]\n",
    "\n",
    "# Сортируем по первому элементу в паре\n",
    "sorted_by_first_element = sorted(pairs, key=lambda x: (x[0], x[1]))\n",
    "print(\"Сортировка по первому элементу:\", sorted_by_first_element)\n",
    "\n",
    "# Сортируем по второму элементу в паре\n",
    "sorted_by_second_element = sorted(pairs, key=lambda x: x[1])\n",
    "print(\"Сортировка по второму элементу:\", sorted_by_second_element)\n"
   ],
   "metadata": {
    "collapsed": false,
    "pycharm": {
     "name": "#%%\n"
    }
   }
  },
  {
   "cell_type": "code",
   "execution_count": 56,
   "outputs": [
    {
     "name": "stdout",
     "output_type": "stream",
     "text": [
      "[(1, 2), (1, 3), (1, 3), (1, 4), (2, 3), (2, 4)]\n"
     ]
    }
   ],
   "source": [
    "pairs = [(1, 4), (1, 3), (3, 1), (3, 2), (2, 1), (2, 4)]\n",
    "\n",
    "# Сортируем каждую пару в кортеже\n",
    "sorted_pairs = [(min(pair), max(pair)) for pair in pairs]\n",
    "\n",
    "# Сортируем по первому элементу, затем по второму\n",
    "sorted_pairs = sorted(sorted_pairs, key=lambda x: (x[0], x[1]))\n",
    "\n",
    "# Выводим результат\n",
    "print(sorted_pairs)\n"
   ],
   "metadata": {
    "collapsed": false,
    "pycharm": {
     "name": "#%%\n"
    }
   }
  },
  {
   "cell_type": "code",
   "execution_count": 66,
   "outputs": [
    {
     "data": {
      "text/plain": "{}"
     },
     "execution_count": 66,
     "metadata": {},
     "output_type": "execute_result"
    }
   ],
   "source": [
    "# [(1, 2), (2, 3), (3, 4)]\n",
    "{1: (2, 3),\n",
    " 2: (1, 3),\n",
    " 3: (1, 2),\n",
    " 4: (2, 3)\n",
    "}"
   ],
   "metadata": {
    "collapsed": false,
    "pycharm": {
     "name": "#%%\n"
    }
   }
  },
  {
   "cell_type": "code",
   "execution_count": null,
   "outputs": [],
   "source": [],
   "metadata": {
    "collapsed": false,
    "pycharm": {
     "name": "#%%\n"
    }
   }
  }
 ],
 "metadata": {
  "kernelspec": {
   "display_name": "Python 3",
   "language": "python",
   "name": "python3"
  },
  "language_info": {
   "codemirror_mode": {
    "name": "ipython",
    "version": 2
   },
   "file_extension": ".py",
   "mimetype": "text/x-python",
   "name": "python",
   "nbconvert_exporter": "python",
   "pygments_lexer": "ipython2",
   "version": "2.7.6"
  }
 },
 "nbformat": 4,
 "nbformat_minor": 0
}