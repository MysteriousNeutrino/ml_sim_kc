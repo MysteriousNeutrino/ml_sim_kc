{
 "cells": [
  {
   "cell_type": "code",
   "execution_count": 1,
   "metadata": {
    "collapsed": true,
    "pycharm": {
     "name": "#%%\n"
    }
   },
   "outputs": [],
   "source": [
    "import pandas as pd\n",
    "import numpy as np\n",
    "import seaborn as sns"
   ]
  },
  {
   "cell_type": "code",
   "execution_count": 10,
   "outputs": [],
   "source": [
    "from sklearn.linear_model import LinearRegression\n",
    "from scipy.stats import linregress"
   ],
   "metadata": {
    "collapsed": false,
    "pycharm": {
     "name": "#%%\n"
    }
   }
  },
  {
   "cell_type": "code",
   "execution_count": null,
   "outputs": [],
   "source": [],
   "metadata": {
    "collapsed": false,
    "pycharm": {
     "name": "#%%\n"
    }
   }
  },
  {
   "cell_type": "code",
   "execution_count": 49,
   "outputs": [
    {
     "data": {
      "text/plain": "     sku     dates   price  qnt\n0  10060  10/04/19  2798.0    3\n1  10060  11/04/19  2798.0    2\n2  10060  12/04/19  2798.0    4\n3  10060  13/04/19  2798.0    3\n4  10060  14/04/19  2798.0    1",
      "text/html": "<div>\n<style scoped>\n    .dataframe tbody tr th:only-of-type {\n        vertical-align: middle;\n    }\n\n    .dataframe tbody tr th {\n        vertical-align: top;\n    }\n\n    .dataframe thead th {\n        text-align: right;\n    }\n</style>\n<table border=\"1\" class=\"dataframe\">\n  <thead>\n    <tr style=\"text-align: right;\">\n      <th></th>\n      <th>sku</th>\n      <th>dates</th>\n      <th>price</th>\n      <th>qnt</th>\n    </tr>\n  </thead>\n  <tbody>\n    <tr>\n      <th>0</th>\n      <td>10060</td>\n      <td>10/04/19</td>\n      <td>2798.0</td>\n      <td>3</td>\n    </tr>\n    <tr>\n      <th>1</th>\n      <td>10060</td>\n      <td>11/04/19</td>\n      <td>2798.0</td>\n      <td>2</td>\n    </tr>\n    <tr>\n      <th>2</th>\n      <td>10060</td>\n      <td>12/04/19</td>\n      <td>2798.0</td>\n      <td>4</td>\n    </tr>\n    <tr>\n      <th>3</th>\n      <td>10060</td>\n      <td>13/04/19</td>\n      <td>2798.0</td>\n      <td>3</td>\n    </tr>\n    <tr>\n      <th>4</th>\n      <td>10060</td>\n      <td>14/04/19</td>\n      <td>2798.0</td>\n      <td>1</td>\n    </tr>\n  </tbody>\n</table>\n</div>"
     },
     "execution_count": 49,
     "metadata": {},
     "output_type": "execute_result"
    }
   ],
   "source": [
    "df = pd.read_csv(r'C:\\Users\\Neesty\\Downloads\\Elasticity_2024_01_30.csv')\n",
    "df.head()"
   ],
   "metadata": {
    "collapsed": false,
    "pycharm": {
     "name": "#%%\n"
    }
   }
  },
  {
   "cell_type": "code",
   "execution_count": 50,
   "outputs": [],
   "source": [
    "df.qnt = np.log(df.qnt+1)"
   ],
   "metadata": {
    "collapsed": false,
    "pycharm": {
     "name": "#%%\n"
    }
   }
  },
  {
   "cell_type": "code",
   "execution_count": 53,
   "outputs": [],
   "source": [
    "# model = LinearRegression()\n",
    "r_squares = {}\n",
    "for sku in df.sku.unique():\n",
    "    df_for_one_sku = df.query(f'sku == {sku}')\n",
    "    # print(df_for_one_sku)\n",
    "    model = linregress(df_for_one_sku.price, df_for_one_sku.qnt)\n",
    "    r_squares[sku] = model.rvalue**2"
   ],
   "metadata": {
    "collapsed": false,
    "pycharm": {
     "name": "#%%\n"
    }
   }
  },
  {
   "cell_type": "code",
   "execution_count": 55,
   "outputs": [
    {
     "data": {
      "text/plain": "       sku  elasticity\n0    10060    0.095843\n1    10121    0.000908\n2    10216    0.087274\n3    10230    0.022500\n4    10290    0.006993\n..     ...         ...\n995  99310    0.140362\n996  99905    0.009614\n997  99965    0.000324\n998  99974    0.037990\n999  99996    0.110405\n\n[1000 rows x 2 columns]",
      "text/html": "<div>\n<style scoped>\n    .dataframe tbody tr th:only-of-type {\n        vertical-align: middle;\n    }\n\n    .dataframe tbody tr th {\n        vertical-align: top;\n    }\n\n    .dataframe thead th {\n        text-align: right;\n    }\n</style>\n<table border=\"1\" class=\"dataframe\">\n  <thead>\n    <tr style=\"text-align: right;\">\n      <th></th>\n      <th>sku</th>\n      <th>elasticity</th>\n    </tr>\n  </thead>\n  <tbody>\n    <tr>\n      <th>0</th>\n      <td>10060</td>\n      <td>0.095843</td>\n    </tr>\n    <tr>\n      <th>1</th>\n      <td>10121</td>\n      <td>0.000908</td>\n    </tr>\n    <tr>\n      <th>2</th>\n      <td>10216</td>\n      <td>0.087274</td>\n    </tr>\n    <tr>\n      <th>3</th>\n      <td>10230</td>\n      <td>0.022500</td>\n    </tr>\n    <tr>\n      <th>4</th>\n      <td>10290</td>\n      <td>0.006993</td>\n    </tr>\n    <tr>\n      <th>...</th>\n      <td>...</td>\n      <td>...</td>\n    </tr>\n    <tr>\n      <th>995</th>\n      <td>99310</td>\n      <td>0.140362</td>\n    </tr>\n    <tr>\n      <th>996</th>\n      <td>99905</td>\n      <td>0.009614</td>\n    </tr>\n    <tr>\n      <th>997</th>\n      <td>99965</td>\n      <td>0.000324</td>\n    </tr>\n    <tr>\n      <th>998</th>\n      <td>99974</td>\n      <td>0.037990</td>\n    </tr>\n    <tr>\n      <th>999</th>\n      <td>99996</td>\n      <td>0.110405</td>\n    </tr>\n  </tbody>\n</table>\n<p>1000 rows × 2 columns</p>\n</div>"
     },
     "execution_count": 55,
     "metadata": {},
     "output_type": "execute_result"
    }
   ],
   "source": [
    "pd.DataFrame(list(r_squares.items()), columns=['sku', 'elasticity'])"
   ],
   "metadata": {
    "collapsed": false,
    "pycharm": {
     "name": "#%%\n"
    }
   }
  },
  {
   "cell_type": "code",
   "execution_count": 12,
   "outputs": [
    {
     "data": {
      "text/plain": "LinregressResult(slope=7.622861618548507e-06, intercept=4.165579950671532, rvalue=0.005042550760182627, pvalue=0.004401601442185057, stderr=2.6766908181395975e-06, intercept_stderr=0.007031407966435719)"
     },
     "execution_count": 12,
     "metadata": {},
     "output_type": "execute_result"
    }
   ],
   "source": [
    "model"
   ],
   "metadata": {
    "collapsed": false,
    "pycharm": {
     "name": "#%%\n"
    }
   }
  },
  {
   "cell_type": "code",
   "execution_count": 13,
   "outputs": [
    {
     "data": {
      "text/plain": "0.005042550760182627"
     },
     "execution_count": 13,
     "metadata": {},
     "output_type": "execute_result"
    }
   ],
   "source": [
    "model.rvalue"
   ],
   "metadata": {
    "collapsed": false,
    "pycharm": {
     "name": "#%%\n"
    }
   }
  },
  {
   "cell_type": "code",
   "execution_count": null,
   "outputs": [],
   "source": [],
   "metadata": {
    "collapsed": false,
    "pycharm": {
     "name": "#%%\n"
    }
   }
  }
 ],
 "metadata": {
  "kernelspec": {
   "display_name": "Python 3",
   "language": "python",
   "name": "python3"
  },
  "language_info": {
   "codemirror_mode": {
    "name": "ipython",
    "version": 2
   },
   "file_extension": ".py",
   "mimetype": "text/x-python",
   "name": "python",
   "nbconvert_exporter": "python",
   "pygments_lexer": "ipython2",
   "version": "2.7.6"
  }
 },
 "nbformat": 4,
 "nbformat_minor": 0
}