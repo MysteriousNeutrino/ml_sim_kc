{
 "cells": [
  {
   "cell_type": "code",
   "execution_count": 2,
   "metadata": {
    "collapsed": true,
    "pycharm": {
     "name": "#%%\n"
    }
   },
   "outputs": [],
   "source": [
    "import pandas as pd\n",
    "import numpy as np"
   ]
  },
  {
   "cell_type": "code",
   "execution_count": 3,
   "outputs": [
    {
     "data": {
      "text/plain": "    sku  agg  rank  base_price  comp_price\n0     0  max    -1        33.0         NaN\n1     1  med     0        17.7        16.4\n2     1  med     1        17.7        21.8\n3     2  avg    -1        76.7         NaN\n4     2  avg    -1        76.7         NaN\n5     3  rnk     0        39.7        37.4\n6     3  rnk     2        39.7        47.9\n7     4  max     0        18.0        22.4\n8     5  max     0        84.8       106.0\n9     5  max     1        84.8       104.7\n10    5  max     2        84.8        80.9\n11    6  min     0        73.6        31.7\n12    6  min     1        73.6        33.6\n13    6  min     2        73.6        74.7\n14    7  med     0        58.6        71.3\n15    8  rnk    -1        35.2         NaN\n16    9  rnk     0        87.0        88.2",
      "text/html": "<div>\n<style scoped>\n    .dataframe tbody tr th:only-of-type {\n        vertical-align: middle;\n    }\n\n    .dataframe tbody tr th {\n        vertical-align: top;\n    }\n\n    .dataframe thead th {\n        text-align: right;\n    }\n</style>\n<table border=\"1\" class=\"dataframe\">\n  <thead>\n    <tr style=\"text-align: right;\">\n      <th></th>\n      <th>sku</th>\n      <th>agg</th>\n      <th>rank</th>\n      <th>base_price</th>\n      <th>comp_price</th>\n    </tr>\n  </thead>\n  <tbody>\n    <tr>\n      <th>0</th>\n      <td>0</td>\n      <td>max</td>\n      <td>-1</td>\n      <td>33.0</td>\n      <td>NaN</td>\n    </tr>\n    <tr>\n      <th>1</th>\n      <td>1</td>\n      <td>med</td>\n      <td>0</td>\n      <td>17.7</td>\n      <td>16.4</td>\n    </tr>\n    <tr>\n      <th>2</th>\n      <td>1</td>\n      <td>med</td>\n      <td>1</td>\n      <td>17.7</td>\n      <td>21.8</td>\n    </tr>\n    <tr>\n      <th>3</th>\n      <td>2</td>\n      <td>avg</td>\n      <td>-1</td>\n      <td>76.7</td>\n      <td>NaN</td>\n    </tr>\n    <tr>\n      <th>4</th>\n      <td>2</td>\n      <td>avg</td>\n      <td>-1</td>\n      <td>76.7</td>\n      <td>NaN</td>\n    </tr>\n    <tr>\n      <th>5</th>\n      <td>3</td>\n      <td>rnk</td>\n      <td>0</td>\n      <td>39.7</td>\n      <td>37.4</td>\n    </tr>\n    <tr>\n      <th>6</th>\n      <td>3</td>\n      <td>rnk</td>\n      <td>2</td>\n      <td>39.7</td>\n      <td>47.9</td>\n    </tr>\n    <tr>\n      <th>7</th>\n      <td>4</td>\n      <td>max</td>\n      <td>0</td>\n      <td>18.0</td>\n      <td>22.4</td>\n    </tr>\n    <tr>\n      <th>8</th>\n      <td>5</td>\n      <td>max</td>\n      <td>0</td>\n      <td>84.8</td>\n      <td>106.0</td>\n    </tr>\n    <tr>\n      <th>9</th>\n      <td>5</td>\n      <td>max</td>\n      <td>1</td>\n      <td>84.8</td>\n      <td>104.7</td>\n    </tr>\n    <tr>\n      <th>10</th>\n      <td>5</td>\n      <td>max</td>\n      <td>2</td>\n      <td>84.8</td>\n      <td>80.9</td>\n    </tr>\n    <tr>\n      <th>11</th>\n      <td>6</td>\n      <td>min</td>\n      <td>0</td>\n      <td>73.6</td>\n      <td>31.7</td>\n    </tr>\n    <tr>\n      <th>12</th>\n      <td>6</td>\n      <td>min</td>\n      <td>1</td>\n      <td>73.6</td>\n      <td>33.6</td>\n    </tr>\n    <tr>\n      <th>13</th>\n      <td>6</td>\n      <td>min</td>\n      <td>2</td>\n      <td>73.6</td>\n      <td>74.7</td>\n    </tr>\n    <tr>\n      <th>14</th>\n      <td>7</td>\n      <td>med</td>\n      <td>0</td>\n      <td>58.6</td>\n      <td>71.3</td>\n    </tr>\n    <tr>\n      <th>15</th>\n      <td>8</td>\n      <td>rnk</td>\n      <td>-1</td>\n      <td>35.2</td>\n      <td>NaN</td>\n    </tr>\n    <tr>\n      <th>16</th>\n      <td>9</td>\n      <td>rnk</td>\n      <td>0</td>\n      <td>87.0</td>\n      <td>88.2</td>\n    </tr>\n  </tbody>\n</table>\n</div>"
     },
     "execution_count": 3,
     "metadata": {},
     "output_type": "execute_result"
    }
   ],
   "source": [
    "data = {\n",
    "    'sku': [0, 1, 1, 2, 2, 3, 3, 4, 5, 5, 5, 6, 6, 6, 7, 8, 9],\n",
    "    'agg': ['max', 'med', 'med', 'avg', 'avg', 'rnk', 'rnk', 'max', 'max', 'max', 'max', 'min', 'min', 'min', 'med', 'rnk', 'rnk'],\n",
    "    'rank': [-1, 0, 1, -1, -1, 0, 2, 0, 0, 1, 2, 0, 1, 2, 0, -1, 0],\n",
    "    'base_price': [33.0, 17.7, 17.7, 76.7, 76.7, 39.7, 39.7, 18.0, 84.8, 84.8, 84.8, 73.6, 73.6, 73.6, 58.6, 35.2, 87.0],\n",
    "    'comp_price': [np.nan, 16.4, 21.8, np.nan, np.nan, 37.4, 47.9, 22.4, 106.0, 104.7, 80.9, 31.7, 33.6, 74.7, 71.3, np.nan, 88.2]\n",
    "}\n",
    "\n",
    "df = pd.DataFrame(data)\n",
    "df"
   ],
   "metadata": {
    "collapsed": false,
    "pycharm": {
     "name": "#%%\n"
    }
   }
  },
  {
   "cell_type": "code",
   "execution_count": 4,
   "outputs": [
    {
     "data": {
      "text/plain": "    sku  agg  rank  base_price  comp_price\n0     0  max    -1        33.0         NaN\n1     1  med     0        17.7        16.4\n2     1  med     1        17.7        21.8\n3     2  avg     0        76.7        55.3\n4     2  avg     1        76.7        73.9\n5     3  rnk     0        39.7        37.4\n6     3  rnk     2        39.7        47.9\n7     4  max     0        18.0        22.4\n8     5  max     0        84.8       106.0\n9     5  max     1        84.8       104.7\n10    5  max     2        84.8        80.9\n11    6  min     0        73.6        31.7\n12    6  min     1        73.6        33.6\n13    6  min     2        73.6        74.7\n14    7  med     0        58.6        71.3\n15    8  rnk    -1        35.2         NaN\n16    9  rnk     0        87.0        88.2",
      "text/html": "<div>\n<style scoped>\n    .dataframe tbody tr th:only-of-type {\n        vertical-align: middle;\n    }\n\n    .dataframe tbody tr th {\n        vertical-align: top;\n    }\n\n    .dataframe thead th {\n        text-align: right;\n    }\n</style>\n<table border=\"1\" class=\"dataframe\">\n  <thead>\n    <tr style=\"text-align: right;\">\n      <th></th>\n      <th>sku</th>\n      <th>agg</th>\n      <th>rank</th>\n      <th>base_price</th>\n      <th>comp_price</th>\n    </tr>\n  </thead>\n  <tbody>\n    <tr>\n      <th>0</th>\n      <td>0</td>\n      <td>max</td>\n      <td>-1</td>\n      <td>33.0</td>\n      <td>NaN</td>\n    </tr>\n    <tr>\n      <th>1</th>\n      <td>1</td>\n      <td>med</td>\n      <td>0</td>\n      <td>17.7</td>\n      <td>16.4</td>\n    </tr>\n    <tr>\n      <th>2</th>\n      <td>1</td>\n      <td>med</td>\n      <td>1</td>\n      <td>17.7</td>\n      <td>21.8</td>\n    </tr>\n    <tr>\n      <th>3</th>\n      <td>2</td>\n      <td>avg</td>\n      <td>0</td>\n      <td>76.7</td>\n      <td>55.3</td>\n    </tr>\n    <tr>\n      <th>4</th>\n      <td>2</td>\n      <td>avg</td>\n      <td>1</td>\n      <td>76.7</td>\n      <td>73.9</td>\n    </tr>\n    <tr>\n      <th>5</th>\n      <td>3</td>\n      <td>rnk</td>\n      <td>0</td>\n      <td>39.7</td>\n      <td>37.4</td>\n    </tr>\n    <tr>\n      <th>6</th>\n      <td>3</td>\n      <td>rnk</td>\n      <td>2</td>\n      <td>39.7</td>\n      <td>47.9</td>\n    </tr>\n    <tr>\n      <th>7</th>\n      <td>4</td>\n      <td>max</td>\n      <td>0</td>\n      <td>18.0</td>\n      <td>22.4</td>\n    </tr>\n    <tr>\n      <th>8</th>\n      <td>5</td>\n      <td>max</td>\n      <td>0</td>\n      <td>84.8</td>\n      <td>106.0</td>\n    </tr>\n    <tr>\n      <th>9</th>\n      <td>5</td>\n      <td>max</td>\n      <td>1</td>\n      <td>84.8</td>\n      <td>104.7</td>\n    </tr>\n    <tr>\n      <th>10</th>\n      <td>5</td>\n      <td>max</td>\n      <td>2</td>\n      <td>84.8</td>\n      <td>80.9</td>\n    </tr>\n    <tr>\n      <th>11</th>\n      <td>6</td>\n      <td>min</td>\n      <td>0</td>\n      <td>73.6</td>\n      <td>31.7</td>\n    </tr>\n    <tr>\n      <th>12</th>\n      <td>6</td>\n      <td>min</td>\n      <td>1</td>\n      <td>73.6</td>\n      <td>33.6</td>\n    </tr>\n    <tr>\n      <th>13</th>\n      <td>6</td>\n      <td>min</td>\n      <td>2</td>\n      <td>73.6</td>\n      <td>74.7</td>\n    </tr>\n    <tr>\n      <th>14</th>\n      <td>7</td>\n      <td>med</td>\n      <td>0</td>\n      <td>58.6</td>\n      <td>71.3</td>\n    </tr>\n    <tr>\n      <th>15</th>\n      <td>8</td>\n      <td>rnk</td>\n      <td>-1</td>\n      <td>35.2</td>\n      <td>NaN</td>\n    </tr>\n    <tr>\n      <th>16</th>\n      <td>9</td>\n      <td>rnk</td>\n      <td>0</td>\n      <td>87.0</td>\n      <td>88.2</td>\n    </tr>\n  </tbody>\n</table>\n</div>"
     },
     "execution_count": 4,
     "metadata": {},
     "output_type": "execute_result"
    }
   ],
   "source": [
    "import pandas as pd\n",
    "\n",
    "data = {\n",
    "    'sku': [0, 1, 1, 2, 2, 3, 3, 4, 5, 5, 5, 6, 6, 6, 7, 8, 9],\n",
    "    'agg': ['max', 'med', 'med', 'avg', 'avg', 'rnk', 'rnk', 'max', 'max', 'max', 'max', 'min', 'min', 'min', 'med', 'rnk', 'rnk'],\n",
    "    'rank': [-1, 0, 1, 0, 1, 0, 2, 0, 0, 1, 2, 0, 1, 2, 0, -1, 0],\n",
    "    'base_price': [33.0, 17.7, 17.7, 76.7, 76.7, 39.7, 39.7, 18.0, 84.8, 84.8, 84.8, 73.6, 73.6, 73.6, 58.6, 35.2, 87.0],\n",
    "    'comp_price': [None, 16.4, 21.8, 55.3, 73.9, 37.4, 47.9, 22.4, 106.0, 104.7, 80.9, 31.7, 33.6, 74.7, 71.3, None, 88.2]\n",
    "}\n",
    "\n",
    "df = pd.DataFrame(data)\n",
    "df"
   ],
   "metadata": {
    "collapsed": false,
    "pycharm": {
     "name": "#%%\n"
    }
   }
  },
  {
   "cell_type": "code",
   "execution_count": 8,
   "outputs": [
    {
     "ename": "AttributeError",
     "evalue": "'Series' object has no attribute 'med'",
     "output_type": "error",
     "traceback": [
      "\u001B[1;31m---------------------------------------------------------------------------\u001B[0m",
      "\u001B[1;31mAttributeError\u001B[0m                            Traceback (most recent call last)",
      "\u001B[1;32m~\\AppData\\Local\\Temp\\ipykernel_15624\\625268057.py\u001B[0m in \u001B[0;36m?\u001B[1;34m()\u001B[0m\n\u001B[1;32m----> 1\u001B[1;33m \u001B[0mdf\u001B[0m\u001B[1;33m.\u001B[0m\u001B[0mgroupby\u001B[0m\u001B[1;33m(\u001B[0m\u001B[1;34m'sku'\u001B[0m\u001B[1;33m)\u001B[0m\u001B[1;33m.\u001B[0m\u001B[0magg\u001B[0m\u001B[1;33m(\u001B[0m\u001B[1;33m{\u001B[0m\u001B[1;34m'comp_price'\u001B[0m\u001B[1;33m:\u001B[0m \u001B[1;32mlambda\u001B[0m \u001B[0mx\u001B[0m\u001B[1;33m:\u001B[0m \u001B[0mgetattr\u001B[0m\u001B[1;33m(\u001B[0m\u001B[0mx\u001B[0m\u001B[1;33m,\u001B[0m \u001B[0mdf\u001B[0m\u001B[1;33m.\u001B[0m\u001B[0mloc\u001B[0m\u001B[1;33m[\u001B[0m\u001B[0mx\u001B[0m\u001B[1;33m.\u001B[0m\u001B[0mindex\u001B[0m\u001B[1;33m,\u001B[0m \u001B[1;34m'agg'\u001B[0m\u001B[1;33m]\u001B[0m\u001B[1;33m.\u001B[0m\u001B[0miloc\u001B[0m\u001B[1;33m[\u001B[0m\u001B[1;36m0\u001B[0m\u001B[1;33m]\u001B[0m\u001B[1;33m)\u001B[0m\u001B[1;33m(\u001B[0m\u001B[1;33m)\u001B[0m\u001B[1;33m}\u001B[0m\u001B[1;33m)\u001B[0m\u001B[1;33m\u001B[0m\u001B[1;33m\u001B[0m\u001B[0m\n\u001B[0m",
      "\u001B[1;32m~\\AppData\\Local\\pypoetry\\Cache\\virtualenvs\\ml-sim-kc-8z4rnjSt-py3.11\\Lib\\site-packages\\pandas\\core\\groupby\\generic.py\u001B[0m in \u001B[0;36m?\u001B[1;34m(self, func, engine, engine_kwargs, *args, **kwargs)\u001B[0m\n\u001B[0;32m   1441\u001B[0m             \u001B[0mkwargs\u001B[0m\u001B[1;33m[\u001B[0m\u001B[1;34m\"engine\"\u001B[0m\u001B[1;33m]\u001B[0m \u001B[1;33m=\u001B[0m \u001B[0mengine\u001B[0m\u001B[1;33m\u001B[0m\u001B[1;33m\u001B[0m\u001B[0m\n\u001B[0;32m   1442\u001B[0m             \u001B[0mkwargs\u001B[0m\u001B[1;33m[\u001B[0m\u001B[1;34m\"engine_kwargs\"\u001B[0m\u001B[1;33m]\u001B[0m \u001B[1;33m=\u001B[0m \u001B[0mengine_kwargs\u001B[0m\u001B[1;33m\u001B[0m\u001B[1;33m\u001B[0m\u001B[0m\n\u001B[0;32m   1443\u001B[0m \u001B[1;33m\u001B[0m\u001B[0m\n\u001B[0;32m   1444\u001B[0m         \u001B[0mop\u001B[0m \u001B[1;33m=\u001B[0m \u001B[0mGroupByApply\u001B[0m\u001B[1;33m(\u001B[0m\u001B[0mself\u001B[0m\u001B[1;33m,\u001B[0m \u001B[0mfunc\u001B[0m\u001B[1;33m,\u001B[0m \u001B[0margs\u001B[0m\u001B[1;33m=\u001B[0m\u001B[0margs\u001B[0m\u001B[1;33m,\u001B[0m \u001B[0mkwargs\u001B[0m\u001B[1;33m=\u001B[0m\u001B[0mkwargs\u001B[0m\u001B[1;33m)\u001B[0m\u001B[1;33m\u001B[0m\u001B[1;33m\u001B[0m\u001B[0m\n\u001B[1;32m-> 1445\u001B[1;33m         \u001B[0mresult\u001B[0m \u001B[1;33m=\u001B[0m \u001B[0mop\u001B[0m\u001B[1;33m.\u001B[0m\u001B[0magg\u001B[0m\u001B[1;33m(\u001B[0m\u001B[1;33m)\u001B[0m\u001B[1;33m\u001B[0m\u001B[1;33m\u001B[0m\u001B[0m\n\u001B[0m\u001B[0;32m   1446\u001B[0m         \u001B[1;32mif\u001B[0m \u001B[1;32mnot\u001B[0m \u001B[0mis_dict_like\u001B[0m\u001B[1;33m(\u001B[0m\u001B[0mfunc\u001B[0m\u001B[1;33m)\u001B[0m \u001B[1;32mand\u001B[0m \u001B[0mresult\u001B[0m \u001B[1;32mis\u001B[0m \u001B[1;32mnot\u001B[0m \u001B[1;32mNone\u001B[0m\u001B[1;33m:\u001B[0m\u001B[1;33m\u001B[0m\u001B[1;33m\u001B[0m\u001B[0m\n\u001B[0;32m   1447\u001B[0m             \u001B[1;31m# GH #52849\u001B[0m\u001B[1;33m\u001B[0m\u001B[1;33m\u001B[0m\u001B[0m\n\u001B[0;32m   1448\u001B[0m             \u001B[1;32mif\u001B[0m \u001B[1;32mnot\u001B[0m \u001B[0mself\u001B[0m\u001B[1;33m.\u001B[0m\u001B[0mas_index\u001B[0m \u001B[1;32mand\u001B[0m \u001B[0mis_list_like\u001B[0m\u001B[1;33m(\u001B[0m\u001B[0mfunc\u001B[0m\u001B[1;33m)\u001B[0m\u001B[1;33m:\u001B[0m\u001B[1;33m\u001B[0m\u001B[1;33m\u001B[0m\u001B[0m\n",
      "\u001B[1;32m~\\AppData\\Local\\pypoetry\\Cache\\virtualenvs\\ml-sim-kc-8z4rnjSt-py3.11\\Lib\\site-packages\\pandas\\core\\apply.py\u001B[0m in \u001B[0;36m?\u001B[1;34m(self)\u001B[0m\n\u001B[0;32m    171\u001B[0m         \u001B[1;32mif\u001B[0m \u001B[0misinstance\u001B[0m\u001B[1;33m(\u001B[0m\u001B[0mfunc\u001B[0m\u001B[1;33m,\u001B[0m \u001B[0mstr\u001B[0m\u001B[1;33m)\u001B[0m\u001B[1;33m:\u001B[0m\u001B[1;33m\u001B[0m\u001B[1;33m\u001B[0m\u001B[0m\n\u001B[0;32m    172\u001B[0m             \u001B[1;32mreturn\u001B[0m \u001B[0mself\u001B[0m\u001B[1;33m.\u001B[0m\u001B[0mapply_str\u001B[0m\u001B[1;33m(\u001B[0m\u001B[1;33m)\u001B[0m\u001B[1;33m\u001B[0m\u001B[1;33m\u001B[0m\u001B[0m\n\u001B[0;32m    173\u001B[0m \u001B[1;33m\u001B[0m\u001B[0m\n\u001B[0;32m    174\u001B[0m         \u001B[1;32mif\u001B[0m \u001B[0mis_dict_like\u001B[0m\u001B[1;33m(\u001B[0m\u001B[0mfunc\u001B[0m\u001B[1;33m)\u001B[0m\u001B[1;33m:\u001B[0m\u001B[1;33m\u001B[0m\u001B[1;33m\u001B[0m\u001B[0m\n\u001B[1;32m--> 175\u001B[1;33m             \u001B[1;32mreturn\u001B[0m \u001B[0mself\u001B[0m\u001B[1;33m.\u001B[0m\u001B[0magg_dict_like\u001B[0m\u001B[1;33m(\u001B[0m\u001B[1;33m)\u001B[0m\u001B[1;33m\u001B[0m\u001B[1;33m\u001B[0m\u001B[0m\n\u001B[0m\u001B[0;32m    176\u001B[0m         \u001B[1;32melif\u001B[0m \u001B[0mis_list_like\u001B[0m\u001B[1;33m(\u001B[0m\u001B[0mfunc\u001B[0m\u001B[1;33m)\u001B[0m\u001B[1;33m:\u001B[0m\u001B[1;33m\u001B[0m\u001B[1;33m\u001B[0m\u001B[0m\n\u001B[0;32m    177\u001B[0m             \u001B[1;31m# we require a list, but not a 'str'\u001B[0m\u001B[1;33m\u001B[0m\u001B[1;33m\u001B[0m\u001B[0m\n\u001B[0;32m    178\u001B[0m             \u001B[1;32mreturn\u001B[0m \u001B[0mself\u001B[0m\u001B[1;33m.\u001B[0m\u001B[0magg_list_like\u001B[0m\u001B[1;33m(\u001B[0m\u001B[1;33m)\u001B[0m\u001B[1;33m\u001B[0m\u001B[1;33m\u001B[0m\u001B[0m\n",
      "\u001B[1;32m~\\AppData\\Local\\pypoetry\\Cache\\virtualenvs\\ml-sim-kc-8z4rnjSt-py3.11\\Lib\\site-packages\\pandas\\core\\apply.py\u001B[0m in \u001B[0;36m?\u001B[1;34m(self)\u001B[0m\n\u001B[0;32m    402\u001B[0m         \u001B[0mReturns\u001B[0m\u001B[1;33m\u001B[0m\u001B[1;33m\u001B[0m\u001B[0m\n\u001B[0;32m    403\u001B[0m         \u001B[1;33m-\u001B[0m\u001B[1;33m-\u001B[0m\u001B[1;33m-\u001B[0m\u001B[1;33m-\u001B[0m\u001B[1;33m-\u001B[0m\u001B[1;33m-\u001B[0m\u001B[1;33m-\u001B[0m\u001B[1;33m\u001B[0m\u001B[1;33m\u001B[0m\u001B[0m\n\u001B[0;32m    404\u001B[0m         \u001B[0mResult\u001B[0m \u001B[0mof\u001B[0m \u001B[0maggregation\u001B[0m\u001B[1;33m.\u001B[0m\u001B[1;33m\u001B[0m\u001B[1;33m\u001B[0m\u001B[0m\n\u001B[0;32m    405\u001B[0m         \"\"\"\n\u001B[1;32m--> 406\u001B[1;33m         \u001B[1;32mreturn\u001B[0m \u001B[0mself\u001B[0m\u001B[1;33m.\u001B[0m\u001B[0magg_or_apply_dict_like\u001B[0m\u001B[1;33m(\u001B[0m\u001B[0mop_name\u001B[0m\u001B[1;33m=\u001B[0m\u001B[1;34m\"agg\"\u001B[0m\u001B[1;33m)\u001B[0m\u001B[1;33m\u001B[0m\u001B[1;33m\u001B[0m\u001B[0m\n\u001B[0m",
      "\u001B[1;32m~\\AppData\\Local\\pypoetry\\Cache\\virtualenvs\\ml-sim-kc-8z4rnjSt-py3.11\\Lib\\site-packages\\pandas\\core\\apply.py\u001B[0m in \u001B[0;36m?\u001B[1;34m(self, op_name)\u001B[0m\n\u001B[0;32m   1386\u001B[0m \u001B[1;33m\u001B[0m\u001B[0m\n\u001B[0;32m   1387\u001B[0m         with com.temp_setattr(\n\u001B[0;32m   1388\u001B[0m             \u001B[0mobj\u001B[0m\u001B[1;33m,\u001B[0m \u001B[1;34m\"as_index\"\u001B[0m\u001B[1;33m,\u001B[0m \u001B[1;32mTrue\u001B[0m\u001B[1;33m,\u001B[0m \u001B[0mcondition\u001B[0m\u001B[1;33m=\u001B[0m\u001B[0mhasattr\u001B[0m\u001B[1;33m(\u001B[0m\u001B[0mobj\u001B[0m\u001B[1;33m,\u001B[0m \u001B[1;34m\"as_index\"\u001B[0m\u001B[1;33m)\u001B[0m\u001B[1;33m\u001B[0m\u001B[1;33m\u001B[0m\u001B[0m\n\u001B[0;32m   1389\u001B[0m         ):\n\u001B[1;32m-> 1390\u001B[1;33m             result_index, result_data = self.compute_dict_like(\n\u001B[0m\u001B[0;32m   1391\u001B[0m                 \u001B[0mop_name\u001B[0m\u001B[1;33m,\u001B[0m \u001B[0mselected_obj\u001B[0m\u001B[1;33m,\u001B[0m \u001B[0mselection\u001B[0m\u001B[1;33m,\u001B[0m \u001B[0mkwargs\u001B[0m\u001B[1;33m\u001B[0m\u001B[1;33m\u001B[0m\u001B[0m\n\u001B[0;32m   1392\u001B[0m             )\n\u001B[0;32m   1393\u001B[0m         \u001B[0mresult\u001B[0m \u001B[1;33m=\u001B[0m \u001B[0mself\u001B[0m\u001B[1;33m.\u001B[0m\u001B[0mwrap_results_dict_like\u001B[0m\u001B[1;33m(\u001B[0m\u001B[0mselected_obj\u001B[0m\u001B[1;33m,\u001B[0m \u001B[0mresult_index\u001B[0m\u001B[1;33m,\u001B[0m \u001B[0mresult_data\u001B[0m\u001B[1;33m)\u001B[0m\u001B[1;33m\u001B[0m\u001B[1;33m\u001B[0m\u001B[0m\n",
      "\u001B[1;32m~\\AppData\\Local\\pypoetry\\Cache\\virtualenvs\\ml-sim-kc-8z4rnjSt-py3.11\\Lib\\site-packages\\pandas\\core\\apply.py\u001B[0m in \u001B[0;36m?\u001B[1;34m(self, op_name, selected_obj, selection, kwargs)\u001B[0m\n\u001B[0;32m    475\u001B[0m                 \u001B[0mkeys\u001B[0m \u001B[1;33m+=\u001B[0m \u001B[1;33m[\u001B[0m\u001B[0mkey\u001B[0m\u001B[1;33m]\u001B[0m \u001B[1;33m*\u001B[0m \u001B[0mlen\u001B[0m\u001B[1;33m(\u001B[0m\u001B[0mkey_data\u001B[0m\u001B[1;33m)\u001B[0m\u001B[1;33m\u001B[0m\u001B[1;33m\u001B[0m\u001B[0m\n\u001B[0;32m    476\u001B[0m                 \u001B[0mresults\u001B[0m \u001B[1;33m+=\u001B[0m \u001B[0mkey_data\u001B[0m\u001B[1;33m\u001B[0m\u001B[1;33m\u001B[0m\u001B[0m\n\u001B[0;32m    477\u001B[0m         \u001B[1;32melse\u001B[0m\u001B[1;33m:\u001B[0m\u001B[1;33m\u001B[0m\u001B[1;33m\u001B[0m\u001B[0m\n\u001B[0;32m    478\u001B[0m             \u001B[1;31m# key used for column selection and output\u001B[0m\u001B[1;33m\u001B[0m\u001B[1;33m\u001B[0m\u001B[0m\n\u001B[1;32m--> 479\u001B[1;33m             results = [\n\u001B[0m\u001B[0;32m    480\u001B[0m                 \u001B[0mgetattr\u001B[0m\u001B[1;33m(\u001B[0m\u001B[0mobj\u001B[0m\u001B[1;33m.\u001B[0m\u001B[0m_gotitem\u001B[0m\u001B[1;33m(\u001B[0m\u001B[0mkey\u001B[0m\u001B[1;33m,\u001B[0m \u001B[0mndim\u001B[0m\u001B[1;33m=\u001B[0m\u001B[1;36m1\u001B[0m\u001B[1;33m)\u001B[0m\u001B[1;33m,\u001B[0m \u001B[0mop_name\u001B[0m\u001B[1;33m)\u001B[0m\u001B[1;33m(\u001B[0m\u001B[0mhow\u001B[0m\u001B[1;33m,\u001B[0m \u001B[1;33m**\u001B[0m\u001B[0mkwargs\u001B[0m\u001B[1;33m)\u001B[0m\u001B[1;33m\u001B[0m\u001B[1;33m\u001B[0m\u001B[0m\n\u001B[0;32m    481\u001B[0m                 \u001B[1;32mfor\u001B[0m \u001B[0mkey\u001B[0m\u001B[1;33m,\u001B[0m \u001B[0mhow\u001B[0m \u001B[1;32min\u001B[0m \u001B[0mfunc\u001B[0m\u001B[1;33m.\u001B[0m\u001B[0mitems\u001B[0m\u001B[1;33m(\u001B[0m\u001B[1;33m)\u001B[0m\u001B[1;33m\u001B[0m\u001B[1;33m\u001B[0m\u001B[0m\n\u001B[0;32m    482\u001B[0m             ]\n",
      "\u001B[1;32m~\\AppData\\Local\\pypoetry\\Cache\\virtualenvs\\ml-sim-kc-8z4rnjSt-py3.11\\Lib\\site-packages\\pandas\\core\\apply.py\u001B[0m in \u001B[0;36m?\u001B[1;34m(.0)\u001B[0m\n\u001B[0;32m    479\u001B[0m     def compute_dict_like(\n\u001B[1;32m--> 480\u001B[1;33m         \u001B[0mself\u001B[0m\u001B[1;33m,\u001B[0m\u001B[1;33m\u001B[0m\u001B[1;33m\u001B[0m\u001B[0m\n\u001B[0m\u001B[0;32m    481\u001B[0m         \u001B[0mop_name\u001B[0m\u001B[1;33m:\u001B[0m \u001B[0mLiteral\u001B[0m\u001B[1;33m[\u001B[0m\u001B[1;34m\"agg\"\u001B[0m\u001B[1;33m,\u001B[0m \u001B[1;34m\"apply\"\u001B[0m\u001B[1;33m]\u001B[0m\u001B[1;33m,\u001B[0m\u001B[1;33m\u001B[0m\u001B[1;33m\u001B[0m\u001B[0m\n\u001B[0;32m    482\u001B[0m         \u001B[0mselected_obj\u001B[0m\u001B[1;33m:\u001B[0m \u001B[0mSeries\u001B[0m \u001B[1;33m|\u001B[0m \u001B[0mDataFrame\u001B[0m\u001B[1;33m,\u001B[0m\u001B[1;33m\u001B[0m\u001B[1;33m\u001B[0m\u001B[0m\n\u001B[0;32m    483\u001B[0m         \u001B[0mselection\u001B[0m\u001B[1;33m:\u001B[0m \u001B[0mHashable\u001B[0m \u001B[1;33m|\u001B[0m \u001B[0mSequence\u001B[0m\u001B[1;33m[\u001B[0m\u001B[0mHashable\u001B[0m\u001B[1;33m]\u001B[0m\u001B[1;33m,\u001B[0m\u001B[1;33m\u001B[0m\u001B[1;33m\u001B[0m\u001B[0m\n",
      "\u001B[1;32m~\\AppData\\Local\\pypoetry\\Cache\\virtualenvs\\ml-sim-kc-8z4rnjSt-py3.11\\Lib\\site-packages\\pandas\\core\\groupby\\generic.py\u001B[0m in \u001B[0;36m?\u001B[1;34m(self, func, engine, engine_kwargs, *args, **kwargs)\u001B[0m\n\u001B[0;32m    289\u001B[0m                 \u001B[1;32mreturn\u001B[0m \u001B[0mself\u001B[0m\u001B[1;33m.\u001B[0m\u001B[0m_python_agg_general\u001B[0m\u001B[1;33m(\u001B[0m\u001B[0mfunc\u001B[0m\u001B[1;33m,\u001B[0m \u001B[1;33m*\u001B[0m\u001B[0margs\u001B[0m\u001B[1;33m,\u001B[0m \u001B[1;33m**\u001B[0m\u001B[0mkwargs\u001B[0m\u001B[1;33m)\u001B[0m\u001B[1;33m\u001B[0m\u001B[1;33m\u001B[0m\u001B[0m\n\u001B[0;32m    290\u001B[0m \u001B[1;33m\u001B[0m\u001B[0m\n\u001B[0;32m    291\u001B[0m             \u001B[1;32mtry\u001B[0m\u001B[1;33m:\u001B[0m\u001B[1;33m\u001B[0m\u001B[1;33m\u001B[0m\u001B[0m\n\u001B[0;32m    292\u001B[0m                 \u001B[1;32mreturn\u001B[0m \u001B[0mself\u001B[0m\u001B[1;33m.\u001B[0m\u001B[0m_python_agg_general\u001B[0m\u001B[1;33m(\u001B[0m\u001B[0mfunc\u001B[0m\u001B[1;33m,\u001B[0m \u001B[1;33m*\u001B[0m\u001B[0margs\u001B[0m\u001B[1;33m,\u001B[0m \u001B[1;33m**\u001B[0m\u001B[0mkwargs\u001B[0m\u001B[1;33m)\u001B[0m\u001B[1;33m\u001B[0m\u001B[1;33m\u001B[0m\u001B[0m\n\u001B[1;32m--> 293\u001B[1;33m             \u001B[1;32mexcept\u001B[0m \u001B[0mKeyError\u001B[0m\u001B[1;33m:\u001B[0m\u001B[1;33m\u001B[0m\u001B[1;33m\u001B[0m\u001B[0m\n\u001B[0m\u001B[0;32m    294\u001B[0m                 \u001B[1;31m# KeyError raised in test_groupby.test_basic is bc the func does\u001B[0m\u001B[1;33m\u001B[0m\u001B[1;33m\u001B[0m\u001B[0m\n\u001B[0;32m    295\u001B[0m                 \u001B[1;31m#  a dictionary lookup on group.name, but group name is not\u001B[0m\u001B[1;33m\u001B[0m\u001B[1;33m\u001B[0m\u001B[0m\n\u001B[0;32m    296\u001B[0m                 \u001B[1;31m#  pinned in _python_agg_general, only in _aggregate_named\u001B[0m\u001B[1;33m\u001B[0m\u001B[1;33m\u001B[0m\u001B[0m\n",
      "\u001B[1;32m~\\AppData\\Local\\pypoetry\\Cache\\virtualenvs\\ml-sim-kc-8z4rnjSt-py3.11\\Lib\\site-packages\\pandas\\core\\groupby\\generic.py\u001B[0m in \u001B[0;36m?\u001B[1;34m(self, func, *args, **kwargs)\u001B[0m\n\u001B[0;32m    321\u001B[0m             \u001B[0mwarn_alias_replacement\u001B[0m\u001B[1;33m(\u001B[0m\u001B[0mself\u001B[0m\u001B[1;33m,\u001B[0m \u001B[0morig_func\u001B[0m\u001B[1;33m,\u001B[0m \u001B[0malias\u001B[0m\u001B[1;33m)\u001B[0m\u001B[1;33m\u001B[0m\u001B[1;33m\u001B[0m\u001B[0m\n\u001B[0;32m    322\u001B[0m         \u001B[0mf\u001B[0m \u001B[1;33m=\u001B[0m \u001B[1;32mlambda\u001B[0m \u001B[0mx\u001B[0m\u001B[1;33m:\u001B[0m \u001B[0mfunc\u001B[0m\u001B[1;33m(\u001B[0m\u001B[0mx\u001B[0m\u001B[1;33m,\u001B[0m \u001B[1;33m*\u001B[0m\u001B[0margs\u001B[0m\u001B[1;33m,\u001B[0m \u001B[1;33m**\u001B[0m\u001B[0mkwargs\u001B[0m\u001B[1;33m)\u001B[0m\u001B[1;33m\u001B[0m\u001B[1;33m\u001B[0m\u001B[0m\n\u001B[0;32m    323\u001B[0m \u001B[1;33m\u001B[0m\u001B[0m\n\u001B[0;32m    324\u001B[0m         \u001B[0mobj\u001B[0m \u001B[1;33m=\u001B[0m \u001B[0mself\u001B[0m\u001B[1;33m.\u001B[0m\u001B[0m_obj_with_exclusions\u001B[0m\u001B[1;33m\u001B[0m\u001B[1;33m\u001B[0m\u001B[0m\n\u001B[1;32m--> 325\u001B[1;33m         \u001B[0mresult\u001B[0m \u001B[1;33m=\u001B[0m \u001B[0mself\u001B[0m\u001B[1;33m.\u001B[0m\u001B[0mgrouper\u001B[0m\u001B[1;33m.\u001B[0m\u001B[0magg_series\u001B[0m\u001B[1;33m(\u001B[0m\u001B[0mobj\u001B[0m\u001B[1;33m,\u001B[0m \u001B[0mf\u001B[0m\u001B[1;33m)\u001B[0m\u001B[1;33m\u001B[0m\u001B[1;33m\u001B[0m\u001B[0m\n\u001B[0m\u001B[0;32m    326\u001B[0m         \u001B[0mres\u001B[0m \u001B[1;33m=\u001B[0m \u001B[0mobj\u001B[0m\u001B[1;33m.\u001B[0m\u001B[0m_constructor\u001B[0m\u001B[1;33m(\u001B[0m\u001B[0mresult\u001B[0m\u001B[1;33m,\u001B[0m \u001B[0mname\u001B[0m\u001B[1;33m=\u001B[0m\u001B[0mobj\u001B[0m\u001B[1;33m.\u001B[0m\u001B[0mname\u001B[0m\u001B[1;33m)\u001B[0m\u001B[1;33m\u001B[0m\u001B[1;33m\u001B[0m\u001B[0m\n\u001B[0;32m    327\u001B[0m         \u001B[1;32mreturn\u001B[0m \u001B[0mself\u001B[0m\u001B[1;33m.\u001B[0m\u001B[0m_wrap_aggregated_output\u001B[0m\u001B[1;33m(\u001B[0m\u001B[0mres\u001B[0m\u001B[1;33m)\u001B[0m\u001B[1;33m\u001B[0m\u001B[1;33m\u001B[0m\u001B[0m\n",
      "\u001B[1;32m~\\AppData\\Local\\pypoetry\\Cache\\virtualenvs\\ml-sim-kc-8z4rnjSt-py3.11\\Lib\\site-packages\\pandas\\core\\groupby\\ops.py\u001B[0m in \u001B[0;36m?\u001B[1;34m(self, obj, func, preserve_dtype)\u001B[0m\n\u001B[0;32m    845\u001B[0m             \u001B[1;31m#  with _from_sequence.  NB we are assuming here that _from_sequence\u001B[0m\u001B[1;33m\u001B[0m\u001B[1;33m\u001B[0m\u001B[0m\n\u001B[0;32m    846\u001B[0m             \u001B[1;31m#  is sufficiently strict that it casts appropriately.\u001B[0m\u001B[1;33m\u001B[0m\u001B[1;33m\u001B[0m\u001B[0m\n\u001B[0;32m    847\u001B[0m             \u001B[0mpreserve_dtype\u001B[0m \u001B[1;33m=\u001B[0m \u001B[1;32mTrue\u001B[0m\u001B[1;33m\u001B[0m\u001B[1;33m\u001B[0m\u001B[0m\n\u001B[0;32m    848\u001B[0m \u001B[1;33m\u001B[0m\u001B[0m\n\u001B[1;32m--> 849\u001B[1;33m         \u001B[0mresult\u001B[0m \u001B[1;33m=\u001B[0m \u001B[0mself\u001B[0m\u001B[1;33m.\u001B[0m\u001B[0m_aggregate_series_pure_python\u001B[0m\u001B[1;33m(\u001B[0m\u001B[0mobj\u001B[0m\u001B[1;33m,\u001B[0m \u001B[0mfunc\u001B[0m\u001B[1;33m)\u001B[0m\u001B[1;33m\u001B[0m\u001B[1;33m\u001B[0m\u001B[0m\n\u001B[0m\u001B[0;32m    850\u001B[0m \u001B[1;33m\u001B[0m\u001B[0m\n\u001B[0;32m    851\u001B[0m         \u001B[1;32mif\u001B[0m \u001B[0mlen\u001B[0m\u001B[1;33m(\u001B[0m\u001B[0mobj\u001B[0m\u001B[1;33m)\u001B[0m \u001B[1;33m==\u001B[0m \u001B[1;36m0\u001B[0m \u001B[1;32mand\u001B[0m \u001B[0mlen\u001B[0m\u001B[1;33m(\u001B[0m\u001B[0mresult\u001B[0m\u001B[1;33m)\u001B[0m \u001B[1;33m==\u001B[0m \u001B[1;36m0\u001B[0m \u001B[1;32mand\u001B[0m \u001B[0misinstance\u001B[0m\u001B[1;33m(\u001B[0m\u001B[0mobj\u001B[0m\u001B[1;33m.\u001B[0m\u001B[0mdtype\u001B[0m\u001B[1;33m,\u001B[0m \u001B[0mExtensionDtype\u001B[0m\u001B[1;33m)\u001B[0m\u001B[1;33m:\u001B[0m\u001B[1;33m\u001B[0m\u001B[1;33m\u001B[0m\u001B[0m\n\u001B[0;32m    852\u001B[0m             \u001B[0mcls\u001B[0m \u001B[1;33m=\u001B[0m \u001B[0mobj\u001B[0m\u001B[1;33m.\u001B[0m\u001B[0mdtype\u001B[0m\u001B[1;33m.\u001B[0m\u001B[0mconstruct_array_type\u001B[0m\u001B[1;33m(\u001B[0m\u001B[1;33m)\u001B[0m\u001B[1;33m\u001B[0m\u001B[1;33m\u001B[0m\u001B[0m\n",
      "\u001B[1;32m~\\AppData\\Local\\pypoetry\\Cache\\virtualenvs\\ml-sim-kc-8z4rnjSt-py3.11\\Lib\\site-packages\\pandas\\core\\groupby\\ops.py\u001B[0m in \u001B[0;36m?\u001B[1;34m(self, obj, func)\u001B[0m\n\u001B[0;32m    873\u001B[0m \u001B[1;33m\u001B[0m\u001B[0m\n\u001B[0;32m    874\u001B[0m         \u001B[0msplitter\u001B[0m \u001B[1;33m=\u001B[0m \u001B[0mself\u001B[0m\u001B[1;33m.\u001B[0m\u001B[0m_get_splitter\u001B[0m\u001B[1;33m(\u001B[0m\u001B[0mobj\u001B[0m\u001B[1;33m,\u001B[0m \u001B[0maxis\u001B[0m\u001B[1;33m=\u001B[0m\u001B[1;36m0\u001B[0m\u001B[1;33m)\u001B[0m\u001B[1;33m\u001B[0m\u001B[1;33m\u001B[0m\u001B[0m\n\u001B[0;32m    875\u001B[0m \u001B[1;33m\u001B[0m\u001B[0m\n\u001B[0;32m    876\u001B[0m         \u001B[1;32mfor\u001B[0m \u001B[0mi\u001B[0m\u001B[1;33m,\u001B[0m \u001B[0mgroup\u001B[0m \u001B[1;32min\u001B[0m \u001B[0menumerate\u001B[0m\u001B[1;33m(\u001B[0m\u001B[0msplitter\u001B[0m\u001B[1;33m)\u001B[0m\u001B[1;33m:\u001B[0m\u001B[1;33m\u001B[0m\u001B[1;33m\u001B[0m\u001B[0m\n\u001B[1;32m--> 877\u001B[1;33m             \u001B[0mres\u001B[0m \u001B[1;33m=\u001B[0m \u001B[0mfunc\u001B[0m\u001B[1;33m(\u001B[0m\u001B[0mgroup\u001B[0m\u001B[1;33m)\u001B[0m\u001B[1;33m\u001B[0m\u001B[1;33m\u001B[0m\u001B[0m\n\u001B[0m\u001B[0;32m    878\u001B[0m             \u001B[0mres\u001B[0m \u001B[1;33m=\u001B[0m \u001B[0mextract_result\u001B[0m\u001B[1;33m(\u001B[0m\u001B[0mres\u001B[0m\u001B[1;33m)\u001B[0m\u001B[1;33m\u001B[0m\u001B[1;33m\u001B[0m\u001B[0m\n\u001B[0;32m    879\u001B[0m \u001B[1;33m\u001B[0m\u001B[0m\n\u001B[0;32m    880\u001B[0m             \u001B[1;32mif\u001B[0m \u001B[1;32mnot\u001B[0m \u001B[0minitialized\u001B[0m\u001B[1;33m:\u001B[0m\u001B[1;33m\u001B[0m\u001B[1;33m\u001B[0m\u001B[0m\n",
      "\u001B[1;32m~\\AppData\\Local\\pypoetry\\Cache\\virtualenvs\\ml-sim-kc-8z4rnjSt-py3.11\\Lib\\site-packages\\pandas\\core\\groupby\\generic.py\u001B[0m in \u001B[0;36m?\u001B[1;34m(x)\u001B[0m\n\u001B[1;32m--> 322\u001B[1;33m         \u001B[0mf\u001B[0m \u001B[1;33m=\u001B[0m \u001B[1;32mlambda\u001B[0m \u001B[0mx\u001B[0m\u001B[1;33m:\u001B[0m \u001B[0mfunc\u001B[0m\u001B[1;33m(\u001B[0m\u001B[0mx\u001B[0m\u001B[1;33m,\u001B[0m \u001B[1;33m*\u001B[0m\u001B[0margs\u001B[0m\u001B[1;33m,\u001B[0m \u001B[1;33m**\u001B[0m\u001B[0mkwargs\u001B[0m\u001B[1;33m)\u001B[0m\u001B[1;33m\u001B[0m\u001B[1;33m\u001B[0m\u001B[0m\n\u001B[0m",
      "\u001B[1;32m~\\AppData\\Local\\Temp\\ipykernel_15624\\625268057.py\u001B[0m in \u001B[0;36m?\u001B[1;34m(x)\u001B[0m\n\u001B[1;32m----> 1\u001B[1;33m \u001B[0mdf\u001B[0m\u001B[1;33m.\u001B[0m\u001B[0mgroupby\u001B[0m\u001B[1;33m(\u001B[0m\u001B[1;34m'sku'\u001B[0m\u001B[1;33m)\u001B[0m\u001B[1;33m.\u001B[0m\u001B[0magg\u001B[0m\u001B[1;33m(\u001B[0m\u001B[1;33m{\u001B[0m\u001B[1;34m'comp_price'\u001B[0m\u001B[1;33m:\u001B[0m \u001B[1;32mlambda\u001B[0m \u001B[0mx\u001B[0m\u001B[1;33m:\u001B[0m \u001B[0mgetattr\u001B[0m\u001B[1;33m(\u001B[0m\u001B[0mx\u001B[0m\u001B[1;33m,\u001B[0m \u001B[0mdf\u001B[0m\u001B[1;33m.\u001B[0m\u001B[0mloc\u001B[0m\u001B[1;33m[\u001B[0m\u001B[0mx\u001B[0m\u001B[1;33m.\u001B[0m\u001B[0mindex\u001B[0m\u001B[1;33m,\u001B[0m \u001B[1;34m'agg'\u001B[0m\u001B[1;33m]\u001B[0m\u001B[1;33m.\u001B[0m\u001B[0miloc\u001B[0m\u001B[1;33m[\u001B[0m\u001B[1;36m0\u001B[0m\u001B[1;33m]\u001B[0m\u001B[1;33m)\u001B[0m\u001B[1;33m(\u001B[0m\u001B[1;33m)\u001B[0m\u001B[1;33m}\u001B[0m\u001B[1;33m)\u001B[0m\u001B[1;33m\u001B[0m\u001B[1;33m\u001B[0m\u001B[0m\n\u001B[0m",
      "\u001B[1;32m~\\AppData\\Local\\pypoetry\\Cache\\virtualenvs\\ml-sim-kc-8z4rnjSt-py3.11\\Lib\\site-packages\\pandas\\core\\generic.py\u001B[0m in \u001B[0;36m?\u001B[1;34m(self, name)\u001B[0m\n\u001B[0;32m   6200\u001B[0m             \u001B[1;32mand\u001B[0m \u001B[0mname\u001B[0m \u001B[1;32mnot\u001B[0m \u001B[1;32min\u001B[0m \u001B[0mself\u001B[0m\u001B[1;33m.\u001B[0m\u001B[0m_accessors\u001B[0m\u001B[1;33m\u001B[0m\u001B[1;33m\u001B[0m\u001B[0m\n\u001B[0;32m   6201\u001B[0m             \u001B[1;32mand\u001B[0m \u001B[0mself\u001B[0m\u001B[1;33m.\u001B[0m\u001B[0m_info_axis\u001B[0m\u001B[1;33m.\u001B[0m\u001B[0m_can_hold_identifiers_and_holds_name\u001B[0m\u001B[1;33m(\u001B[0m\u001B[0mname\u001B[0m\u001B[1;33m)\u001B[0m\u001B[1;33m\u001B[0m\u001B[1;33m\u001B[0m\u001B[0m\n\u001B[0;32m   6202\u001B[0m         ):\n\u001B[0;32m   6203\u001B[0m             \u001B[1;32mreturn\u001B[0m \u001B[0mself\u001B[0m\u001B[1;33m[\u001B[0m\u001B[0mname\u001B[0m\u001B[1;33m]\u001B[0m\u001B[1;33m\u001B[0m\u001B[1;33m\u001B[0m\u001B[0m\n\u001B[1;32m-> 6204\u001B[1;33m         \u001B[1;32mreturn\u001B[0m \u001B[0mobject\u001B[0m\u001B[1;33m.\u001B[0m\u001B[0m__getattribute__\u001B[0m\u001B[1;33m(\u001B[0m\u001B[0mself\u001B[0m\u001B[1;33m,\u001B[0m \u001B[0mname\u001B[0m\u001B[1;33m)\u001B[0m\u001B[1;33m\u001B[0m\u001B[1;33m\u001B[0m\u001B[0m\n\u001B[0m",
      "\u001B[1;31mAttributeError\u001B[0m: 'Series' object has no attribute 'med'"
     ]
    }
   ],
   "source": [
    "df.groupby('sku').agg()"
   ],
   "metadata": {
    "collapsed": false,
    "pycharm": {
     "name": "#%%\n"
    }
   }
  },
  {
   "cell_type": "code",
   "execution_count": 5,
   "outputs": [],
   "source": [
    "import pandas as pd\n",
    "import numpy as np\n",
    "\n",
    "# Предположим, у вас есть DataFrame df с колонками 'sku', 'value' и 'agg'\n",
    "# и в колонке 'agg' записаны имена функций агрегации\n",
    "\n",
    "# Создаем пример DataFrame\n",
    "# Определяем пользовательские функции агрегации\n",
    "def custom_sum(series):\n",
    "    return np.sum(series)\n",
    "\n",
    "def custom_mean(series):\n",
    "    return np.mean(series)\n",
    "\n",
    "def custom_max(series):\n",
    "    return np.max(series)\n",
    "\n",
    "def custom_min(series):\n",
    "    return np.min(series)\n",
    "\n",
    "# Словарь, отображающий имена функций агрегации на соответствующие функции\n",
    "agg_functions = {\n",
    "    'sum': custom_sum,\n",
    "    'mean': custom_mean,\n",
    "    'max': custom_max,\n",
    "    'min': custom_min\n",
    "}\n",
    "\n",
    "# Применяем groupby и apply, используя значения из колонки 'agg' в качестве функций\n",
    "\n"
   ],
   "metadata": {
    "collapsed": false,
    "pycharm": {
     "name": "#%%\n"
    }
   }
  },
  {
   "cell_type": "code",
   "execution_count": 7,
   "outputs": [
    {
     "ename": "KeyError",
     "evalue": "'med'",
     "output_type": "error",
     "traceback": [
      "\u001B[1;31m---------------------------------------------------------------------------\u001B[0m",
      "\u001B[1;31mKeyError\u001B[0m                                  Traceback (most recent call last)",
      "Cell \u001B[1;32mIn[7], line 1\u001B[0m\n\u001B[1;32m----> 1\u001B[0m result \u001B[38;5;241m=\u001B[39m \u001B[43mdf\u001B[49m\u001B[38;5;241;43m.\u001B[39;49m\u001B[43mgroupby\u001B[49m\u001B[43m(\u001B[49m\u001B[38;5;124;43m'\u001B[39;49m\u001B[38;5;124;43msku\u001B[39;49m\u001B[38;5;124;43m'\u001B[39;49m\u001B[43m)\u001B[49m\u001B[43m[\u001B[49m\u001B[38;5;124;43m'\u001B[39;49m\u001B[38;5;124;43mbase_price\u001B[39;49m\u001B[38;5;124;43m'\u001B[39;49m\u001B[43m]\u001B[49m\u001B[38;5;241;43m.\u001B[39;49m\u001B[43mapply\u001B[49m\u001B[43m(\u001B[49m\u001B[38;5;28;43;01mlambda\u001B[39;49;00m\u001B[43m \u001B[49m\u001B[43mx\u001B[49m\u001B[43m:\u001B[49m\u001B[43m \u001B[49m\u001B[43magg_functions\u001B[49m\u001B[43m[\u001B[49m\u001B[43mdf\u001B[49m\u001B[43m[\u001B[49m\u001B[38;5;124;43m'\u001B[39;49m\u001B[38;5;124;43magg\u001B[39;49m\u001B[38;5;124;43m'\u001B[39;49m\u001B[43m]\u001B[49m\u001B[38;5;241;43m.\u001B[39;49m\u001B[43miloc\u001B[49m\u001B[43m[\u001B[49m\u001B[43mx\u001B[49m\u001B[38;5;241;43m.\u001B[39;49m\u001B[43mindex\u001B[49m\u001B[43m[\u001B[49m\u001B[38;5;241;43m0\u001B[39;49m\u001B[43m]\u001B[49m\u001B[43m]\u001B[49m\u001B[43m]\u001B[49m\u001B[43m(\u001B[49m\u001B[43mx\u001B[49m\u001B[43m)\u001B[49m\u001B[43m)\u001B[49m\u001B[38;5;241m.\u001B[39mreset_index()\n\u001B[0;32m      3\u001B[0m \u001B[38;5;28mprint\u001B[39m(result)\n",
      "File \u001B[1;32m~\\AppData\\Local\\pypoetry\\Cache\\virtualenvs\\ml-sim-kc-8z4rnjSt-py3.11\\Lib\\site-packages\\pandas\\core\\groupby\\generic.py:228\u001B[0m, in \u001B[0;36mSeriesGroupBy.apply\u001B[1;34m(self, func, *args, **kwargs)\u001B[0m\n\u001B[0;32m    222\u001B[0m \u001B[38;5;129m@Appender\u001B[39m(\n\u001B[0;32m    223\u001B[0m     _apply_docs[\u001B[38;5;124m\"\u001B[39m\u001B[38;5;124mtemplate\u001B[39m\u001B[38;5;124m\"\u001B[39m]\u001B[38;5;241m.\u001B[39mformat(\n\u001B[0;32m    224\u001B[0m         \u001B[38;5;28minput\u001B[39m\u001B[38;5;241m=\u001B[39m\u001B[38;5;124m\"\u001B[39m\u001B[38;5;124mseries\u001B[39m\u001B[38;5;124m\"\u001B[39m, examples\u001B[38;5;241m=\u001B[39m_apply_docs[\u001B[38;5;124m\"\u001B[39m\u001B[38;5;124mseries_examples\u001B[39m\u001B[38;5;124m\"\u001B[39m]\n\u001B[0;32m    225\u001B[0m     )\n\u001B[0;32m    226\u001B[0m )\n\u001B[0;32m    227\u001B[0m \u001B[38;5;28;01mdef\u001B[39;00m \u001B[38;5;21mapply\u001B[39m(\u001B[38;5;28mself\u001B[39m, func, \u001B[38;5;241m*\u001B[39margs, \u001B[38;5;241m*\u001B[39m\u001B[38;5;241m*\u001B[39mkwargs) \u001B[38;5;241m-\u001B[39m\u001B[38;5;241m>\u001B[39m Series:\n\u001B[1;32m--> 228\u001B[0m     \u001B[38;5;28;01mreturn\u001B[39;00m \u001B[38;5;28;43msuper\u001B[39;49m\u001B[43m(\u001B[49m\u001B[43m)\u001B[49m\u001B[38;5;241;43m.\u001B[39;49m\u001B[43mapply\u001B[49m\u001B[43m(\u001B[49m\u001B[43mfunc\u001B[49m\u001B[43m,\u001B[49m\u001B[43m \u001B[49m\u001B[38;5;241;43m*\u001B[39;49m\u001B[43margs\u001B[49m\u001B[43m,\u001B[49m\u001B[43m \u001B[49m\u001B[38;5;241;43m*\u001B[39;49m\u001B[38;5;241;43m*\u001B[39;49m\u001B[43mkwargs\u001B[49m\u001B[43m)\u001B[49m\n",
      "File \u001B[1;32m~\\AppData\\Local\\pypoetry\\Cache\\virtualenvs\\ml-sim-kc-8z4rnjSt-py3.11\\Lib\\site-packages\\pandas\\core\\groupby\\groupby.py:1770\u001B[0m, in \u001B[0;36mGroupBy.apply\u001B[1;34m(self, func, *args, **kwargs)\u001B[0m\n\u001B[0;32m   1768\u001B[0m \u001B[38;5;28;01mwith\u001B[39;00m option_context(\u001B[38;5;124m\"\u001B[39m\u001B[38;5;124mmode.chained_assignment\u001B[39m\u001B[38;5;124m\"\u001B[39m, \u001B[38;5;28;01mNone\u001B[39;00m):\n\u001B[0;32m   1769\u001B[0m     \u001B[38;5;28;01mtry\u001B[39;00m:\n\u001B[1;32m-> 1770\u001B[0m         result \u001B[38;5;241m=\u001B[39m \u001B[38;5;28;43mself\u001B[39;49m\u001B[38;5;241;43m.\u001B[39;49m\u001B[43m_python_apply_general\u001B[49m\u001B[43m(\u001B[49m\u001B[43mf\u001B[49m\u001B[43m,\u001B[49m\u001B[43m \u001B[49m\u001B[38;5;28;43mself\u001B[39;49m\u001B[38;5;241;43m.\u001B[39;49m\u001B[43m_selected_obj\u001B[49m\u001B[43m)\u001B[49m\n\u001B[0;32m   1771\u001B[0m     \u001B[38;5;28;01mexcept\u001B[39;00m \u001B[38;5;167;01mTypeError\u001B[39;00m:\n\u001B[0;32m   1772\u001B[0m         \u001B[38;5;66;03m# gh-20949\u001B[39;00m\n\u001B[0;32m   1773\u001B[0m         \u001B[38;5;66;03m# try again, with .apply acting as a filtering\u001B[39;00m\n\u001B[1;32m   (...)\u001B[0m\n\u001B[0;32m   1777\u001B[0m         \u001B[38;5;66;03m# fails on *some* columns, e.g. a numeric operation\u001B[39;00m\n\u001B[0;32m   1778\u001B[0m         \u001B[38;5;66;03m# on a string grouper column\u001B[39;00m\n\u001B[0;32m   1780\u001B[0m         \u001B[38;5;28;01mreturn\u001B[39;00m \u001B[38;5;28mself\u001B[39m\u001B[38;5;241m.\u001B[39m_python_apply_general(f, \u001B[38;5;28mself\u001B[39m\u001B[38;5;241m.\u001B[39m_obj_with_exclusions)\n",
      "File \u001B[1;32m~\\AppData\\Local\\pypoetry\\Cache\\virtualenvs\\ml-sim-kc-8z4rnjSt-py3.11\\Lib\\site-packages\\pandas\\core\\groupby\\groupby.py:1819\u001B[0m, in \u001B[0;36mGroupBy._python_apply_general\u001B[1;34m(self, f, data, not_indexed_same, is_transform, is_agg)\u001B[0m\n\u001B[0;32m   1784\u001B[0m \u001B[38;5;129m@final\u001B[39m\n\u001B[0;32m   1785\u001B[0m \u001B[38;5;28;01mdef\u001B[39;00m \u001B[38;5;21m_python_apply_general\u001B[39m(\n\u001B[0;32m   1786\u001B[0m     \u001B[38;5;28mself\u001B[39m,\n\u001B[1;32m   (...)\u001B[0m\n\u001B[0;32m   1791\u001B[0m     is_agg: \u001B[38;5;28mbool\u001B[39m \u001B[38;5;241m=\u001B[39m \u001B[38;5;28;01mFalse\u001B[39;00m,\n\u001B[0;32m   1792\u001B[0m ) \u001B[38;5;241m-\u001B[39m\u001B[38;5;241m>\u001B[39m NDFrameT:\n\u001B[0;32m   1793\u001B[0m \u001B[38;5;250m    \u001B[39m\u001B[38;5;124;03m\"\"\"\u001B[39;00m\n\u001B[0;32m   1794\u001B[0m \u001B[38;5;124;03m    Apply function f in python space\u001B[39;00m\n\u001B[0;32m   1795\u001B[0m \n\u001B[1;32m   (...)\u001B[0m\n\u001B[0;32m   1817\u001B[0m \u001B[38;5;124;03m        data after applying f\u001B[39;00m\n\u001B[0;32m   1818\u001B[0m \u001B[38;5;124;03m    \"\"\"\u001B[39;00m\n\u001B[1;32m-> 1819\u001B[0m     values, mutated \u001B[38;5;241m=\u001B[39m \u001B[38;5;28;43mself\u001B[39;49m\u001B[38;5;241;43m.\u001B[39;49m\u001B[43mgrouper\u001B[49m\u001B[38;5;241;43m.\u001B[39;49m\u001B[43mapply_groupwise\u001B[49m\u001B[43m(\u001B[49m\u001B[43mf\u001B[49m\u001B[43m,\u001B[49m\u001B[43m \u001B[49m\u001B[43mdata\u001B[49m\u001B[43m,\u001B[49m\u001B[43m \u001B[49m\u001B[38;5;28;43mself\u001B[39;49m\u001B[38;5;241;43m.\u001B[39;49m\u001B[43maxis\u001B[49m\u001B[43m)\u001B[49m\n\u001B[0;32m   1820\u001B[0m     \u001B[38;5;28;01mif\u001B[39;00m not_indexed_same \u001B[38;5;129;01mis\u001B[39;00m \u001B[38;5;28;01mNone\u001B[39;00m:\n\u001B[0;32m   1821\u001B[0m         not_indexed_same \u001B[38;5;241m=\u001B[39m mutated\n",
      "File \u001B[1;32m~\\AppData\\Local\\pypoetry\\Cache\\virtualenvs\\ml-sim-kc-8z4rnjSt-py3.11\\Lib\\site-packages\\pandas\\core\\groupby\\ops.py:911\u001B[0m, in \u001B[0;36mBaseGrouper.apply_groupwise\u001B[1;34m(self, f, data, axis)\u001B[0m\n\u001B[0;32m    909\u001B[0m \u001B[38;5;66;03m# group might be modified\u001B[39;00m\n\u001B[0;32m    910\u001B[0m group_axes \u001B[38;5;241m=\u001B[39m group\u001B[38;5;241m.\u001B[39maxes\n\u001B[1;32m--> 911\u001B[0m res \u001B[38;5;241m=\u001B[39m \u001B[43mf\u001B[49m\u001B[43m(\u001B[49m\u001B[43mgroup\u001B[49m\u001B[43m)\u001B[49m\n\u001B[0;32m    912\u001B[0m \u001B[38;5;28;01mif\u001B[39;00m \u001B[38;5;129;01mnot\u001B[39;00m mutated \u001B[38;5;129;01mand\u001B[39;00m \u001B[38;5;129;01mnot\u001B[39;00m _is_indexed_like(res, group_axes, axis):\n\u001B[0;32m    913\u001B[0m     mutated \u001B[38;5;241m=\u001B[39m \u001B[38;5;28;01mTrue\u001B[39;00m\n",
      "Cell \u001B[1;32mIn[7], line 1\u001B[0m, in \u001B[0;36m<lambda>\u001B[1;34m(x)\u001B[0m\n\u001B[1;32m----> 1\u001B[0m result \u001B[38;5;241m=\u001B[39m df\u001B[38;5;241m.\u001B[39mgroupby(\u001B[38;5;124m'\u001B[39m\u001B[38;5;124msku\u001B[39m\u001B[38;5;124m'\u001B[39m)[\u001B[38;5;124m'\u001B[39m\u001B[38;5;124mbase_price\u001B[39m\u001B[38;5;124m'\u001B[39m]\u001B[38;5;241m.\u001B[39mapply(\u001B[38;5;28;01mlambda\u001B[39;00m x: \u001B[43magg_functions\u001B[49m\u001B[43m[\u001B[49m\u001B[43mdf\u001B[49m\u001B[43m[\u001B[49m\u001B[38;5;124;43m'\u001B[39;49m\u001B[38;5;124;43magg\u001B[39;49m\u001B[38;5;124;43m'\u001B[39;49m\u001B[43m]\u001B[49m\u001B[38;5;241;43m.\u001B[39;49m\u001B[43miloc\u001B[49m\u001B[43m[\u001B[49m\u001B[43mx\u001B[49m\u001B[38;5;241;43m.\u001B[39;49m\u001B[43mindex\u001B[49m\u001B[43m[\u001B[49m\u001B[38;5;241;43m0\u001B[39;49m\u001B[43m]\u001B[49m\u001B[43m]\u001B[49m\u001B[43m]\u001B[49m(x))\u001B[38;5;241m.\u001B[39mreset_index()\n\u001B[0;32m      3\u001B[0m \u001B[38;5;28mprint\u001B[39m(result)\n",
      "\u001B[1;31mKeyError\u001B[0m: 'med'"
     ]
    }
   ],
   "source": [
    "result = df.groupby('sku')['base_price'].apply(lambda x: agg_functions[df['agg'].iloc[x.index[0]]](x)).reset_index()\n",
    "\n",
    "print(result)"
   ],
   "metadata": {
    "collapsed": false,
    "pycharm": {
     "name": "#%%\n"
    }
   }
  },
  {
   "cell_type": "code",
   "execution_count": 27,
   "outputs": [
    {
     "data": {
      "text/plain": "   sku                                         comp_price\n0    0                                                NaN\n1    1                                               19.1\n2    2                                               64.6\n3    3  5    1.0\n6    2.0\nName: comp_price, dtype: flo...\n4    4                                               22.4\n5    5                                              106.0\n6    6                                               31.7\n7    7                                               71.3\n8    8          15   NaN\nName: comp_price, dtype: float64\n9    9         16    1.0\nName: comp_price, dtype: float64",
      "text/html": "<div>\n<style scoped>\n    .dataframe tbody tr th:only-of-type {\n        vertical-align: middle;\n    }\n\n    .dataframe tbody tr th {\n        vertical-align: top;\n    }\n\n    .dataframe thead th {\n        text-align: right;\n    }\n</style>\n<table border=\"1\" class=\"dataframe\">\n  <thead>\n    <tr style=\"text-align: right;\">\n      <th></th>\n      <th>sku</th>\n      <th>comp_price</th>\n    </tr>\n  </thead>\n  <tbody>\n    <tr>\n      <th>0</th>\n      <td>0</td>\n      <td>NaN</td>\n    </tr>\n    <tr>\n      <th>1</th>\n      <td>1</td>\n      <td>19.1</td>\n    </tr>\n    <tr>\n      <th>2</th>\n      <td>2</td>\n      <td>64.6</td>\n    </tr>\n    <tr>\n      <th>3</th>\n      <td>3</td>\n      <td>5    1.0\n6    2.0\nName: comp_price, dtype: flo...</td>\n    </tr>\n    <tr>\n      <th>4</th>\n      <td>4</td>\n      <td>22.4</td>\n    </tr>\n    <tr>\n      <th>5</th>\n      <td>5</td>\n      <td>106.0</td>\n    </tr>\n    <tr>\n      <th>6</th>\n      <td>6</td>\n      <td>31.7</td>\n    </tr>\n    <tr>\n      <th>7</th>\n      <td>7</td>\n      <td>71.3</td>\n    </tr>\n    <tr>\n      <th>8</th>\n      <td>8</td>\n      <td>15   NaN\nName: comp_price, dtype: float64</td>\n    </tr>\n    <tr>\n      <th>9</th>\n      <td>9</td>\n      <td>16    1.0\nName: comp_price, dtype: float64</td>\n    </tr>\n  </tbody>\n</table>\n</div>"
     },
     "execution_count": 27,
     "metadata": {},
     "output_type": "execute_result"
    }
   ],
   "source": [
    "df['agg_function'] = df['agg'].map({\n",
    "    'avg': 'mean',\n",
    "    'med': 'median',\n",
    "    'min': 'min',\n",
    "    'max': 'max',\n",
    "    'rnk': lambda x: x.rank(ascending=True)\n",
    "})\n",
    "\n",
    "# Применяем groupby и agg с использованием функций из колонки 'agg_function'\n",
    "# result = df.groupby('sku').agg({\n",
    "#     'agg': 'first',\n",
    "#     'base_price': 'first',\n",
    "#     'comp_price': lambda x: x.agg(df['agg_function'].iloc[0]),\n",
    "# }).reset_index()\n",
    "result = df.groupby('sku').apply(lambda x: x['comp_price'].agg(x['agg_function'].iloc[0])).reset_index(name='comp_price')\n",
    "result"
   ],
   "metadata": {
    "collapsed": false,
    "pycharm": {
     "name": "#%%\n"
    }
   }
  },
  {
   "cell_type": "code",
   "execution_count": 19,
   "outputs": [],
   "source": [
    "def new_price(x):\n",
    "    if x['comp_price'] is None:\n",
    "        return x['base_price']\n",
    "    elif x['comp_price'] > x['base_price'] * 1.2:\n",
    "        return x['comp_price']"
   ],
   "metadata": {
    "collapsed": false,
    "pycharm": {
     "name": "#%%\n"
    }
   }
  },
  {
   "cell_type": "code",
   "execution_count": null,
   "outputs": [],
   "source": [
    "result['new_price'] = result.apply(A_devide_by_B, axis=1)"
   ],
   "metadata": {
    "collapsed": false,
    "pycharm": {
     "name": "#%%\n"
    }
   }
  },
  {
   "cell_type": "code",
   "execution_count": 20,
   "outputs": [
    {
     "data": {
      "text/plain": "'max'"
     },
     "execution_count": 20,
     "metadata": {},
     "output_type": "execute_result"
    }
   ],
   "source": [],
   "metadata": {
    "collapsed": false,
    "pycharm": {
     "name": "#%%\n"
    }
   }
  },
  {
   "cell_type": "code",
   "execution_count": 32,
   "outputs": [
    {
     "name": "stdout",
     "output_type": "stream",
     "text": [
      "   sku  comp_price\n",
      "0    0         NaN\n",
      "1    1       19.10\n",
      "2    2       75.45\n",
      "3    3        1.00\n",
      "4    4       22.40\n",
      "5    5      106.00\n",
      "6    6       31.70\n",
      "7    7       71.30\n",
      "8    8         NaN\n",
      "9    9        1.00\n"
     ]
    }
   ],
   "source": [
    "import pandas as pd\n",
    "import numpy as np\n",
    "\n",
    "data = {\n",
    "    'sku': [0, 1, 1, 2, 2, 3, 3, 4, 5, 5, 5, 6, 6, 6, 7, 8, 9],\n",
    "    'agg': ['max', 'med', 'med', 'avg', 'avg', 'rnk', 'rnk', 'max', 'max', 'max', 'max', 'min', 'min', 'min', 'med', 'rnk', 'rnk'],\n",
    "    'rank': [-1, 0, 1, 0, 1, 0, 2, 0, 0, 1, 2, 0, 1, 2, 0, -1, 0],\n",
    "    'base_price': [33.0, 17.7, 17.7, 76.7, 76.7, 39.7, 39.7, 18.0, 84.8, 84.8, 84.8, 73.6, 73.6, 73.6, 58.6, 35.2, 87.0],\n",
    "    'comp_price': [np.nan, 16.4, 21.8, 77.0, 73.9, 37.4, 47.9, 22.4, 106.0, 104.7, 80.9, 31.7, 33.6, 74.7, 71.3, np.nan, 88.2]\n",
    "}\n",
    "\n",
    "df = pd.DataFrame(data)\n",
    "\n",
    "# Преобразуем значения в колонке 'agg' в соответствующие функции агрегации\n",
    "df['agg_function'] = df['agg'].map({\n",
    "    'avg': 'mean',\n",
    "    'med': 'median',\n",
    "    'min': 'min',\n",
    "    'max': 'max',\n",
    "    'rnk': lambda x: x.rank(ascending=True).iloc[0]  # Теперь берем элемент с минимальным рангом\n",
    "})\n",
    "\n",
    "# Применяем groupby и apply с использованием 'agg_function' для каждой строки\n",
    "result = df.groupby('sku').apply(lambda x: x['comp_price'].agg(x['agg_function'].iloc[0])).reset_index(name='comp_price')\n",
    "\n",
    "print(result)\n"
   ],
   "metadata": {
    "collapsed": false,
    "pycharm": {
     "name": "#%%\n"
    }
   }
  },
  {
   "cell_type": "code",
   "execution_count": 56,
   "outputs": [
    {
     "name": "stdout",
     "output_type": "stream",
     "text": [
      "   sku  agg  base_price  comp_price\n",
      "0    0  max        33.0         NaN\n",
      "1    1  med        17.7       19.10\n",
      "2    2  avg        76.7       75.45\n",
      "3    3  rnk        39.7       37.40\n",
      "4    4  max        18.0       22.40\n",
      "5    5  max        84.8      106.00\n",
      "6    6  min        73.6       31.70\n",
      "7    7  med        58.6       71.30\n",
      "8    8  rnk        35.2         NaN\n",
      "9    9  rnk        87.0       88.20\n"
     ]
    }
   ],
   "source": [
    "import pandas as pd\n",
    "import numpy as np\n",
    "\n",
    "data = {\n",
    "    'sku': [0, 1, 1, 2, 2, 3, 3, 4, 5, 5, 5, 6, 6, 6, 7, 8, 9],\n",
    "    'agg': ['max', 'med', 'med', 'avg', 'avg', 'rnk', 'rnk', 'max', 'max', 'max', 'max', 'min', 'min', 'min', 'med', 'rnk', 'rnk'],\n",
    "    'rank': [-1, 0, 1, 0, 1, 0, 2, 0, 0, 1, 2, 0, 1, 2, 0, -1, 0],\n",
    "    'base_price': [33.0, 17.7, 17.7, 76.7, 76.7, 39.7, 39.7, 18.0, 84.8, 84.8, 84.8, 73.6, 73.6, 73.6, 58.6, 35.2, 87.0],\n",
    "    'comp_price': [np.nan, 16.4, 21.8, 77.0, 73.9, 37.4, 47.9, 22.4, 106.0, 104.7, 80.9, 31.7, 33.6, 74.7, 71.3, np.nan, 88.2]\n",
    "}\n",
    "\n",
    "df = pd.DataFrame(data)\n",
    "\n",
    "# Создадим функцию, которую будем применять к каждой группе\n",
    "def apply_agg_function(group):\n",
    "    agg_result = group['comp_price'].agg(group['agg_function'].iloc[0])\n",
    "    return pd.Series({'agg': group['agg'].iloc[0], 'base_price': group['base_price'].iloc[0], 'comp_price': agg_result})\n",
    "\n",
    "# Преобразуем значения в колонке 'agg' в соответствующие функции агрегации\n",
    "df['agg_function'] = df['agg'].map({\n",
    "    'avg': 'mean',\n",
    "    'med': 'median',\n",
    "    'min': 'min',\n",
    "    'max': 'max',\n",
    "    'rnk': 'min'  # Используем 'min' для рассмотрения минимального значения по рангу\n",
    "})\n",
    "\n",
    "# Применяем groupby и apply\n",
    "result = df.groupby('sku').apply(apply_agg_function).reset_index()\n",
    "\n",
    "print(result)\n"
   ],
   "metadata": {
    "collapsed": false,
    "pycharm": {
     "name": "#%%\n"
    }
   }
  },
  {
   "cell_type": "code",
   "execution_count": 57,
   "outputs": [
    {
     "data": {
      "text/plain": "Index(['sku', 'agg', 'base_price', 'comp_price'], dtype='object')"
     },
     "execution_count": 57,
     "metadata": {},
     "output_type": "execute_result"
    }
   ],
   "source": [
    "result.columns"
   ],
   "metadata": {
    "collapsed": false,
    "pycharm": {
     "name": "#%%\n"
    }
   }
  },
  {
   "cell_type": "code",
   "execution_count": 67,
   "outputs": [],
   "source": [
    "def new_price(x):\n",
    "    if x['comp_price'] is None:\n",
    "        return x['base_price']\n",
    "    elif abs(x['comp_price'] - x['base_price']) <  x['base_price'] * 0.2:\n",
    "        return x['comp_price']\n",
    "    else:\n",
    "        return x['base_price']"
   ],
   "metadata": {
    "collapsed": false,
    "pycharm": {
     "name": "#%%\n"
    }
   }
  },
  {
   "cell_type": "code",
   "execution_count": 68,
   "outputs": [],
   "source": [
    "result['new_price'] = result.apply(new_price, axis=1)"
   ],
   "metadata": {
    "collapsed": false,
    "pycharm": {
     "name": "#%%\n"
    }
   }
  },
  {
   "cell_type": "code",
   "execution_count": 69,
   "outputs": [
    {
     "data": {
      "text/plain": "   sku  agg  base_price  comp_price  new_price\n0    0  max        33.0         NaN      33.00\n1    1  med        17.7       19.10      19.10\n2    2  avg        76.7       75.45      75.45\n3    3  rnk        39.7       37.40      37.40\n4    4  max        18.0       22.40      18.00\n5    5  max        84.8      106.00      84.80\n6    6  min        73.6       31.70      73.60\n7    7  med        58.6       71.30      58.60\n8    8  rnk        35.2         NaN      35.20\n9    9  rnk        87.0       88.20      88.20",
      "text/html": "<div>\n<style scoped>\n    .dataframe tbody tr th:only-of-type {\n        vertical-align: middle;\n    }\n\n    .dataframe tbody tr th {\n        vertical-align: top;\n    }\n\n    .dataframe thead th {\n        text-align: right;\n    }\n</style>\n<table border=\"1\" class=\"dataframe\">\n  <thead>\n    <tr style=\"text-align: right;\">\n      <th></th>\n      <th>sku</th>\n      <th>agg</th>\n      <th>base_price</th>\n      <th>comp_price</th>\n      <th>new_price</th>\n    </tr>\n  </thead>\n  <tbody>\n    <tr>\n      <th>0</th>\n      <td>0</td>\n      <td>max</td>\n      <td>33.0</td>\n      <td>NaN</td>\n      <td>33.00</td>\n    </tr>\n    <tr>\n      <th>1</th>\n      <td>1</td>\n      <td>med</td>\n      <td>17.7</td>\n      <td>19.10</td>\n      <td>19.10</td>\n    </tr>\n    <tr>\n      <th>2</th>\n      <td>2</td>\n      <td>avg</td>\n      <td>76.7</td>\n      <td>75.45</td>\n      <td>75.45</td>\n    </tr>\n    <tr>\n      <th>3</th>\n      <td>3</td>\n      <td>rnk</td>\n      <td>39.7</td>\n      <td>37.40</td>\n      <td>37.40</td>\n    </tr>\n    <tr>\n      <th>4</th>\n      <td>4</td>\n      <td>max</td>\n      <td>18.0</td>\n      <td>22.40</td>\n      <td>18.00</td>\n    </tr>\n    <tr>\n      <th>5</th>\n      <td>5</td>\n      <td>max</td>\n      <td>84.8</td>\n      <td>106.00</td>\n      <td>84.80</td>\n    </tr>\n    <tr>\n      <th>6</th>\n      <td>6</td>\n      <td>min</td>\n      <td>73.6</td>\n      <td>31.70</td>\n      <td>73.60</td>\n    </tr>\n    <tr>\n      <th>7</th>\n      <td>7</td>\n      <td>med</td>\n      <td>58.6</td>\n      <td>71.30</td>\n      <td>58.60</td>\n    </tr>\n    <tr>\n      <th>8</th>\n      <td>8</td>\n      <td>rnk</td>\n      <td>35.2</td>\n      <td>NaN</td>\n      <td>35.20</td>\n    </tr>\n    <tr>\n      <th>9</th>\n      <td>9</td>\n      <td>rnk</td>\n      <td>87.0</td>\n      <td>88.20</td>\n      <td>88.20</td>\n    </tr>\n  </tbody>\n</table>\n</div>"
     },
     "execution_count": 69,
     "metadata": {},
     "output_type": "execute_result"
    }
   ],
   "source": [
    "result"
   ],
   "metadata": {
    "collapsed": false,
    "pycharm": {
     "name": "#%%\n"
    }
   }
  },
  {
   "cell_type": "code",
   "execution_count": null,
   "outputs": [],
   "source": [],
   "metadata": {
    "collapsed": false,
    "pycharm": {
     "name": "#%%\n"
    }
   }
  }
 ],
 "metadata": {
  "kernelspec": {
   "display_name": "Python 3",
   "language": "python",
   "name": "python3"
  },
  "language_info": {
   "codemirror_mode": {
    "name": "ipython",
    "version": 2
   },
   "file_extension": ".py",
   "mimetype": "text/x-python",
   "name": "python",
   "nbconvert_exporter": "python",
   "pygments_lexer": "ipython2",
   "version": "2.7.6"
  }
 },
 "nbformat": 4,
 "nbformat_minor": 0
}