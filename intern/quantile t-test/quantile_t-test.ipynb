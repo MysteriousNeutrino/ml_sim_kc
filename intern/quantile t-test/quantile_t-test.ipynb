{
 "cells": [
  {
   "cell_type": "code",
   "execution_count": 17,
   "metadata": {
    "collapsed": true,
    "pycharm": {
     "name": "#%%\n"
    }
   },
   "outputs": [
    {
     "name": "stdout",
     "output_type": "stream",
     "text": [
      "Mann-Whitney U statistic: 5030.0\n",
      "T-test statistic: -0.24497958845744583\n",
      "Welch T-test statistic: -0.24497958845744583\n",
      "U p-value: 0.5297030232936388\n",
      "T-test p-value: 0.8067259451872526\n",
      "Welch T-test p-value: 0.4033629725936263\n"
     ]
    }
   ],
   "source": [
    "from scipy.stats import mannwhitneyu, ttest_ind\n",
    "import numpy as np\n",
    "\n",
    "# group1 и group2 - ваши две выборки\n",
    "# Пример случайных данных:\n",
    "group1 = [21, 22, 23, 25, 18, 20, 24, 19, 22, 23]\n",
    "group2 = [28, 27, 25, 29, 30, 31, 26, 28, 29, 27]\n",
    "a = np.random.normal(0,1,size=100)\n",
    "b = np.random.normal(0,1,size=100)\n",
    "\n",
    "# Проведение Mann-Whitney U теста\n",
    "u_stat, u_p_value = mannwhitneyu(a, b,alternative='less')\n",
    "ttest_stat, ttest_p_value = ttest_ind(a, b,equal_var=True)\n",
    "Welch_stat, Welch_p_value = ttest_ind(a, b,equal_var=True, alternative='less')\n",
    "\n",
    "\n",
    "# Вывод результатов\n",
    "print(\"Mann-Whitney U statistic:\", u_stat)\n",
    "print(\"T-test statistic:\", ttest_stat)\n",
    "print(\"Welch T-test statistic:\", Welch_stat)\n",
    "print(\"U p-value:\", u_p_value)\n",
    "print(\"T-test p-value:\", ttest_p_value)\n",
    "print(\"Welch T-test p-value:\", Welch_p_value)"
   ]
  },
  {
   "cell_type": "code",
   "execution_count": null,
   "outputs": [],
   "source": [],
   "metadata": {
    "collapsed": false,
    "pycharm": {
     "name": "#%%\n"
    }
   }
  }
 ],
 "metadata": {
  "kernelspec": {
   "display_name": "Python 3",
   "language": "python",
   "name": "python3"
  },
  "language_info": {
   "codemirror_mode": {
    "name": "ipython",
    "version": 2
   },
   "file_extension": ".py",
   "mimetype": "text/x-python",
   "name": "python",
   "nbconvert_exporter": "python",
   "pygments_lexer": "ipython2",
   "version": "2.7.6"
  }
 },
 "nbformat": 4,
 "nbformat_minor": 0
}