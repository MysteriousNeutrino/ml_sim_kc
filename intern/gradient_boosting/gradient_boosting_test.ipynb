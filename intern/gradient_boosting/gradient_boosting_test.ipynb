{
 "cells": [
  {
   "cell_type": "code",
   "execution_count": null,
   "metadata": {
    "collapsed": true,
    "pycharm": {
     "name": "#%%\n"
    }
   },
   "outputs": [],
   "source": []
  },
  {
   "cell_type": "code",
   "execution_count": 2,
   "outputs": [
    {
     "name": "stdout",
     "output_type": "stream",
     "text": [
      "[5.07550229 5.48675724 4.23502987 3.9077808  5.06908972 4.70866202\n",
      " 5.1267521  4.65422557 4.507416   4.05114679]\n"
     ]
    }
   ],
   "source": [
    "import numpy as np\n",
    "import pandas as pd\n",
    "from sklearn.tree import DecisionTreeRegressor\n",
    "\n",
    "class GradientBoostingRegressor:\n",
    "\n",
    "\n",
    "    def fit(self, X, y):\n",
    "        # Вычисляем среднее значение по выборке\n",
    "        self.base_pred_ = np.mean(y)\n",
    "\n",
    "        # Инициализация предсказаний ансамбля нулевыми значениями\n",
    "        predictions = np.zeros_like(y)\n",
    "\n",
    "        # Обучение каждого дерева\n",
    "        for _ in range(self.n_estimators):\n",
    "            # Вычисление остатков\n",
    "            residuals = y - predictions\n",
    "\n",
    "            # Создание и обучение нового дерева\n",
    "            tree = DecisionTreeRegressor(max_depth=3)\n",
    "            tree.fit(X, residuals)\n",
    "\n",
    "            # Предсказание с использованием нового дерева\n",
    "            tree_predictions = tree.predict(X)\n",
    "\n",
    "            # Обновление предсказаний ансамбля с учетом предсказаний нового дерева,\n",
    "            # умноженных на коэффициент скорости обучения (learning_rate)\n",
    "            predictions += self.learning_rate * tree_predictions\n",
    "\n",
    "            # Сохранение дерева в списке\n",
    "            self.trees.append(tree)\n",
    "\n",
    "        return self\n",
    "\n",
    "    def predict(self, X):\n",
    "        # Предсказание с использованием базового значения и предсказаний каждого дерева\n",
    "        base_predictions = np.full(X.shape[0], self.base_pred_)\n",
    "        tree_predictions = np.sum([self.learning_rate * tree.predict(X) for tree in self.trees], axis=0)\n",
    "        return base_predictions + tree_predictions\n"
   ],
   "metadata": {
    "collapsed": false,
    "pycharm": {
     "name": "#%%\n"
    }
   }
  },
  {
   "cell_type": "code",
   "execution_count": null,
   "outputs": [],
   "source": [
    "X_train = np.random.rand(100, 2)\n",
    "y_train = 2 * X_train[:, 0] + 3 * X_train[:, 1] + np.random.normal(0, 0.1, 100)\n",
    "\n",
    "# Создаем и обучаем модель\n",
    "model = GradientBoostingRegressor(n_estimators=100, learning_rate=0.1)\n",
    "model.fit(X_train, y_train)\n",
    "\n",
    "# Данные для предсказания\n",
    "X_test = np.random.rand(10, 2)\n",
    "\n",
    "# Предсказание\n",
    "predictions = model.predict(X_test)\n",
    "print(predictions)"
   ],
   "metadata": {
    "collapsed": false,
    "pycharm": {
     "name": "#%%\n"
    }
   }
  }
 ],
 "metadata": {
  "kernelspec": {
   "display_name": "Python 3",
   "language": "python",
   "name": "python3"
  },
  "language_info": {
   "codemirror_mode": {
    "name": "ipython",
    "version": 2
   },
   "file_extension": ".py",
   "mimetype": "text/x-python",
   "name": "python",
   "nbconvert_exporter": "python",
   "pygments_lexer": "ipython2",
   "version": "2.7.6"
  }
 },
 "nbformat": 4,
 "nbformat_minor": 0
}