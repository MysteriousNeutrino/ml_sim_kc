{
 "cells": [
  {
   "cell_type": "code",
   "execution_count": 1,
   "outputs": [],
   "source": [
    "import pandas as pd"
   ],
   "metadata": {
    "collapsed": false,
    "pycharm": {
     "name": "#%%\n"
    }
   }
  },
  {
   "cell_type": "code",
   "execution_count": 2,
   "outputs": [
    {
     "name": "stdout",
     "output_type": "stream",
     "text": [
      "Матрица признаков X:\n",
      "[[    76  32181      3      0      1    814     28      1 142434   1770]\n",
      " [    69  52789      8      1      0    501     28      1 120887   1590]\n",
      " [    19  70535      1      0      1    325     26      1 188766    810]\n",
      " [    31  85271      1      0      1    525     29      1 406792    330]\n",
      " [    18  19974      2      0      1    618     34      1 155240   1560]\n",
      " [    51  74128      3      0      1    551     14      0 257944    420]\n",
      " [    67  34922     10      1      1    657     19      0 207532    240]\n",
      " [    27  54154      1      0      1    740     38      1 229763    660]\n",
      " [    61  76998      8      0      0    869     35      1 147957     90]\n",
      " [    61  41396      5      0      0    636      6      0 483916    120]]\n",
      "\n",
      "Вектор целевой переменной y:\n",
      "[ 0  7  0  0 43  0  3  0  0 12]\n"
     ]
    }
   ],
   "source": [
    "import numpy as np\n",
    "\n",
    "# Исходные данные\n",
    "data = {\n",
    "    'age': [76, 69, 19, 31, 18, 51, 67, 27, 61, 61],\n",
    "    'income': [32181, 52789, 70535, 85271, 19974, 74128, 34922, 54154, 76998, 41396],\n",
    "    'dependents': [3, 8, 1, 1, 2, 3, 10, 1, 8, 5],\n",
    "    'has_property': [0, 1, 0, 0, 0, 0, 1, 0, 0, 0],\n",
    "    'has_car': [1, 0, 1, 1, 1, 1, 1, 1, 0, 0],\n",
    "    'credit_score': [814, 501, 325, 525, 618, 551, 657, 740, 869, 636],\n",
    "    'job_tenure': [28, 28, 26, 29, 34, 14, 19, 38, 35, 6],\n",
    "    'has_education': [1, 1, 1, 1, 1, 0, 0, 1, 1, 0],\n",
    "    'loan_amount': [142434, 120887, 188766, 406792, 155240, 257944, 207532, 229763, 147957, 483916],\n",
    "    'loan_term': [1770, 1590, 810, 330, 1560, 420, 240, 660, 90, 120],\n",
    "    'delay_days': [0, 7, 0, 0, 43, 0, 3, 0, 0, 12]\n",
    "}\n",
    "\n",
    "# Преобразование в ndarray\n",
    "X = np.array([data['age'], data['income'], data['dependents'], data['has_property'],\n",
    "              data['has_car'], data['credit_score'], data['job_tenure'], data['has_education'],\n",
    "              data['loan_amount'], data['loan_term']]).T\n",
    "\n",
    "y = np.array(data['delay_days'])\n",
    "\n",
    "# Вывод результата\n",
    "print(\"Матрица признаков X:\")\n",
    "print(X)\n",
    "print(\"\\nВектор целевой переменной y:\")\n",
    "print(y)\n"
   ],
   "metadata": {
    "collapsed": false,
    "pycharm": {
     "name": "#%%\n"
    }
   }
  },
  {
   "cell_type": "code",
   "execution_count": 8,
   "outputs": [
    {
     "data": {
      "text/plain": "array([76, 69, 19, 31, 18, 51, 67, 27, 61, 61])"
     },
     "execution_count": 8,
     "metadata": {},
     "output_type": "execute_result"
    }
   ],
   "source": [
    "X[:, 0]"
   ],
   "metadata": {
    "collapsed": false,
    "pycharm": {
     "name": "#%%\n"
    }
   }
  },
  {
   "cell_type": "code",
   "execution_count": 6,
   "outputs": [
    {
     "data": {
      "text/plain": "array([    76,  32181,      3,      0,      1,    814,     28,      1,\n       142434,   1770])"
     },
     "execution_count": 6,
     "metadata": {},
     "output_type": "execute_result"
    }
   ],
   "source": [
    "X[0]"
   ],
   "metadata": {
    "collapsed": false,
    "pycharm": {
     "name": "#%%\n"
    }
   }
  },
  {
   "cell_type": "code",
   "execution_count": 28,
   "outputs": [
    {
     "name": "stdout",
     "output_type": "stream",
     "text": [
      "Первая часть: [76, 69, 19]\n",
      "Вторая часть: [18, 51, 67, 27, 61, 61]\n"
     ]
    }
   ],
   "source": [
    "import numpy as np\n",
    "\n",
    "original_list = X[:, 0]\n",
    "\n",
    "# Значение, по которому разделяем список\n",
    "split_value = 31\n",
    "\n",
    "# Преобразуем список в массив NumPy\n",
    "arr = np.array(original_list)\n",
    "\n",
    "# Находим индексы, по которым разделяем массив\n",
    "split_indices = np.where(arr == split_value)[0]\n",
    "\n",
    "# Разделяем массив на части\n",
    "if len(split_indices) > 0:\n",
    "    split_index = split_indices[0]\n",
    "    first_part, second_part = arr[:split_index], arr[split_index + 1:]\n",
    "else:\n",
    "    first_part, second_part = arr, np.array([])\n",
    "\n",
    "# Преобразуем обратно в списки, если это необходимо\n",
    "first_part_list = first_part.tolist()\n",
    "second_part_list = second_part.tolist()\n",
    "\n",
    "print(\"Первая часть:\", first_part_list)\n",
    "print(\"Вторая часть:\", second_part_list)\n"
   ],
   "metadata": {
    "collapsed": false,
    "pycharm": {
     "name": "#%%\n"
    }
   }
  },
  {
   "cell_type": "code",
   "execution_count": 35,
   "outputs": [
    {
     "name": "stdout",
     "output_type": "stream",
     "text": [
      "Индексы элементов ниже 40 : [2 3 4 7]\n",
      "Индексы элементов не ниже 40 : [0 1 5 6 8 9]\n"
     ]
    }
   ],
   "source": [
    "indexes_below_split_value = np.where(arr < split_value)[0]\n",
    "indexes_above_split_value = np.where(arr >= split_value)[0]\n",
    "print(\"Индексы элементов ниже\", split_value, \":\", indexes_below_split_value)\n",
    "print(\"Индексы элементов не ниже\", split_value, \":\", indexes_above_split_value)"
   ],
   "metadata": {
    "collapsed": false,
    "pycharm": {
     "name": "#%%\n"
    }
   }
  },
  {
   "cell_type": "code",
   "execution_count": 52,
   "outputs": [
    {
     "data": {
      "text/plain": "array([ 0,  7,  0,  3,  0, 12])"
     },
     "execution_count": 52,
     "metadata": {},
     "output_type": "execute_result"
    }
   ],
   "source": [
    "np.array(y[indexes_above_split_value])"
   ],
   "metadata": {
    "collapsed": false,
    "pycharm": {
     "name": "#%%\n"
    }
   }
  },
  {
   "cell_type": "code",
   "execution_count": 86,
   "outputs": [],
   "source": [
    "from __future__ import annotations\n",
    "\n",
    "import numpy as np\n",
    "\n",
    "\n",
    "def mse(y: np.ndarray) -> float:\n",
    "    \"\"\"Compute the mse impurity criterion for a given set of target values.\"\"\"\n",
    "    return np.mean((y - np.mean(y)) ** 2)\n",
    "\n",
    "\n",
    "def weighted_mse(y_left: np.ndarray, y_right: np.ndarray) -> float:\n",
    "    \"\"\"Compute the weighted mse criterion for a given set of target values.\"\"\"\n",
    "    num = mse(y_left) * y_left.size + mse(y_right) * y_right.size\n",
    "    den = y_left.size + y_right.size\n",
    "    return num / den\n",
    "\n",
    "\n",
    "def split(X: np.ndarray, y: np.ndarray, feature: int) -> float:\n",
    "    \"\"\"Find the best split for a node.\"\"\"\n",
    "    node_size = y.size\n",
    "    if node_size < 2:\n",
    "        return None, None\n",
    "\n",
    "    node_mse = mse(y)\n",
    "    best_mse = node_mse\n",
    "    best_thr = None\n",
    "\n",
    "    thresholds = np.unique(X[:, feature])\n",
    "    for thr in thresholds:\n",
    "        left = y[X[:, feature] <= thr]\n",
    "        right = y[X[:, feature] > thr]\n",
    "\n",
    "        if left.size == 0 or right.size == 0:\n",
    "            continue\n",
    "\n",
    "        weihted_mse = weighted_mse(left, right)\n",
    "        if weihted_mse < best_mse:\n",
    "            best_mse = weihted_mse\n",
    "            best_thr = thr\n",
    "\n",
    "    return best_thr\n"
   ],
   "metadata": {
    "collapsed": false,
    "pycharm": {
     "name": "#%%\n"
    }
   }
  },
  {
   "cell_type": "code",
   "execution_count": 50,
   "outputs": [],
   "source": [
    "X = np.array([[50, 2, 3], [20, 5, 6], [100, 8, 9], [35, 11, 12], [13, 14, 15], [16, 17, 18], [19, 20, 21], [22, 23, 24],\n",
    "              [25, 26, 27], [28, 29, 30]])\n",
    "y = np.array([10, 20, 30, 40, 50, 60, 70, 80, 90, 100])\n"
   ],
   "metadata": {
    "collapsed": false,
    "pycharm": {
     "name": "#%%\n"
    }
   }
  },
  {
   "cell_type": "code",
   "execution_count": 82,
   "outputs": [
    {
     "name": "stdout",
     "output_type": "stream",
     "text": [
      "161 µs ± 574 ns per loop (mean ± std. dev. of 7 runs, 10,000 loops each)\n"
     ]
    }
   ],
   "source": [
    "% % timeit\n",
    "split(X, y, 0)"
   ],
   "metadata": {
    "collapsed": false,
    "pycharm": {
     "name": "#%%\n"
    }
   }
  },
  {
   "cell_type": "code",
   "execution_count": 85,
   "outputs": [
    {
     "name": "stdout",
     "output_type": "stream",
     "text": [
      "188 µs ± 43.7 µs per loop (mean ± std. dev. of 7 runs, 1,000 loops each)\n"
     ]
    }
   ],
   "source": [
    "% % timeit\n",
    "split(X, y, 0)"
   ],
   "metadata": {
    "collapsed": false,
    "pycharm": {
     "name": "#%%\n"
    }
   }
  },
  {
   "cell_type": "code",
   "execution_count": 87,
   "outputs": [
    {
     "name": "stdout",
     "output_type": "stream",
     "text": [
      "147 µs ± 1.5 µs per loop (mean ± std. dev. of 7 runs, 10,000 loops each)\n"
     ]
    }
   ],
   "source": [
    "% % timeit\n",
    "split(X, y, 0)"
   ],
   "metadata": {
    "collapsed": false,
    "pycharm": {
     "name": "#%%\n"
    }
   }
  },
  {
   "cell_type": "code",
   "execution_count": 101,
   "outputs": [
    {
     "data": {
      "text/plain": "3"
     },
     "execution_count": 101,
     "metadata": {},
     "output_type": "execute_result"
    }
   ],
   "source": [
    "X.shape[1]"
   ],
   "metadata": {
    "collapsed": false,
    "pycharm": {
     "name": "#%%\n"
    }
   }
  },
  {
   "cell_type": "code",
   "execution_count": 102,
   "outputs": [],
   "source": [
    "import numpy as np\n",
    "\n",
    "\n",
    "def mse(y: np.ndarray) -> float:\n",
    "    \"\"\"Compute the mse impurity criterion for a given set of target values.\"\"\"\n",
    "    return np.mean((y - np.mean(y)) ** 2)\n",
    "\n",
    "\n",
    "def weighted_mse(y_left: np.ndarray, y_right: np.ndarray) -> float:\n",
    "    \"\"\"Compute the weighted mse criterion for a given set of target values.\"\"\"\n",
    "    num = mse(y_left) * y_left.size + mse(y_right) * y_right.size\n",
    "    den = y_left.size + y_right.size\n",
    "    return num / den\n",
    "\n",
    "\n",
    "def best_split(X: np.ndarray, y: np.ndarray) -> tuple[int, float]:\n",
    "    \"\"\"Find the best split for a node.\"\"\"\n",
    "    node_size = y.size\n",
    "    if node_size < 2:\n",
    "        return None, None\n",
    "\n",
    "    node_mse = mse(y)\n",
    "    best_mse = node_mse\n",
    "    best_thr = None\n",
    "    best_feature = None\n",
    "    for feature in range(X.shape[1]):\n",
    "        thresholds = np.unique(X[:, feature])\n",
    "        for thr in thresholds:\n",
    "            left = y[X[:, feature] <= thr]\n",
    "            right = y[X[:, feature] > thr]\n",
    "\n",
    "            if left.size == 0 or right.size == 0:\n",
    "                continue\n",
    "\n",
    "            weihted_mse = weighted_mse(left, right)\n",
    "            if weihted_mse < best_mse:\n",
    "                best_mse = weihted_mse\n",
    "                best_thr = thr\n",
    "                best_feature = feature\n",
    "\n",
    "    return best_feature, best_thr\n"
   ],
   "metadata": {
    "collapsed": false,
    "pycharm": {
     "name": "#%%\n"
    }
   }
  },
  {
   "cell_type": "code",
   "execution_count": 107,
   "outputs": [
    {
     "name": "stderr",
     "output_type": "stream",
     "text": [
      "C:\\Users\\Neesty\\AppData\\Local\\pypoetry\\Cache\\virtualenvs\\ml-sim-kc-8z4rnjSt-py3.11\\Lib\\site-packages\\numpy\\core\\fromnumeric.py:3504: RuntimeWarning: Mean of empty slice.\n",
      "  return _methods._mean(a, axis=axis, dtype=dtype,\n",
      "C:\\Users\\Neesty\\AppData\\Local\\pypoetry\\Cache\\virtualenvs\\ml-sim-kc-8z4rnjSt-py3.11\\Lib\\site-packages\\numpy\\core\\_methods.py:129: RuntimeWarning: invalid value encountered in scalar divide\n",
      "  ret = ret.dtype.type(ret / rcount)\n"
     ]
    },
    {
     "data": {
      "text/plain": "(0, 13)"
     },
     "execution_count": 107,
     "metadata": {},
     "output_type": "execute_result"
    }
   ],
   "source": [
    "best_split(X, y)"
   ],
   "metadata": {
    "collapsed": false,
    "pycharm": {
     "name": "#%%\n"
    }
   }
  },
  {
   "cell_type": "code",
   "execution_count": 104,
   "outputs": [
    {
     "name": "stdout",
     "output_type": "stream",
     "text": [
      "0\n",
      "[ 1  4  7 10 13 16 19 22 25 28]\n",
      "1\n",
      "[ 2  5  8 11 14 17 20 23 26 29]\n",
      "2\n",
      "[ 3  6  9 12 15 18 21 24 27 30]\n"
     ]
    }
   ],
   "source": [
    "for feature in range(X.shape[1]):\n",
    "    print(feature)\n",
    "    thresholds = np.unique(X[:, feature])\n",
    "    print(thresholds)"
   ],
   "metadata": {
    "collapsed": false,
    "pycharm": {
     "name": "#%%\n"
    }
   }
  },
  {
   "cell_type": "code",
   "execution_count": 3,
   "outputs": [],
   "source": [
    "import numpy as np\n",
    "\n",
    "\n",
    "def mse(y: np.ndarray) -> float:\n",
    "    \"\"\"Compute the mse impurity criterion for a given set of target values.\"\"\"\n",
    "    if len(y) == 0:\n",
    "        return 0.0\n",
    "    return np.mean((y - np.mean(y)) ** 2)\n",
    "\n",
    "\n",
    "def weighted_mse(y_left: np.ndarray, y_right: np.ndarray) -> float:\n",
    "    \"\"\"Compute the weighted mse criterion for a given set of target values.\"\"\"\n",
    "    num = mse(y_left) * y_left.size + mse(y_right) * y_right.size\n",
    "    den = y_left.size + y_right.size\n",
    "    return num / den\n",
    "\n",
    "\n",
    "def best_split(X: np.ndarray, y: np.ndarray) -> tuple[int, float]:\n",
    "    \"\"\"Find the best split for a node.\"\"\"\n",
    "\n",
    "    best_split = {}\n",
    "    for feature in range(X.shape[1]):\n",
    "        split_elements = X[:, feature]\n",
    "\n",
    "        best_split_1_future = {}\n",
    "        for i in split_elements:\n",
    "            indexes_below_split_value = np.where(split_elements <= i)[0]\n",
    "            indexes_above_split_value = np.where(split_elements > i)[0]\n",
    "\n",
    "            y_left = np.array(y[indexes_below_split_value])\n",
    "            y_right = np.array(y[indexes_above_split_value])\n",
    "\n",
    "            mse = weighted_mse(y_left, y_right)\n",
    "            best_split_1_future[i] = mse\n",
    "\n",
    "        best_split[feature] = min(best_split_1_future, key=best_split_1_future.get)\n",
    "\n",
    "    best_feature, best_thr = min(best_split.items(), key=lambda x: x[1])\n",
    "\n",
    "    return best_feature, best_thr\n"
   ],
   "metadata": {
    "collapsed": false,
    "pycharm": {
     "name": "#%%\n"
    }
   }
  },
  {
   "cell_type": "code",
   "execution_count": 6,
   "outputs": [
    {
     "data": {
      "text/plain": "(0, 13)"
     },
     "execution_count": 6,
     "metadata": {},
     "output_type": "execute_result"
    }
   ],
   "source": [
    "best_split(X, y)"
   ],
   "metadata": {
    "collapsed": false,
    "pycharm": {
     "name": "#%%\n"
    }
   }
  },
  {
   "cell_type": "code",
   "execution_count": 7,
   "outputs": [],
   "source": [
    "left = X[X[:, 0] <= 13], y[X[:, 0] <= 13]\n",
    "right = X[X[:, 0] > 13], y[X[:, 0] > 13]"
   ],
   "metadata": {
    "collapsed": false,
    "pycharm": {
     "name": "#%%\n"
    }
   }
  },
  {
   "cell_type": "code",
   "execution_count": 8,
   "outputs": [
    {
     "name": "stdout",
     "output_type": "stream",
     "text": [
      "(array([[ 1,  2,  3],\n",
      "       [ 4,  5,  6],\n",
      "       [ 7,  8,  9],\n",
      "       [10, 11, 12],\n",
      "       [13, 14, 15]]), array([1, 2, 3, 4, 5])) (array([[16, 17, 18],\n",
      "       [19, 20, 21],\n",
      "       [22, 23, 24],\n",
      "       [25, 26, 27],\n",
      "       [28, 29, 30]]), array([ 6,  7,  8,  9, 10]))\n"
     ]
    }
   ],
   "source": [
    "print(left, right)"
   ],
   "metadata": {
    "collapsed": false,
    "pycharm": {
     "name": "#%%\n"
    }
   }
  },
  {
   "cell_type": "code",
   "execution_count": 9,
   "outputs": [
    {
     "data": {
      "text/plain": "(array([[ 1,  2,  3],\n        [ 4,  5,  6],\n        [ 7,  8,  9],\n        [10, 11, 12],\n        [13, 14, 15],\n        [16, 17, 18],\n        [19, 20, 21],\n        [22, 23, 24],\n        [25, 26, 27],\n        [28, 29, 30]]),\n array([ 1,  2,  3,  4,  5,  6,  7,  8,  9, 10]))"
     },
     "execution_count": 9,
     "metadata": {},
     "output_type": "execute_result"
    }
   ],
   "source": [
    "X, y"
   ],
   "metadata": {
    "collapsed": false,
    "pycharm": {
     "name": "#%%\n"
    }
   }
  },
  {
   "cell_type": "code",
   "execution_count": 65,
   "outputs": [],
   "source": [
    "from decision_tree_regressor import DecisionTreeRegressor"
   ],
   "metadata": {
    "collapsed": false,
    "pycharm": {
     "name": "#%%\n"
    }
   }
  },
  {
   "cell_type": "code",
   "execution_count": 71,
   "outputs": [],
   "source": [
    "decisionTreeRegressor3 = DecisionTreeRegressor(max_depth=2)"
   ],
   "metadata": {
    "collapsed": false,
    "pycharm": {
     "name": "#%%\n"
    }
   }
  },
  {
   "cell_type": "code",
   "execution_count": 91,
   "outputs": [
    {
     "name": "stdout",
     "output_type": "stream",
     "text": [
      "sdf2\n",
      "Node(feature=None, threshold=None, n_samples=10, value=55.0, mse=825.0, left=None, right=None)\n",
      "sdf\n",
      "sdf\n",
      "sdf\n",
      "sdf\n",
      "sdf\n",
      "sdf\n",
      "sdf\n",
      "sdf\n",
      "sdf\n",
      "sdf\n",
      "sdf\n",
      "sdf\n",
      "sdf\n",
      "sdf\n",
      "sdf\n",
      "sdf\n",
      "sdf\n",
      "sdf\n",
      "sdf\n",
      "sdf\n",
      "sdf\n",
      "sdf\n",
      "sdf\n",
      "sdf\n",
      "sdf\n",
      "sdf\n",
      "sdf\n",
      "sdf\n",
      "sdf\n",
      "sdf\n",
      "Node(feature=None, threshold=None, n_samples=5, value=30.0, mse=200.0, left=None, right=None)\n",
      "sdf\n",
      "sdf\n",
      "sdf\n",
      "sdf\n",
      "sdf\n",
      "sdf\n",
      "sdf\n",
      "sdf\n",
      "sdf\n",
      "sdf\n",
      "sdf\n",
      "sdf\n",
      "sdf\n",
      "sdf\n",
      "sdf\n",
      "Node(feature=None, threshold=None, n_samples=2, value=15.0, mse=25.0, left=None, right=None)\n",
      "Node(feature=None, threshold=None, n_samples=3, value=40.0, mse=66.66666666666667, left=None, right=None)\n",
      "Node(feature=None, threshold=None, n_samples=5, value=80.0, mse=200.0, left=None, right=None)\n",
      "sdf\n",
      "sdf\n",
      "sdf\n",
      "sdf\n",
      "sdf\n",
      "sdf\n",
      "sdf\n",
      "sdf\n",
      "sdf\n",
      "sdf\n",
      "sdf\n",
      "sdf\n",
      "sdf\n",
      "sdf\n",
      "sdf\n",
      "Node(feature=None, threshold=None, n_samples=2, value=65.0, mse=25.0, left=None, right=None)\n",
      "Node(feature=None, threshold=None, n_samples=3, value=90.0, mse=66.66666666666667, left=None, right=None)\n"
     ]
    },
    {
     "name": "stderr",
     "output_type": "stream",
     "text": [
      "C:\\Users\\Neesty\\AppData\\Local\\pypoetry\\Cache\\virtualenvs\\ml-sim-kc-8z4rnjSt-py3.11\\Lib\\site-packages\\numpy\\core\\fromnumeric.py:3504: RuntimeWarning: Mean of empty slice.\n",
      "  return _methods._mean(a, axis=axis, dtype=dtype,\n",
      "C:\\Users\\Neesty\\AppData\\Local\\pypoetry\\Cache\\virtualenvs\\ml-sim-kc-8z4rnjSt-py3.11\\Lib\\site-packages\\numpy\\core\\_methods.py:129: RuntimeWarning: invalid value encountered in scalar divide\n",
      "  ret = ret.dtype.type(ret / rcount)\n"
     ]
    }
   ],
   "source": [
    "model = decisionTreeRegressor3.fit(X, y)"
   ],
   "metadata": {
    "collapsed": false,
    "pycharm": {
     "name": "#%%\n"
    }
   }
  },
  {
   "cell_type": "code",
   "execution_count": 89,
   "outputs": [],
   "source": [
    "from decision_tree_regressor import DecisionTreeRegressor"
   ],
   "metadata": {
    "collapsed": false,
    "pycharm": {
     "name": "#%%\n"
    }
   }
  },
  {
   "cell_type": "code",
   "execution_count": 90,
   "outputs": [
    {
     "ename": "AttributeError",
     "evalue": "type object 'DecisionTreeRegressor' has no attribute 'tree_'",
     "output_type": "error",
     "traceback": [
      "\u001B[1;31m---------------------------------------------------------------------------\u001B[0m",
      "\u001B[1;31mAttributeError\u001B[0m                            Traceback (most recent call last)",
      "Cell \u001B[1;32mIn[90], line 1\u001B[0m\n\u001B[1;32m----> 1\u001B[0m \u001B[43mDecisionTreeRegressor\u001B[49m\u001B[38;5;241;43m.\u001B[39;49m\u001B[43mtree_\u001B[49m\n",
      "\u001B[1;31mAttributeError\u001B[0m: type object 'DecisionTreeRegressor' has no attribute 'tree_'"
     ]
    }
   ],
   "source": [
    "DecisionTreeRegressor.tree_"
   ],
   "metadata": {
    "collapsed": false,
    "pycharm": {
     "name": "#%%\n"
    }
   }
  },
  {
   "cell_type": "code",
   "execution_count": 19,
   "outputs": [
    {
     "data": {
      "text/plain": "decision_tree_regressor.DecisionTreeRegressor"
     },
     "execution_count": 19,
     "metadata": {},
     "output_type": "execute_result"
    }
   ],
   "source": [
    "type(model)"
   ],
   "metadata": {
    "collapsed": false,
    "pycharm": {
     "name": "#%%\n"
    }
   }
  },
  {
   "cell_type": "code",
   "execution_count": 92,
   "outputs": [
    {
     "data": {
      "text/plain": "Node(feature=1, threshold=14, n_samples=10, value=55.0, mse=825.0, left=Node(feature=1, threshold=5, n_samples=5, value=30.0, mse=200.0, left=Node(feature=None, threshold=None, n_samples=2, value=15.0, mse=25.0, left=None, right=None), right=Node(feature=None, threshold=None, n_samples=3, value=40.0, mse=66.66666666666667, left=None, right=None)), right=Node(feature=0, threshold=19, n_samples=5, value=80.0, mse=200.0, left=Node(feature=None, threshold=None, n_samples=2, value=65.0, mse=25.0, left=None, right=None), right=Node(feature=None, threshold=None, n_samples=3, value=90.0, mse=66.66666666666667, left=None, right=None)))"
     },
     "execution_count": 92,
     "metadata": {},
     "output_type": "execute_result"
    }
   ],
   "source": [
    "model.tree_"
   ],
   "metadata": {
    "collapsed": false,
    "pycharm": {
     "name": "#%%\n"
    }
   }
  },
  {
   "cell_type": "code",
   "execution_count": 21,
   "outputs": [
    {
     "data": {
      "text/plain": "DecisionTreeRegressor(max_depth=3, min_samples_split=2)"
     },
     "execution_count": 21,
     "metadata": {},
     "output_type": "execute_result"
    }
   ],
   "source": [
    "model"
   ],
   "metadata": {
    "collapsed": false,
    "pycharm": {
     "name": "#%%\n"
    }
   }
  },
  {
   "cell_type": "code",
   "execution_count": 235,
   "outputs": [
    {
     "ename": "NameError",
     "evalue": "name 'dataclass' is not defined",
     "output_type": "error",
     "traceback": [
      "\u001B[1;31m---------------------------------------------------------------------------\u001B[0m",
      "\u001B[1;31mNameError\u001B[0m                                 Traceback (most recent call last)",
      "Cell \u001B[1;32mIn[235], line 1\u001B[0m\n\u001B[1;32m----> 1\u001B[0m \u001B[38;5;129m@dataclass\u001B[39m\n\u001B[0;32m      2\u001B[0m \u001B[38;5;28;01mclass\u001B[39;00m \u001B[38;5;21;01mNode\u001B[39;00m:\n\u001B[0;32m      3\u001B[0m \u001B[38;5;250m    \u001B[39m\u001B[38;5;124;03m\"\"\"Decision tree node.\"\"\"\u001B[39;00m\n\u001B[0;32m      4\u001B[0m     feature: \u001B[38;5;28mint\u001B[39m \u001B[38;5;241m=\u001B[39m \u001B[38;5;28;01mNone\u001B[39;00m\n",
      "\u001B[1;31mNameError\u001B[0m: name 'dataclass' is not defined"
     ]
    }
   ],
   "source": [
    "@dataclass\n",
    "class Node:\n",
    "    \"\"\"Decision tree node.\"\"\"\n",
    "    feature: int = None\n",
    "    # YOUR CODE HERE: add the required attributes\n",
    "    threshold: float = None\n",
    "    n_samples: int = None\n",
    "    value: int = None\n",
    "    mse: int = None\n",
    "    left: Node = None\n",
    "    right: Node = None\n"
   ],
   "metadata": {
    "collapsed": false,
    "pycharm": {
     "name": "#%%\n"
    }
   }
  },
  {
   "cell_type": "code",
   "execution_count": 236,
   "outputs": [],
   "source": [
    "def _split_node(self, X: np.ndarray, y: np.ndarray, depth: int = 0) -> Node:\n",
    "    \"\"\"Split a node and return the resulting left and right child nodes.\"\"\"\n",
    "    node = Node()\n",
    "    node.n_samples = y.size\n",
    "    node.value = np.floor(np.mean(y))\n",
    "    node.mse = self._mse(y)\n",
    "    print(node)\n",
    "    if depth == self.max_depth or y.size < self.min_samples_split:\n",
    "        return node\n",
    "    node.feature, node.threshold = self._best_split(X, y)\n",
    "    depth += 1\n",
    "    if node.threshold is not None:\n",
    "        node.left = self._split_node(X[X[:, node.feature] <= node.threshold],\n",
    "                                     y[X[:, node.feature] <= node.threshold], depth)\n",
    "        node.right = self._split_node(X[X[:, node.feature] > node.threshold],\n",
    "                                      y[X[:, node.feature] > node.threshold], depth)\n",
    "\n",
    "    else:\n",
    "        return node\n",
    "    return node"
   ],
   "metadata": {
    "collapsed": false,
    "pycharm": {
     "name": "#%%\n"
    }
   }
  },
  {
   "cell_type": "code",
   "execution_count": 76,
   "outputs": [],
   "source": [
    "test_mse = [ 0,  7,  0,  0, 43,  0,  3,  0,  0, 12,  8, 32, 35,  1,  0, 12,  0, 28, 15, 1, 22,  4, 10,  5,\n",
    "  0,  0, 39,  4, 18, 27,  1,  6, 19, 20, 10, 24,  0,  0, 10,  0, 37,  0, 60, 1,  5,  0,  1,  0,\n",
    " 85, 24]"
   ],
   "metadata": {
    "collapsed": false,
    "pycharm": {
     "name": "#%%\n"
    }
   }
  },
  {
   "cell_type": "code",
   "execution_count": 78,
   "outputs": [
    {
     "data": {
      "text/plain": "303.84360000000004"
     },
     "execution_count": 78,
     "metadata": {},
     "output_type": "execute_result"
    }
   ],
   "source": [
    "mse(test_mse)"
   ],
   "metadata": {
    "collapsed": false,
    "pycharm": {
     "name": "#%%\n"
    }
   }
  },
  {
   "cell_type": "code",
   "execution_count": 81,
   "outputs": [
    {
     "name": "stdout",
     "output_type": "stream",
     "text": [
      "[1, 2, 3, \"four\", \"five\", {\"key\": \"value\"}]\n"
     ]
    }
   ],
   "source": [
    "import json\n",
    "\n",
    "# Ваш список данных\n",
    "your_list = [1, 2, 3, \"four\", \"five\", {\"key\": \"value\"}]\n",
    "\n",
    "# Преобразование списка в JSON\n",
    "json_data = json.dumps(your_list)\n",
    "\n",
    "# Вывод результата\n",
    "print(json_data)\n"
   ],
   "metadata": {
    "collapsed": false,
    "pycharm": {
     "name": "#%%\n"
    }
   }
  },
  {
   "cell_type": "code",
   "execution_count": 116,
   "outputs": [
    {
     "name": "stdout",
     "output_type": "stream",
     "text": [
      "{'feature': 2, 'threshold': 49473, 'n_samples': 50, 'value': 13, 'mse': 303.84360000000004, 'left': {'feature': 9, 'threshold': 587589, 'n_samples': 25, 'value': 23, 'mse': 367.54240000000004, 'left': {'n_samples': 24, 'value': 21, 'mse': 217.30555555555554}, 'right': {'n_samples': 1, 'value': 85, 'mse': 0.0}}, 'right': {'feature': 2, 'threshold': 65813, 'n_samples': 25, 'value': 2, 'mse': 12.8736, 'left': {'n_samples': 7, 'value': 6, 'mse': 20.69387755102041}, 'right': {'n_samples': 18, 'value': 0, 'mse': 0.2006172839506173}}}\n"
     ]
    }
   ],
   "source": [
    "import json\n",
    "\n",
    "class Node:\n",
    "    def __init__(self, feature=None, threshold=None, n_samples=0, value=None, mse=None, left=None, right=None):\n",
    "        self.feature = feature\n",
    "        self.threshold = threshold\n",
    "        self.n_samples = n_samples\n",
    "        self.value = value\n",
    "        self.mse = mse\n",
    "        self.left = left\n",
    "        self.right = right\n",
    "\n",
    "    def _generate_json(self, node):\n",
    "        if node.left is None and node.right is None:\n",
    "            return {\n",
    "                'n_samples': node.n_samples,\n",
    "                'value': node.value,\n",
    "                'mse': node.mse\n",
    "            }\n",
    "        else:\n",
    "            return {\n",
    "                'feature': node.feature,\n",
    "                'threshold': node.threshold,\n",
    "                'n_samples': node.n_samples,\n",
    "                'value': node.value,\n",
    "                'mse': node.mse,\n",
    "                'left': self._generate_json(node.left),\n",
    "                'right': self._generate_json(node.right)\n",
    "            }\n",
    "\n",
    "# Создаем экземпляр класса Node (пример дерева)\n",
    "root_node = Node(feature=2, threshold=49473, n_samples=50, value=13, mse=303.84360000000004, left=Node(feature=9, threshold=587589, n_samples=25, value=23, mse=367.54240000000004, left=Node(feature=None, threshold=None, n_samples=24, value=21, mse=217.30555555555554, left=None, right=None), right=Node(feature=None, threshold=None, n_samples=1, value=85, mse=0.0, left=None, right=None)), right=Node(feature=2, threshold=65813, n_samples=25, value=2, mse=12.8736, left=Node(feature=None, threshold=None, n_samples=7, value=6, mse=20.69387755102041, left=None, right=None), right=Node(feature=None, threshold=None, n_samples=18, value=0, mse=0.2006172839506173, left=None, right=None)))\n",
    "\n",
    "\n",
    "# Генерируем JSON для корневой ноды и преобразуем в строку\n",
    "json_data = json.dumps(root_node._generate_json(root_node), indent=2)\n",
    "# print(type(root_node))\n",
    "# Вывод результата\n",
    "print(json.loads(json_data))\n"
   ],
   "metadata": {
    "collapsed": false,
    "pycharm": {
     "name": "#%%\n"
    }
   }
  },
  {
   "cell_type": "code",
   "execution_count": null,
   "outputs": [],
   "source": [],
   "metadata": {
    "collapsed": false,
    "pycharm": {
     "name": "#%%\n",
     "is_executing": true
    }
   }
  }
 ],
 "metadata": {
  "kernelspec": {
   "display_name": "Python 3",
   "language": "python",
   "name": "python3"
  },
  "language_info": {
   "codemirror_mode": {
    "name": "ipython",
    "version": 2
   },
   "file_extension": ".py",
   "mimetype": "text/x-python",
   "name": "python",
   "nbconvert_exporter": "python",
   "pygments_lexer": "ipython2",
   "version": "2.7.6"
  }
 },
 "nbformat": 4,
 "nbformat_minor": 0
}