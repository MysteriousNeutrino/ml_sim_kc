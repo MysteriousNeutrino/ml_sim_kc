{
 "cells": [
  {
   "cell_type": "code",
   "execution_count": 9,
   "metadata": {
    "collapsed": true,
    "pycharm": {
     "name": "#%%\n"
    }
   },
   "outputs": [
    {
     "name": "stdout",
     "output_type": "stream",
     "text": [
      "200\n"
     ]
    }
   ],
   "source": [
    "import requests\n",
    "\n",
    "url = 'https://www.xn--80ak6aa92e.com'\n",
    "response = requests.get(url, timeout=2)\n",
    "print(response.status_code)\n",
    "# Ваш код обработки ответа\n"
   ]
  },
  {
   "cell_type": "code",
   "execution_count": 13,
   "outputs": [
    {
     "name": "stdout",
     "output_type": "stream",
     "text": [
      "https://www.example.com -- да\"\n",
      "http://www.example.com -- да\"\n",
      "https://example.com -- да\"\n"
     ]
    }
   ],
   "source": [
    "import re\n",
    "\n",
    "pattern = re.compile(r'^https?://')\n",
    "\n",
    "# Тестовые строки\n",
    "test_strings = ['https://www.example.com', 'http://www.example.com', 'https://example.com']\n",
    "\n",
    "for test_str in test_strings:\n",
    "    if pattern.match(test_str):\n",
    "        print(f'{test_str} -- да\"')\n",
    "    else:\n",
    "        print(f'{test_str} -- нет\"')\n"
   ],
   "metadata": {
    "collapsed": false,
    "pycharm": {
     "name": "#%%\n"
    }
   }
  },
  {
   "cell_type": "code",
   "execution_count": 36,
   "outputs": [
    {
     "name": "stdout",
     "output_type": "stream",
     "text": [
      "example.com\n",
      "example.com\n",
      "hello.ru\n",
      "HTTPSConnectionPool(host='hello.ru', port=443): Max retries exceeded with url: / (Caused by NameResolutionError(\"<urllib3.connection.HTTPSConnection object at 0x0000020B91AD8C90>: Failed to resolve 'hello.ru' ([Errno 11002] getaddrinfo failed)\"))\n",
      "example.com\n",
      "xn--80ak6aa92e.com\n",
      "xn--80ak6aa92e.com\n",
      "example.com\n"
     ]
    },
    {
     "data": {
      "text/plain": "Counter({'example.com': 4, 'xn--80ak6aa92e.com': 2})"
     },
     "execution_count": 36,
     "metadata": {},
     "output_type": "execute_result"
    }
   ],
   "source": [
    "from collections import Counter\n",
    "\n",
    "\n",
    "def chech_availability_for_message(urls: list):\n",
    "    reachable_urls = Counter()\n",
    "    http_patterns = re.compile(r'^https?://')\n",
    "    for url in urls:\n",
    "        try:\n",
    "            url = re.sub(r'#.*$', '', url)\n",
    "            url = re.sub(r'https?://', '', url)\n",
    "            url = re.sub(r'www\\.', '', url)\n",
    "            url = url.lower()\n",
    "            print(url)\n",
    "            response = requests.get(f\"https://{url}\", timeout=3)\n",
    "            reachable_urls.update([url])\n",
    "\n",
    "        except requests.RequestException as e:\n",
    "            print(e)\n",
    "    return reachable_urls\n",
    "\n",
    "chech_availability_for_message(['https://www.example.com', 'http://www.example.com','hello.ru', 'example.com', 'xn--80ak6aa92e.com', 'xn--80ak6aa92e.com', 'www.example.com', ])"
   ],
   "metadata": {
    "collapsed": false,
    "pycharm": {
     "name": "#%%\n"
    }
   }
  },
  {
   "cell_type": "code",
   "execution_count": 46,
   "outputs": [
    {
     "name": "stdout",
     "output_type": "stream",
     "text": [
      "Found URLs: []\n"
     ]
    }
   ],
   "source": [
    "import re\n",
    "\n",
    "def extract_urls(text, required_postfix=\".com\"):\n",
    "    # Define a regular expression pattern for extracting URLs\n",
    "    url_pattern = re.compile(r'(https?://)?(?:www\\.)?(\\S+\\.{})(?=\\s|$)'.format(re.escape(required_postfix)))\n",
    "\n",
    "    # Find all matches in the text\n",
    "    matches = url_pattern.findall(text)\n",
    "\n",
    "    # Normalize the URLs\n",
    "    normalized_urls = ['http://' + match[1] if not match[0] else match[0] + match[1] for match in matches]\n",
    "\n",
    "    return normalized_urls\n",
    "\n",
    "# Example usage\n",
    "text =         \"Check out this link www.example.com, example.com and\"\\\n",
    "        \" also https://www.xn--80ak6aa92e.com/\"\\\n",
    "        \" also www.xn--80ak6aa92e.com\"\\\n",
    "        \" also xn--80ak6aa92e.com\"\\\n",
    "        \" also apple.com\"\\\n",
    "        \" Don't miss this great opportunity!\"\\\n",
    "        \" www.google.com.\"\\\n",
    "        \" hello.ru\"\n",
    "found_urls = extract_urls(text)\n",
    "\n",
    "print(f'Found URLs: {found_urls}')\n"
   ],
   "metadata": {
    "collapsed": false,
    "pycharm": {
     "name": "#%%\n"
    }
   }
  },
  {
   "cell_type": "code",
   "execution_count": 61,
   "outputs": [
    {
     "name": "stdout",
     "output_type": "stream",
     "text": [
      "['Check', 'out', 'this', 'link', 'www.example.com', 'example.com', 'and', 'also', 'https://www.xn--80ak6aa92e.com', 'also', 'www.xn--80ak6aa92e.com', 'also', 'xn--80ak6aa92e.com', 'also', 'apple.com', \"Don't\", 'miss', 'this', 'great', 'opportunity', 'www.google.com', 'hello.ru']\n"
     ]
    }
   ],
   "source": [
    "import re\n",
    "regex = r'\\b(?:https?://|www\\.)?\\S+(?:\\.\\S{2,})?\\b'\n",
    "text =         \"Check out this link www.example.com, example.com and\"\\\n",
    "        \" also https://www.xn--80ak6aa92e.com/\"\\\n",
    "        \" also www.xn--80ak6aa92e.com\"\\\n",
    "        \" also xn--80ak6aa92e.com\"\\\n",
    "        \" also apple.com\"\\\n",
    "        \" Don't miss this great opportunity!\"\\\n",
    "        \" www.google.com.\"\\\n",
    "        \" hello.ru\"\n",
    "\n",
    "print(re.findall(regex, text))"
   ],
   "metadata": {
    "collapsed": false,
    "pycharm": {
     "name": "#%%\n"
    }
   }
  },
  {
   "cell_type": "code",
   "execution_count": 63,
   "outputs": [
    {
     "name": "stdout",
     "output_type": "stream",
     "text": [
      "Found URLs: ['Check', 'out', 'this', 'link', 'www.example.com', 'example.com', 'and', 'also', 'https://www.xn--80ak6aa92e.com', 'also', 'www.xn--80ak6aa92e.com', 'also', 'xn--80ak6aa92e.com', 'also', 'apple.com', \"Don't\", 'miss', 'this', 'great', 'opportunity', 'www.google.com', 'hello.ru']\n"
     ]
    }
   ],
   "source": [
    "import re\n",
    "\n",
    "def extract_urls(text):\n",
    "    url_pattern = re.compile(r'\\b(?:https?://)?(?:www\\.)?(?:xn--)?\\S+(?:\\.\\S{2,})?\\b')\n",
    "    urls = url_pattern.findall(text)\n",
    "    return urls\n",
    "\n",
    "# Example usage\n",
    "text = \"Check out this link www.example.com, example.com and\"\\\n",
    "        \" also https://www.xn--80ak6aa92e.com/\"\\\n",
    "        \" also www.xn--80ak6aa92e.com\"\\\n",
    "        \" also xn--80ak6aa92e.com\"\\\n",
    "        \" also apple.com\"\\\n",
    "        \" Don't miss this great opportunity!\"\\\n",
    "        \" www.google.com.\"\\\n",
    "        \" hello.ru\"\n",
    "\n",
    "found_urls = extract_urls(text)\n",
    "\n",
    "print(f'Found URLs: {found_urls}')\n"
   ],
   "metadata": {
    "collapsed": false,
    "pycharm": {
     "name": "#%%\n"
    }
   }
  },
  {
   "cell_type": "code",
   "execution_count": 67,
   "outputs": [
    {
     "name": "stdout",
     "output_type": "stream",
     "text": [
      "Found URLs: ['www.example.com', 'example.com', 'https://www.xn--80ak6aa92e.com', 'www.xn--80ak6aa92e.com', 'xn--80ak6aa92e.com', 'apple.com', 'www.google.com', 'hello.ru']\n"
     ]
    }
   ],
   "source": [
    "import re\n",
    "\n",
    "def extract_urls(text):\n",
    "    url_pattern = re.compile(r'\\b(?:https?://)?(?:www\\.)?(?:xn--)?\\S+\\.\\S{2,}\\b')\n",
    "    urls = url_pattern.findall(text)\n",
    "    return urls\n",
    "\n",
    "# Example usage\n",
    "text = \"Check out this link www.example.com, example.com and\"\\\n",
    "        \" also https://www.xn--80ak6aa92e.com/\"\\\n",
    "        \" also www.xn--80ak6aa92e.com\"\\\n",
    "        \" also xn--80ak6aa92e.com\"\\\n",
    "        \" also apple.com\"\\\n",
    "        \" Don't miss this great opportunity!\"\\\n",
    "        \" www.google.com.\"\\\n",
    "        \" hello.ru\"\n",
    "\n",
    "found_urls = extract_urls(text)\n",
    "\n",
    "print(f'Found URLs: {found_urls}')\n"
   ],
   "metadata": {
    "collapsed": false,
    "pycharm": {
     "name": "#%%\n"
    }
   }
  },
  {
   "cell_type": "code",
   "execution_count": null,
   "outputs": [],
   "source": [],
   "metadata": {
    "collapsed": false,
    "pycharm": {
     "name": "#%%\n"
    }
   }
  }
 ],
 "metadata": {
  "kernelspec": {
   "display_name": "Python 3",
   "language": "python",
   "name": "python3"
  },
  "language_info": {
   "codemirror_mode": {
    "name": "ipython",
    "version": 2
   },
   "file_extension": ".py",
   "mimetype": "text/x-python",
   "name": "python",
   "nbconvert_exporter": "python",
   "pygments_lexer": "ipython2",
   "version": "2.7.6"
  }
 },
 "nbformat": 4,
 "nbformat_minor": 0
}