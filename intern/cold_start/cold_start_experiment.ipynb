{
 "cells": [
  {
   "cell_type": "code",
   "execution_count": 49,
   "metadata": {
    "collapsed": true,
    "pycharm": {
     "name": "#%%\n"
    }
   },
   "outputs": [
    {
     "name": "stdout",
     "output_type": "stream",
     "text": [
      "      monday  product_id  category  sales\n",
      "0 2020-01-05           6         3   35.0\n",
      "1 2020-01-05           0         0    NaN\n",
      "2 2020-01-05           4         2   67.0\n",
      "3 2020-01-05           8         0    4.0\n",
      "4 2020-01-05           2         2    NaN\n",
      "5 2020-01-05           1         5    NaN\n",
      "6 2020-01-05           5         4   32.0\n",
      "7 2020-01-05           9         0   86.0\n",
      "8 2020-01-05           7         5   72.0\n",
      "9 2020-01-05           3         5    5.0\n"
     ]
    }
   ],
   "source": [
    "import pandas as pd\n",
    "import numpy as np\n",
    "\n",
    "# Создание DataFrame\n",
    "data = {\n",
    "    'monday': ['2020-01-05'] * 10,\n",
    "    'product_id': [6, 0, 4, 8, 2, 1, 5, 9, 7, 3],\n",
    "    'category': [3, 0, 2, 0, 2, 5, 4, 0, 5, 5],\n",
    "    'sales': [35.0, None, 67.0, 4.0, None, None, 32.0, 86.0, 72.0, 5.0]  # Замените None на NaN, если нужно\n",
    "}\n",
    "\n",
    "df = pd.DataFrame(data)\n",
    "\n",
    "# Преобразование столбца 'monday' в тип datetime\n",
    "df['monday'] = pd.to_datetime(df['monday'])\n",
    "\n",
    "print(df)"
   ]
  },
  {
   "cell_type": "markdown",
   "source": [],
   "metadata": {
    "collapsed": false,
    "pycharm": {
     "name": "#%% md\n"
    }
   }
  },
  {
   "cell_type": "code",
   "execution_count": 53,
   "outputs": [
    {
     "data": {
      "text/plain": "category\n0    45.0\n2    67.0\n3    35.0\n4    32.0\n5    38.5\nName: sales, dtype: float64"
     },
     "execution_count": 53,
     "metadata": {},
     "output_type": "execute_result"
    }
   ],
   "source": [
    "means = (df.groupby('category').agg(\"mean\"))[\"sales\"]\n",
    "\n",
    "means"
   ],
   "metadata": {
    "collapsed": false,
    "pycharm": {
     "name": "#%%\n"
    }
   }
  },
  {
   "cell_type": "markdown",
   "source": [],
   "metadata": {
    "collapsed": false,
    "pycharm": {
     "name": "#%% md\n"
    }
   }
  },
  {
   "cell_type": "code",
   "execution_count": 70,
   "outputs": [
    {
     "name": "stdout",
     "output_type": "stream",
     "text": [
      "262 µs ± 39.9 µs per loop (mean ± std. dev. of 7 runs, 1,000 loops each)\n"
     ]
    }
   ],
   "source": [
    "%%timeit\n",
    "df['sales'] = np.floor(df.apply(lambda row: means[row['category']] if pd.isna(row['sales']) else row['sales'], axis=1))\n"
   ],
   "metadata": {
    "collapsed": false,
    "pycharm": {
     "name": "#%%\n"
    }
   }
  },
  {
   "cell_type": "code",
   "execution_count": 47,
   "outputs": [
    {
     "data": {
      "text/plain": "      monday  product_id  category  sales\n0 2020-01-05           6         3   35.0\n1 2020-01-05           0         0   45.0\n2 2020-01-05           4         2   67.0\n3 2020-01-05           8         0    4.0\n4 2020-01-05           2         2   67.0\n5 2020-01-05           1         5   38.0\n6 2020-01-05           5         4   32.0\n7 2020-01-05           9         0   86.0\n8 2020-01-05           7         5   72.0\n9 2020-01-05           3         5    5.0",
      "text/html": "<div>\n<style scoped>\n    .dataframe tbody tr th:only-of-type {\n        vertical-align: middle;\n    }\n\n    .dataframe tbody tr th {\n        vertical-align: top;\n    }\n\n    .dataframe thead th {\n        text-align: right;\n    }\n</style>\n<table border=\"1\" class=\"dataframe\">\n  <thead>\n    <tr style=\"text-align: right;\">\n      <th></th>\n      <th>monday</th>\n      <th>product_id</th>\n      <th>category</th>\n      <th>sales</th>\n    </tr>\n  </thead>\n  <tbody>\n    <tr>\n      <th>0</th>\n      <td>2020-01-05</td>\n      <td>6</td>\n      <td>3</td>\n      <td>35.0</td>\n    </tr>\n    <tr>\n      <th>1</th>\n      <td>2020-01-05</td>\n      <td>0</td>\n      <td>0</td>\n      <td>45.0</td>\n    </tr>\n    <tr>\n      <th>2</th>\n      <td>2020-01-05</td>\n      <td>4</td>\n      <td>2</td>\n      <td>67.0</td>\n    </tr>\n    <tr>\n      <th>3</th>\n      <td>2020-01-05</td>\n      <td>8</td>\n      <td>0</td>\n      <td>4.0</td>\n    </tr>\n    <tr>\n      <th>4</th>\n      <td>2020-01-05</td>\n      <td>2</td>\n      <td>2</td>\n      <td>67.0</td>\n    </tr>\n    <tr>\n      <th>5</th>\n      <td>2020-01-05</td>\n      <td>1</td>\n      <td>5</td>\n      <td>38.0</td>\n    </tr>\n    <tr>\n      <th>6</th>\n      <td>2020-01-05</td>\n      <td>5</td>\n      <td>4</td>\n      <td>32.0</td>\n    </tr>\n    <tr>\n      <th>7</th>\n      <td>2020-01-05</td>\n      <td>9</td>\n      <td>0</td>\n      <td>86.0</td>\n    </tr>\n    <tr>\n      <th>8</th>\n      <td>2020-01-05</td>\n      <td>7</td>\n      <td>5</td>\n      <td>72.0</td>\n    </tr>\n    <tr>\n      <th>9</th>\n      <td>2020-01-05</td>\n      <td>3</td>\n      <td>5</td>\n      <td>5.0</td>\n    </tr>\n  </tbody>\n</table>\n</div>"
     },
     "execution_count": 47,
     "metadata": {},
     "output_type": "execute_result"
    }
   ],
   "source": [
    "df"
   ],
   "metadata": {
    "collapsed": false,
    "pycharm": {
     "name": "#%%\n"
    }
   }
  },
  {
   "cell_type": "code",
   "execution_count": 71,
   "outputs": [
    {
     "name": "stdout",
     "output_type": "stream",
     "text": [
      "312 µs ± 7.71 µs per loop (mean ± std. dev. of 7 runs, 1,000 loops each)\n"
     ]
    }
   ],
   "source": [
    "%%timeit\n",
    "df['sales'] = np.floor(df['sales'].fillna(df.groupby('category')['sales'].transform('mean')))"
   ],
   "metadata": {
    "collapsed": false,
    "pycharm": {
     "name": "#%%\n"
    }
   }
  },
  {
   "cell_type": "code",
   "execution_count": 66,
   "outputs": [
    {
     "data": {
      "text/plain": "      monday  product_id  category  sales  category_mean\n0 2020-01-05           6         3   35.0           35.0\n1 2020-01-05           0         0   45.0           45.0\n2 2020-01-05           4         2   67.0           67.0\n3 2020-01-05           8         0    4.0           45.0\n4 2020-01-05           2         2   67.0           67.0\n5 2020-01-05           1         5   38.0           38.5\n6 2020-01-05           5         4   32.0           32.0\n7 2020-01-05           9         0   86.0           45.0\n8 2020-01-05           7         5   72.0           38.5\n9 2020-01-05           3         5    5.0           38.5",
      "text/html": "<div>\n<style scoped>\n    .dataframe tbody tr th:only-of-type {\n        vertical-align: middle;\n    }\n\n    .dataframe tbody tr th {\n        vertical-align: top;\n    }\n\n    .dataframe thead th {\n        text-align: right;\n    }\n</style>\n<table border=\"1\" class=\"dataframe\">\n  <thead>\n    <tr style=\"text-align: right;\">\n      <th></th>\n      <th>monday</th>\n      <th>product_id</th>\n      <th>category</th>\n      <th>sales</th>\n      <th>category_mean</th>\n    </tr>\n  </thead>\n  <tbody>\n    <tr>\n      <th>0</th>\n      <td>2020-01-05</td>\n      <td>6</td>\n      <td>3</td>\n      <td>35.0</td>\n      <td>35.0</td>\n    </tr>\n    <tr>\n      <th>1</th>\n      <td>2020-01-05</td>\n      <td>0</td>\n      <td>0</td>\n      <td>45.0</td>\n      <td>45.0</td>\n    </tr>\n    <tr>\n      <th>2</th>\n      <td>2020-01-05</td>\n      <td>4</td>\n      <td>2</td>\n      <td>67.0</td>\n      <td>67.0</td>\n    </tr>\n    <tr>\n      <th>3</th>\n      <td>2020-01-05</td>\n      <td>8</td>\n      <td>0</td>\n      <td>4.0</td>\n      <td>45.0</td>\n    </tr>\n    <tr>\n      <th>4</th>\n      <td>2020-01-05</td>\n      <td>2</td>\n      <td>2</td>\n      <td>67.0</td>\n      <td>67.0</td>\n    </tr>\n    <tr>\n      <th>5</th>\n      <td>2020-01-05</td>\n      <td>1</td>\n      <td>5</td>\n      <td>38.0</td>\n      <td>38.5</td>\n    </tr>\n    <tr>\n      <th>6</th>\n      <td>2020-01-05</td>\n      <td>5</td>\n      <td>4</td>\n      <td>32.0</td>\n      <td>32.0</td>\n    </tr>\n    <tr>\n      <th>7</th>\n      <td>2020-01-05</td>\n      <td>9</td>\n      <td>0</td>\n      <td>86.0</td>\n      <td>45.0</td>\n    </tr>\n    <tr>\n      <th>8</th>\n      <td>2020-01-05</td>\n      <td>7</td>\n      <td>5</td>\n      <td>72.0</td>\n      <td>38.5</td>\n    </tr>\n    <tr>\n      <th>9</th>\n      <td>2020-01-05</td>\n      <td>3</td>\n      <td>5</td>\n      <td>5.0</td>\n      <td>38.5</td>\n    </tr>\n  </tbody>\n</table>\n</div>"
     },
     "execution_count": 66,
     "metadata": {},
     "output_type": "execute_result"
    }
   ],
   "source": [
    "df"
   ],
   "metadata": {
    "collapsed": false,
    "pycharm": {
     "name": "#%%\n"
    }
   }
  },
  {
   "cell_type": "code",
   "execution_count": null,
   "outputs": [],
   "source": [],
   "metadata": {
    "collapsed": false,
    "pycharm": {
     "name": "#%%\n"
    }
   }
  }
 ],
 "metadata": {
  "kernelspec": {
   "display_name": "Python 3",
   "language": "python",
   "name": "python3"
  },
  "language_info": {
   "codemirror_mode": {
    "name": "ipython",
    "version": 2
   },
   "file_extension": ".py",
   "mimetype": "text/x-python",
   "name": "python",
   "nbconvert_exporter": "python",
   "pygments_lexer": "ipython2",
   "version": "2.7.6"
  }
 },
 "nbformat": 4,
 "nbformat_minor": 0
}