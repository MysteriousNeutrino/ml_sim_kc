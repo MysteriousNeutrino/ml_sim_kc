{
 "cells": [
  {
   "cell_type": "code",
   "execution_count": 1,
   "metadata": {
    "collapsed": true,
    "pycharm": {
     "name": "#%%\n"
    }
   },
   "outputs": [],
   "source": [
    "import pandas as pd\n",
    "import numpy as np\n"
   ]
  },
  {
   "cell_type": "code",
   "execution_count": 76,
   "outputs": [],
   "source": [
    "y_true = [1, 0, 0, 1, 1, 0, 1]\n",
    "y_pred = [1, 0, 1, 1, 0, 0, 1]"
   ],
   "metadata": {
    "collapsed": false,
    "pycharm": {
     "name": "#%%\n"
    }
   }
  },
  {
   "cell_type": "code",
   "execution_count": 77,
   "outputs": [
    {
     "data": {
      "text/plain": "   True  Predicted\n0     1          1\n1     0          0\n2     0          1\n3     1          1\n4     1          0\n5     0          0\n6     1          1",
      "text/html": "<div>\n<style scoped>\n    .dataframe tbody tr th:only-of-type {\n        vertical-align: middle;\n    }\n\n    .dataframe tbody tr th {\n        vertical-align: top;\n    }\n\n    .dataframe thead th {\n        text-align: right;\n    }\n</style>\n<table border=\"1\" class=\"dataframe\">\n  <thead>\n    <tr style=\"text-align: right;\">\n      <th></th>\n      <th>True</th>\n      <th>Predicted</th>\n    </tr>\n  </thead>\n  <tbody>\n    <tr>\n      <th>0</th>\n      <td>1</td>\n      <td>1</td>\n    </tr>\n    <tr>\n      <th>1</th>\n      <td>0</td>\n      <td>0</td>\n    </tr>\n    <tr>\n      <th>2</th>\n      <td>0</td>\n      <td>1</td>\n    </tr>\n    <tr>\n      <th>3</th>\n      <td>1</td>\n      <td>1</td>\n    </tr>\n    <tr>\n      <th>4</th>\n      <td>1</td>\n      <td>0</td>\n    </tr>\n    <tr>\n      <th>5</th>\n      <td>0</td>\n      <td>0</td>\n    </tr>\n    <tr>\n      <th>6</th>\n      <td>1</td>\n      <td>1</td>\n    </tr>\n  </tbody>\n</table>\n</div>"
     },
     "execution_count": 77,
     "metadata": {},
     "output_type": "execute_result"
    }
   ],
   "source": [
    "# y_true = np.array(y_true)\n",
    "# y_pred = np.array(y_pred)\n",
    "\n",
    "# Создание DataFrame для удобства работы с данными\n",
    "df = pd.DataFrame({'True': y_true, 'Predicted': y_pred})\n",
    "df"
   ],
   "metadata": {
    "collapsed": false,
    "pycharm": {
     "name": "#%%\n"
    }
   }
  },
  {
   "cell_type": "code",
   "execution_count": 19,
   "outputs": [
    {
     "data": {
      "text/plain": "   index  True  Predicted\n0      0     1          1\n1      1     0          0\n2      2     0          1\n3      3     1          1\n4      4     1          0\n5      5     0          0\n6      6     1          1",
      "text/html": "<div>\n<style scoped>\n    .dataframe tbody tr th:only-of-type {\n        vertical-align: middle;\n    }\n\n    .dataframe tbody tr th {\n        vertical-align: top;\n    }\n\n    .dataframe thead th {\n        text-align: right;\n    }\n</style>\n<table border=\"1\" class=\"dataframe\">\n  <thead>\n    <tr style=\"text-align: right;\">\n      <th></th>\n      <th>index</th>\n      <th>True</th>\n      <th>Predicted</th>\n    </tr>\n  </thead>\n  <tbody>\n    <tr>\n      <th>0</th>\n      <td>0</td>\n      <td>1</td>\n      <td>1</td>\n    </tr>\n    <tr>\n      <th>1</th>\n      <td>1</td>\n      <td>0</td>\n      <td>0</td>\n    </tr>\n    <tr>\n      <th>2</th>\n      <td>2</td>\n      <td>0</td>\n      <td>1</td>\n    </tr>\n    <tr>\n      <th>3</th>\n      <td>3</td>\n      <td>1</td>\n      <td>1</td>\n    </tr>\n    <tr>\n      <th>4</th>\n      <td>4</td>\n      <td>1</td>\n      <td>0</td>\n    </tr>\n    <tr>\n      <th>5</th>\n      <td>5</td>\n      <td>0</td>\n      <td>0</td>\n    </tr>\n    <tr>\n      <th>6</th>\n      <td>6</td>\n      <td>1</td>\n      <td>1</td>\n    </tr>\n  </tbody>\n</table>\n</div>"
     },
     "execution_count": 19,
     "metadata": {},
     "output_type": "execute_result"
    }
   ],
   "source": [
    "df.reset_index()"
   ],
   "metadata": {
    "collapsed": false,
    "pycharm": {
     "name": "#%%\n"
    }
   }
  },
  {
   "cell_type": "code",
   "execution_count": 29,
   "outputs": [
    {
     "data": {
      "text/plain": "[(0, 0), (0, 1), (1, 0), (1, 1)]"
     },
     "execution_count": 29,
     "metadata": {},
     "output_type": "execute_result"
    }
   ],
   "source": [
    "df.reset_index().groupby([\"True\", \"Predicted\"]).count().index.tolist()"
   ],
   "metadata": {
    "collapsed": false,
    "pycharm": {
     "name": "#%%\n"
    }
   }
  },
  {
   "cell_type": "code",
   "execution_count": 42,
   "outputs": [
    {
     "data": {
      "text/plain": "RangeIndex(start=0, stop=4, step=1, name=('d', 'd', 'd', 'd'))"
     },
     "execution_count": 42,
     "metadata": {},
     "output_type": "execute_result"
    }
   ],
   "source": [],
   "metadata": {
    "collapsed": false,
    "pycharm": {
     "name": "#%%\n"
    }
   }
  },
  {
   "cell_type": "code",
   "execution_count": 67,
   "outputs": [
    {
     "data": {
      "text/plain": "array([[0, 2],\n       [1, 1],\n       [0, 1],\n       [1, 3]], dtype=int64)"
     },
     "execution_count": 67,
     "metadata": {},
     "output_type": "execute_result"
    }
   ],
   "source": [
    "np.array(df.groupby([\"True\", \"Predicted\"]).value_counts().reset_index().iloc[:,-2:])"
   ],
   "metadata": {
    "collapsed": false,
    "pycharm": {
     "name": "#%%\n"
    }
   }
  },
  {
   "cell_type": "code",
   "execution_count": 78,
   "outputs": [
    {
     "data": {
      "text/plain": "0.75"
     },
     "execution_count": 78,
     "metadata": {},
     "output_type": "execute_result"
    }
   ],
   "source": [
    "_, _, fn, tp = np.array(df.groupby([\"True\", \"Predicted\"]).value_counts().reset_index().iloc[:, -1])\n",
    "recall = tp / (tp + fn)\n",
    "recall"
   ],
   "metadata": {
    "collapsed": false,
    "pycharm": {
     "name": "#%%\n"
    }
   }
  },
  {
   "cell_type": "code",
   "execution_count": null,
   "outputs": [],
   "source": [],
   "metadata": {
    "collapsed": false,
    "pycharm": {
     "name": "#%%\n"
    }
   }
  },
  {
   "cell_type": "code",
   "execution_count": 168,
   "outputs": [],
   "source": [
    "from typing import List\n",
    "\n",
    "\n",
    "def recall_at_k(labels: List[int], scores: List[float], k=5) -> float:\n",
    "    \"\"\"\n",
    "\n",
    "    :param labels:\n",
    "    :param scores:\n",
    "    :param k:\n",
    "    :return:\n",
    "    \"\"\"\n",
    "    df = pd.DataFrame({'True': labels, 'Predicted': scores}).iloc[:k]\n",
    "    print(df)\n",
    "    tp = df[(df['True'] == 1) & (df['Predicted'] == 1)].shape[0]\n",
    "    fn = df[(df['True'] == 1) & (df['Predicted'] == 0)].shape[0]\n",
    "    print(len(df))\n",
    "    print(tp)\n",
    "    print(fn)\n",
    "    try:\n",
    "        recall = tp / (tp + fn)\n",
    "    except:\n",
    "        return 0.0\n",
    "    return recall"
   ],
   "metadata": {
    "collapsed": false,
    "pycharm": {
     "name": "#%%\n"
    }
   }
  },
  {
   "cell_type": "code",
   "execution_count": null,
   "outputs": [],
   "source": [],
   "metadata": {
    "collapsed": false,
    "pycharm": {
     "name": "#%%\n"
    }
   }
  },
  {
   "cell_type": "code",
   "execution_count": 158,
   "outputs": [],
   "source": [
    "labels = [1, 1, 1, 0, 0, 0]\n",
    "scores = [0.6, 0.5, 0.4, 0.3, 0.2, 0.1]"
   ],
   "metadata": {
    "collapsed": false,
    "pycharm": {
     "name": "#%%\n"
    }
   }
  },
  {
   "cell_type": "code",
   "execution_count": 163,
   "outputs": [
    {
     "name": "stdout",
     "output_type": "stream",
     "text": [
      "4\n",
      "0\n",
      "0\n"
     ]
    },
    {
     "data": {
      "text/plain": "0.0"
     },
     "execution_count": 163,
     "metadata": {},
     "output_type": "execute_result"
    }
   ],
   "source": [
    "recall_at_k(labels, scores, 4)"
   ],
   "metadata": {
    "collapsed": false,
    "pycharm": {
     "name": "#%%\n"
    }
   }
  },
  {
   "cell_type": "code",
   "execution_count": 161,
   "outputs": [
    {
     "name": "stdout",
     "output_type": "stream",
     "text": [
      "[1 1 0 0 0 0]\n"
     ]
    }
   ],
   "source": [
    "import numpy as np\n",
    "import pandas as pd\n",
    "\n",
    "def threshold_array(scores, threshold=0.5):\n",
    "    # Преобразуем массив в pandas Series для удобства работы\n",
    "    series = pd.Series(scores)\n",
    "\n",
    "    # Применяем пороговое значение\n",
    "    binary_array = (series >= threshold).astype(int)\n",
    "\n",
    "    return binary_array.values\n",
    "\n",
    "# Пример использования\n",
    "scores = [0.6, 0.5, 0.4, 0.3, 0.2, 0.1]\n",
    "thresholded_scores = threshold_array(scores, threshold=0.5)\n",
    "print(thresholded_scores)"
   ],
   "metadata": {
    "collapsed": false,
    "pycharm": {
     "name": "#%%\n"
    }
   }
  },
  {
   "cell_type": "code",
   "execution_count": 162,
   "outputs": [],
   "source": [
    "y_true = [0, 1, 2, 0, 1, 2]\n",
    "y_pred = [0, 2, 1, 0, 0, 1]"
   ],
   "metadata": {
    "collapsed": false,
    "pycharm": {
     "name": "#%%\n"
    }
   }
  },
  {
   "cell_type": "code",
   "execution_count": 169,
   "outputs": [
    {
     "name": "stdout",
     "output_type": "stream",
     "text": [
      "   True  Predicted\n",
      "0     0          0\n",
      "1     1          2\n",
      "2     2          1\n",
      "3     0          0\n",
      "4     1          0\n",
      "5     2          1\n",
      "6\n",
      "0\n",
      "1\n"
     ]
    },
    {
     "data": {
      "text/plain": "0.0"
     },
     "execution_count": 169,
     "metadata": {},
     "output_type": "execute_result"
    }
   ],
   "source": [
    "recall_at_k(y_true, y_pred, 100)"
   ],
   "metadata": {
    "collapsed": false,
    "pycharm": {
     "name": "#%%\n"
    }
   }
  },
  {
   "cell_type": "code",
   "execution_count": 189,
   "outputs": [],
   "source": [
    "y_true = np.array([1, 0, 1, 0])\n",
    "y_pred = np.array([1, 0, 1, 1])"
   ],
   "metadata": {
    "collapsed": false,
    "pycharm": {
     "name": "#%%\n"
    }
   }
  },
  {
   "cell_type": "code",
   "execution_count": 194,
   "outputs": [],
   "source": [
    "def smape(y_true: np.array, y_pred: np.array):\n",
    "\n",
    "        return np.mean(\n",
    "            np.where(y_true + y_pred != 0, 2 * np.abs(y_true - y_pred) / (np.abs(y_true) + np.abs(y_pred)), 0))\n"
   ],
   "metadata": {
    "collapsed": false,
    "pycharm": {
     "name": "#%%\n"
    }
   }
  },
  {
   "cell_type": "code",
   "execution_count": 195,
   "outputs": [
    {
     "name": "stderr",
     "output_type": "stream",
     "text": [
      "C:\\Users\\Neesty\\AppData\\Local\\Temp\\ipykernel_45180\\2717382648.py:4: RuntimeWarning: invalid value encountered in divide\n",
      "  np.where(y_true + y_pred != 0, 2 * np.abs(y_true - y_pred) / (np.abs(y_true) + np.abs(y_pred)), 0))\n"
     ]
    },
    {
     "data": {
      "text/plain": "0.5"
     },
     "execution_count": 195,
     "metadata": {},
     "output_type": "execute_result"
    }
   ],
   "source": [
    "smape(y_true, y_pred)"
   ],
   "metadata": {
    "collapsed": false,
    "pycharm": {
     "name": "#%%\n"
    }
   }
  },
  {
   "cell_type": "code",
   "execution_count": 363,
   "outputs": [],
   "source": [
    "def recall_at_k(labels: List[int], scores: List[float], k=5) -> float:\n",
    "    \"\"\"\n",
    "\n",
    "    :param labels:\n",
    "    :param scores:\n",
    "    :param k:\n",
    "    :return:\n",
    "    \"\"\"\n",
    "    # Сортируем оценки в порядке убывания и выбираем топ-k\n",
    "    top_k_indices = sorted(range(len(scores)), key=lambda i: scores[i], reverse=True)[:k]\n",
    "    print(f\"top_k_indices\",top_k_indices)\n",
    "    non_top_k_labels = [labels[i] for i in range(len(labels)) if i not in top_k_indices]\n",
    "    print(f\"non_top_k_labels\",non_top_k_labels)\n",
    "    # Выбираем метки для топ-k оценок\n",
    "    top_k_labels = [labels[i] for i in top_k_indices]\n",
    "    print(f\"top_k_labels\",top_k_labels)\n",
    "    # Рассчитываем recall@k\n",
    "    true_positives = sum(top_k_labels)\n",
    "    print(f\"TP\",true_positives)\n",
    "    # количетво 0 в top_k_labels\n",
    "    false_positive = len(top_k_labels) - np.sum(top_k_labels)\n",
    "    print(\"FP\", false_positive)\n",
    "    true_negatives = len(non_top_k_labels) - sum(non_top_k_labels)\n",
    "    print(\"TN\", true_negatives)\n",
    "    false_negatives = sum(non_top_k_labels)\n",
    "    print(\"FN\", false_negatives)\n",
    "    total_positives = sum(labels)\n",
    "    print(f\"P\",total_positives)\n",
    "    total_negatives = len(labels) - sum(labels)\n",
    "    print(f\"N\",total_negatives)\n",
    "    #?\n",
    "    # total_negatives = len(labels) - sum(labels)\n",
    "    # print(f\"total_negatives\",total_negatives)\n",
    "\n",
    "    specificity = true_negatives / (false_positive + true_negatives) if (false_positive + true_negatives) > 0 else 0\n",
    "\n",
    "    recall = true_positives / total_positives if total_positives > 0 else 0\n",
    "    precision = true_positives / k if k > 0 else 0\n",
    "\n",
    "\n",
    "    return (recall, precision, specificity)"
   ],
   "metadata": {
    "collapsed": false,
    "pycharm": {
     "name": "#%%\n"
    }
   }
  },
  {
   "cell_type": "code",
   "execution_count": 364,
   "outputs": [],
   "source": [
    "labels = [1, 0, 0, 1, 1, 0]\n",
    "scores = [0.9, 0.4, 0.7, 0.6, 0.5, 0.9]\n",
    "#[0.3, 0.7, 0.4, 0.3, 0.2, 0.1, 0.4]\n",
    "#[1, 1, 1, 0, 1, 0, 1]\n",
    "labels = [1, 0, 0, 1, 1]\n",
    "scores = [0.8, 0.6, 0.4, 0.7, 0.3]\n",
    "labels = [0, 0, 0, 0, 0, 1, 1, 1, 1, 1]\n",
    "scores = [0.1, 0.2, 0.3, 0.4, 0.5, 0.6, 0.7, 0.8, 0.9, 1.0]\n",
    "y_true = np.array(labels)\n",
    "y_pred = np.array(scores)\n",
    "# y_pred = np.array([0.3, 0.7, 0.4, 0.3, 0.2, 0.1,0.9, 0.4])\n",
    "# y_true = np.array([1, 1, 1, 1, 1, 0, 1, 1])\n",
    "y_pred = np.array([0.3, 0.7, 0.4, 0.3, 0.2, 0.1, 0.9, 0.4])\n",
    "y_true = np.array([1, 1, 1, 1, 1, 0, 1, 1])"
   ],
   "metadata": {
    "collapsed": false,
    "pycharm": {
     "name": "#%%\n"
    }
   }
  },
  {
   "cell_type": "code",
   "execution_count": 365,
   "outputs": [
    {
     "name": "stdout",
     "output_type": "stream",
     "text": [
      "top_k_indices [6, 1, 2, 7, 0]\n",
      "non_top_k_labels [1, 1, 0]\n",
      "top_k_labels [1, 1, 1, 1, 1]\n",
      "TP 5\n",
      "FP 0\n",
      "TN 1\n",
      "FN 2\n",
      "P 7\n",
      "N 1\n"
     ]
    },
    {
     "data": {
      "text/plain": "(0.7142857142857143, 1.0, 1.0)"
     },
     "execution_count": 365,
     "metadata": {},
     "output_type": "execute_result"
    }
   ],
   "source": [
    "recall_at_k(y_true, y_pred, 5)"
   ],
   "metadata": {
    "collapsed": false,
    "pycharm": {
     "name": "#%%\n"
    }
   }
  },
  {
   "cell_type": "code",
   "execution_count": 379,
   "outputs": [
    {
     "name": "stdout",
     "output_type": "stream",
     "text": [
      "[9, 6, 5, 5, 5, 4, 3, 3, 2, 1, 1]\n",
      "[9 6 5 5 5 4 3 3 2 1 1]\n",
      "[5, 7, 4, 8, 10, 2, 0, 9, 6, 1, 3]\n",
      "Первая часть: [9 6 5 5 5]\n",
      "Вторая часть: [4 3 3 2 1 1]\n"
     ]
    }
   ],
   "source": [
    "import numpy as np\n",
    "\n",
    "# Исходный массив\n",
    "arr = np.array([3, 1, 4, 1, 5, 9, 2, 6, 5, 3, 5])\n",
    "\n",
    "# Сортируем массив\n",
    "sorted_arr = np.sort(arr, axis=0)[::-1]\n",
    "print(sorted(arr, reverse=True))\n",
    "top_k_indices = sorted(range(len(arr)), key=lambda i: arr[i], reverse=True)\n",
    "print(sorted_arr)\n",
    "print(top_k_indices)\n",
    "# Определяем количество элементов в первой части\n",
    "k = 5\n",
    "\n",
    "# Делим массив на две части\n",
    "first_part = sorted_arr[:k]\n",
    "second_part = sorted_arr[k:]\n",
    "\n",
    "print(\"Первая часть:\", first_part)\n",
    "print(\"Вторая часть:\", second_part)\n"
   ],
   "metadata": {
    "collapsed": false,
    "pycharm": {
     "name": "#%%\n"
    }
   }
  },
  {
   "cell_type": "code",
   "execution_count": null,
   "outputs": [],
   "source": [],
   "metadata": {
    "collapsed": false,
    "pycharm": {
     "name": "#%%\n"
    }
   }
  }
 ],
 "metadata": {
  "kernelspec": {
   "display_name": "Python 3",
   "language": "python",
   "name": "python3"
  },
  "language_info": {
   "codemirror_mode": {
    "name": "ipython",
    "version": 2
   },
   "file_extension": ".py",
   "mimetype": "text/x-python",
   "name": "python",
   "nbconvert_exporter": "python",
   "pygments_lexer": "ipython2",
   "version": "2.7.6"
  }
 },
 "nbformat": 4,
 "nbformat_minor": 0
}